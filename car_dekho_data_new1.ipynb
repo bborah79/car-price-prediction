{
 "cells": [
  {
   "cell_type": "code",
   "execution_count": 2,
   "id": "8da1e766",
   "metadata": {},
   "outputs": [],
   "source": [
    "import pandas as pd\n",
    "import numpy as np\n",
    "import re\n",
    "import seaborn as sns\n",
    "import matplotlib.pyplot as plt"
   ]
  },
  {
   "cell_type": "code",
   "execution_count": 3,
   "id": "c21c04f2",
   "metadata": {},
   "outputs": [],
   "source": [
    "df = pd.read_csv('./car_data/car_details_v4.csv')"
   ]
  },
  {
   "cell_type": "code",
   "execution_count": 4,
   "id": "58e8568b",
   "metadata": {},
   "outputs": [
    {
     "data": {
      "text/plain": [
       "Index(['Make', 'Model', 'Price', 'Year', 'Kilometer', 'Fuel Type',\n",
       "       'Transmission', 'Location', 'Color', 'Owner', 'Seller Type', 'Engine',\n",
       "       'Max Power', 'Max Torque', 'Drivetrain', 'Length', 'Width', 'Height',\n",
       "       'Seating Capacity', 'Fuel Tank Capacity'],\n",
       "      dtype='object')"
      ]
     },
     "execution_count": 4,
     "metadata": {},
     "output_type": "execute_result"
    }
   ],
   "source": [
    "df.columns"
   ]
  },
  {
   "cell_type": "code",
   "execution_count": 5,
   "id": "e36882a2",
   "metadata": {},
   "outputs": [],
   "source": [
    "cols = ['Make', 'Model', 'Price', 'Year', 'Kilometer', 'Fuel_type','Transmission', 'Location', 'Color',\n",
    "       'Owner', 'Seller_type', 'Engine', 'Max_power', 'Max_torque', 'Drivetrain','Length', 'Width', 'Height',\n",
    "       'Seating_capacity', 'Fuel_tank_capacity']"
   ]
  },
  {
   "cell_type": "code",
   "execution_count": 6,
   "id": "93177fcd",
   "metadata": {},
   "outputs": [],
   "source": [
    "df.columns = cols"
   ]
  },
  {
   "cell_type": "code",
   "execution_count": 7,
   "id": "148e800f",
   "metadata": {},
   "outputs": [
    {
     "data": {
      "text/html": [
       "<div>\n",
       "<style scoped>\n",
       "    .dataframe tbody tr th:only-of-type {\n",
       "        vertical-align: middle;\n",
       "    }\n",
       "\n",
       "    .dataframe tbody tr th {\n",
       "        vertical-align: top;\n",
       "    }\n",
       "\n",
       "    .dataframe thead th {\n",
       "        text-align: right;\n",
       "    }\n",
       "</style>\n",
       "<table border=\"1\" class=\"dataframe\">\n",
       "  <thead>\n",
       "    <tr style=\"text-align: right;\">\n",
       "      <th></th>\n",
       "      <th>Make</th>\n",
       "      <th>Model</th>\n",
       "      <th>Price</th>\n",
       "      <th>Year</th>\n",
       "      <th>Kilometer</th>\n",
       "      <th>Fuel_type</th>\n",
       "      <th>Transmission</th>\n",
       "      <th>Location</th>\n",
       "      <th>Color</th>\n",
       "      <th>Owner</th>\n",
       "      <th>Seller_type</th>\n",
       "      <th>Engine</th>\n",
       "      <th>Max_power</th>\n",
       "      <th>Max_torque</th>\n",
       "      <th>Drivetrain</th>\n",
       "      <th>Length</th>\n",
       "      <th>Width</th>\n",
       "      <th>Height</th>\n",
       "      <th>Seating_capacity</th>\n",
       "      <th>Fuel_tank_capacity</th>\n",
       "    </tr>\n",
       "  </thead>\n",
       "  <tbody>\n",
       "    <tr>\n",
       "      <th>0</th>\n",
       "      <td>Honda</td>\n",
       "      <td>Amaze 1.2 VX i-VTEC</td>\n",
       "      <td>505000</td>\n",
       "      <td>2017</td>\n",
       "      <td>87150</td>\n",
       "      <td>Petrol</td>\n",
       "      <td>Manual</td>\n",
       "      <td>Pune</td>\n",
       "      <td>Grey</td>\n",
       "      <td>First</td>\n",
       "      <td>Corporate</td>\n",
       "      <td>1198 cc</td>\n",
       "      <td>87 bhp @ 6000 rpm</td>\n",
       "      <td>109 Nm @ 4500 rpm</td>\n",
       "      <td>FWD</td>\n",
       "      <td>3990.0</td>\n",
       "      <td>1680.0</td>\n",
       "      <td>1505.0</td>\n",
       "      <td>5.0</td>\n",
       "      <td>35.0</td>\n",
       "    </tr>\n",
       "    <tr>\n",
       "      <th>1</th>\n",
       "      <td>Maruti Suzuki</td>\n",
       "      <td>Swift DZire VDI</td>\n",
       "      <td>450000</td>\n",
       "      <td>2014</td>\n",
       "      <td>75000</td>\n",
       "      <td>Diesel</td>\n",
       "      <td>Manual</td>\n",
       "      <td>Ludhiana</td>\n",
       "      <td>White</td>\n",
       "      <td>Second</td>\n",
       "      <td>Individual</td>\n",
       "      <td>1248 cc</td>\n",
       "      <td>74 bhp @ 4000 rpm</td>\n",
       "      <td>190 Nm @ 2000 rpm</td>\n",
       "      <td>FWD</td>\n",
       "      <td>3995.0</td>\n",
       "      <td>1695.0</td>\n",
       "      <td>1555.0</td>\n",
       "      <td>5.0</td>\n",
       "      <td>42.0</td>\n",
       "    </tr>\n",
       "    <tr>\n",
       "      <th>2</th>\n",
       "      <td>Hyundai</td>\n",
       "      <td>i10 Magna 1.2 Kappa2</td>\n",
       "      <td>220000</td>\n",
       "      <td>2011</td>\n",
       "      <td>67000</td>\n",
       "      <td>Petrol</td>\n",
       "      <td>Manual</td>\n",
       "      <td>Lucknow</td>\n",
       "      <td>Maroon</td>\n",
       "      <td>First</td>\n",
       "      <td>Individual</td>\n",
       "      <td>1197 cc</td>\n",
       "      <td>79 bhp @ 6000 rpm</td>\n",
       "      <td>112.7619 Nm @ 4000 rpm</td>\n",
       "      <td>FWD</td>\n",
       "      <td>3585.0</td>\n",
       "      <td>1595.0</td>\n",
       "      <td>1550.0</td>\n",
       "      <td>5.0</td>\n",
       "      <td>35.0</td>\n",
       "    </tr>\n",
       "    <tr>\n",
       "      <th>3</th>\n",
       "      <td>Toyota</td>\n",
       "      <td>Glanza G</td>\n",
       "      <td>799000</td>\n",
       "      <td>2019</td>\n",
       "      <td>37500</td>\n",
       "      <td>Petrol</td>\n",
       "      <td>Manual</td>\n",
       "      <td>Mangalore</td>\n",
       "      <td>Red</td>\n",
       "      <td>First</td>\n",
       "      <td>Individual</td>\n",
       "      <td>1197 cc</td>\n",
       "      <td>82 bhp @ 6000 rpm</td>\n",
       "      <td>113 Nm @ 4200 rpm</td>\n",
       "      <td>FWD</td>\n",
       "      <td>3995.0</td>\n",
       "      <td>1745.0</td>\n",
       "      <td>1510.0</td>\n",
       "      <td>5.0</td>\n",
       "      <td>37.0</td>\n",
       "    </tr>\n",
       "    <tr>\n",
       "      <th>4</th>\n",
       "      <td>Toyota</td>\n",
       "      <td>Innova 2.4 VX 7 STR [2016-2020]</td>\n",
       "      <td>1950000</td>\n",
       "      <td>2018</td>\n",
       "      <td>69000</td>\n",
       "      <td>Diesel</td>\n",
       "      <td>Manual</td>\n",
       "      <td>Mumbai</td>\n",
       "      <td>Grey</td>\n",
       "      <td>First</td>\n",
       "      <td>Individual</td>\n",
       "      <td>2393 cc</td>\n",
       "      <td>148 bhp @ 3400 rpm</td>\n",
       "      <td>343 Nm @ 1400 rpm</td>\n",
       "      <td>RWD</td>\n",
       "      <td>4735.0</td>\n",
       "      <td>1830.0</td>\n",
       "      <td>1795.0</td>\n",
       "      <td>7.0</td>\n",
       "      <td>55.0</td>\n",
       "    </tr>\n",
       "  </tbody>\n",
       "</table>\n",
       "</div>"
      ],
      "text/plain": [
       "            Make                            Model    Price  Year  Kilometer  \\\n",
       "0          Honda              Amaze 1.2 VX i-VTEC   505000  2017      87150   \n",
       "1  Maruti Suzuki                  Swift DZire VDI   450000  2014      75000   \n",
       "2        Hyundai             i10 Magna 1.2 Kappa2   220000  2011      67000   \n",
       "3         Toyota                         Glanza G   799000  2019      37500   \n",
       "4         Toyota  Innova 2.4 VX 7 STR [2016-2020]  1950000  2018      69000   \n",
       "\n",
       "  Fuel_type Transmission   Location   Color   Owner Seller_type   Engine  \\\n",
       "0    Petrol       Manual       Pune    Grey   First   Corporate  1198 cc   \n",
       "1    Diesel       Manual   Ludhiana   White  Second  Individual  1248 cc   \n",
       "2    Petrol       Manual    Lucknow  Maroon   First  Individual  1197 cc   \n",
       "3    Petrol       Manual  Mangalore     Red   First  Individual  1197 cc   \n",
       "4    Diesel       Manual     Mumbai    Grey   First  Individual  2393 cc   \n",
       "\n",
       "            Max_power              Max_torque Drivetrain  Length   Width  \\\n",
       "0   87 bhp @ 6000 rpm       109 Nm @ 4500 rpm        FWD  3990.0  1680.0   \n",
       "1   74 bhp @ 4000 rpm       190 Nm @ 2000 rpm        FWD  3995.0  1695.0   \n",
       "2   79 bhp @ 6000 rpm  112.7619 Nm @ 4000 rpm        FWD  3585.0  1595.0   \n",
       "3   82 bhp @ 6000 rpm       113 Nm @ 4200 rpm        FWD  3995.0  1745.0   \n",
       "4  148 bhp @ 3400 rpm       343 Nm @ 1400 rpm        RWD  4735.0  1830.0   \n",
       "\n",
       "   Height  Seating_capacity  Fuel_tank_capacity  \n",
       "0  1505.0               5.0                35.0  \n",
       "1  1555.0               5.0                42.0  \n",
       "2  1550.0               5.0                35.0  \n",
       "3  1510.0               5.0                37.0  \n",
       "4  1795.0               7.0                55.0  "
      ]
     },
     "execution_count": 7,
     "metadata": {},
     "output_type": "execute_result"
    }
   ],
   "source": [
    "df.head()"
   ]
  },
  {
   "cell_type": "code",
   "execution_count": 8,
   "id": "8ead7d34",
   "metadata": {},
   "outputs": [
    {
     "data": {
      "text/html": [
       "<div>\n",
       "<style scoped>\n",
       "    .dataframe tbody tr th:only-of-type {\n",
       "        vertical-align: middle;\n",
       "    }\n",
       "\n",
       "    .dataframe tbody tr th {\n",
       "        vertical-align: top;\n",
       "    }\n",
       "\n",
       "    .dataframe thead th {\n",
       "        text-align: right;\n",
       "    }\n",
       "</style>\n",
       "<table border=\"1\" class=\"dataframe\">\n",
       "  <thead>\n",
       "    <tr style=\"text-align: right;\">\n",
       "      <th></th>\n",
       "      <th>count</th>\n",
       "      <th>mean</th>\n",
       "      <th>std</th>\n",
       "      <th>min</th>\n",
       "      <th>25%</th>\n",
       "      <th>50%</th>\n",
       "      <th>75%</th>\n",
       "      <th>max</th>\n",
       "    </tr>\n",
       "  </thead>\n",
       "  <tbody>\n",
       "    <tr>\n",
       "      <th>Price</th>\n",
       "      <td>2059.0</td>\n",
       "      <td>1.702992e+06</td>\n",
       "      <td>2.419881e+06</td>\n",
       "      <td>49000.0</td>\n",
       "      <td>484999.00</td>\n",
       "      <td>825000.0</td>\n",
       "      <td>1925000.0</td>\n",
       "      <td>35000000.0</td>\n",
       "    </tr>\n",
       "    <tr>\n",
       "      <th>Year</th>\n",
       "      <td>2059.0</td>\n",
       "      <td>2.016425e+03</td>\n",
       "      <td>3.363564e+00</td>\n",
       "      <td>1988.0</td>\n",
       "      <td>2014.00</td>\n",
       "      <td>2017.0</td>\n",
       "      <td>2019.0</td>\n",
       "      <td>2022.0</td>\n",
       "    </tr>\n",
       "    <tr>\n",
       "      <th>Kilometer</th>\n",
       "      <td>2059.0</td>\n",
       "      <td>5.422471e+04</td>\n",
       "      <td>5.736172e+04</td>\n",
       "      <td>0.0</td>\n",
       "      <td>29000.00</td>\n",
       "      <td>50000.0</td>\n",
       "      <td>72000.0</td>\n",
       "      <td>2000000.0</td>\n",
       "    </tr>\n",
       "    <tr>\n",
       "      <th>Length</th>\n",
       "      <td>1995.0</td>\n",
       "      <td>4.280861e+03</td>\n",
       "      <td>4.424585e+02</td>\n",
       "      <td>3099.0</td>\n",
       "      <td>3985.00</td>\n",
       "      <td>4370.0</td>\n",
       "      <td>4629.0</td>\n",
       "      <td>5569.0</td>\n",
       "    </tr>\n",
       "    <tr>\n",
       "      <th>Width</th>\n",
       "      <td>1995.0</td>\n",
       "      <td>1.767992e+03</td>\n",
       "      <td>1.352658e+02</td>\n",
       "      <td>1475.0</td>\n",
       "      <td>1695.00</td>\n",
       "      <td>1770.0</td>\n",
       "      <td>1831.5</td>\n",
       "      <td>2220.0</td>\n",
       "    </tr>\n",
       "    <tr>\n",
       "      <th>Height</th>\n",
       "      <td>1995.0</td>\n",
       "      <td>1.591735e+03</td>\n",
       "      <td>1.360740e+02</td>\n",
       "      <td>1165.0</td>\n",
       "      <td>1485.00</td>\n",
       "      <td>1545.0</td>\n",
       "      <td>1675.0</td>\n",
       "      <td>1995.0</td>\n",
       "    </tr>\n",
       "    <tr>\n",
       "      <th>Seating_capacity</th>\n",
       "      <td>1995.0</td>\n",
       "      <td>5.306266e+00</td>\n",
       "      <td>8.221701e-01</td>\n",
       "      <td>2.0</td>\n",
       "      <td>5.00</td>\n",
       "      <td>5.0</td>\n",
       "      <td>5.0</td>\n",
       "      <td>8.0</td>\n",
       "    </tr>\n",
       "    <tr>\n",
       "      <th>Fuel_tank_capacity</th>\n",
       "      <td>1946.0</td>\n",
       "      <td>5.200221e+01</td>\n",
       "      <td>1.511020e+01</td>\n",
       "      <td>15.0</td>\n",
       "      <td>41.25</td>\n",
       "      <td>50.0</td>\n",
       "      <td>60.0</td>\n",
       "      <td>105.0</td>\n",
       "    </tr>\n",
       "  </tbody>\n",
       "</table>\n",
       "</div>"
      ],
      "text/plain": [
       "                     count          mean           std      min        25%  \\\n",
       "Price               2059.0  1.702992e+06  2.419881e+06  49000.0  484999.00   \n",
       "Year                2059.0  2.016425e+03  3.363564e+00   1988.0    2014.00   \n",
       "Kilometer           2059.0  5.422471e+04  5.736172e+04      0.0   29000.00   \n",
       "Length              1995.0  4.280861e+03  4.424585e+02   3099.0    3985.00   \n",
       "Width               1995.0  1.767992e+03  1.352658e+02   1475.0    1695.00   \n",
       "Height              1995.0  1.591735e+03  1.360740e+02   1165.0    1485.00   \n",
       "Seating_capacity    1995.0  5.306266e+00  8.221701e-01      2.0       5.00   \n",
       "Fuel_tank_capacity  1946.0  5.200221e+01  1.511020e+01     15.0      41.25   \n",
       "\n",
       "                         50%        75%         max  \n",
       "Price               825000.0  1925000.0  35000000.0  \n",
       "Year                  2017.0     2019.0      2022.0  \n",
       "Kilometer            50000.0    72000.0   2000000.0  \n",
       "Length                4370.0     4629.0      5569.0  \n",
       "Width                 1770.0     1831.5      2220.0  \n",
       "Height                1545.0     1675.0      1995.0  \n",
       "Seating_capacity         5.0        5.0         8.0  \n",
       "Fuel_tank_capacity      50.0       60.0       105.0  "
      ]
     },
     "execution_count": 8,
     "metadata": {},
     "output_type": "execute_result"
    }
   ],
   "source": [
    "df.describe(include=np.number).T"
   ]
  },
  {
   "cell_type": "code",
   "execution_count": 9,
   "id": "3e78851f",
   "metadata": {},
   "outputs": [
    {
     "data": {
      "text/html": [
       "<div>\n",
       "<style scoped>\n",
       "    .dataframe tbody tr th:only-of-type {\n",
       "        vertical-align: middle;\n",
       "    }\n",
       "\n",
       "    .dataframe tbody tr th {\n",
       "        vertical-align: top;\n",
       "    }\n",
       "\n",
       "    .dataframe thead th {\n",
       "        text-align: right;\n",
       "    }\n",
       "</style>\n",
       "<table border=\"1\" class=\"dataframe\">\n",
       "  <thead>\n",
       "    <tr style=\"text-align: right;\">\n",
       "      <th></th>\n",
       "      <th>count</th>\n",
       "      <th>unique</th>\n",
       "      <th>top</th>\n",
       "      <th>freq</th>\n",
       "    </tr>\n",
       "  </thead>\n",
       "  <tbody>\n",
       "    <tr>\n",
       "      <th>Make</th>\n",
       "      <td>2059</td>\n",
       "      <td>33</td>\n",
       "      <td>Maruti Suzuki</td>\n",
       "      <td>440</td>\n",
       "    </tr>\n",
       "    <tr>\n",
       "      <th>Model</th>\n",
       "      <td>2059</td>\n",
       "      <td>1050</td>\n",
       "      <td>X1 sDrive20d xLine</td>\n",
       "      <td>15</td>\n",
       "    </tr>\n",
       "    <tr>\n",
       "      <th>Fuel_type</th>\n",
       "      <td>2059</td>\n",
       "      <td>9</td>\n",
       "      <td>Diesel</td>\n",
       "      <td>1049</td>\n",
       "    </tr>\n",
       "    <tr>\n",
       "      <th>Transmission</th>\n",
       "      <td>2059</td>\n",
       "      <td>2</td>\n",
       "      <td>Manual</td>\n",
       "      <td>1133</td>\n",
       "    </tr>\n",
       "    <tr>\n",
       "      <th>Location</th>\n",
       "      <td>2059</td>\n",
       "      <td>77</td>\n",
       "      <td>Mumbai</td>\n",
       "      <td>342</td>\n",
       "    </tr>\n",
       "    <tr>\n",
       "      <th>Color</th>\n",
       "      <td>2059</td>\n",
       "      <td>17</td>\n",
       "      <td>White</td>\n",
       "      <td>802</td>\n",
       "    </tr>\n",
       "    <tr>\n",
       "      <th>Owner</th>\n",
       "      <td>2059</td>\n",
       "      <td>6</td>\n",
       "      <td>First</td>\n",
       "      <td>1619</td>\n",
       "    </tr>\n",
       "    <tr>\n",
       "      <th>Seller_type</th>\n",
       "      <td>2059</td>\n",
       "      <td>3</td>\n",
       "      <td>Individual</td>\n",
       "      <td>1997</td>\n",
       "    </tr>\n",
       "    <tr>\n",
       "      <th>Engine</th>\n",
       "      <td>1979</td>\n",
       "      <td>108</td>\n",
       "      <td>1197 cc</td>\n",
       "      <td>231</td>\n",
       "    </tr>\n",
       "    <tr>\n",
       "      <th>Max_power</th>\n",
       "      <td>1979</td>\n",
       "      <td>335</td>\n",
       "      <td>89 bhp @ 4000 rpm</td>\n",
       "      <td>90</td>\n",
       "    </tr>\n",
       "    <tr>\n",
       "      <th>Max_torque</th>\n",
       "      <td>1979</td>\n",
       "      <td>290</td>\n",
       "      <td>200 Nm @ 1750 rpm</td>\n",
       "      <td>90</td>\n",
       "    </tr>\n",
       "    <tr>\n",
       "      <th>Drivetrain</th>\n",
       "      <td>1923</td>\n",
       "      <td>3</td>\n",
       "      <td>FWD</td>\n",
       "      <td>1330</td>\n",
       "    </tr>\n",
       "  </tbody>\n",
       "</table>\n",
       "</div>"
      ],
      "text/plain": [
       "             count unique                 top  freq\n",
       "Make          2059     33       Maruti Suzuki   440\n",
       "Model         2059   1050  X1 sDrive20d xLine    15\n",
       "Fuel_type     2059      9              Diesel  1049\n",
       "Transmission  2059      2              Manual  1133\n",
       "Location      2059     77              Mumbai   342\n",
       "Color         2059     17               White   802\n",
       "Owner         2059      6               First  1619\n",
       "Seller_type   2059      3          Individual  1997\n",
       "Engine        1979    108             1197 cc   231\n",
       "Max_power     1979    335   89 bhp @ 4000 rpm    90\n",
       "Max_torque    1979    290   200 Nm @ 1750 rpm    90\n",
       "Drivetrain    1923      3                 FWD  1330"
      ]
     },
     "execution_count": 9,
     "metadata": {},
     "output_type": "execute_result"
    }
   ],
   "source": [
    "df.describe(include='O').T"
   ]
  },
  {
   "cell_type": "code",
   "execution_count": 10,
   "id": "7cd09d7b",
   "metadata": {},
   "outputs": [
    {
     "name": "stdout",
     "output_type": "stream",
     "text": [
      "<class 'pandas.core.frame.DataFrame'>\n",
      "RangeIndex: 2059 entries, 0 to 2058\n",
      "Data columns (total 20 columns):\n",
      " #   Column              Non-Null Count  Dtype  \n",
      "---  ------              --------------  -----  \n",
      " 0   Make                2059 non-null   object \n",
      " 1   Model               2059 non-null   object \n",
      " 2   Price               2059 non-null   int64  \n",
      " 3   Year                2059 non-null   int64  \n",
      " 4   Kilometer           2059 non-null   int64  \n",
      " 5   Fuel_type           2059 non-null   object \n",
      " 6   Transmission        2059 non-null   object \n",
      " 7   Location            2059 non-null   object \n",
      " 8   Color               2059 non-null   object \n",
      " 9   Owner               2059 non-null   object \n",
      " 10  Seller_type         2059 non-null   object \n",
      " 11  Engine              1979 non-null   object \n",
      " 12  Max_power           1979 non-null   object \n",
      " 13  Max_torque          1979 non-null   object \n",
      " 14  Drivetrain          1923 non-null   object \n",
      " 15  Length              1995 non-null   float64\n",
      " 16  Width               1995 non-null   float64\n",
      " 17  Height              1995 non-null   float64\n",
      " 18  Seating_capacity    1995 non-null   float64\n",
      " 19  Fuel_tank_capacity  1946 non-null   float64\n",
      "dtypes: float64(5), int64(3), object(12)\n",
      "memory usage: 321.8+ KB\n"
     ]
    }
   ],
   "source": [
    "df.info()"
   ]
  },
  {
   "cell_type": "code",
   "execution_count": 11,
   "id": "11ef3f2f",
   "metadata": {},
   "outputs": [
    {
     "data": {
      "text/plain": [
       "Make                    0\n",
       "Model                   0\n",
       "Price                   0\n",
       "Year                    0\n",
       "Kilometer               0\n",
       "Fuel_type               0\n",
       "Transmission            0\n",
       "Location                0\n",
       "Color                   0\n",
       "Owner                   0\n",
       "Seller_type             0\n",
       "Engine                 80\n",
       "Max_power              80\n",
       "Max_torque             80\n",
       "Drivetrain            136\n",
       "Length                 64\n",
       "Width                  64\n",
       "Height                 64\n",
       "Seating_capacity       64\n",
       "Fuel_tank_capacity    113\n",
       "dtype: int64"
      ]
     },
     "execution_count": 11,
     "metadata": {},
     "output_type": "execute_result"
    }
   ],
   "source": [
    "df.isnull().sum()"
   ]
  },
  {
   "cell_type": "code",
   "execution_count": 405,
   "id": "93fb6668",
   "metadata": {},
   "outputs": [],
   "source": [
    "#Replace the NAs or NaNs in the features by the mode of the feature"
   ]
  },
  {
   "cell_type": "code",
   "execution_count": 12,
   "id": "1ff5978f",
   "metadata": {},
   "outputs": [],
   "source": [
    "df['Engine'] = df['Engine'].fillna(df['Engine'].mode()[0])"
   ]
  },
  {
   "cell_type": "code",
   "execution_count": 13,
   "id": "41c023a3",
   "metadata": {},
   "outputs": [],
   "source": [
    "df['Max_power'] = df['Max_power'].fillna(df['Max_power'].mode()[0])"
   ]
  },
  {
   "cell_type": "code",
   "execution_count": 14,
   "id": "b1eb2186",
   "metadata": {},
   "outputs": [],
   "source": [
    "df['Max_torque'] = df['Max_torque'].fillna(df['Max_torque'].mode()[0])"
   ]
  },
  {
   "cell_type": "code",
   "execution_count": 15,
   "id": "aeb50941",
   "metadata": {},
   "outputs": [],
   "source": [
    "df['Drivetrain'] = df['Drivetrain'].fillna(df['Drivetrain'].mode()[0])"
   ]
  },
  {
   "cell_type": "code",
   "execution_count": 16,
   "id": "f50e3092",
   "metadata": {},
   "outputs": [],
   "source": [
    "df['Length'] = df['Length'].fillna(df['Length'].mode()[0])"
   ]
  },
  {
   "cell_type": "code",
   "execution_count": 17,
   "id": "644731ae",
   "metadata": {},
   "outputs": [],
   "source": [
    "df['Width'] = df['Width'].fillna(df['Width'].mode()[0])"
   ]
  },
  {
   "cell_type": "code",
   "execution_count": 18,
   "id": "df23c9c5",
   "metadata": {},
   "outputs": [],
   "source": [
    "df['Height'] = df['Height'].fillna(df['Height'].mode()[0])"
   ]
  },
  {
   "cell_type": "code",
   "execution_count": 19,
   "id": "c786f5d1",
   "metadata": {},
   "outputs": [],
   "source": [
    "df['Seating_capacity'] = df['Seating_capacity'].fillna(df['Seating_capacity'].mode()[0])"
   ]
  },
  {
   "cell_type": "code",
   "execution_count": 20,
   "id": "2c9d1d95",
   "metadata": {},
   "outputs": [],
   "source": [
    "df['Fuel_tank_capacity'] = df['Fuel_tank_capacity'].fillna(df['Fuel_tank_capacity'].mode()[0])"
   ]
  },
  {
   "cell_type": "code",
   "execution_count": 21,
   "id": "9d1680b8",
   "metadata": {},
   "outputs": [
    {
     "data": {
      "text/plain": [
       "Make                  0\n",
       "Model                 0\n",
       "Price                 0\n",
       "Year                  0\n",
       "Kilometer             0\n",
       "Fuel_type             0\n",
       "Transmission          0\n",
       "Location              0\n",
       "Color                 0\n",
       "Owner                 0\n",
       "Seller_type           0\n",
       "Engine                0\n",
       "Max_power             0\n",
       "Max_torque            0\n",
       "Drivetrain            0\n",
       "Length                0\n",
       "Width                 0\n",
       "Height                0\n",
       "Seating_capacity      0\n",
       "Fuel_tank_capacity    0\n",
       "dtype: int64"
      ]
     },
     "execution_count": 21,
     "metadata": {},
     "output_type": "execute_result"
    }
   ],
   "source": [
    "df.isnull().sum()"
   ]
  },
  {
   "cell_type": "code",
   "execution_count": 22,
   "id": "e379e099",
   "metadata": {},
   "outputs": [
    {
     "data": {
      "text/plain": [
       "Index(['Make', 'Model', 'Price', 'Year', 'Kilometer', 'Fuel_type',\n",
       "       'Transmission', 'Location', 'Color', 'Owner', 'Seller_type', 'Engine',\n",
       "       'Max_power', 'Max_torque', 'Drivetrain', 'Length', 'Width', 'Height',\n",
       "       'Seating_capacity', 'Fuel_tank_capacity'],\n",
       "      dtype='object')"
      ]
     },
     "execution_count": 22,
     "metadata": {},
     "output_type": "execute_result"
    }
   ],
   "source": [
    "df.columns"
   ]
  },
  {
   "cell_type": "markdown",
   "id": "92babdf2",
   "metadata": {},
   "source": [
    "# Levels of measurements\n",
    "\n",
    "# Make: nominal, Model: nominal, Price: ratio, Year: interval, Kilometer: ratio, Fuel_type: nominal, Transmission: nominal, Location: nominal, Color: nominal, Owner: ordinal, Seller_type: nominal, Engine: ratio, Max_power: ratio,\n",
    "# Max_torque: ratio, Drivetrain: nominal, Length: ratio, Width: ratio, Height: ratio, Seating_capacity: interval,\n",
    "# Fuel_tank_capacity: ratio"
   ]
  },
  {
   "cell_type": "code",
   "execution_count": 23,
   "id": "0b1b8f75",
   "metadata": {},
   "outputs": [
    {
     "data": {
      "text/plain": [
       "array(['FWD', 'RWD', 'AWD'], dtype=object)"
      ]
     },
     "execution_count": 23,
     "metadata": {},
     "output_type": "execute_result"
    }
   ],
   "source": [
    "df['Drivetrain'].unique()"
   ]
  },
  {
   "cell_type": "code",
   "execution_count": 406,
   "id": "b780c9fe",
   "metadata": {},
   "outputs": [],
   "source": [
    "# Convert the torque feqture and hp feature to a numeric feature and use them in modeling"
   ]
  },
  {
   "cell_type": "code",
   "execution_count": 24,
   "id": "f0216c97",
   "metadata": {},
   "outputs": [],
   "source": [
    "Engine_f = [int(val.split()[0]) for val in list(df['Engine'])]"
   ]
  },
  {
   "cell_type": "code",
   "execution_count": 25,
   "id": "54b227c4",
   "metadata": {},
   "outputs": [],
   "source": [
    "df['Engine_f'] = Engine_f"
   ]
  },
  {
   "cell_type": "code",
   "execution_count": 26,
   "id": "df02183c",
   "metadata": {},
   "outputs": [],
   "source": [
    "Engine_hp = [float(re.split(r' |@',val)[0]) for val in list(df['Max_power'])]"
   ]
  },
  {
   "cell_type": "code",
   "execution_count": 27,
   "id": "b00628c5",
   "metadata": {},
   "outputs": [],
   "source": [
    "df['Engine_hp'] = Engine_hp"
   ]
  },
  {
   "cell_type": "code",
   "execution_count": 28,
   "id": "1d760a0a",
   "metadata": {},
   "outputs": [
    {
     "data": {
      "text/html": [
       "<div>\n",
       "<style scoped>\n",
       "    .dataframe tbody tr th:only-of-type {\n",
       "        vertical-align: middle;\n",
       "    }\n",
       "\n",
       "    .dataframe tbody tr th {\n",
       "        vertical-align: top;\n",
       "    }\n",
       "\n",
       "    .dataframe thead th {\n",
       "        text-align: right;\n",
       "    }\n",
       "</style>\n",
       "<table border=\"1\" class=\"dataframe\">\n",
       "  <thead>\n",
       "    <tr style=\"text-align: right;\">\n",
       "      <th></th>\n",
       "      <th>Make</th>\n",
       "      <th>Model</th>\n",
       "      <th>Price</th>\n",
       "      <th>Year</th>\n",
       "      <th>Kilometer</th>\n",
       "      <th>Fuel_type</th>\n",
       "      <th>Transmission</th>\n",
       "      <th>Location</th>\n",
       "      <th>Color</th>\n",
       "      <th>Owner</th>\n",
       "      <th>...</th>\n",
       "      <th>Max_power</th>\n",
       "      <th>Max_torque</th>\n",
       "      <th>Drivetrain</th>\n",
       "      <th>Length</th>\n",
       "      <th>Width</th>\n",
       "      <th>Height</th>\n",
       "      <th>Seating_capacity</th>\n",
       "      <th>Fuel_tank_capacity</th>\n",
       "      <th>Engine_f</th>\n",
       "      <th>Engine_hp</th>\n",
       "    </tr>\n",
       "  </thead>\n",
       "  <tbody>\n",
       "    <tr>\n",
       "      <th>0</th>\n",
       "      <td>Honda</td>\n",
       "      <td>Amaze 1.2 VX i-VTEC</td>\n",
       "      <td>505000</td>\n",
       "      <td>2017</td>\n",
       "      <td>87150</td>\n",
       "      <td>Petrol</td>\n",
       "      <td>Manual</td>\n",
       "      <td>Pune</td>\n",
       "      <td>Grey</td>\n",
       "      <td>First</td>\n",
       "      <td>...</td>\n",
       "      <td>87 bhp @ 6000 rpm</td>\n",
       "      <td>109 Nm @ 4500 rpm</td>\n",
       "      <td>FWD</td>\n",
       "      <td>3990.0</td>\n",
       "      <td>1680.0</td>\n",
       "      <td>1505.0</td>\n",
       "      <td>5.0</td>\n",
       "      <td>35.0</td>\n",
       "      <td>1198</td>\n",
       "      <td>87.0</td>\n",
       "    </tr>\n",
       "    <tr>\n",
       "      <th>1</th>\n",
       "      <td>Maruti Suzuki</td>\n",
       "      <td>Swift DZire VDI</td>\n",
       "      <td>450000</td>\n",
       "      <td>2014</td>\n",
       "      <td>75000</td>\n",
       "      <td>Diesel</td>\n",
       "      <td>Manual</td>\n",
       "      <td>Ludhiana</td>\n",
       "      <td>White</td>\n",
       "      <td>Second</td>\n",
       "      <td>...</td>\n",
       "      <td>74 bhp @ 4000 rpm</td>\n",
       "      <td>190 Nm @ 2000 rpm</td>\n",
       "      <td>FWD</td>\n",
       "      <td>3995.0</td>\n",
       "      <td>1695.0</td>\n",
       "      <td>1555.0</td>\n",
       "      <td>5.0</td>\n",
       "      <td>42.0</td>\n",
       "      <td>1248</td>\n",
       "      <td>74.0</td>\n",
       "    </tr>\n",
       "    <tr>\n",
       "      <th>2</th>\n",
       "      <td>Hyundai</td>\n",
       "      <td>i10 Magna 1.2 Kappa2</td>\n",
       "      <td>220000</td>\n",
       "      <td>2011</td>\n",
       "      <td>67000</td>\n",
       "      <td>Petrol</td>\n",
       "      <td>Manual</td>\n",
       "      <td>Lucknow</td>\n",
       "      <td>Maroon</td>\n",
       "      <td>First</td>\n",
       "      <td>...</td>\n",
       "      <td>79 bhp @ 6000 rpm</td>\n",
       "      <td>112.7619 Nm @ 4000 rpm</td>\n",
       "      <td>FWD</td>\n",
       "      <td>3585.0</td>\n",
       "      <td>1595.0</td>\n",
       "      <td>1550.0</td>\n",
       "      <td>5.0</td>\n",
       "      <td>35.0</td>\n",
       "      <td>1197</td>\n",
       "      <td>79.0</td>\n",
       "    </tr>\n",
       "    <tr>\n",
       "      <th>3</th>\n",
       "      <td>Toyota</td>\n",
       "      <td>Glanza G</td>\n",
       "      <td>799000</td>\n",
       "      <td>2019</td>\n",
       "      <td>37500</td>\n",
       "      <td>Petrol</td>\n",
       "      <td>Manual</td>\n",
       "      <td>Mangalore</td>\n",
       "      <td>Red</td>\n",
       "      <td>First</td>\n",
       "      <td>...</td>\n",
       "      <td>82 bhp @ 6000 rpm</td>\n",
       "      <td>113 Nm @ 4200 rpm</td>\n",
       "      <td>FWD</td>\n",
       "      <td>3995.0</td>\n",
       "      <td>1745.0</td>\n",
       "      <td>1510.0</td>\n",
       "      <td>5.0</td>\n",
       "      <td>37.0</td>\n",
       "      <td>1197</td>\n",
       "      <td>82.0</td>\n",
       "    </tr>\n",
       "    <tr>\n",
       "      <th>4</th>\n",
       "      <td>Toyota</td>\n",
       "      <td>Innova 2.4 VX 7 STR [2016-2020]</td>\n",
       "      <td>1950000</td>\n",
       "      <td>2018</td>\n",
       "      <td>69000</td>\n",
       "      <td>Diesel</td>\n",
       "      <td>Manual</td>\n",
       "      <td>Mumbai</td>\n",
       "      <td>Grey</td>\n",
       "      <td>First</td>\n",
       "      <td>...</td>\n",
       "      <td>148 bhp @ 3400 rpm</td>\n",
       "      <td>343 Nm @ 1400 rpm</td>\n",
       "      <td>RWD</td>\n",
       "      <td>4735.0</td>\n",
       "      <td>1830.0</td>\n",
       "      <td>1795.0</td>\n",
       "      <td>7.0</td>\n",
       "      <td>55.0</td>\n",
       "      <td>2393</td>\n",
       "      <td>148.0</td>\n",
       "    </tr>\n",
       "  </tbody>\n",
       "</table>\n",
       "<p>5 rows × 22 columns</p>\n",
       "</div>"
      ],
      "text/plain": [
       "            Make                            Model    Price  Year  Kilometer  \\\n",
       "0          Honda              Amaze 1.2 VX i-VTEC   505000  2017      87150   \n",
       "1  Maruti Suzuki                  Swift DZire VDI   450000  2014      75000   \n",
       "2        Hyundai             i10 Magna 1.2 Kappa2   220000  2011      67000   \n",
       "3         Toyota                         Glanza G   799000  2019      37500   \n",
       "4         Toyota  Innova 2.4 VX 7 STR [2016-2020]  1950000  2018      69000   \n",
       "\n",
       "  Fuel_type Transmission   Location   Color   Owner  ...           Max_power  \\\n",
       "0    Petrol       Manual       Pune    Grey   First  ...   87 bhp @ 6000 rpm   \n",
       "1    Diesel       Manual   Ludhiana   White  Second  ...   74 bhp @ 4000 rpm   \n",
       "2    Petrol       Manual    Lucknow  Maroon   First  ...   79 bhp @ 6000 rpm   \n",
       "3    Petrol       Manual  Mangalore     Red   First  ...   82 bhp @ 6000 rpm   \n",
       "4    Diesel       Manual     Mumbai    Grey   First  ...  148 bhp @ 3400 rpm   \n",
       "\n",
       "               Max_torque Drivetrain  Length   Width  Height  \\\n",
       "0       109 Nm @ 4500 rpm        FWD  3990.0  1680.0  1505.0   \n",
       "1       190 Nm @ 2000 rpm        FWD  3995.0  1695.0  1555.0   \n",
       "2  112.7619 Nm @ 4000 rpm        FWD  3585.0  1595.0  1550.0   \n",
       "3       113 Nm @ 4200 rpm        FWD  3995.0  1745.0  1510.0   \n",
       "4       343 Nm @ 1400 rpm        RWD  4735.0  1830.0  1795.0   \n",
       "\n",
       "   Seating_capacity  Fuel_tank_capacity  Engine_f  Engine_hp  \n",
       "0               5.0                35.0      1198       87.0  \n",
       "1               5.0                42.0      1248       74.0  \n",
       "2               5.0                35.0      1197       79.0  \n",
       "3               5.0                37.0      1197       82.0  \n",
       "4               7.0                55.0      2393      148.0  \n",
       "\n",
       "[5 rows x 22 columns]"
      ]
     },
     "execution_count": 28,
     "metadata": {},
     "output_type": "execute_result"
    }
   ],
   "source": [
    "df.head()"
   ]
  },
  {
   "cell_type": "code",
   "execution_count": 29,
   "id": "8dc236c4",
   "metadata": {},
   "outputs": [],
   "source": [
    "corr = df.corr()"
   ]
  },
  {
   "cell_type": "code",
   "execution_count": 30,
   "id": "b4ff2ec4",
   "metadata": {},
   "outputs": [
    {
     "data": {
      "text/plain": [
       "<AxesSubplot:>"
      ]
     },
     "execution_count": 30,
     "metadata": {},
     "output_type": "execute_result"
    },
    {
     "data": {
      "image/png": "[encoded data removed]",
      "text/plain": [
       "<Figure size 800x800 with 2 Axes>"
      ]
     },
     "metadata": {},
     "output_type": "display_data"
    }
   ],
   "source": [
    "plt.subplots(figsize=(8,8))\n",
    "sns.heatmap(corr, annot=True, vmin=-1, vmax=1)"
   ]
  },
  {
   "cell_type": "code",
   "execution_count": 407,
   "id": "0edd1f78",
   "metadata": {},
   "outputs": [],
   "source": [
    "# log transform the Prices (target for prediction) so that it follows a normal distribution"
   ]
  },
  {
   "cell_type": "code",
   "execution_count": 31,
   "id": "57a0ba66",
   "metadata": {},
   "outputs": [],
   "source": [
    "Y_lin = df['Price'].copy()"
   ]
  },
  {
   "cell_type": "code",
   "execution_count": 32,
   "id": "d02c5509",
   "metadata": {},
   "outputs": [],
   "source": [
    "Y_log = np.log(Y_lin)"
   ]
  },
  {
   "cell_type": "code",
   "execution_count": 33,
   "id": "99ecfc9d",
   "metadata": {},
   "outputs": [
    {
     "data": {
      "text/plain": [
       "<seaborn.axisgrid.FacetGrid at 0x7fc81ca8e2b0>"
      ]
     },
     "execution_count": 33,
     "metadata": {},
     "output_type": "execute_result"
    },
    {
     "data": {
      "image/png": "[encoded data removed]",
      "text/plain": [
       "<Figure size 500x500 with 1 Axes>"
      ]
     },
     "metadata": {},
     "output_type": "display_data"
    }
   ],
   "source": [
    "sns.displot(Y_log)"
   ]
  },
  {
   "cell_type": "code",
   "execution_count": 34,
   "id": "83d53c3c",
   "metadata": {},
   "outputs": [],
   "source": [
    "X = df.drop(columns=['Engine', 'Price', 'Max_power', 'Max_torque'])"
   ]
  },
  {
   "cell_type": "code",
   "execution_count": 35,
   "id": "4de91858",
   "metadata": {},
   "outputs": [],
   "source": [
    "from sklearn.model_selection import train_test_split"
   ]
  },
  {
   "cell_type": "code",
   "execution_count": 36,
   "id": "ad0f921d",
   "metadata": {},
   "outputs": [],
   "source": [
    "X_train, X_test, y_train, y_test = train_test_split(X, Y_log, random_state=42)"
   ]
  },
  {
   "cell_type": "code",
   "execution_count": 37,
   "id": "ff72abfd",
   "metadata": {},
   "outputs": [
    {
     "data": {
      "text/plain": [
       "Index(['Make', 'Model', 'Year', 'Kilometer', 'Fuel_type', 'Transmission',\n",
       "       'Location', 'Color', 'Owner', 'Seller_type', 'Drivetrain', 'Length',\n",
       "       'Width', 'Height', 'Seating_capacity', 'Fuel_tank_capacity', 'Engine_f',\n",
       "       'Engine_hp'],\n",
       "      dtype='object')"
      ]
     },
     "execution_count": 37,
     "metadata": {},
     "output_type": "execute_result"
    }
   ],
   "source": [
    "X_train.columns"
   ]
  },
  {
   "cell_type": "code",
   "execution_count": 38,
   "id": "d2efb4e5",
   "metadata": {},
   "outputs": [],
   "source": [
    "# Encode categorical variables "
   ]
  },
  {
   "cell_type": "code",
   "execution_count": 39,
   "id": "5969c87f",
   "metadata": {},
   "outputs": [],
   "source": [
    "from category_encoders import *\n",
    "from sklearn.preprocessing import LabelEncoder"
   ]
  },
  {
   "cell_type": "code",
   "execution_count": 40,
   "id": "b2008e6d",
   "metadata": {},
   "outputs": [],
   "source": [
    "def encode_categorical_features(X_categ_train, X_categ_test, y_train, encoder, Target_based=False):\n",
    "    if Target_based:\n",
    "        X_encoded_train = encoder.fit_transform(X_categ_train,y_train)\n",
    "        X_encoded_test = encoder.transform(X_categ_test)\n",
    "    else:\n",
    "        X_encoded_train = encoder.fit_transform(X_categ_train)\n",
    "        X_encoded_test = encoder.transform(X_categ_test)\n",
    "    \n",
    "    return X_encoded_train, X_encoded_test"
   ]
  },
  {
   "cell_type": "code",
   "execution_count": 41,
   "id": "f9de038a",
   "metadata": {},
   "outputs": [],
   "source": [
    "owner_enc_map = {'UnRegistered Car':0,'First':1, 'Second':2,'Third':3, 'Fourth':4, '4 or More':5}\n",
    "seating_cpty_map = {'2.0':0,'4.0':1,'5.0':2,'6.0':3,'7.0':4,'8.0':5}\n",
    "drivetrain_map = {'FWD':0, 'RWD':1, 'AWD':2}\n",
    "transmisson_map = {'Manual':0, 'Automatic':1}"
   ]
  },
  {
   "cell_type": "code",
   "execution_count": 42,
   "id": "66605d40",
   "metadata": {},
   "outputs": [],
   "source": [
    "X_train['Year'] = X_train['Year'].apply(int)\n",
    "X_test['Year'] = X_test['Year'].apply(int)"
   ]
  },
  {
   "cell_type": "code",
   "execution_count": 43,
   "id": "30830432",
   "metadata": {},
   "outputs": [],
   "source": [
    "X_train['Seating_capacity'] = X_train['Seating_capacity'].apply(str)\n",
    "X_test['Seating_capacity'] = X_test['Seating_capacity'].apply(str)"
   ]
  },
  {
   "cell_type": "code",
   "execution_count": 44,
   "id": "9a81ddbe",
   "metadata": {},
   "outputs": [],
   "source": [
    "enc_target = TargetEncoder(cols=['Make','Location','Color','Seller_type','Fuel_type'], min_samples_leaf=30, smoothing=20) # Target based\n",
    "enc_ohe = OneHotEncoder() # Not Target based\n",
    "enc_sum = SumEncoder() #Target based\n",
    "enc_catboost = CatBoostEncoder(cols=['Model'], sigma=10.0, a=5) #Target based\n",
    "enc_label = LabelEncoder() # Not Target based\n",
    "enc_ordinal = OrdinalEncoder(cols=['Owner','Seating_capacity', 'Transmission','Drivetrain'], mapping=[{'col':'Owner', 'mapping':owner_enc_map},{'col':'Seating_capacity'\n",
    "                                                                                                                   , 'mapping': seating_cpty_map}, {'col':'Drivetrain', 'mapping':drivetrain_map},\n",
    "                                                                                                            {'col':'Transmission', 'mapping':transmisson_map}]) # Not Target based\n",
    "\n",
    "enc_count = CountEncoder(cols=['Model'],handle_unknown=1)\n",
    "enc_target1 = TargetEncoder(cols=['Model'],min_samples_leaf=20, smoothing=1000 )\n",
    "enc_hash = HashingEncoder(cols=['Model'])"
   ]
  },
  {
   "cell_type": "code",
   "execution_count": 45,
   "id": "4e63fa90",
   "metadata": {},
   "outputs": [],
   "source": [
    "X_train_tr1, X_test_tr1 = encode_categorical_features(X_train, X_test,y_train,enc_target, Target_based=True)"
   ]
  },
  {
   "cell_type": "code",
   "execution_count": 46,
   "id": "a6218244",
   "metadata": {},
   "outputs": [],
   "source": [
    "X_train_tr, X_test_tr = encode_categorical_features(X_train_tr1, X_test_tr1,y_train,enc_ordinal)"
   ]
  },
  {
   "cell_type": "code",
   "execution_count": 50,
   "id": "fe3aa9f5",
   "metadata": {},
   "outputs": [],
   "source": [
    "X_train_tr = X_train_tr.drop(columns=['Model'])\n",
    "X_test_tr = X_test_tr.drop(columns=['Model'])"
   ]
  },
  {
   "cell_type": "code",
   "execution_count": 51,
   "id": "792f64f8",
   "metadata": {},
   "outputs": [],
   "source": [
    "from statsmodels.stats.outliers_influence import variance_inflation_factor"
   ]
  },
  {
   "cell_type": "code",
   "execution_count": 52,
   "id": "8ed6c454",
   "metadata": {},
   "outputs": [],
   "source": [
    "def calculate_VIF(X_numeric):\n",
    "    vif_data = pd.DataFrame()\n",
    "    vif_data['feature'] = X_numeric.columns\n",
    "    vif_data[\"VIF\"] = [variance_inflation_factor(X_numeric.values, i) for i in range(len(X_numeric.columns))]\n",
    "    \n",
    "    return vif_data"
   ]
  },
  {
   "cell_type": "code",
   "execution_count": 53,
   "id": "44813aef",
   "metadata": {},
   "outputs": [
    {
     "name": "stdout",
     "output_type": "stream",
     "text": [
      "               feature           VIF\n",
      "0                 Make   1363.386879\n",
      "1                 Year  42343.522289\n",
      "2            Kilometer      1.982608\n",
      "3            Fuel_type   2883.320545\n",
      "4         Transmission      3.580524\n",
      "5             Location   3719.621687\n",
      "6                Color   2235.329459\n",
      "7                Owner      7.158660\n",
      "8          Seller_type  31108.213482\n",
      "9           Drivetrain      3.981445\n",
      "10              Length    573.219162\n",
      "11               Width    751.367393\n",
      "12              Height    475.528275\n",
      "13    Seating_capacity     25.242363\n",
      "14  Fuel_tank_capacity     43.931110\n",
      "15            Engine_f     61.514958\n",
      "16           Engine_hp     50.813665\n"
     ]
    }
   ],
   "source": [
    "vif = calculate_VIF(X_train_tr)\n",
    "print(vif)"
   ]
  },
  {
   "cell_type": "code",
   "execution_count": 54,
   "id": "1a9b22d5",
   "metadata": {},
   "outputs": [],
   "source": [
    "def remove_outliers(df,columns,n_std):\n",
    "    for col in columns:\n",
    "        print('Working on column: {}'.format(col))\n",
    "        \n",
    "        mean = df[col].mean()\n",
    "        sd = df[col].std()\n",
    "        \n",
    "        df = df[(df[col] <= mean+(n_std*sd))]\n",
    "        \n",
    "    return df"
   ]
  },
  {
   "cell_type": "code",
   "execution_count": 55,
   "id": "dca375d9",
   "metadata": {},
   "outputs": [],
   "source": [
    "# start building models"
   ]
  },
  {
   "cell_type": "code",
   "execution_count": 416,
   "id": "105a1eeb",
   "metadata": {},
   "outputs": [],
   "source": [
    "from sklearn.preprocessing import StandardScaler, MinMaxScaler\n",
    "from sklearn.metrics import mean_absolute_error, mean_squared_error\n",
    "from sklearn.metrics import r2_score\n",
    "from sklearn.linear_model import LinearRegression\n",
    "from sklearn.linear_model import LassoCV\n",
    "from sklearn.linear_model import QuantileRegressor, Lasso, Ridge, RANSACRegressor\n",
    "from sklearn.model_selection import cross_validate, cross_val_predict"
   ]
  },
  {
   "cell_type": "code",
   "execution_count": 57,
   "id": "0b844311",
   "metadata": {},
   "outputs": [],
   "source": [
    "scale = StandardScaler()\n",
    "scale1 = MinMaxScaler()"
   ]
  },
  {
   "cell_type": "code",
   "execution_count": 254,
   "id": "8fb3bdc6",
   "metadata": {},
   "outputs": [],
   "source": [
    "def predict_model_performance(fitted_model,X_train,X_test,y_train,y_test,performance_measure):\n",
    "    y_pred = fitted_model.predict(X_test)\n",
    "    y_train_pred = fitted_model.predict(X_train)\n",
    "    \n",
    "    for score in performance_measure:\n",
    "        perfromance_test = score(y_test,y_pred)\n",
    "        perfromance_train = score(y_train,y_train_pred)\n",
    "        \n",
    "        diff_metric = abs(perfromance_train - perfromance_test)\n",
    "        rel_diff_metric = diff_metric/abs(perfromance_train)\n",
    "        percent_diff = rel_diff_metric*100.0\n",
    "        \n",
    "        print('The testing \"{}\" of the model is {}'.format(score.__name__,perfromance_test))\n",
    "        print('The training \"{}\" of the model is {}'.format(score.__name__,perfromance_train))\n",
    "        print('The percentage difference between train and test {} is {:.4}%'.format(score.__name__, percent_diff))\n",
    "        "
   ]
  },
  {
   "cell_type": "code",
   "execution_count": 141,
   "id": "95a9c5c2",
   "metadata": {},
   "outputs": [],
   "source": [
    "def compute_rel_percent_diff(metric_train, metric_test):\n",
    "    diff_metric = abs(metric_train - metric_test)\n",
    "    rel_diff_metric = diff_metric/abs(metric_train)\n",
    "    percent_diff = rel_diff_metric*100.0\n",
    "    \n",
    "    return percent_diff"
   ]
  },
  {
   "cell_type": "code",
   "execution_count": 59,
   "id": "f22e8e6c",
   "metadata": {},
   "outputs": [],
   "source": [
    "from sklearn.model_selection import learning_curve"
   ]
  },
  {
   "cell_type": "code",
   "execution_count": 60,
   "id": "0084c7e8",
   "metadata": {},
   "outputs": [],
   "source": [
    "def plot_learning_curve(model, X_train, y_train, cv, metric, train_sizes):\n",
    "    train_size_abs, train_scores, test_scores = learning_curve(model,X_train,y_train,cv=cv\n",
    "                                                               ,scoring=metric,train_sizes=train_sizes)\n",
    "    \n",
    "    metric_name = metric.split('_')[0]\n",
    "    \n",
    "    metric_name_join = ' '.join(metric.split('_')[1:]).title()\n",
    "    if metric_name == 'neg':\n",
    "        train_scores_avg = (train_scores.mean(axis=1))*(-1)\n",
    "        test_scores_avg = (test_scores.mean(axis=1))*(-1)\n",
    "    \n",
    "    fig,ax=plt.subplots()\n",
    "    ax.plot(train_size_abs, train_scores_avg, marker=\"o\",color=\"red\")\n",
    "    ax.set_xlabel(\"Training set size\")\n",
    "    ax.set_ylabel(metric_name_join)\n",
    "    ax.plot(train_size_abs, test_scores_avg , marker=\"o\", color=\"green\")\n",
    "    ax.legend([\"Training\" , \"Validation\"])\n",
    "    plt.show()"
   ]
  },
  {
   "cell_type": "code",
   "execution_count": 61,
   "id": "a4008c8b",
   "metadata": {},
   "outputs": [],
   "source": [
    "train_sizes = [0.1, 0.2, 0.3, 0.5, 0.6,0.7,0.8,0.85,0.9,0.95,1.0]"
   ]
  },
  {
   "cell_type": "code",
   "execution_count": 62,
   "id": "60383650",
   "metadata": {},
   "outputs": [],
   "source": [
    "import statsmodels.api as sm"
   ]
  },
  {
   "cell_type": "code",
   "execution_count": 63,
   "id": "0a12390a",
   "metadata": {},
   "outputs": [],
   "source": [
    "X_train_tr_scl = scale1.fit_transform(X_train_tr)"
   ]
  },
  {
   "cell_type": "code",
   "execution_count": 64,
   "id": "9cd261f4",
   "metadata": {},
   "outputs": [],
   "source": [
    "X_test_tr_scl = scale1.transform(X_test_tr)"
   ]
  },
  {
   "cell_type": "code",
   "execution_count": 65,
   "id": "68316a69",
   "metadata": {},
   "outputs": [],
   "source": [
    "X_train_tr_scl = sm.add_constant(X_train_tr_scl)"
   ]
  },
  {
   "cell_type": "code",
   "execution_count": 66,
   "id": "003d8699",
   "metadata": {},
   "outputs": [],
   "source": [
    "model1 = sm.OLS(y_train, X_train_tr_scl)"
   ]
  },
  {
   "cell_type": "code",
   "execution_count": 67,
   "id": "7c548d02",
   "metadata": {},
   "outputs": [],
   "source": [
    "results1 = model1.fit()"
   ]
  },
  {
   "cell_type": "code",
   "execution_count": 68,
   "id": "f3b8315d",
   "metadata": {},
   "outputs": [
    {
     "name": "stdout",
     "output_type": "stream",
     "text": [
      "                            OLS Regression Results                            \n",
      "==============================================================================\n",
      "Dep. Variable:                  Price   R-squared:                       0.909\n",
      "Model:                            OLS   Adj. R-squared:                  0.908\n",
      "Method:                 Least Squares   F-statistic:                     891.6\n",
      "Date:                Mon, 03 Apr 2023   Prob (F-statistic):               0.00\n",
      "Time:                        11:03:25   Log-Likelihood:                -315.18\n",
      "No. Observations:                1544   AIC:                             666.4\n",
      "Df Residuals:                    1526   BIC:                             762.5\n",
      "Df Model:                          17                                         \n",
      "Covariance Type:            nonrobust                                         \n",
      "==============================================================================\n",
      "                 coef    std err          t      P>|t|      [0.025      0.975]\n",
      "------------------------------------------------------------------------------\n",
      "const          9.2110      0.090    101.990      0.000       9.034       9.388\n",
      "x1             0.6448      0.039     16.474      0.000       0.568       0.722\n",
      "x2             3.6216      0.093     38.798      0.000       3.438       3.805\n",
      "x3            -1.0311      0.274     -3.766      0.000      -1.568      -0.494\n",
      "x4             0.1813      0.026      7.030      0.000       0.131       0.232\n",
      "x5             0.2397      0.022     11.109      0.000       0.197       0.282\n",
      "x6             0.2705      0.034      7.972      0.000       0.204       0.337\n",
      "x7             0.0665      0.028      2.374      0.018       0.012       0.121\n",
      "x8            -0.2100      0.083     -2.541      0.011      -0.372      -0.048\n",
      "x9             0.1843      0.059      3.140      0.002       0.069       0.299\n",
      "x10            0.0793      0.037      2.142      0.032       0.007       0.152\n",
      "x11            0.8466      0.105      8.087      0.000       0.641       1.052\n",
      "x12            0.1521      0.088      1.723      0.085      -0.021       0.325\n",
      "x13            0.2066      0.088      2.360      0.018       0.035       0.378\n",
      "x14           -0.1161      0.079     -1.474      0.141      -0.271       0.038\n",
      "x15            0.0695      0.085      0.818      0.414      -0.097       0.236\n",
      "x16           -0.3115      0.200     -1.557      0.120      -0.704       0.081\n",
      "x17            2.8176      0.215     13.080      0.000       2.395       3.240\n",
      "==============================================================================\n",
      "Omnibus:                      479.291   Durbin-Watson:                   1.960\n",
      "Prob(Omnibus):                  0.000   Jarque-Bera (JB):             4478.109\n",
      "Skew:                           1.172   Prob(JB):                         0.00\n",
      "Kurtosis:                      11.007   Cond. No.                         75.6\n",
      "==============================================================================\n",
      "\n",
      "Notes:\n",
      "[1] Standard Errors assume that the covariance matrix of the errors is correctly specified.\n"
     ]
    }
   ],
   "source": [
    "print(results1.summary())"
   ]
  },
  {
   "cell_type": "code",
   "execution_count": 69,
   "id": "805e229e",
   "metadata": {},
   "outputs": [
    {
     "data": {
      "text/plain": [
       "Index(['Make', 'Year', 'Kilometer', 'Fuel_type', 'Transmission', 'Location',\n",
       "       'Color', 'Owner', 'Seller_type', 'Drivetrain', 'Length', 'Width',\n",
       "       'Height', 'Seating_capacity', 'Fuel_tank_capacity', 'Engine_f',\n",
       "       'Engine_hp'],\n",
       "      dtype='object')"
      ]
     },
     "execution_count": 69,
     "metadata": {},
     "output_type": "execute_result"
    }
   ],
   "source": [
    "X_train_tr.columns"
   ]
  },
  {
   "cell_type": "code",
   "execution_count": 70,
   "id": "f7fdef2b",
   "metadata": {},
   "outputs": [],
   "source": [
    "X_train_filter1 = X_train_tr.drop(columns=['Engine_f','Fuel_tank_capacity','Seating_capacity','Width'])"
   ]
  },
  {
   "cell_type": "code",
   "execution_count": 71,
   "id": "aacf6ee4",
   "metadata": {},
   "outputs": [],
   "source": [
    "X_test_filter1 = X_test_tr.drop(columns=['Engine_f','Fuel_tank_capacity','Seating_capacity','Width'])"
   ]
  },
  {
   "cell_type": "code",
   "execution_count": 72,
   "id": "b4443631",
   "metadata": {},
   "outputs": [],
   "source": [
    "X_train_tr_scl1 = scale1.fit_transform(X_train_filter1)"
   ]
  },
  {
   "cell_type": "code",
   "execution_count": 73,
   "id": "dbaac711",
   "metadata": {},
   "outputs": [],
   "source": [
    "X_test_tr_scl1 = scale1.transform(X_test_filter1)"
   ]
  },
  {
   "cell_type": "code",
   "execution_count": 74,
   "id": "a7ffc183",
   "metadata": {},
   "outputs": [],
   "source": [
    "X_train_tr_scl1 = sm.add_constant(X_train_tr_scl1)"
   ]
  },
  {
   "cell_type": "code",
   "execution_count": 75,
   "id": "61c46bc3",
   "metadata": {},
   "outputs": [],
   "source": [
    "model2 = sm.OLS(y_train, X_train_tr_scl1)"
   ]
  },
  {
   "cell_type": "code",
   "execution_count": 76,
   "id": "37f31f44",
   "metadata": {},
   "outputs": [],
   "source": [
    "results2 = model2.fit()"
   ]
  },
  {
   "cell_type": "code",
   "execution_count": 77,
   "id": "15f60c62",
   "metadata": {},
   "outputs": [
    {
     "name": "stdout",
     "output_type": "stream",
     "text": [
      "                            OLS Regression Results                            \n",
      "==============================================================================\n",
      "Dep. Variable:                  Price   R-squared:                       0.908\n",
      "Model:                            OLS   Adj. R-squared:                  0.907\n",
      "Method:                 Least Squares   F-statistic:                     1159.\n",
      "Date:                Mon, 03 Apr 2023   Prob (F-statistic):               0.00\n",
      "Time:                        11:04:20   Log-Likelihood:                -321.48\n",
      "No. Observations:                1544   AIC:                             671.0\n",
      "Df Residuals:                    1530   BIC:                             745.8\n",
      "Df Model:                          13                                         \n",
      "Covariance Type:            nonrobust                                         \n",
      "==============================================================================\n",
      "                 coef    std err          t      P>|t|      [0.025      0.975]\n",
      "------------------------------------------------------------------------------\n",
      "const          9.1719      0.089    102.798      0.000       8.997       9.347\n",
      "x1             0.6590      0.039     17.072      0.000       0.583       0.735\n",
      "x2             3.6879      0.090     40.757      0.000       3.510       3.865\n",
      "x3            -1.0090      0.274     -3.676      0.000      -1.547      -0.471\n",
      "x4             0.1867      0.025      7.620      0.000       0.139       0.235\n",
      "x5             0.2467      0.022     11.450      0.000       0.204       0.289\n",
      "x6             0.2760      0.034      8.146      0.000       0.210       0.342\n",
      "x7             0.0742      0.028      2.650      0.008       0.019       0.129\n",
      "x8            -0.2260      0.082     -2.741      0.006      -0.388      -0.064\n",
      "x9             0.1852      0.059      3.147      0.002       0.070       0.301\n",
      "x10            0.0897      0.037      2.440      0.015       0.018       0.162\n",
      "x11            0.8598      0.081     10.651      0.000       0.701       1.018\n",
      "x12            0.1233      0.063      1.960      0.050   -6.41e-05       0.247\n",
      "x13            2.7062      0.138     19.649      0.000       2.436       2.976\n",
      "==============================================================================\n",
      "Omnibus:                      485.763   Durbin-Watson:                   1.970\n",
      "Prob(Omnibus):                  0.000   Jarque-Bera (JB):             4750.162\n",
      "Skew:                           1.178   Prob(JB):                         0.00\n",
      "Kurtosis:                      11.264   Cond. No.                         70.0\n",
      "==============================================================================\n",
      "\n",
      "Notes:\n",
      "[1] Standard Errors assume that the covariance matrix of the errors is correctly specified.\n"
     ]
    }
   ],
   "source": [
    "print(results2.summary())"
   ]
  },
  {
   "cell_type": "code",
   "execution_count": 78,
   "id": "02cc436f",
   "metadata": {},
   "outputs": [
    {
     "data": {
      "text/plain": [
       "Index(['Make', 'Year', 'Kilometer', 'Fuel_type', 'Transmission', 'Location',\n",
       "       'Color', 'Owner', 'Seller_type', 'Drivetrain', 'Length', 'Height',\n",
       "       'Engine_hp'],\n",
       "      dtype='object')"
      ]
     },
     "execution_count": 78,
     "metadata": {},
     "output_type": "execute_result"
    }
   ],
   "source": [
    "X_train_filter1.columns"
   ]
  },
  {
   "cell_type": "code",
   "execution_count": 79,
   "id": "919f58e8",
   "metadata": {},
   "outputs": [],
   "source": [
    "X_train_filter2 = X_train_filter1.drop(columns=['Height'])"
   ]
  },
  {
   "cell_type": "code",
   "execution_count": 80,
   "id": "642deb52",
   "metadata": {},
   "outputs": [],
   "source": [
    "X_test_filter2 = X_test_filter1.drop(columns=['Height'])"
   ]
  },
  {
   "cell_type": "code",
   "execution_count": 81,
   "id": "165dd599",
   "metadata": {},
   "outputs": [],
   "source": [
    "X_train_tr_scl2 = scale1.fit_transform(X_train_filter2)"
   ]
  },
  {
   "cell_type": "code",
   "execution_count": 82,
   "id": "fbf84f16",
   "metadata": {},
   "outputs": [],
   "source": [
    "X_test_tr_scl2 = scale1.transform(X_test_filter2)"
   ]
  },
  {
   "cell_type": "code",
   "execution_count": 83,
   "id": "155d0324",
   "metadata": {},
   "outputs": [],
   "source": [
    "X_train_tr_scl2 = sm.add_constant(X_train_tr_scl2)"
   ]
  },
  {
   "cell_type": "code",
   "execution_count": 84,
   "id": "f2d9224e",
   "metadata": {},
   "outputs": [],
   "source": [
    "model3 = sm.OLS(y_train, X_train_tr_scl2)"
   ]
  },
  {
   "cell_type": "code",
   "execution_count": 85,
   "id": "575b4f40",
   "metadata": {},
   "outputs": [],
   "source": [
    "results3 = model3.fit()"
   ]
  },
  {
   "cell_type": "code",
   "execution_count": 86,
   "id": "79b99107",
   "metadata": {},
   "outputs": [
    {
     "name": "stdout",
     "output_type": "stream",
     "text": [
      "                            OLS Regression Results                            \n",
      "==============================================================================\n",
      "Dep. Variable:                  Price   R-squared:                       0.908\n",
      "Model:                            OLS   Adj. R-squared:                  0.907\n",
      "Method:                 Least Squares   F-statistic:                     1252.\n",
      "Date:                Mon, 03 Apr 2023   Prob (F-statistic):               0.00\n",
      "Time:                        11:05:18   Log-Likelihood:                -323.42\n",
      "No. Observations:                1544   AIC:                             672.8\n",
      "Df Residuals:                    1531   BIC:                             742.3\n",
      "Df Model:                          12                                         \n",
      "Covariance Type:            nonrobust                                         \n",
      "==============================================================================\n",
      "                 coef    std err          t      P>|t|      [0.025      0.975]\n",
      "------------------------------------------------------------------------------\n",
      "const          9.1983      0.088    104.195      0.000       9.025       9.372\n",
      "x1             0.6386      0.037     17.165      0.000       0.566       0.712\n",
      "x2             3.7197      0.089     41.748      0.000       3.545       3.894\n",
      "x3            -0.9675      0.274     -3.532      0.000      -1.505      -0.430\n",
      "x4             0.1951      0.024      8.083      0.000       0.148       0.242\n",
      "x5             0.2396      0.021     11.271      0.000       0.198       0.281\n",
      "x6             0.2749      0.034      8.109      0.000       0.208       0.341\n",
      "x7             0.0726      0.028      2.594      0.010       0.018       0.128\n",
      "x8            -0.2178      0.082     -2.642      0.008      -0.379      -0.056\n",
      "x9             0.1842      0.059      3.128      0.002       0.069       0.300\n",
      "x10            0.1301      0.030      4.280      0.000       0.071       0.190\n",
      "x11            0.8840      0.080     11.072      0.000       0.727       1.041\n",
      "x12            2.6688      0.137     19.548      0.000       2.401       2.937\n",
      "==============================================================================\n",
      "Omnibus:                      489.634   Durbin-Watson:                   1.966\n",
      "Prob(Omnibus):                  0.000   Jarque-Bera (JB):             4834.847\n",
      "Skew:                           1.187   Prob(JB):                         0.00\n",
      "Kurtosis:                      11.338   Cond. No.                         67.4\n",
      "==============================================================================\n",
      "\n",
      "Notes:\n",
      "[1] Standard Errors assume that the covariance matrix of the errors is correctly specified.\n"
     ]
    }
   ],
   "source": [
    "print(results3.summary())"
   ]
  },
  {
   "cell_type": "code",
   "execution_count": 87,
   "id": "1dd9be58",
   "metadata": {},
   "outputs": [
    {
     "data": {
      "text/plain": [
       "Index(['Make', 'Year', 'Kilometer', 'Fuel_type', 'Transmission', 'Location',\n",
       "       'Color', 'Owner', 'Seller_type', 'Drivetrain', 'Length', 'Engine_hp'],\n",
       "      dtype='object')"
      ]
     },
     "execution_count": 87,
     "metadata": {},
     "output_type": "execute_result"
    }
   ],
   "source": [
    "X_train_filter2.columns"
   ]
  },
  {
   "cell_type": "code",
   "execution_count": 143,
   "id": "0a355ca5",
   "metadata": {},
   "outputs": [],
   "source": [
    "X_train_filter3 = X_train_filter2.drop(columns=['Color','Seller_type','Fuel_type', 'Kilometer'])"
   ]
  },
  {
   "cell_type": "code",
   "execution_count": 144,
   "id": "80a8e4bf",
   "metadata": {},
   "outputs": [],
   "source": [
    "X_test_filter3 = X_test_filter2.drop(columns=['Color','Seller_type','Fuel_type', 'Kilometer'])"
   ]
  },
  {
   "cell_type": "code",
   "execution_count": 167,
   "id": "f80ce703",
   "metadata": {},
   "outputs": [],
   "source": [
    "X_train_tr_scl3 = scale1.fit_transform(X_train_filter3)"
   ]
  },
  {
   "cell_type": "code",
   "execution_count": 168,
   "id": "d1527591",
   "metadata": {},
   "outputs": [],
   "source": [
    "X_test_tr_scl3 = scale1.transform(X_test_filter3)"
   ]
  },
  {
   "cell_type": "code",
   "execution_count": 147,
   "id": "465288ca",
   "metadata": {},
   "outputs": [],
   "source": [
    "X_train_tr_scl3 = sm.add_constant(X_train_tr_scl3)"
   ]
  },
  {
   "cell_type": "code",
   "execution_count": 148,
   "id": "0cc5b9d2",
   "metadata": {},
   "outputs": [],
   "source": [
    "model4 = sm.OLS(y_train, X_train_tr_scl3)"
   ]
  },
  {
   "cell_type": "code",
   "execution_count": 149,
   "id": "8392ad6e",
   "metadata": {},
   "outputs": [],
   "source": [
    "results4 = model4.fit()"
   ]
  },
  {
   "cell_type": "code",
   "execution_count": 150,
   "id": "9ac1e270",
   "metadata": {},
   "outputs": [
    {
     "name": "stdout",
     "output_type": "stream",
     "text": [
      "                            OLS Regression Results                            \n",
      "==============================================================================\n",
      "Dep. Variable:                  Price   R-squared:                       0.902\n",
      "Model:                            OLS   Adj. R-squared:                  0.902\n",
      "Method:                 Least Squares   F-statistic:                     1770.\n",
      "Date:                Mon, 03 Apr 2023   Prob (F-statistic):               0.00\n",
      "Time:                        11:28:59   Log-Likelihood:                -366.75\n",
      "No. Observations:                1544   AIC:                             751.5\n",
      "Df Residuals:                    1535   BIC:                             799.6\n",
      "Df Model:                           8                                         \n",
      "Covariance Type:            nonrobust                                         \n",
      "==============================================================================\n",
      "                 coef    std err          t      P>|t|      [0.025      0.975]\n",
      "------------------------------------------------------------------------------\n",
      "const          9.1681      0.086    107.217      0.000       9.000       9.336\n",
      "x1             0.7154      0.037     19.288      0.000       0.643       0.788\n",
      "x2             3.8458      0.088     43.767      0.000       3.673       4.018\n",
      "x3             0.2254      0.022     10.476      0.000       0.183       0.268\n",
      "x4             0.2530      0.035      7.312      0.000       0.185       0.321\n",
      "x5            -0.1990      0.085     -2.355      0.019      -0.365      -0.033\n",
      "x6             0.1808      0.030      5.962      0.000       0.121       0.240\n",
      "x7             1.0984      0.076     14.522      0.000       0.950       1.247\n",
      "x8             2.4307      0.134     18.201      0.000       2.169       2.693\n",
      "==============================================================================\n",
      "Omnibus:                      472.897   Durbin-Watson:                   1.960\n",
      "Prob(Omnibus):                  0.000   Jarque-Bera (JB):             4174.069\n",
      "Skew:                           1.170   Prob(JB):                         0.00\n",
      "Kurtosis:                      10.707   Cond. No.                         30.8\n",
      "==============================================================================\n",
      "\n",
      "Notes:\n",
      "[1] Standard Errors assume that the covariance matrix of the errors is correctly specified.\n"
     ]
    }
   ],
   "source": [
    "print(results4.summary())"
   ]
  },
  {
   "cell_type": "code",
   "execution_count": 117,
   "id": "b22fe126",
   "metadata": {},
   "outputs": [
    {
     "name": "stdout",
     "output_type": "stream",
     "text": [
      "        feature          VIF\n",
      "0          Make  1213.952142\n",
      "1          Year  6252.151648\n",
      "2     Kilometer     1.965631\n",
      "3     Fuel_type  2493.287544\n",
      "4  Transmission     3.429659\n",
      "5      Location  3681.063851\n",
      "6         Owner     6.911287\n",
      "7    Drivetrain     2.618050\n",
      "8        Length   330.409364\n",
      "9     Engine_hp    20.373475\n"
     ]
    }
   ],
   "source": [
    "vif = calculate_VIF(X_train_filter3)\n",
    "print(vif)"
   ]
  },
  {
   "cell_type": "code",
   "execution_count": 151,
   "id": "a74de857",
   "metadata": {},
   "outputs": [
    {
     "data": {
      "text/plain": [
       "Index(['Make', 'Year', 'Transmission', 'Location', 'Owner', 'Drivetrain',\n",
       "       'Length', 'Engine_hp'],\n",
       "      dtype='object')"
      ]
     },
     "execution_count": 151,
     "metadata": {},
     "output_type": "execute_result"
    }
   ],
   "source": [
    "X_train_filter3.columns"
   ]
  },
  {
   "cell_type": "code",
   "execution_count": 408,
   "id": "e441138a",
   "metadata": {},
   "outputs": [],
   "source": [
    "# Perform residual diagnostics for linear regression assumptions"
   ]
  },
  {
   "cell_type": "code",
   "execution_count": 116,
   "id": "f53bebd3",
   "metadata": {},
   "outputs": [],
   "source": [
    "from scipy import stats"
   ]
  },
  {
   "cell_type": "code",
   "execution_count": 152,
   "id": "f94b2779",
   "metadata": {},
   "outputs": [
    {
     "data": {
      "text/plain": [
       "((array([-3.32078159, -3.06469936, -2.92235802, ...,  2.92235802,\n",
       "          3.06469936,  3.32078159]),\n",
       "  array([-1.25126691, -1.2473819 , -1.22128794, ...,  1.84942372,\n",
       "          1.92875343,  2.37526623])),\n",
       " (0.2937691986647627, -5.972880582593189e-15, 0.9555661619421061))"
      ]
     },
     "execution_count": 152,
     "metadata": {},
     "output_type": "execute_result"
    },
    {
     "data": {
      "image/png": "[encoded data removed]",
      "text/plain": [
       "<Figure size 640x480 with 1 Axes>"
      ]
     },
     "metadata": {},
     "output_type": "display_data"
    }
   ],
   "source": [
    "stats.probplot(results4.resid,plot=plt)"
   ]
  },
  {
   "cell_type": "code",
   "execution_count": 153,
   "id": "d624f4a7",
   "metadata": {},
   "outputs": [
    {
     "data": {
      "text/plain": [
       "<seaborn.axisgrid.FacetGrid at 0x7fc818aaaa00>"
      ]
     },
     "execution_count": 153,
     "metadata": {},
     "output_type": "execute_result"
    },
    {
     "data": {
      "image/png": "[encoded data removed]",
      "text/plain": [
       "<Figure size 500x500 with 1 Axes>"
      ]
     },
     "metadata": {},
     "output_type": "display_data"
    }
   ],
   "source": [
    "sns.displot(results4.resid,kde=True)"
   ]
  },
  {
   "cell_type": "code",
   "execution_count": 154,
   "id": "3deaefaf",
   "metadata": {},
   "outputs": [
    {
     "data": {
      "text/plain": [
       "<matplotlib.collections.PathCollection at 0x7fc854a31190>"
      ]
     },
     "execution_count": 154,
     "metadata": {},
     "output_type": "execute_result"
    },
    {
     "data": {
      "image/png": "[encoded data removed]",
      "text/plain": [
       "<Figure size 640x480 with 1 Axes>"
      ]
     },
     "metadata": {},
     "output_type": "display_data"
    }
   ],
   "source": [
    "plt.scatter(results4.fittedvalues, y_train)"
   ]
  },
  {
   "cell_type": "code",
   "execution_count": 155,
   "id": "68cf5511",
   "metadata": {},
   "outputs": [
    {
     "name": "stdout",
     "output_type": "stream",
     "text": [
      "eval_env: 1\n"
     ]
    },
    {
     "data": {
      "image/png": "[encoded data removed]",
      "text/plain": [
       "<Figure size 1200x800 with 4 Axes>"
      ]
     },
     "metadata": {},
     "output_type": "display_data"
    }
   ],
   "source": [
    "fig = plt.figure(figsize=(12,8))\n",
    "sm.graphics.plot_regress_exog(results4, 'x5', fig=fig)\n",
    "plt.show()"
   ]
  },
  {
   "cell_type": "code",
   "execution_count": 433,
   "id": "00e828be",
   "metadata": {},
   "outputs": [],
   "source": [
    "influence = results4.get_influence()"
   ]
  },
  {
   "cell_type": "code",
   "execution_count": 435,
   "id": "e2d963e4",
   "metadata": {},
   "outputs": [],
   "source": [
    "inf_sum = influence.summary_frame()"
   ]
  },
  {
   "cell_type": "code",
   "execution_count": 436,
   "id": "306e642e",
   "metadata": {},
   "outputs": [
    {
     "name": "stdout",
     "output_type": "stream",
     "text": [
      "      dfb_const    dfb_x1    dfb_x2    dfb_x3    dfb_x4    dfb_x5    dfb_x6  \\\n",
      "439    0.091516 -0.017027 -0.071430 -0.005581 -0.002035 -0.047245  0.010490   \n",
      "271    0.007671 -0.005651  0.000290  0.012758 -0.012366 -0.019034  0.004259   \n",
      "244   -0.008189  0.005018  0.010494  0.007190 -0.007847  0.006775  0.002832   \n",
      "998   -0.056249  0.137682  0.073265 -0.060194 -0.056159  0.047744 -0.127806   \n",
      "1851  -0.000207  0.041742 -0.008453 -0.055824  0.053500  0.007130  0.010446   \n",
      "\n",
      "        dfb_x7    dfb_x8   cooks_d  standard_resid  hat_diag  dffits_internal  \\\n",
      "439  -0.040177  0.021655  0.001411        1.943981  0.003350         0.112700   \n",
      "271  -0.013524  0.013027  0.000126       -0.500229  0.004518        -0.033699   \n",
      "244  -0.005727 -0.002583  0.000043       -0.323540  0.003689        -0.019686   \n",
      "998  -0.034418  0.004479  0.004304       -1.690471  0.013374        -0.196818   \n",
      "1851 -0.029161  0.006810  0.000792       -0.936397  0.008062        -0.084417   \n",
      "\n",
      "      student_resid    dffits  \n",
      "439        1.945744  0.112802  \n",
      "271       -0.500106 -0.033691  \n",
      "244       -0.323446 -0.019681  \n",
      "998       -1.691496 -0.196937  \n",
      "1851      -0.936359 -0.084414  \n"
     ]
    }
   ],
   "source": [
    "print(inf_sum.head())"
   ]
  },
  {
   "cell_type": "code",
   "execution_count": 437,
   "id": "4e6a5c43",
   "metadata": {},
   "outputs": [],
   "source": [
    "student_resid = influence.resid_studentized_external\n",
    "(cooks, p) = influence.cooks_distance\n",
    "(dffits, p) = influence.dffits\n",
    "leverage = influence.hat_matrix_diag"
   ]
  },
  {
   "cell_type": "code",
   "execution_count": 440,
   "id": "07be3fbf",
   "metadata": {},
   "outputs": [
    {
     "data": {
      "text/plain": [
       "<AxesSubplot:>"
      ]
     },
     "execution_count": 440,
     "metadata": {},
     "output_type": "execute_result"
    },
    {
     "data": {
      "image/png": "[encoded data removed]",
      "text/plain": [
       "<Figure size 640x480 with 1 Axes>"
      ]
     },
     "metadata": {},
     "output_type": "display_data"
    }
   ],
   "source": [
    "sns.regplot(x=leverage, y =student_resid, fit_reg=False)"
   ]
  },
  {
   "cell_type": "code",
   "execution_count": 451,
   "id": "c0c4dd89",
   "metadata": {},
   "outputs": [
    {
     "data": {
      "text/plain": [
       "(1544, 16)"
      ]
     },
     "execution_count": 451,
     "metadata": {},
     "output_type": "execute_result"
    }
   ],
   "source": [
    "MEDVres = pd.concat([y_train, inf_sum], axis = 1)\n",
    "MEDVres=MEDVres.rename(columns={'hat_diag': 'leverage'})\n",
    "MEDVres.shape"
   ]
  },
  {
   "cell_type": "code",
   "execution_count": 446,
   "id": "cf263ba3",
   "metadata": {},
   "outputs": [
    {
     "name": "stdout",
     "output_type": "stream",
     "text": [
      "------------------------------ studentized residual ------------------------------\n",
      "count    1544.000000\n",
      "mean        0.000547\n",
      "std         1.005907\n",
      "min        -4.117001\n",
      "25%        -0.553451\n",
      "50%        -0.025764\n",
      "75%         0.507480\n",
      "max         8.095801\n",
      "Name: student_resid, dtype: float64\n",
      "\n",
      "\n",
      "------------------------------ top 5 most negative residuals ------------------------------\n",
      "          Price  dfb_const    dfb_x1    dfb_x2    dfb_x3    dfb_x4    dfb_x5  \\\n",
      "491   10.799576  -0.320022 -0.132164  0.229820  0.038384 -0.081778  0.139454   \n",
      "2004  12.721886  -0.176107 -0.121692  0.221624 -0.047397  0.063930 -0.041594   \n",
      "1768  14.444119  -0.223605  0.067355  0.212406  0.091353  0.093428  0.154703   \n",
      "459   11.652679  -0.020911 -0.025300  0.040251  0.043270  0.154492 -0.115366   \n",
      "575   14.316286   0.069958  0.005972 -0.001143  0.053518  0.049961 -0.257949   \n",
      "\n",
      "        dfb_x6    dfb_x7    dfb_x8   cooks_d  standard_resid  leverage  \\\n",
      "491  -0.238113  0.295358  0.035706  0.027469       -4.095777  0.014523   \n",
      "2004  0.016211 -0.034719  0.031949  0.014400       -4.069134  0.007766   \n",
      "1768  0.264449  0.248130 -0.674027  0.064119       -4.038121  0.034179   \n",
      "459   0.047271 -0.139973  0.082781  0.010230       -3.932971  0.005917   \n",
      "575   0.177989  0.089150 -0.328712  0.026522       -3.315235  0.021257   \n",
      "\n",
      "      dffits_internal  student_resid    dffits  \n",
      "491         -0.497213      -4.117001 -0.499789  \n",
      "2004        -0.359995      -4.089926 -0.361835  \n",
      "1768        -0.759650      -4.058420 -0.763468  \n",
      "459         -0.303433      -3.951651 -0.304874  \n",
      "575         -0.488570      -3.326084 -0.490169  \n",
      "\n",
      "\n",
      "------------------------------ top 5 most positive residuals ------------------------------\n",
      "          Price  dfb_const    dfb_x1    dfb_x2    dfb_x3    dfb_x4    dfb_x5  \\\n",
      "729   14.845130   0.133638  0.166412 -0.159908  0.197347  0.040697  0.150108   \n",
      "837   15.663965   0.081757  0.229041 -0.071292  0.135686  0.210334 -0.061858   \n",
      "1077  15.294840   0.053207  0.282893 -0.060995  0.175769  0.005582  0.204257   \n",
      "1046  14.557448   0.350975  0.125261 -0.396688  0.268926  0.040938  0.082555   \n",
      "995   14.077875   1.315187  0.130422 -1.670043  0.238643  0.043625 -0.020490   \n",
      "\n",
      "        dfb_x6    dfb_x7    dfb_x8   cooks_d  standard_resid  leverage  \\\n",
      "729  -0.094002 -0.097637 -0.115884  0.023331        5.570368  0.006722   \n",
      "837  -0.091197 -0.123890 -0.138505  0.023342        5.893698  0.006012   \n",
      "1077 -0.136301 -0.130543 -0.140492  0.029416        6.031433  0.007225   \n",
      "1046 -0.076873 -0.091735 -0.122503  0.041433        6.296786  0.009317   \n",
      "995   0.094331  0.373994 -0.311623  0.390083        7.930785  0.052866   \n",
      "\n",
      "      dffits_internal  student_resid    dffits  \n",
      "729          0.458237       5.625704  0.462789  \n",
      "837          0.458341       5.959594  0.463466  \n",
      "1077         0.514532       6.102211  0.520570  \n",
      "1046         0.610656       6.377642  0.618498  \n",
      "995          1.873699       8.095801  1.912685  \n"
     ]
    }
   ],
   "source": [
    "r = MEDVres.student_resid\n",
    "print ('-'*30 + ' studentized residual ' + '-'*30)\n",
    "print (r.describe())\n",
    "print ('\\n')\n",
    "\n",
    "r_sort = MEDVres.sort_values(by = 'student_resid')\n",
    "print ('-'*30 + ' top 5 most negative residuals ' + '-'*30)\n",
    "print (r_sort.head())\n",
    "print ('\\n')\n",
    "\n",
    "print ('-'*30 + ' top 5 most positive residuals ' + '-'*30)\n",
    "print (r_sort.tail())"
   ]
  },
  {
   "cell_type": "code",
   "execution_count": 456,
   "id": "ee34ed34",
   "metadata": {},
   "outputs": [
    {
     "name": "stdout",
     "output_type": "stream",
     "text": [
      "582     16.906553\n",
      "1151    15.093663\n",
      "43      14.690979\n",
      "727     14.790070\n",
      "506     12.388394\n",
      "879     14.946913\n",
      "575     14.316286\n",
      "557     12.676076\n",
      "1278    14.978661\n",
      "1087    15.201805\n",
      "1549    12.128111\n",
      "147     15.297115\n",
      "1052    16.012735\n",
      "296     14.444119\n",
      "695     13.071070\n",
      "171     12.323856\n",
      "319     12.254863\n",
      "1608    13.071070\n",
      "846     13.527828\n",
      "1305    17.129697\n",
      "2004    12.721886\n",
      "388     12.201060\n",
      "235     15.068274\n",
      "94      15.176487\n",
      "33      13.664688\n",
      "1046    14.557448\n",
      "491     10.799576\n",
      "1680    12.429216\n",
      "1042    15.009433\n",
      "977     16.705882\n",
      "456     14.213615\n",
      "114     12.959844\n",
      "604     15.067988\n",
      "1246    16.811243\n",
      "1002    13.623139\n",
      "1077    15.294840\n",
      "837     15.663965\n",
      "1859    11.775290\n",
      "920     12.196022\n",
      "853     13.422468\n",
      "1535    13.422468\n",
      "1907    12.206073\n",
      "1250    13.112313\n",
      "246     13.652992\n",
      "1533    15.768538\n",
      "1520    15.607270\n",
      "1928    15.096444\n",
      "1768    14.444119\n",
      "1821    11.982929\n",
      "1678    14.285514\n",
      "642     15.024471\n",
      "1275    16.204273\n",
      "995     14.077875\n",
      "729     14.845130\n",
      "1154    16.257858\n",
      "747     14.978661\n",
      "459     11.652679\n",
      "1095    13.563196\n",
      "Name: Price, dtype: float64\n"
     ]
    }
   ],
   "source": [
    "#Print all MEDV values where the studentized residuals exceed 2\n",
    "print (MEDVres.Price[abs(r) > 2])"
   ]
  },
  {
   "cell_type": "code",
   "execution_count": 452,
   "id": "25e89884",
   "metadata": {},
   "outputs": [
    {
     "name": "stdout",
     "output_type": "stream",
     "text": [
      "------------------------------ Leverage ------------------------------\n",
      "count    1544.000000\n",
      "mean        0.005829\n",
      "std         0.005532\n",
      "min         0.001349\n",
      "25%         0.003639\n",
      "50%         0.004917\n",
      "75%         0.006590\n",
      "max         0.102277\n",
      "Name: leverage, dtype: float64\n",
      "\n",
      "\n",
      "------------------------------ top 5 highest leverage data points ------------------------------\n",
      "          Price  dfb_const    dfb_x1    dfb_x2    dfb_x3    dfb_x4    dfb_x5  \\\n",
      "510   16.993564   0.077790 -0.123019 -0.031819 -0.067887  0.013447 -0.046850   \n",
      "1246  16.811243  -0.034211 -0.190143 -0.035213 -0.083382  0.026969  0.178636   \n",
      "1369  16.811243  -0.044907 -0.156453 -0.012648 -0.072388  0.027527  0.155364   \n",
      "977   16.705882   0.065068 -0.187199 -0.079694 -0.060720 -0.074687  0.039977   \n",
      "995   14.077875   1.315187  0.130422 -1.670043  0.238643  0.043625 -0.020490   \n",
      "\n",
      "        dfb_x6    dfb_x7    dfb_x8   cooks_d  standard_resid  leverage  \\\n",
      "510  -0.087101 -0.366203  0.579427  0.039712        1.771176  0.102277   \n",
      "1246 -0.227561 -0.180233  0.590844  0.049941        2.398931  0.072444   \n",
      "1369 -0.189920 -0.150274  0.489692  0.034355        1.990981  0.072358   \n",
      "977  -0.227375 -0.223179  0.639656  0.051365        2.458127  0.071070   \n",
      "995   0.094331  0.373994 -0.311623  0.390083        7.930785  0.052866   \n",
      "\n",
      "      dffits_internal  student_resid    dffits  \n",
      "510          0.597833       1.772411  0.598250  \n",
      "1246         0.670424       2.402658  0.671466  \n",
      "1369         0.556057       1.992907  0.556595  \n",
      "977          0.679918       2.462177  0.681038  \n",
      "995          1.873699       8.095801  1.912685  \n"
     ]
    }
   ],
   "source": [
    "#Identify high leverage\n",
    "#point with leverage = (2k+2)/n \n",
    "#k = number of predictors (11)\n",
    "#n = number of observations (506)\n",
    "((2*8)+2)/1544 #=0.011658031088082901 any numbner higher than this is high leverage\n",
    "l = MEDVres.leverage\n",
    "\n",
    "print ('-'*30 + ' Leverage ' + '-'*30)\n",
    "print (l.describe())\n",
    "print ('\\n')\n",
    "\n",
    "l_sort = MEDVres.sort_values(by = 'leverage', ascending = False)\n",
    "print ('-'*30 + ' top 5 highest leverage data points ' + '-'*30)\n",
    "print (l_sort.head())"
   ]
  },
  {
   "cell_type": "code",
   "execution_count": 454,
   "id": "ed2f552a",
   "metadata": {},
   "outputs": [
    {
     "name": "stdout",
     "output_type": "stream",
     "text": [
      "998     13.681979\n",
      "1936    12.128111\n",
      "575     14.316286\n",
      "2023    13.507626\n",
      "442     16.733281\n",
      "          ...    \n",
      "1369    16.811243\n",
      "1154    16.257858\n",
      "699     12.323856\n",
      "510     16.993564\n",
      "1437    12.847927\n",
      "Name: Price, Length: 70, dtype: float64\n"
     ]
    }
   ],
   "source": [
    "#point with leverage = (2k+2)/n = 0.011658031088082901\n",
    "#Print all MEDV values where the leverage exceeds 0.011658031088082901\n",
    "print (MEDVres.Price[abs(l) > ((2*8)+2)/1544])"
   ]
  },
  {
   "cell_type": "code",
   "execution_count": 462,
   "id": "7b9a9c80",
   "metadata": {},
   "outputs": [
    {
     "name": "stdout",
     "output_type": "stream",
     "text": [
      "Int64Index([ 575,  147,  319, 1608,  846,  235,   94,  491,  977, 1246, 1002,\n",
      "            1859, 1907, 1533, 1768, 1821, 1275,  995, 1154],\n",
      "           dtype='int64')\n"
     ]
    }
   ],
   "source": [
    "#large residual and large leverage = INFLUENTIAL\n",
    "#Print values that are both outliers and influential\n",
    "outlier=pd.DataFrame((MEDVres.Price[abs(r) > 2]))\n",
    "lev= pd.DataFrame((MEDVres.Price[abs(l) > ((2*8)+2)/1544]))\n",
    "\n",
    "#Influential1=pd.merge(outlier,lev, left_index=True, right_index=True, how='outer')\n",
    "#print(Influential1)\n",
    "\n",
    "Influential2=pd.merge(outlier,lev, left_index=True, right_index=True)\n",
    "print(Influential2.index)"
   ]
  },
  {
   "cell_type": "code",
   "execution_count": 461,
   "id": "a5981e94",
   "metadata": {},
   "outputs": [
    {
     "name": "stdout",
     "output_type": "stream",
     "text": [
      "Int64Index([ 998,  582, 1151,   43,  727,  879,  575,  557, 1278, 1087, 1549,\n",
      "             214,  147,  528,  296,  695,  477,  164,  319, 1608,  846,  424,\n",
      "             793, 1305, 2004, 1673,  388,  235,   94, 1046,  868, 1035,  491,\n",
      "            1680, 1042,  977,  604, 1246, 1766, 1002, 1077,  837, 1859,  245,\n",
      "             853, 1535, 1907, 1250,  835, 1533, 1928, 1768,  972, 1821,   95,\n",
      "             642, 1275,  995, 1579,  729, 1025, 1369, 1154,  699,  510,  747,\n",
      "             459],\n",
      "           dtype='int64')\n"
     ]
    }
   ],
   "source": [
    "#Cook's D of more than 3 times the mean is a possible outlier\n",
    "#MEDVres.loc[:,\"cooks_d\"].mean()\n",
    "cutoff=(MEDVres.loc[:,\"cooks_d\"].mean())*3\n",
    "outlier2=pd.DataFrame((MEDVres.Price[abs(MEDVres.cooks_d) > cutoff]))\n",
    "print(outlier2.index)"
   ]
  },
  {
   "cell_type": "code",
   "execution_count": 463,
   "id": "b3fbf8a0",
   "metadata": {},
   "outputs": [],
   "source": [
    "#Remove influential observations and rerun regression\n",
    "X_train_alt=X_train_filter3.drop(Influential2.index)\n",
    "y_train_alt=y_train.drop(Influential2.index)\n",
    "\n",
    "#Remove influential observations and rerun regression\n",
    "X_train_alt2=X_train_filter3.drop(outlier2.index)\n",
    "y_train_alt2=y_train.drop(outlier2.index)"
   ]
  },
  {
   "cell_type": "code",
   "execution_count": 464,
   "id": "78de6b87",
   "metadata": {},
   "outputs": [],
   "source": [
    "X_train_alt_scl = scale1.fit_transform(X_train_alt)\n",
    "X_train_alt2_scl = scale1.fit_transform(X_train_alt2)"
   ]
  },
  {
   "cell_type": "code",
   "execution_count": 465,
   "id": "a0edd3c5",
   "metadata": {},
   "outputs": [],
   "source": [
    "cross_validation_linreg = cross_validate(lin_reg, X_train_alt_scl, y_train_alt, scoring=['r2','neg_mean_absolute_error'], cv=10,\n",
    "                                 n_jobs=-1,return_train_score=True, return_estimator=True)"
   ]
  },
  {
   "cell_type": "code",
   "execution_count": 466,
   "id": "835cefa9",
   "metadata": {},
   "outputs": [
    {
     "name": "stdout",
     "output_type": "stream",
     "text": [
      "-0.206747989561068\n"
     ]
    }
   ],
   "source": [
    "print(cross_validation_linreg['test_neg_mean_absolute_error'].mean())"
   ]
  },
  {
   "cell_type": "code",
   "execution_count": 467,
   "id": "df0b8db5",
   "metadata": {},
   "outputs": [
    {
     "name": "stdout",
     "output_type": "stream",
     "text": [
      "-0.20479071933760357\n"
     ]
    }
   ],
   "source": [
    "print(cross_validation_linreg['train_neg_mean_absolute_error'].mean())"
   ]
  },
  {
   "cell_type": "code",
   "execution_count": 468,
   "id": "098db3ca",
   "metadata": {},
   "outputs": [
    {
     "data": {
      "text/plain": [
       "0.9108921084397263"
      ]
     },
     "execution_count": 468,
     "metadata": {},
     "output_type": "execute_result"
    }
   ],
   "source": [
    "np.mean(cross_validation_linreg['test_r2'])"
   ]
  },
  {
   "cell_type": "code",
   "execution_count": 469,
   "id": "11505d15",
   "metadata": {},
   "outputs": [
    {
     "data": {
      "text/plain": [
       "0.9129529110033857"
      ]
     },
     "execution_count": 469,
     "metadata": {},
     "output_type": "execute_result"
    }
   ],
   "source": [
    "np.mean(cross_validation_linreg['train_r2'])"
   ]
  },
  {
   "cell_type": "code",
   "execution_count": 470,
   "id": "b7a979e9",
   "metadata": {},
   "outputs": [],
   "source": [
    "cross_validation_linreg_t1 = cross_validate(lin_reg, X_train_alt2_scl, y_train_alt2, scoring=['r2','neg_mean_absolute_error'], cv=10,\n",
    "                                 n_jobs=-1,return_train_score=True, return_estimator=True)"
   ]
  },
  {
   "cell_type": "code",
   "execution_count": 471,
   "id": "a3604108",
   "metadata": {},
   "outputs": [
    {
     "data": {
      "text/plain": [
       "0.9400032556582895"
      ]
     },
     "execution_count": 471,
     "metadata": {},
     "output_type": "execute_result"
    }
   ],
   "source": [
    "np.mean(cross_validation_linreg_t1['test_r2'])"
   ]
  },
  {
   "cell_type": "code",
   "execution_count": 472,
   "id": "c7e0a8b4",
   "metadata": {},
   "outputs": [
    {
     "data": {
      "text/plain": [
       "0.9415204764586905"
      ]
     },
     "execution_count": 472,
     "metadata": {},
     "output_type": "execute_result"
    }
   ],
   "source": [
    "np.mean(cross_validation_linreg_t1['train_r2'])"
   ]
  },
  {
   "cell_type": "code",
   "execution_count": 473,
   "id": "a49f37da",
   "metadata": {},
   "outputs": [
    {
     "name": "stdout",
     "output_type": "stream",
     "text": [
      "-0.18127957422216204\n"
     ]
    }
   ],
   "source": [
    "print(cross_validation_linreg_t1['test_neg_mean_absolute_error'].mean())"
   ]
  },
  {
   "cell_type": "code",
   "execution_count": 474,
   "id": "d6601db4",
   "metadata": {},
   "outputs": [
    {
     "name": "stdout",
     "output_type": "stream",
     "text": [
      "-0.17974843202867719\n"
     ]
    }
   ],
   "source": [
    "print(cross_validation_linreg_t1['train_neg_mean_absolute_error'].mean())"
   ]
  },
  {
   "cell_type": "code",
   "execution_count": 475,
   "id": "4efdd657",
   "metadata": {},
   "outputs": [],
   "source": [
    "t_test_linreg_t1 = ttest_ind(cross_validation_linreg_t1['test_neg_mean_absolute_error'],cross_validation_linreg_t1['train_neg_mean_absolute_error'])"
   ]
  },
  {
   "cell_type": "code",
   "execution_count": 476,
   "id": "208f6690",
   "metadata": {},
   "outputs": [
    {
     "data": {
      "text/plain": [
       "(-0.6837926033910117, 0.5028147369325376, 18.0)"
      ]
     },
     "execution_count": 476,
     "metadata": {},
     "output_type": "execute_result"
    }
   ],
   "source": [
    "t_test_linreg_t1"
   ]
  },
  {
   "cell_type": "code",
   "execution_count": 479,
   "id": "509304c8",
   "metadata": {},
   "outputs": [],
   "source": [
    "y_pred_cv_t1 = cross_val_predict(lin_reg,X_train_alt2_scl, y_train_alt2, cv=10, n_jobs=-1)"
   ]
  },
  {
   "cell_type": "code",
   "execution_count": 480,
   "id": "4b2ab5e1",
   "metadata": {},
   "outputs": [
    {
     "data": {
      "text/plain": [
       "<AxesSubplot:xlabel='Price'>"
      ]
     },
     "execution_count": 480,
     "metadata": {},
     "output_type": "execute_result"
    },
    {
     "data": {
      "image/png": "[encoded data removed]",
      "text/plain": [
       "<Figure size 640x480 with 1 Axes>"
      ]
     },
     "metadata": {},
     "output_type": "display_data"
    }
   ],
   "source": [
    "sns.regplot(x=y_train_alt2, y=y_pred_cv_t1)"
   ]
  },
  {
   "cell_type": "code",
   "execution_count": 499,
   "id": "52f5d53f",
   "metadata": {},
   "outputs": [],
   "source": [
    "lin_reg = LinearRegression()"
   ]
  },
  {
   "cell_type": "code",
   "execution_count": 170,
   "id": "9b404575",
   "metadata": {},
   "outputs": [],
   "source": [
    "cross_validation_linreg = cross_validate(lin_reg, X_train_tr_scl3, y_train, scoring=['r2','neg_mean_absolute_error'], cv=10,\n",
    "                                 n_jobs=-1,return_train_score=True, return_estimator=True)"
   ]
  },
  {
   "cell_type": "code",
   "execution_count": 425,
   "id": "2cb3a70b",
   "metadata": {},
   "outputs": [],
   "source": [
    "cross_validation_linreg_t = cross_validate(lin_reg, X_train_tr_scl3, y_train, scoring=['r2','neg_mean_squared_error'], cv=10,\n",
    "                                 n_jobs=-1,return_train_score=True, return_estimator=True)"
   ]
  },
  {
   "cell_type": "code",
   "execution_count": 426,
   "id": "6b78625a",
   "metadata": {},
   "outputs": [
    {
     "data": {
      "text/plain": [
       "0.900566840875662"
      ]
     },
     "execution_count": 426,
     "metadata": {},
     "output_type": "execute_result"
    }
   ],
   "source": [
    "np.mean(cross_validation_linreg_t['test_r2'])"
   ]
  },
  {
   "cell_type": "code",
   "execution_count": 427,
   "id": "ff89113e",
   "metadata": {},
   "outputs": [
    {
     "name": "stdout",
     "output_type": "stream",
     "text": [
      "-0.09606313571757401\n"
     ]
    }
   ],
   "source": [
    "print(cross_validation_linreg_t['test_neg_mean_squared_error'].mean())"
   ]
  },
  {
   "cell_type": "code",
   "execution_count": 428,
   "id": "668b7956",
   "metadata": {},
   "outputs": [
    {
     "name": "stdout",
     "output_type": "stream",
     "text": [
      "-0.09405853954026482\n"
     ]
    }
   ],
   "source": [
    "print(cross_validation_linreg_t['train_neg_mean_squared_error'].mean())"
   ]
  },
  {
   "cell_type": "code",
   "execution_count": 171,
   "id": "859a27e8",
   "metadata": {},
   "outputs": [
    {
     "data": {
      "text/plain": [
       "dict_keys(['fit_time', 'score_time', 'estimator', 'test_r2', 'train_r2', 'test_neg_mean_absolute_error', 'train_neg_mean_absolute_error'])"
      ]
     },
     "execution_count": 171,
     "metadata": {},
     "output_type": "execute_result"
    }
   ],
   "source": [
    "cross_validation_linreg.keys()"
   ]
  },
  {
   "cell_type": "code",
   "execution_count": 172,
   "id": "3a1fb692",
   "metadata": {},
   "outputs": [
    {
     "data": {
      "text/plain": [
       "0.900566840875662"
      ]
     },
     "execution_count": 172,
     "metadata": {},
     "output_type": "execute_result"
    }
   ],
   "source": [
    "np.mean(cross_validation_linreg['test_r2'])"
   ]
  },
  {
   "cell_type": "code",
   "execution_count": 173,
   "id": "eea7a655",
   "metadata": {},
   "outputs": [
    {
     "data": {
      "text/plain": [
       "0.9023186060219139"
      ]
     },
     "execution_count": 173,
     "metadata": {},
     "output_type": "execute_result"
    }
   ],
   "source": [
    "np.mean(cross_validation_linreg['train_r2'])"
   ]
  },
  {
   "cell_type": "code",
   "execution_count": 174,
   "id": "f5dc5528",
   "metadata": {},
   "outputs": [
    {
     "name": "stdout",
     "output_type": "stream",
     "text": [
      "-0.21628484784766133\n"
     ]
    }
   ],
   "source": [
    "print(cross_validation_linreg['test_neg_mean_absolute_error'].mean())"
   ]
  },
  {
   "cell_type": "code",
   "execution_count": 175,
   "id": "19969953",
   "metadata": {},
   "outputs": [
    {
     "name": "stdout",
     "output_type": "stream",
     "text": [
      "-0.21466071315197585\n"
     ]
    }
   ],
   "source": [
    "print(cross_validation_linreg['train_neg_mean_absolute_error'].mean())"
   ]
  },
  {
   "cell_type": "code",
   "execution_count": 411,
   "id": "1193ff61",
   "metadata": {},
   "outputs": [],
   "source": [
    "# Perform a independent t-test to confirm whether the means of the cross validated scores of training \n",
    "# and validation sets of different splits are same or different. The test will confirm if the train and validation\n",
    "# scores are same. This will further confirm presence of overfitting or underfitting.\n",
    "# null hypothesis: the means of the two indpendent samples are same\n",
    "# alternative hypothesis: the means are different "
   ]
  },
  {
   "cell_type": "code",
   "execution_count": 410,
   "id": "d3beaad0",
   "metadata": {},
   "outputs": [],
   "source": [
    "from statsmodels.stats.weightstats import ttest_ind"
   ]
  },
  {
   "cell_type": "code",
   "execution_count": 477,
   "id": "b7618864",
   "metadata": {},
   "outputs": [],
   "source": [
    "t_test_linreg = ttest_ind(cross_validation_linreg['test_neg_mean_absolute_error'],cross_validation_linreg['train_neg_mean_absolute_error'])"
   ]
  },
  {
   "cell_type": "code",
   "execution_count": 478,
   "id": "37ac88aa",
   "metadata": {},
   "outputs": [
    {
     "data": {
      "text/plain": [
       "(-0.40569117700673407, 0.6897512911762371, 18.0)"
      ]
     },
     "execution_count": 478,
     "metadata": {},
     "output_type": "execute_result"
    }
   ],
   "source": [
    "t_test_linreg"
   ]
  },
  {
   "cell_type": "code",
   "execution_count": 412,
   "id": "1bebb7ec",
   "metadata": {},
   "outputs": [],
   "source": [
    "# The t-test p value (0.7936428) is higher than 0.05. This indicates that the null hypothesis can not be rejected. "
   ]
  },
  {
   "cell_type": "code",
   "execution_count": 265,
   "id": "07e895cc",
   "metadata": {},
   "outputs": [
    {
     "name": "stdout",
     "output_type": "stream",
     "text": [
      "The percentage difference of train and test score is: 0.7566%\n"
     ]
    }
   ],
   "source": [
    "rel_diff = compute_rel_percent_diff(np.mean(cross_validation_linreg['train_neg_mean_absolute_error']),\n",
    "                                    np.mean(cross_validation_linreg['test_neg_mean_absolute_error']))\n",
    "print('The percentage difference of train and test score is: {:.4}%'.format(rel_diff))"
   ]
  },
  {
   "cell_type": "code",
   "execution_count": 177,
   "id": "4d35bd3f",
   "metadata": {},
   "outputs": [
    {
     "data": {
      "image/png": "[encoded data removed]",
      "text/plain": [
       "<Figure size 640x480 with 1 Axes>"
      ]
     },
     "metadata": {},
     "output_type": "display_data"
    }
   ],
   "source": [
    "plot_learning_curve(lin_reg, X_train_tr_scl3, y_train, 10, 'neg_mean_absolute_error', train_sizes)"
   ]
  },
  {
   "cell_type": "code",
   "execution_count": 500,
   "id": "0024c190",
   "metadata": {},
   "outputs": [
    {
     "data": {
      "text/html": [
       "<style>#sk-container-id-20 {color: black;background-color: white;}#sk-container-id-20 pre{padding: 0;}#sk-container-id-20 div.sk-toggleable {background-color: white;}#sk-container-id-20 label.sk-toggleable__label {cursor: pointer;display: block;width: 100%;margin-bottom: 0;padding: 0.3em;box-sizing: border-box;text-align: center;}#sk-container-id-20 label.sk-toggleable__label-arrow:before {content: \"▸\";float: left;margin-right: 0.25em;color: #696969;}#sk-container-id-20 label.sk-toggleable__label-arrow:hover:before {color: black;}#sk-container-id-20 div.sk-estimator:hover label.sk-toggleable__label-arrow:before {color: black;}#sk-container-id-20 div.sk-toggleable__content {max-height: 0;max-width: 0;overflow: hidden;text-align: left;background-color: #f0f8ff;}#sk-container-id-20 div.sk-toggleable__content pre {margin: 0.2em;color: black;border-radius: 0.25em;background-color: #f0f8ff;}#sk-container-id-20 input.sk-toggleable__control:checked~div.sk-toggleable__content {max-height: 200px;max-width: 100%;overflow: auto;}#sk-container-id-20 input.sk-toggleable__control:checked~label.sk-toggleable__label-arrow:before {content: \"▾\";}#sk-container-id-20 div.sk-estimator input.sk-toggleable__control:checked~label.sk-toggleable__label {background-color: #d4ebff;}#sk-container-id-20 div.sk-label input.sk-toggleable__control:checked~label.sk-toggleable__label {background-color: #d4ebff;}#sk-container-id-20 input.sk-hidden--visually {border: 0;clip: rect(1px 1px 1px 1px);clip: rect(1px, 1px, 1px, 1px);height: 1px;margin: -1px;overflow: hidden;padding: 0;position: absolute;width: 1px;}#sk-container-id-20 div.sk-estimator {font-family: monospace;background-color: #f0f8ff;border: 1px dotted black;border-radius: 0.25em;box-sizing: border-box;margin-bottom: 0.5em;}#sk-container-id-20 div.sk-estimator:hover {background-color: #d4ebff;}#sk-container-id-20 div.sk-parallel-item::after {content: \"\";width: 100%;border-bottom: 1px solid gray;flex-grow: 1;}#sk-container-id-20 div.sk-label:hover label.sk-toggleable__label {background-color: #d4ebff;}#sk-container-id-20 div.sk-serial::before {content: \"\";position: absolute;border-left: 1px solid gray;box-sizing: border-box;top: 0;bottom: 0;left: 50%;z-index: 0;}#sk-container-id-20 div.sk-serial {display: flex;flex-direction: column;align-items: center;background-color: white;padding-right: 0.2em;padding-left: 0.2em;position: relative;}#sk-container-id-20 div.sk-item {position: relative;z-index: 1;}#sk-container-id-20 div.sk-parallel {display: flex;align-items: stretch;justify-content: center;background-color: white;position: relative;}#sk-container-id-20 div.sk-item::before, #sk-container-id-20 div.sk-parallel-item::before {content: \"\";position: absolute;border-left: 1px solid gray;box-sizing: border-box;top: 0;bottom: 0;left: 50%;z-index: -1;}#sk-container-id-20 div.sk-parallel-item {display: flex;flex-direction: column;z-index: 1;position: relative;background-color: white;}#sk-container-id-20 div.sk-parallel-item:first-child::after {align-self: flex-end;width: 50%;}#sk-container-id-20 div.sk-parallel-item:last-child::after {align-self: flex-start;width: 50%;}#sk-container-id-20 div.sk-parallel-item:only-child::after {width: 0;}#sk-container-id-20 div.sk-dashed-wrapped {border: 1px dashed gray;margin: 0 0.4em 0.5em 0.4em;box-sizing: border-box;padding-bottom: 0.4em;background-color: white;}#sk-container-id-20 div.sk-label label {font-family: monospace;font-weight: bold;display: inline-block;line-height: 1.2em;}#sk-container-id-20 div.sk-label-container {text-align: center;}#sk-container-id-20 div.sk-container {/* jupyter's `normalize.less` sets `[hidden] { display: none; }` but bootstrap.min.css set `[hidden] { display: none !important; }` so we also need the `!important` here to be able to override the default hidden behavior on the sphinx rendered scikit-learn.org. See: https://github.com/scikit-learn/scikit-learn/issues/21755 */display: inline-block !important;position: relative;}#sk-container-id-20 div.sk-text-repr-fallback {display: none;}</style><div id=\"sk-container-id-20\" class=\"sk-top-container\"><div class=\"sk-text-repr-fallback\"><pre>LinearRegression()</pre><b>In a Jupyter environment, please rerun this cell to show the HTML representation or trust the notebook. <br />On GitHub, the HTML representation is unable to render, please try loading this page with nbviewer.org.</b></div><div class=\"sk-container\" hidden><div class=\"sk-item\"><div class=\"sk-estimator sk-toggleable\"><input class=\"sk-toggleable__control sk-hidden--visually\" id=\"sk-estimator-id-46\" type=\"checkbox\" checked><label for=\"sk-estimator-id-46\" class=\"sk-toggleable__label sk-toggleable__label-arrow\">LinearRegression</label><div class=\"sk-toggleable__content\"><pre>LinearRegression()</pre></div></div></div></div></div>"
      ],
      "text/plain": [
       "LinearRegression()"
      ]
     },
     "execution_count": 500,
     "metadata": {},
     "output_type": "execute_result"
    }
   ],
   "source": [
    "lin_reg.fit(X_train_alt2_scl, y_train_alt2)"
   ]
  },
  {
   "cell_type": "code",
   "execution_count": 502,
   "id": "ed4e9725",
   "metadata": {},
   "outputs": [],
   "source": [
    "y_pred = lin_reg.predict(X_test_tr_scl3)"
   ]
  },
  {
   "cell_type": "code",
   "execution_count": 503,
   "id": "fc500955",
   "metadata": {},
   "outputs": [
    {
     "data": {
      "text/plain": [
       "<AxesSubplot:xlabel='Price'>"
      ]
     },
     "execution_count": 503,
     "metadata": {},
     "output_type": "execute_result"
    },
    {
     "data": {
      "image/png": "[encoded data removed]",
      "text/plain": [
       "<Figure size 640x480 with 1 Axes>"
      ]
     },
     "metadata": {},
     "output_type": "display_data"
    }
   ],
   "source": [
    "sns.regplot(x=y_test,y=y_pred)"
   ]
  },
  {
   "cell_type": "code",
   "execution_count": 417,
   "id": "0ccdb741",
   "metadata": {},
   "outputs": [],
   "source": [
    "y_pred_cv = cross_val_predict(lin_reg,X_train_tr_scl3,y_train, cv=10, n_jobs=-1)"
   ]
  },
  {
   "cell_type": "code",
   "execution_count": 418,
   "id": "258dd0c2",
   "metadata": {},
   "outputs": [
    {
     "data": {
      "text/plain": [
       "<AxesSubplot:xlabel='Price'>"
      ]
     },
     "execution_count": 418,
     "metadata": {},
     "output_type": "execute_result"
    },
    {
     "data": {
      "image/png": "[encoded data removed]",
      "text/plain": [
       "<Figure size 640x480 with 1 Axes>"
      ]
     },
     "metadata": {},
     "output_type": "display_data"
    }
   ],
   "source": [
    "sns.regplot(x=y_train,y=y_pred_cv)"
   ]
  },
  {
   "cell_type": "code",
   "execution_count": 266,
   "id": "a54763c6",
   "metadata": {},
   "outputs": [
    {
     "name": "stdout",
     "output_type": "stream",
     "text": [
      "The testing \"r2_score\" of the model is 0.9119976860373196\n",
      "The training \"r2_score\" of the model is 0.9022136585793137\n",
      "The percentage difference between train and test r2_score is 1.084%\n",
      "The testing \"mean_absolute_error\" of the model is 0.20348435645112062\n",
      "The training \"mean_absolute_error\" of the model is 0.2146789081333087\n",
      "The percentage difference between train and test mean_absolute_error is 5.215%\n"
     ]
    }
   ],
   "source": [
    "predict_model_performance(lin_reg,X_train_tr_scl3,X_test_tr_scl3,y_train,y_test,[r2_score,mean_absolute_error])"
   ]
  },
  {
   "cell_type": "code",
   "execution_count": 501,
   "id": "4d6a5005",
   "metadata": {},
   "outputs": [
    {
     "name": "stdout",
     "output_type": "stream",
     "text": [
      "The testing \"r2_score\" of the model is 0.8387336274685149\n",
      "The training \"r2_score\" of the model is 0.9414762918166237\n",
      "The percentage difference between train and test r2_score is 10.91%\n",
      "The testing \"mean_absolute_error\" of the model is 0.31112972996035576\n",
      "The training \"mean_absolute_error\" of the model is 0.17978376162806564\n",
      "The percentage difference between train and test mean_absolute_error is 73.06%\n"
     ]
    }
   ],
   "source": [
    "predict_model_performance(lin_reg,X_train_alt2_scl,X_test_tr_scl3,y_train_alt2,y_test,[r2_score,mean_absolute_error])"
   ]
  },
  {
   "cell_type": "code",
   "execution_count": 322,
   "id": "20627263",
   "metadata": {},
   "outputs": [],
   "source": [
    "ransac_reg = RANSACRegressor()  "
   ]
  },
  {
   "cell_type": "code",
   "execution_count": 324,
   "id": "a0d51b51",
   "metadata": {},
   "outputs": [],
   "source": [
    "cross_validation_ransac = cross_validate(ransac_reg, X_train_tr_scl3, y_train, scoring=['r2','neg_mean_absolute_error'], cv=10,\n",
    "                                 n_jobs=-1,return_train_score=True, return_estimator=True)"
   ]
  },
  {
   "cell_type": "code",
   "execution_count": 429,
   "id": "af3bf041",
   "metadata": {},
   "outputs": [],
   "source": [
    "cross_validation_ransac_t = cross_validate(ransac_reg, X_train_tr_scl3, y_train, scoring=['r2','neg_mean_squared_error'], cv=10,\n",
    "                                 n_jobs=-1,return_train_score=True, return_estimator=True)"
   ]
  },
  {
   "cell_type": "code",
   "execution_count": 430,
   "id": "0f4edd71",
   "metadata": {},
   "outputs": [
    {
     "data": {
      "text/plain": [
       "-0.1041218007149138"
      ]
     },
     "execution_count": 430,
     "metadata": {},
     "output_type": "execute_result"
    }
   ],
   "source": [
    "np.mean(cross_validation_ransac_t['test_neg_mean_squared_error'])"
   ]
  },
  {
   "cell_type": "code",
   "execution_count": 431,
   "id": "32dc6c23",
   "metadata": {},
   "outputs": [
    {
     "data": {
      "text/plain": [
       "-0.10588245667274343"
      ]
     },
     "execution_count": 431,
     "metadata": {},
     "output_type": "execute_result"
    }
   ],
   "source": [
    "np.mean(cross_validation_ransac_t['train_neg_mean_squared_error'])"
   ]
  },
  {
   "cell_type": "code",
   "execution_count": 325,
   "id": "75be21c1",
   "metadata": {},
   "outputs": [
    {
     "data": {
      "text/plain": [
       "0.890121844445026"
      ]
     },
     "execution_count": 325,
     "metadata": {},
     "output_type": "execute_result"
    }
   ],
   "source": [
    "np.mean(cross_validation_ransac['test_r2'])"
   ]
  },
  {
   "cell_type": "code",
   "execution_count": 326,
   "id": "354fcfc5",
   "metadata": {},
   "outputs": [
    {
     "data": {
      "text/plain": [
       "0.8916322268524622"
      ]
     },
     "execution_count": 326,
     "metadata": {},
     "output_type": "execute_result"
    }
   ],
   "source": [
    "np.mean(cross_validation_ransac['train_r2'])"
   ]
  },
  {
   "cell_type": "code",
   "execution_count": 327,
   "id": "9b9a280a",
   "metadata": {},
   "outputs": [
    {
     "data": {
      "text/plain": [
       "-0.22352684543354165"
      ]
     },
     "execution_count": 327,
     "metadata": {},
     "output_type": "execute_result"
    }
   ],
   "source": [
    "np.mean(cross_validation_ransac['test_neg_mean_absolute_error'])"
   ]
  },
  {
   "cell_type": "code",
   "execution_count": 328,
   "id": "f0d716b5",
   "metadata": {},
   "outputs": [
    {
     "data": {
      "text/plain": [
       "-0.22148772287527013"
      ]
     },
     "execution_count": 328,
     "metadata": {},
     "output_type": "execute_result"
    }
   ],
   "source": [
    "np.mean(cross_validation_ransac['train_neg_mean_absolute_error'])"
   ]
  },
  {
   "cell_type": "code",
   "execution_count": 329,
   "id": "13ca0dbe",
   "metadata": {},
   "outputs": [
    {
     "name": "stdout",
     "output_type": "stream",
     "text": [
      "The percentage difference of train and test score is: 0.9206%\n"
     ]
    }
   ],
   "source": [
    "rel_diff = compute_rel_percent_diff(np.mean(cross_validation_ransac['train_neg_mean_absolute_error']),\n",
    "                                    np.mean(cross_validation_ransac['test_neg_mean_absolute_error']))\n",
    "print('The percentage difference of train and test score is: {:.4}%'.format(rel_diff))"
   ]
  },
  {
   "cell_type": "code",
   "execution_count": 181,
   "id": "06ae9336",
   "metadata": {},
   "outputs": [],
   "source": [
    "lasso = LassoCV()"
   ]
  },
  {
   "cell_type": "code",
   "execution_count": 182,
   "id": "9777f93b",
   "metadata": {},
   "outputs": [],
   "source": [
    "cross_validation_lasso = cross_validate(lasso, X_train_tr_scl3, y_train, scoring=['r2','neg_mean_absolute_error'], cv=10,\n",
    "                                 n_jobs=-1,return_train_score=True, return_estimator=True)"
   ]
  },
  {
   "cell_type": "code",
   "execution_count": 301,
   "id": "7546de19",
   "metadata": {},
   "outputs": [
    {
     "data": {
      "text/plain": [
       "dict_keys(['fit_time', 'score_time', 'estimator', 'test_r2', 'train_r2', 'test_neg_mean_absolute_error', 'train_neg_mean_absolute_error'])"
      ]
     },
     "execution_count": 301,
     "metadata": {},
     "output_type": "execute_result"
    }
   ],
   "source": [
    "cross_validation_lasso.keys()"
   ]
  },
  {
   "cell_type": "code",
   "execution_count": 333,
   "id": "0ea8b07f",
   "metadata": {},
   "outputs": [
    {
     "data": {
      "text/plain": [
       "0.900521465825344"
      ]
     },
     "execution_count": 333,
     "metadata": {},
     "output_type": "execute_result"
    }
   ],
   "source": [
    "np.mean(cross_validation_lasso['test_r2'])"
   ]
  },
  {
   "cell_type": "code",
   "execution_count": 334,
   "id": "e8b6b72a",
   "metadata": {},
   "outputs": [
    {
     "data": {
      "text/plain": [
       "0.9022915293104419"
      ]
     },
     "execution_count": 334,
     "metadata": {},
     "output_type": "execute_result"
    }
   ],
   "source": [
    "np.mean(cross_validation_lasso['train_r2'])"
   ]
  },
  {
   "cell_type": "code",
   "execution_count": 335,
   "id": "8e111dc4",
   "metadata": {},
   "outputs": [
    {
     "data": {
      "text/plain": [
       "-0.21635968661337374"
      ]
     },
     "execution_count": 335,
     "metadata": {},
     "output_type": "execute_result"
    }
   ],
   "source": [
    "np.mean(cross_validation_lasso['test_neg_mean_absolute_error'])"
   ]
  },
  {
   "cell_type": "code",
   "execution_count": 336,
   "id": "71103c30",
   "metadata": {},
   "outputs": [
    {
     "data": {
      "text/plain": [
       "-0.21473936441973449"
      ]
     },
     "execution_count": 336,
     "metadata": {},
     "output_type": "execute_result"
    }
   ],
   "source": [
    "np.mean(cross_validation_lasso['train_neg_mean_absolute_error'])"
   ]
  },
  {
   "cell_type": "code",
   "execution_count": 319,
   "id": "91eafb93",
   "metadata": {},
   "outputs": [],
   "source": [
    "t_test_lasso = ttest_ind(cross_validation_lasso['test_r2'],cross_validation_lasso['train_r2'])"
   ]
  },
  {
   "cell_type": "code",
   "execution_count": 320,
   "id": "ec792363",
   "metadata": {},
   "outputs": [
    {
     "data": {
      "text/plain": [
       "(-0.20608324267637568, 0.8390388609854579, 18.0)"
      ]
     },
     "execution_count": 320,
     "metadata": {},
     "output_type": "execute_result"
    }
   ],
   "source": [
    "t_test_lasso"
   ]
  },
  {
   "cell_type": "code",
   "execution_count": 312,
   "id": "fdd919f8",
   "metadata": {},
   "outputs": [
    {
     "name": "stdout",
     "output_type": "stream",
     "text": [
      "The percentage difference of train and test score is: 703.9949987%\n"
     ]
    }
   ],
   "source": [
    "rel_diff = compute_rel_percent_diff(np.std(cross_validation_lasso['train_neg_mean_absolute_error']),\n",
    "                                    np.std(cross_validation_lasso['test_neg_mean_absolute_error']))\n",
    "print('The percentage difference of train and test score is: {:.10}%'.format(rel_diff))"
   ]
  },
  {
   "cell_type": "code",
   "execution_count": 263,
   "id": "ae948da1",
   "metadata": {},
   "outputs": [
    {
     "data": {
      "text/html": [
       "<style>#sk-container-id-10 {color: black;background-color: white;}#sk-container-id-10 pre{padding: 0;}#sk-container-id-10 div.sk-toggleable {background-color: white;}#sk-container-id-10 label.sk-toggleable__label {cursor: pointer;display: block;width: 100%;margin-bottom: 0;padding: 0.3em;box-sizing: border-box;text-align: center;}#sk-container-id-10 label.sk-toggleable__label-arrow:before {content: \"▸\";float: left;margin-right: 0.25em;color: #696969;}#sk-container-id-10 label.sk-toggleable__label-arrow:hover:before {color: black;}#sk-container-id-10 div.sk-estimator:hover label.sk-toggleable__label-arrow:before {color: black;}#sk-container-id-10 div.sk-toggleable__content {max-height: 0;max-width: 0;overflow: hidden;text-align: left;background-color: #f0f8ff;}#sk-container-id-10 div.sk-toggleable__content pre {margin: 0.2em;color: black;border-radius: 0.25em;background-color: #f0f8ff;}#sk-container-id-10 input.sk-toggleable__control:checked~div.sk-toggleable__content {max-height: 200px;max-width: 100%;overflow: auto;}#sk-container-id-10 input.sk-toggleable__control:checked~label.sk-toggleable__label-arrow:before {content: \"▾\";}#sk-container-id-10 div.sk-estimator input.sk-toggleable__control:checked~label.sk-toggleable__label {background-color: #d4ebff;}#sk-container-id-10 div.sk-label input.sk-toggleable__control:checked~label.sk-toggleable__label {background-color: #d4ebff;}#sk-container-id-10 input.sk-hidden--visually {border: 0;clip: rect(1px 1px 1px 1px);clip: rect(1px, 1px, 1px, 1px);height: 1px;margin: -1px;overflow: hidden;padding: 0;position: absolute;width: 1px;}#sk-container-id-10 div.sk-estimator {font-family: monospace;background-color: #f0f8ff;border: 1px dotted black;border-radius: 0.25em;box-sizing: border-box;margin-bottom: 0.5em;}#sk-container-id-10 div.sk-estimator:hover {background-color: #d4ebff;}#sk-container-id-10 div.sk-parallel-item::after {content: \"\";width: 100%;border-bottom: 1px solid gray;flex-grow: 1;}#sk-container-id-10 div.sk-label:hover label.sk-toggleable__label {background-color: #d4ebff;}#sk-container-id-10 div.sk-serial::before {content: \"\";position: absolute;border-left: 1px solid gray;box-sizing: border-box;top: 0;bottom: 0;left: 50%;z-index: 0;}#sk-container-id-10 div.sk-serial {display: flex;flex-direction: column;align-items: center;background-color: white;padding-right: 0.2em;padding-left: 0.2em;position: relative;}#sk-container-id-10 div.sk-item {position: relative;z-index: 1;}#sk-container-id-10 div.sk-parallel {display: flex;align-items: stretch;justify-content: center;background-color: white;position: relative;}#sk-container-id-10 div.sk-item::before, #sk-container-id-10 div.sk-parallel-item::before {content: \"\";position: absolute;border-left: 1px solid gray;box-sizing: border-box;top: 0;bottom: 0;left: 50%;z-index: -1;}#sk-container-id-10 div.sk-parallel-item {display: flex;flex-direction: column;z-index: 1;position: relative;background-color: white;}#sk-container-id-10 div.sk-parallel-item:first-child::after {align-self: flex-end;width: 50%;}#sk-container-id-10 div.sk-parallel-item:last-child::after {align-self: flex-start;width: 50%;}#sk-container-id-10 div.sk-parallel-item:only-child::after {width: 0;}#sk-container-id-10 div.sk-dashed-wrapped {border: 1px dashed gray;margin: 0 0.4em 0.5em 0.4em;box-sizing: border-box;padding-bottom: 0.4em;background-color: white;}#sk-container-id-10 div.sk-label label {font-family: monospace;font-weight: bold;display: inline-block;line-height: 1.2em;}#sk-container-id-10 div.sk-label-container {text-align: center;}#sk-container-id-10 div.sk-container {/* jupyter's `normalize.less` sets `[hidden] { display: none; }` but bootstrap.min.css set `[hidden] { display: none !important; }` so we also need the `!important` here to be able to override the default hidden behavior on the sphinx rendered scikit-learn.org. See: https://github.com/scikit-learn/scikit-learn/issues/21755 */display: inline-block !important;position: relative;}#sk-container-id-10 div.sk-text-repr-fallback {display: none;}</style><div id=\"sk-container-id-10\" class=\"sk-top-container\"><div class=\"sk-text-repr-fallback\"><pre>LassoCV()</pre><b>In a Jupyter environment, please rerun this cell to show the HTML representation or trust the notebook. <br />On GitHub, the HTML representation is unable to render, please try loading this page with nbviewer.org.</b></div><div class=\"sk-container\" hidden><div class=\"sk-item\"><div class=\"sk-estimator sk-toggleable\"><input class=\"sk-toggleable__control sk-hidden--visually\" id=\"sk-estimator-id-18\" type=\"checkbox\" checked><label for=\"sk-estimator-id-18\" class=\"sk-toggleable__label sk-toggleable__label-arrow\">LassoCV</label><div class=\"sk-toggleable__content\"><pre>LassoCV()</pre></div></div></div></div></div>"
      ],
      "text/plain": [
       "LassoCV()"
      ]
     },
     "execution_count": 263,
     "metadata": {},
     "output_type": "execute_result"
    }
   ],
   "source": [
    "lasso.fit(X_train_tr_scl3,y_train)"
   ]
  },
  {
   "cell_type": "code",
   "execution_count": 330,
   "id": "2c79f5a1",
   "metadata": {},
   "outputs": [
    {
     "data": {
      "text/plain": [
       "0.00031899941193980604"
      ]
     },
     "execution_count": 330,
     "metadata": {},
     "output_type": "execute_result"
    }
   ],
   "source": [
    "lasso.alpha_"
   ]
  },
  {
   "cell_type": "code",
   "execution_count": 264,
   "id": "89a178ba",
   "metadata": {},
   "outputs": [
    {
     "name": "stdout",
     "output_type": "stream",
     "text": [
      "The testing \"r2_score\" of the model is 0.9118808352857755\n",
      "The training \"r2_score\" of the model is 0.9021866230348304\n",
      "The percentage difference between train and test r2_score is 1.075%\n",
      "The testing \"mean_absolute_error\" of the model is 0.20353914398944334\n",
      "The training \"mean_absolute_error\" of the model is 0.21474597238482018\n",
      "The percentage difference between train and test mean_absolute_error is 5.219%\n"
     ]
    }
   ],
   "source": [
    "predict_model_performance(lasso,X_train_tr_scl3,X_test_tr_scl3,y_train,y_test,[r2_score,mean_absolute_error])"
   ]
  },
  {
   "cell_type": "code",
   "execution_count": 267,
   "id": "0f923a9d",
   "metadata": {},
   "outputs": [],
   "source": [
    "lasso_reg = Lasso(random_state=1234)"
   ]
  },
  {
   "cell_type": "code",
   "execution_count": 277,
   "id": "8272de33",
   "metadata": {},
   "outputs": [],
   "source": [
    "params = {'alpha': [0.01,0.02, 0.05, 0.1, 0.5, 0.8, 1, 5, 10, 15]}"
   ]
  },
  {
   "cell_type": "code",
   "execution_count": 278,
   "id": "bf22f500",
   "metadata": {},
   "outputs": [],
   "source": [
    "rscv0 = RandomizedSearchCV(estimator=lasso_reg,param_distributions=params, cv=5, \n",
    "                          scoring=['r2','neg_mean_absolute_error'],n_jobs=-1,\n",
    "                         refit='neg_mean_absolute_error',return_train_score=True,\n",
    "                          random_state=1234)"
   ]
  },
  {
   "cell_type": "code",
   "execution_count": 279,
   "id": "f954fe92",
   "metadata": {},
   "outputs": [
    {
     "data": {
      "text/html": [
       "<style>#sk-container-id-13 {color: black;background-color: white;}#sk-container-id-13 pre{padding: 0;}#sk-container-id-13 div.sk-toggleable {background-color: white;}#sk-container-id-13 label.sk-toggleable__label {cursor: pointer;display: block;width: 100%;margin-bottom: 0;padding: 0.3em;box-sizing: border-box;text-align: center;}#sk-container-id-13 label.sk-toggleable__label-arrow:before {content: \"▸\";float: left;margin-right: 0.25em;color: #696969;}#sk-container-id-13 label.sk-toggleable__label-arrow:hover:before {color: black;}#sk-container-id-13 div.sk-estimator:hover label.sk-toggleable__label-arrow:before {color: black;}#sk-container-id-13 div.sk-toggleable__content {max-height: 0;max-width: 0;overflow: hidden;text-align: left;background-color: #f0f8ff;}#sk-container-id-13 div.sk-toggleable__content pre {margin: 0.2em;color: black;border-radius: 0.25em;background-color: #f0f8ff;}#sk-container-id-13 input.sk-toggleable__control:checked~div.sk-toggleable__content {max-height: 200px;max-width: 100%;overflow: auto;}#sk-container-id-13 input.sk-toggleable__control:checked~label.sk-toggleable__label-arrow:before {content: \"▾\";}#sk-container-id-13 div.sk-estimator input.sk-toggleable__control:checked~label.sk-toggleable__label {background-color: #d4ebff;}#sk-container-id-13 div.sk-label input.sk-toggleable__control:checked~label.sk-toggleable__label {background-color: #d4ebff;}#sk-container-id-13 input.sk-hidden--visually {border: 0;clip: rect(1px 1px 1px 1px);clip: rect(1px, 1px, 1px, 1px);height: 1px;margin: -1px;overflow: hidden;padding: 0;position: absolute;width: 1px;}#sk-container-id-13 div.sk-estimator {font-family: monospace;background-color: #f0f8ff;border: 1px dotted black;border-radius: 0.25em;box-sizing: border-box;margin-bottom: 0.5em;}#sk-container-id-13 div.sk-estimator:hover {background-color: #d4ebff;}#sk-container-id-13 div.sk-parallel-item::after {content: \"\";width: 100%;border-bottom: 1px solid gray;flex-grow: 1;}#sk-container-id-13 div.sk-label:hover label.sk-toggleable__label {background-color: #d4ebff;}#sk-container-id-13 div.sk-serial::before {content: \"\";position: absolute;border-left: 1px solid gray;box-sizing: border-box;top: 0;bottom: 0;left: 50%;z-index: 0;}#sk-container-id-13 div.sk-serial {display: flex;flex-direction: column;align-items: center;background-color: white;padding-right: 0.2em;padding-left: 0.2em;position: relative;}#sk-container-id-13 div.sk-item {position: relative;z-index: 1;}#sk-container-id-13 div.sk-parallel {display: flex;align-items: stretch;justify-content: center;background-color: white;position: relative;}#sk-container-id-13 div.sk-item::before, #sk-container-id-13 div.sk-parallel-item::before {content: \"\";position: absolute;border-left: 1px solid gray;box-sizing: border-box;top: 0;bottom: 0;left: 50%;z-index: -1;}#sk-container-id-13 div.sk-parallel-item {display: flex;flex-direction: column;z-index: 1;position: relative;background-color: white;}#sk-container-id-13 div.sk-parallel-item:first-child::after {align-self: flex-end;width: 50%;}#sk-container-id-13 div.sk-parallel-item:last-child::after {align-self: flex-start;width: 50%;}#sk-container-id-13 div.sk-parallel-item:only-child::after {width: 0;}#sk-container-id-13 div.sk-dashed-wrapped {border: 1px dashed gray;margin: 0 0.4em 0.5em 0.4em;box-sizing: border-box;padding-bottom: 0.4em;background-color: white;}#sk-container-id-13 div.sk-label label {font-family: monospace;font-weight: bold;display: inline-block;line-height: 1.2em;}#sk-container-id-13 div.sk-label-container {text-align: center;}#sk-container-id-13 div.sk-container {/* jupyter's `normalize.less` sets `[hidden] { display: none; }` but bootstrap.min.css set `[hidden] { display: none !important; }` so we also need the `!important` here to be able to override the default hidden behavior on the sphinx rendered scikit-learn.org. See: https://github.com/scikit-learn/scikit-learn/issues/21755 */display: inline-block !important;position: relative;}#sk-container-id-13 div.sk-text-repr-fallback {display: none;}</style><div id=\"sk-container-id-13\" class=\"sk-top-container\"><div class=\"sk-text-repr-fallback\"><pre>RandomizedSearchCV(cv=5, estimator=Lasso(random_state=1234), n_jobs=-1,\n",
       "                   param_distributions={&#x27;alpha&#x27;: [0.01, 0.02, 0.05, 0.1, 0.5,\n",
       "                                                  0.8, 1, 5, 10, 15]},\n",
       "                   random_state=1234, refit=&#x27;neg_mean_absolute_error&#x27;,\n",
       "                   return_train_score=True,\n",
       "                   scoring=[&#x27;r2&#x27;, &#x27;neg_mean_absolute_error&#x27;])</pre><b>In a Jupyter environment, please rerun this cell to show the HTML representation or trust the notebook. <br />On GitHub, the HTML representation is unable to render, please try loading this page with nbviewer.org.</b></div><div class=\"sk-container\" hidden><div class=\"sk-item sk-dashed-wrapped\"><div class=\"sk-label-container\"><div class=\"sk-label sk-toggleable\"><input class=\"sk-toggleable__control sk-hidden--visually\" id=\"sk-estimator-id-25\" type=\"checkbox\" ><label for=\"sk-estimator-id-25\" class=\"sk-toggleable__label sk-toggleable__label-arrow\">RandomizedSearchCV</label><div class=\"sk-toggleable__content\"><pre>RandomizedSearchCV(cv=5, estimator=Lasso(random_state=1234), n_jobs=-1,\n",
       "                   param_distributions={&#x27;alpha&#x27;: [0.01, 0.02, 0.05, 0.1, 0.5,\n",
       "                                                  0.8, 1, 5, 10, 15]},\n",
       "                   random_state=1234, refit=&#x27;neg_mean_absolute_error&#x27;,\n",
       "                   return_train_score=True,\n",
       "                   scoring=[&#x27;r2&#x27;, &#x27;neg_mean_absolute_error&#x27;])</pre></div></div></div><div class=\"sk-parallel\"><div class=\"sk-parallel-item\"><div class=\"sk-item\"><div class=\"sk-label-container\"><div class=\"sk-label sk-toggleable\"><input class=\"sk-toggleable__control sk-hidden--visually\" id=\"sk-estimator-id-26\" type=\"checkbox\" ><label for=\"sk-estimator-id-26\" class=\"sk-toggleable__label sk-toggleable__label-arrow\">estimator: Lasso</label><div class=\"sk-toggleable__content\"><pre>Lasso(random_state=1234)</pre></div></div></div><div class=\"sk-serial\"><div class=\"sk-item\"><div class=\"sk-estimator sk-toggleable\"><input class=\"sk-toggleable__control sk-hidden--visually\" id=\"sk-estimator-id-27\" type=\"checkbox\" ><label for=\"sk-estimator-id-27\" class=\"sk-toggleable__label sk-toggleable__label-arrow\">Lasso</label><div class=\"sk-toggleable__content\"><pre>Lasso(random_state=1234)</pre></div></div></div></div></div></div></div></div></div></div>"
      ],
      "text/plain": [
       "RandomizedSearchCV(cv=5, estimator=Lasso(random_state=1234), n_jobs=-1,\n",
       "                   param_distributions={'alpha': [0.01, 0.02, 0.05, 0.1, 0.5,\n",
       "                                                  0.8, 1, 5, 10, 15]},\n",
       "                   random_state=1234, refit='neg_mean_absolute_error',\n",
       "                   return_train_score=True,\n",
       "                   scoring=['r2', 'neg_mean_absolute_error'])"
      ]
     },
     "execution_count": 279,
     "metadata": {},
     "output_type": "execute_result"
    }
   ],
   "source": [
    "rscv0.fit(X_train_tr_scl3, y_train)"
   ]
  },
  {
   "cell_type": "code",
   "execution_count": 280,
   "id": "2ccf156d",
   "metadata": {},
   "outputs": [
    {
     "data": {
      "text/plain": [
       "{'alpha': 0.01}"
      ]
     },
     "execution_count": 280,
     "metadata": {},
     "output_type": "execute_result"
    }
   ],
   "source": [
    "rscv0.best_params_"
   ]
  },
  {
   "cell_type": "code",
   "execution_count": 294,
   "id": "74ef4e8f",
   "metadata": {},
   "outputs": [
    {
     "data": {
      "text/plain": [
       "array([ 0.87859104,  0.82495664,  0.6271044 ,  0.53803935, -0.00566154,\n",
       "       -0.00566154, -0.00566154, -0.00566154, -0.00566154, -0.00566154])"
      ]
     },
     "execution_count": 294,
     "metadata": {},
     "output_type": "execute_result"
    }
   ],
   "source": [
    "(rscv0.cv_results_['mean_test_r2'])"
   ]
  },
  {
   "cell_type": "code",
   "execution_count": 286,
   "id": "4633c7f7",
   "metadata": {},
   "outputs": [
    {
     "data": {
      "text/plain": [
       "0.2878739057637932"
      ]
     },
     "execution_count": 286,
     "metadata": {},
     "output_type": "execute_result"
    }
   ],
   "source": [
    "np.mean(rscv0.cv_results_['mean_train_r2'])"
   ]
  },
  {
   "cell_type": "code",
   "execution_count": 284,
   "id": "12e668a1",
   "metadata": {},
   "outputs": [
    {
     "name": "stdout",
     "output_type": "stream",
     "text": [
      "The testing \"r2_score\" of the model is 0.8879574635309835\n",
      "The training \"r2_score\" of the model is 0.8802532778814047\n",
      "The percentage difference between train and test r2_score is 0.8752%\n",
      "The testing \"mean_absolute_error\" of the model is 0.2345255733488332\n",
      "The training \"mean_absolute_error\" of the model is 0.24291655647493746\n",
      "The percentage difference between train and test mean_absolute_error is 3.454%\n"
     ]
    }
   ],
   "source": [
    "predict_model_performance(rscv0,X_train_tr_scl3,X_test_tr_scl3,y_train,y_test,[r2_score,mean_absolute_error])"
   ]
  },
  {
   "cell_type": "code",
   "execution_count": 291,
   "id": "648f7d7c",
   "metadata": {},
   "outputs": [],
   "source": [
    "y_pred0 = rscv0.predict(X_test_tr_scl3)"
   ]
  },
  {
   "cell_type": "code",
   "execution_count": 293,
   "id": "b52ecdfc",
   "metadata": {},
   "outputs": [
    {
     "data": {
      "text/plain": [
       "<AxesSubplot:xlabel='Price'>"
      ]
     },
     "execution_count": 293,
     "metadata": {},
     "output_type": "execute_result"
    },
    {
     "data": {
      "image/png": "[encoded data removed]",
      "text/plain": [
       "<Figure size 640x480 with 1 Axes>"
      ]
     },
     "metadata": {},
     "output_type": "display_data"
    }
   ],
   "source": [
    "sns.regplot(x=y_test, y=y_pred0)"
   ]
  },
  {
   "cell_type": "code",
   "execution_count": 287,
   "id": "fe44772d",
   "metadata": {},
   "outputs": [],
   "source": [
    "gscv0 = GridSearchCV(estimator=lasso_reg, param_grid=params, scoring=['r2','neg_mean_absolute_error'], \n",
    "                    return_train_score=True, n_jobs=-1, refit='neg_mean_absolute_error',cv=5)"
   ]
  },
  {
   "cell_type": "code",
   "execution_count": 288,
   "id": "14d8ee9c",
   "metadata": {},
   "outputs": [
    {
     "data": {
      "text/html": [
       "<style>#sk-container-id-14 {color: black;background-color: white;}#sk-container-id-14 pre{padding: 0;}#sk-container-id-14 div.sk-toggleable {background-color: white;}#sk-container-id-14 label.sk-toggleable__label {cursor: pointer;display: block;width: 100%;margin-bottom: 0;padding: 0.3em;box-sizing: border-box;text-align: center;}#sk-container-id-14 label.sk-toggleable__label-arrow:before {content: \"▸\";float: left;margin-right: 0.25em;color: #696969;}#sk-container-id-14 label.sk-toggleable__label-arrow:hover:before {color: black;}#sk-container-id-14 div.sk-estimator:hover label.sk-toggleable__label-arrow:before {color: black;}#sk-container-id-14 div.sk-toggleable__content {max-height: 0;max-width: 0;overflow: hidden;text-align: left;background-color: #f0f8ff;}#sk-container-id-14 div.sk-toggleable__content pre {margin: 0.2em;color: black;border-radius: 0.25em;background-color: #f0f8ff;}#sk-container-id-14 input.sk-toggleable__control:checked~div.sk-toggleable__content {max-height: 200px;max-width: 100%;overflow: auto;}#sk-container-id-14 input.sk-toggleable__control:checked~label.sk-toggleable__label-arrow:before {content: \"▾\";}#sk-container-id-14 div.sk-estimator input.sk-toggleable__control:checked~label.sk-toggleable__label {background-color: #d4ebff;}#sk-container-id-14 div.sk-label input.sk-toggleable__control:checked~label.sk-toggleable__label {background-color: #d4ebff;}#sk-container-id-14 input.sk-hidden--visually {border: 0;clip: rect(1px 1px 1px 1px);clip: rect(1px, 1px, 1px, 1px);height: 1px;margin: -1px;overflow: hidden;padding: 0;position: absolute;width: 1px;}#sk-container-id-14 div.sk-estimator {font-family: monospace;background-color: #f0f8ff;border: 1px dotted black;border-radius: 0.25em;box-sizing: border-box;margin-bottom: 0.5em;}#sk-container-id-14 div.sk-estimator:hover {background-color: #d4ebff;}#sk-container-id-14 div.sk-parallel-item::after {content: \"\";width: 100%;border-bottom: 1px solid gray;flex-grow: 1;}#sk-container-id-14 div.sk-label:hover label.sk-toggleable__label {background-color: #d4ebff;}#sk-container-id-14 div.sk-serial::before {content: \"\";position: absolute;border-left: 1px solid gray;box-sizing: border-box;top: 0;bottom: 0;left: 50%;z-index: 0;}#sk-container-id-14 div.sk-serial {display: flex;flex-direction: column;align-items: center;background-color: white;padding-right: 0.2em;padding-left: 0.2em;position: relative;}#sk-container-id-14 div.sk-item {position: relative;z-index: 1;}#sk-container-id-14 div.sk-parallel {display: flex;align-items: stretch;justify-content: center;background-color: white;position: relative;}#sk-container-id-14 div.sk-item::before, #sk-container-id-14 div.sk-parallel-item::before {content: \"\";position: absolute;border-left: 1px solid gray;box-sizing: border-box;top: 0;bottom: 0;left: 50%;z-index: -1;}#sk-container-id-14 div.sk-parallel-item {display: flex;flex-direction: column;z-index: 1;position: relative;background-color: white;}#sk-container-id-14 div.sk-parallel-item:first-child::after {align-self: flex-end;width: 50%;}#sk-container-id-14 div.sk-parallel-item:last-child::after {align-self: flex-start;width: 50%;}#sk-container-id-14 div.sk-parallel-item:only-child::after {width: 0;}#sk-container-id-14 div.sk-dashed-wrapped {border: 1px dashed gray;margin: 0 0.4em 0.5em 0.4em;box-sizing: border-box;padding-bottom: 0.4em;background-color: white;}#sk-container-id-14 div.sk-label label {font-family: monospace;font-weight: bold;display: inline-block;line-height: 1.2em;}#sk-container-id-14 div.sk-label-container {text-align: center;}#sk-container-id-14 div.sk-container {/* jupyter's `normalize.less` sets `[hidden] { display: none; }` but bootstrap.min.css set `[hidden] { display: none !important; }` so we also need the `!important` here to be able to override the default hidden behavior on the sphinx rendered scikit-learn.org. See: https://github.com/scikit-learn/scikit-learn/issues/21755 */display: inline-block !important;position: relative;}#sk-container-id-14 div.sk-text-repr-fallback {display: none;}</style><div id=\"sk-container-id-14\" class=\"sk-top-container\"><div class=\"sk-text-repr-fallback\"><pre>GridSearchCV(cv=5, estimator=Lasso(random_state=1234), n_jobs=-1,\n",
       "             param_grid={&#x27;alpha&#x27;: [0.01, 0.02, 0.05, 0.1, 0.5, 0.8, 1, 5, 10,\n",
       "                                   15]},\n",
       "             refit=&#x27;neg_mean_absolute_error&#x27;, return_train_score=True,\n",
       "             scoring=[&#x27;r2&#x27;, &#x27;neg_mean_absolute_error&#x27;])</pre><b>In a Jupyter environment, please rerun this cell to show the HTML representation or trust the notebook. <br />On GitHub, the HTML representation is unable to render, please try loading this page with nbviewer.org.</b></div><div class=\"sk-container\" hidden><div class=\"sk-item sk-dashed-wrapped\"><div class=\"sk-label-container\"><div class=\"sk-label sk-toggleable\"><input class=\"sk-toggleable__control sk-hidden--visually\" id=\"sk-estimator-id-28\" type=\"checkbox\" ><label for=\"sk-estimator-id-28\" class=\"sk-toggleable__label sk-toggleable__label-arrow\">GridSearchCV</label><div class=\"sk-toggleable__content\"><pre>GridSearchCV(cv=5, estimator=Lasso(random_state=1234), n_jobs=-1,\n",
       "             param_grid={&#x27;alpha&#x27;: [0.01, 0.02, 0.05, 0.1, 0.5, 0.8, 1, 5, 10,\n",
       "                                   15]},\n",
       "             refit=&#x27;neg_mean_absolute_error&#x27;, return_train_score=True,\n",
       "             scoring=[&#x27;r2&#x27;, &#x27;neg_mean_absolute_error&#x27;])</pre></div></div></div><div class=\"sk-parallel\"><div class=\"sk-parallel-item\"><div class=\"sk-item\"><div class=\"sk-label-container\"><div class=\"sk-label sk-toggleable\"><input class=\"sk-toggleable__control sk-hidden--visually\" id=\"sk-estimator-id-29\" type=\"checkbox\" ><label for=\"sk-estimator-id-29\" class=\"sk-toggleable__label sk-toggleable__label-arrow\">estimator: Lasso</label><div class=\"sk-toggleable__content\"><pre>Lasso(random_state=1234)</pre></div></div></div><div class=\"sk-serial\"><div class=\"sk-item\"><div class=\"sk-estimator sk-toggleable\"><input class=\"sk-toggleable__control sk-hidden--visually\" id=\"sk-estimator-id-30\" type=\"checkbox\" ><label for=\"sk-estimator-id-30\" class=\"sk-toggleable__label sk-toggleable__label-arrow\">Lasso</label><div class=\"sk-toggleable__content\"><pre>Lasso(random_state=1234)</pre></div></div></div></div></div></div></div></div></div></div>"
      ],
      "text/plain": [
       "GridSearchCV(cv=5, estimator=Lasso(random_state=1234), n_jobs=-1,\n",
       "             param_grid={'alpha': [0.01, 0.02, 0.05, 0.1, 0.5, 0.8, 1, 5, 10,\n",
       "                                   15]},\n",
       "             refit='neg_mean_absolute_error', return_train_score=True,\n",
       "             scoring=['r2', 'neg_mean_absolute_error'])"
      ]
     },
     "execution_count": 288,
     "metadata": {},
     "output_type": "execute_result"
    }
   ],
   "source": [
    "gscv0.fit(X_train_tr_scl3, y_train)"
   ]
  },
  {
   "cell_type": "code",
   "execution_count": 290,
   "id": "df568ce4",
   "metadata": {},
   "outputs": [
    {
     "data": {
      "text/plain": [
       "{'alpha': 0.01}"
      ]
     },
     "execution_count": 290,
     "metadata": {},
     "output_type": "execute_result"
    }
   ],
   "source": [
    "gscv0.best_params_"
   ]
  },
  {
   "cell_type": "code",
   "execution_count": 289,
   "id": "6cc87dae",
   "metadata": {},
   "outputs": [
    {
     "data": {
      "text/plain": [
       "0.2834722220037133"
      ]
     },
     "execution_count": 289,
     "metadata": {},
     "output_type": "execute_result"
    }
   ],
   "source": [
    "np.mean(gscv0.cv_results_['mean_test_r2'])"
   ]
  },
  {
   "cell_type": "code",
   "execution_count": 188,
   "id": "01036782",
   "metadata": {},
   "outputs": [],
   "source": [
    "from sklearn.ensemble import RandomForestRegressor"
   ]
  },
  {
   "cell_type": "code",
   "execution_count": 481,
   "id": "136c97d1",
   "metadata": {},
   "outputs": [],
   "source": [
    "rf = RandomForestRegressor(random_state=1234)"
   ]
  },
  {
   "cell_type": "code",
   "execution_count": 482,
   "id": "70eee767",
   "metadata": {},
   "outputs": [],
   "source": [
    "cross_validation_rf_t = cross_validate(rf, X_train_alt2_scl, y_train_alt2, scoring=['r2','neg_mean_absolute_error'], cv=10,\n",
    "                                 n_jobs=-1,return_train_score=True, return_estimator=True)"
   ]
  },
  {
   "cell_type": "code",
   "execution_count": 483,
   "id": "7caf733b",
   "metadata": {},
   "outputs": [
    {
     "data": {
      "text/plain": [
       "0.9642984655606721"
      ]
     },
     "execution_count": 483,
     "metadata": {},
     "output_type": "execute_result"
    }
   ],
   "source": [
    "np.mean(cross_validation_rf_t['test_r2'])"
   ]
  },
  {
   "cell_type": "code",
   "execution_count": 484,
   "id": "67b96fe4",
   "metadata": {},
   "outputs": [
    {
     "data": {
      "text/plain": [
       "0.9947040498372637"
      ]
     },
     "execution_count": 484,
     "metadata": {},
     "output_type": "execute_result"
    }
   ],
   "source": [
    "np.mean(cross_validation_rf_t['train_r2'])"
   ]
  },
  {
   "cell_type": "code",
   "execution_count": 496,
   "id": "f3fb244f",
   "metadata": {},
   "outputs": [],
   "source": [
    "t_test_rf_t = ttest_ind(cross_validation_rf_t['train_neg_mean_absolute_error'],cross_validation_rf_t['test_neg_mean_absolute_error'])"
   ]
  },
  {
   "cell_type": "code",
   "execution_count": 497,
   "id": "d2497c8f",
   "metadata": {},
   "outputs": [
    {
     "data": {
      "text/plain": [
       "(26.212164949188185, 8.642585864686759e-16, 18.0)"
      ]
     },
     "execution_count": 497,
     "metadata": {},
     "output_type": "execute_result"
    }
   ],
   "source": [
    "t_test_rf_t"
   ]
  },
  {
   "cell_type": "code",
   "execution_count": 192,
   "id": "11a94257",
   "metadata": {},
   "outputs": [],
   "source": [
    "cross_validation_rf = cross_validate(rf, X_train_tr_scl3, y_train, scoring=['r2','neg_mean_absolute_error'], cv=10,\n",
    "                                 n_jobs=-1,return_train_score=True, return_estimator=True)"
   ]
  },
  {
   "cell_type": "code",
   "execution_count": 193,
   "id": "a29a373a",
   "metadata": {},
   "outputs": [
    {
     "data": {
      "text/plain": [
       "0.9468153087400782"
      ]
     },
     "execution_count": 193,
     "metadata": {},
     "output_type": "execute_result"
    }
   ],
   "source": [
    "np.mean(cross_validation_rf['test_r2'])"
   ]
  },
  {
   "cell_type": "code",
   "execution_count": 194,
   "id": "3004eae2",
   "metadata": {},
   "outputs": [
    {
     "data": {
      "text/plain": [
       "0.9921057317599781"
      ]
     },
     "execution_count": 194,
     "metadata": {},
     "output_type": "execute_result"
    }
   ],
   "source": [
    "np.mean(cross_validation_rf['train_r2'])"
   ]
  },
  {
   "cell_type": "code",
   "execution_count": 485,
   "id": "3de8dbb1",
   "metadata": {},
   "outputs": [
    {
     "data": {
      "text/plain": [
       "-0.132969014228836"
      ]
     },
     "execution_count": 485,
     "metadata": {},
     "output_type": "execute_result"
    }
   ],
   "source": [
    "np.mean(cross_validation_rf_t['test_neg_mean_absolute_error'])"
   ]
  },
  {
   "cell_type": "code",
   "execution_count": 487,
   "id": "9d84d367",
   "metadata": {},
   "outputs": [
    {
     "data": {
      "text/plain": [
       "-0.050965931427962005"
      ]
     },
     "execution_count": 487,
     "metadata": {},
     "output_type": "execute_result"
    }
   ],
   "source": [
    "np.mean(cross_validation_rf_t['train_neg_mean_absolute_error'])"
   ]
  },
  {
   "cell_type": "code",
   "execution_count": 195,
   "id": "846aa268",
   "metadata": {},
   "outputs": [
    {
     "data": {
      "text/plain": [
       "-0.15059808963007676"
      ]
     },
     "execution_count": 195,
     "metadata": {},
     "output_type": "execute_result"
    }
   ],
   "source": [
    "np.mean(cross_validation_rf['test_neg_mean_absolute_error'])"
   ]
  },
  {
   "cell_type": "code",
   "execution_count": 196,
   "id": "4f391335",
   "metadata": {},
   "outputs": [
    {
     "data": {
      "text/plain": [
       "-0.05768943451402546"
      ]
     },
     "execution_count": 196,
     "metadata": {},
     "output_type": "execute_result"
    }
   ],
   "source": [
    "np.mean(cross_validation_rf['train_neg_mean_absolute_error'])"
   ]
  },
  {
   "cell_type": "code",
   "execution_count": 257,
   "id": "dde3fa42",
   "metadata": {},
   "outputs": [
    {
     "name": "stdout",
     "output_type": "stream",
     "text": [
      "The percentage difference of train and test score is: 161.0%\n"
     ]
    }
   ],
   "source": [
    "rel_diff = compute_rel_percent_diff(np.mean(cross_validation_rf['train_neg_mean_absolute_error']),\n",
    "                                    np.mean(cross_validation_rf['test_neg_mean_absolute_error']))\n",
    "print('The percentage difference of train and test score is: {:.4}%'.format(rel_diff))"
   ]
  },
  {
   "cell_type": "code",
   "execution_count": 259,
   "id": "23a4c5f6",
   "metadata": {},
   "outputs": [
    {
     "data": {
      "text/html": [
       "<style>#sk-container-id-9 {color: black;background-color: white;}#sk-container-id-9 pre{padding: 0;}#sk-container-id-9 div.sk-toggleable {background-color: white;}#sk-container-id-9 label.sk-toggleable__label {cursor: pointer;display: block;width: 100%;margin-bottom: 0;padding: 0.3em;box-sizing: border-box;text-align: center;}#sk-container-id-9 label.sk-toggleable__label-arrow:before {content: \"▸\";float: left;margin-right: 0.25em;color: #696969;}#sk-container-id-9 label.sk-toggleable__label-arrow:hover:before {color: black;}#sk-container-id-9 div.sk-estimator:hover label.sk-toggleable__label-arrow:before {color: black;}#sk-container-id-9 div.sk-toggleable__content {max-height: 0;max-width: 0;overflow: hidden;text-align: left;background-color: #f0f8ff;}#sk-container-id-9 div.sk-toggleable__content pre {margin: 0.2em;color: black;border-radius: 0.25em;background-color: #f0f8ff;}#sk-container-id-9 input.sk-toggleable__control:checked~div.sk-toggleable__content {max-height: 200px;max-width: 100%;overflow: auto;}#sk-container-id-9 input.sk-toggleable__control:checked~label.sk-toggleable__label-arrow:before {content: \"▾\";}#sk-container-id-9 div.sk-estimator input.sk-toggleable__control:checked~label.sk-toggleable__label {background-color: #d4ebff;}#sk-container-id-9 div.sk-label input.sk-toggleable__control:checked~label.sk-toggleable__label {background-color: #d4ebff;}#sk-container-id-9 input.sk-hidden--visually {border: 0;clip: rect(1px 1px 1px 1px);clip: rect(1px, 1px, 1px, 1px);height: 1px;margin: -1px;overflow: hidden;padding: 0;position: absolute;width: 1px;}#sk-container-id-9 div.sk-estimator {font-family: monospace;background-color: #f0f8ff;border: 1px dotted black;border-radius: 0.25em;box-sizing: border-box;margin-bottom: 0.5em;}#sk-container-id-9 div.sk-estimator:hover {background-color: #d4ebff;}#sk-container-id-9 div.sk-parallel-item::after {content: \"\";width: 100%;border-bottom: 1px solid gray;flex-grow: 1;}#sk-container-id-9 div.sk-label:hover label.sk-toggleable__label {background-color: #d4ebff;}#sk-container-id-9 div.sk-serial::before {content: \"\";position: absolute;border-left: 1px solid gray;box-sizing: border-box;top: 0;bottom: 0;left: 50%;z-index: 0;}#sk-container-id-9 div.sk-serial {display: flex;flex-direction: column;align-items: center;background-color: white;padding-right: 0.2em;padding-left: 0.2em;position: relative;}#sk-container-id-9 div.sk-item {position: relative;z-index: 1;}#sk-container-id-9 div.sk-parallel {display: flex;align-items: stretch;justify-content: center;background-color: white;position: relative;}#sk-container-id-9 div.sk-item::before, #sk-container-id-9 div.sk-parallel-item::before {content: \"\";position: absolute;border-left: 1px solid gray;box-sizing: border-box;top: 0;bottom: 0;left: 50%;z-index: -1;}#sk-container-id-9 div.sk-parallel-item {display: flex;flex-direction: column;z-index: 1;position: relative;background-color: white;}#sk-container-id-9 div.sk-parallel-item:first-child::after {align-self: flex-end;width: 50%;}#sk-container-id-9 div.sk-parallel-item:last-child::after {align-self: flex-start;width: 50%;}#sk-container-id-9 div.sk-parallel-item:only-child::after {width: 0;}#sk-container-id-9 div.sk-dashed-wrapped {border: 1px dashed gray;margin: 0 0.4em 0.5em 0.4em;box-sizing: border-box;padding-bottom: 0.4em;background-color: white;}#sk-container-id-9 div.sk-label label {font-family: monospace;font-weight: bold;display: inline-block;line-height: 1.2em;}#sk-container-id-9 div.sk-label-container {text-align: center;}#sk-container-id-9 div.sk-container {/* jupyter's `normalize.less` sets `[hidden] { display: none; }` but bootstrap.min.css set `[hidden] { display: none !important; }` so we also need the `!important` here to be able to override the default hidden behavior on the sphinx rendered scikit-learn.org. See: https://github.com/scikit-learn/scikit-learn/issues/21755 */display: inline-block !important;position: relative;}#sk-container-id-9 div.sk-text-repr-fallback {display: none;}</style><div id=\"sk-container-id-9\" class=\"sk-top-container\"><div class=\"sk-text-repr-fallback\"><pre>RandomForestRegressor(random_state=1234)</pre><b>In a Jupyter environment, please rerun this cell to show the HTML representation or trust the notebook. <br />On GitHub, the HTML representation is unable to render, please try loading this page with nbviewer.org.</b></div><div class=\"sk-container\" hidden><div class=\"sk-item\"><div class=\"sk-estimator sk-toggleable\"><input class=\"sk-toggleable__control sk-hidden--visually\" id=\"sk-estimator-id-17\" type=\"checkbox\" checked><label for=\"sk-estimator-id-17\" class=\"sk-toggleable__label sk-toggleable__label-arrow\">RandomForestRegressor</label><div class=\"sk-toggleable__content\"><pre>RandomForestRegressor(random_state=1234)</pre></div></div></div></div></div>"
      ],
      "text/plain": [
       "RandomForestRegressor(random_state=1234)"
      ]
     },
     "execution_count": 259,
     "metadata": {},
     "output_type": "execute_result"
    }
   ],
   "source": [
    "rf.fit(X_train_tr_scl3,y_train)"
   ]
  },
  {
   "cell_type": "code",
   "execution_count": 260,
   "id": "57e7f9ae",
   "metadata": {},
   "outputs": [
    {
     "name": "stdout",
     "output_type": "stream",
     "text": [
      "The testing \"r2_score\" of the model is 0.9636237929006879\n",
      "The training \"r2_score\" of the model is 0.9926899865081749\n",
      "The percentage difference between train and test r2_score is 2.928%\n",
      "The testing \"mean_absolute_error\" of the model is 0.13409270129795234\n",
      "The training \"mean_absolute_error\" of the model is 0.05614645013603143\n",
      "The percentage difference between train and test mean_absolute_error is 138.8%\n"
     ]
    }
   ],
   "source": [
    "predict_model_performance(rf,X_train_tr_scl3,X_test_tr_scl3,y_train,y_test,[r2_score,mean_absolute_error])"
   ]
  },
  {
   "cell_type": "code",
   "execution_count": 331,
   "id": "f340d2d7",
   "metadata": {},
   "outputs": [],
   "source": [
    "t_test_rf = ttest_ind(cross_validation_rf['train_neg_mean_absolute_error'],cross_validation_lasso['test_neg_mean_absolute_error'])"
   ]
  },
  {
   "cell_type": "code",
   "execution_count": 332,
   "id": "200bc087",
   "metadata": {},
   "outputs": [
    {
     "data": {
      "text/plain": [
       "(27.042872154185748, 4.994414685615321e-16, 18.0)"
      ]
     },
     "execution_count": 332,
     "metadata": {},
     "output_type": "execute_result"
    }
   ],
   "source": [
    "t_test_rf "
   ]
  },
  {
   "cell_type": "code",
   "execution_count": 198,
   "id": "e28e8ed4",
   "metadata": {},
   "outputs": [],
   "source": [
    "from sklearn.model_selection import RandomizedSearchCV, GridSearchCV, RepeatedKFold"
   ]
  },
  {
   "cell_type": "code",
   "execution_count": 199,
   "id": "be445d68",
   "metadata": {},
   "outputs": [],
   "source": [
    "param_range_lr = [1.0, 0.5, 0.1, 0.01]\n",
    "param_range_fc = np.arange(1,61)\n",
    "param_n_estimators = np.arange(5, 225, 5)"
   ]
  },
  {
   "cell_type": "code",
   "execution_count": 200,
   "id": "06e6ebb4",
   "metadata": {},
   "outputs": [],
   "source": [
    "grid_rf = [{'n_estimators': param_n_estimators, 'criterion': ['squared_error', 'absolute_error'],\n",
    "            'max_depth': param_range_fc, 'min_samples_split': param_range_fc[1:],\n",
    "            'min_samples_leaf': param_range_fc, 'max_features':['sqrt', 'log2']}]"
   ]
  },
  {
   "cell_type": "code",
   "execution_count": 218,
   "id": "656f7fd9",
   "metadata": {},
   "outputs": [],
   "source": [
    "rscv = RandomizedSearchCV(estimator=rf,param_distributions= grid_rf, cv=5, \n",
    "                          scoring=['r2','neg_mean_absolute_error'],n_jobs=-1,\n",
    "                         refit='neg_mean_absolute_error',return_train_score=True,\n",
    "                          random_state=1234)"
   ]
  },
  {
   "cell_type": "code",
   "execution_count": 219,
   "id": "9fc7296e",
   "metadata": {},
   "outputs": [
    {
     "data": {
      "text/html": [
       "<style>#sk-container-id-7 {color: black;background-color: white;}#sk-container-id-7 pre{padding: 0;}#sk-container-id-7 div.sk-toggleable {background-color: white;}#sk-container-id-7 label.sk-toggleable__label {cursor: pointer;display: block;width: 100%;margin-bottom: 0;padding: 0.3em;box-sizing: border-box;text-align: center;}#sk-container-id-7 label.sk-toggleable__label-arrow:before {content: \"▸\";float: left;margin-right: 0.25em;color: #696969;}#sk-container-id-7 label.sk-toggleable__label-arrow:hover:before {color: black;}#sk-container-id-7 div.sk-estimator:hover label.sk-toggleable__label-arrow:before {color: black;}#sk-container-id-7 div.sk-toggleable__content {max-height: 0;max-width: 0;overflow: hidden;text-align: left;background-color: #f0f8ff;}#sk-container-id-7 div.sk-toggleable__content pre {margin: 0.2em;color: black;border-radius: 0.25em;background-color: #f0f8ff;}#sk-container-id-7 input.sk-toggleable__control:checked~div.sk-toggleable__content {max-height: 200px;max-width: 100%;overflow: auto;}#sk-container-id-7 input.sk-toggleable__control:checked~label.sk-toggleable__label-arrow:before {content: \"▾\";}#sk-container-id-7 div.sk-estimator input.sk-toggleable__control:checked~label.sk-toggleable__label {background-color: #d4ebff;}#sk-container-id-7 div.sk-label input.sk-toggleable__control:checked~label.sk-toggleable__label {background-color: #d4ebff;}#sk-container-id-7 input.sk-hidden--visually {border: 0;clip: rect(1px 1px 1px 1px);clip: rect(1px, 1px, 1px, 1px);height: 1px;margin: -1px;overflow: hidden;padding: 0;position: absolute;width: 1px;}#sk-container-id-7 div.sk-estimator {font-family: monospace;background-color: #f0f8ff;border: 1px dotted black;border-radius: 0.25em;box-sizing: border-box;margin-bottom: 0.5em;}#sk-container-id-7 div.sk-estimator:hover {background-color: #d4ebff;}#sk-container-id-7 div.sk-parallel-item::after {content: \"\";width: 100%;border-bottom: 1px solid gray;flex-grow: 1;}#sk-container-id-7 div.sk-label:hover label.sk-toggleable__label {background-color: #d4ebff;}#sk-container-id-7 div.sk-serial::before {content: \"\";position: absolute;border-left: 1px solid gray;box-sizing: border-box;top: 0;bottom: 0;left: 50%;z-index: 0;}#sk-container-id-7 div.sk-serial {display: flex;flex-direction: column;align-items: center;background-color: white;padding-right: 0.2em;padding-left: 0.2em;position: relative;}#sk-container-id-7 div.sk-item {position: relative;z-index: 1;}#sk-container-id-7 div.sk-parallel {display: flex;align-items: stretch;justify-content: center;background-color: white;position: relative;}#sk-container-id-7 div.sk-item::before, #sk-container-id-7 div.sk-parallel-item::before {content: \"\";position: absolute;border-left: 1px solid gray;box-sizing: border-box;top: 0;bottom: 0;left: 50%;z-index: -1;}#sk-container-id-7 div.sk-parallel-item {display: flex;flex-direction: column;z-index: 1;position: relative;background-color: white;}#sk-container-id-7 div.sk-parallel-item:first-child::after {align-self: flex-end;width: 50%;}#sk-container-id-7 div.sk-parallel-item:last-child::after {align-self: flex-start;width: 50%;}#sk-container-id-7 div.sk-parallel-item:only-child::after {width: 0;}#sk-container-id-7 div.sk-dashed-wrapped {border: 1px dashed gray;margin: 0 0.4em 0.5em 0.4em;box-sizing: border-box;padding-bottom: 0.4em;background-color: white;}#sk-container-id-7 div.sk-label label {font-family: monospace;font-weight: bold;display: inline-block;line-height: 1.2em;}#sk-container-id-7 div.sk-label-container {text-align: center;}#sk-container-id-7 div.sk-container {/* jupyter's `normalize.less` sets `[hidden] { display: none; }` but bootstrap.min.css set `[hidden] { display: none !important; }` so we also need the `!important` here to be able to override the default hidden behavior on the sphinx rendered scikit-learn.org. See: https://github.com/scikit-learn/scikit-learn/issues/21755 */display: inline-block !important;position: relative;}#sk-container-id-7 div.sk-text-repr-fallback {display: none;}</style><div id=\"sk-container-id-7\" class=\"sk-top-container\"><div class=\"sk-text-repr-fallback\"><pre>RandomizedSearchCV(cv=5, estimator=RandomForestRegressor(random_state=1234),\n",
       "                   n_jobs=-1,\n",
       "                   param_distributions=[{&#x27;criterion&#x27;: [&#x27;squared_error&#x27;,\n",
       "                                                       &#x27;absolute_error&#x27;],\n",
       "                                         &#x27;max_depth&#x27;: array([ 1,  2,  3,  4,  5,  6,  7,  8,  9, 10, 11, 12, 13, 14, 15, 16, 17,\n",
       "       18, 19, 20, 21, 22, 23, 24, 25, 26, 27, 28, 29, 30, 31, 32, 33, 34,\n",
       "       35, 36, 37, 38, 39, 40, 41, 42, 43, 44, 45, 46, 47, 48, 49, 50, 51,\n",
       "       52, 53, 54, 55, 56, 57, 58, 59, 60]),\n",
       "                                         &#x27;max...\n",
       "       36, 37, 38, 39, 40, 41, 42, 43, 44, 45, 46, 47, 48, 49, 50, 51, 52,\n",
       "       53, 54, 55, 56, 57, 58, 59, 60]),\n",
       "                                         &#x27;n_estimators&#x27;: array([  5,  10,  15,  20,  25,  30,  35,  40,  45,  50,  55,  60,  65,\n",
       "        70,  75,  80,  85,  90,  95, 100, 105, 110, 115, 120, 125, 130,\n",
       "       135, 140, 145, 150, 155, 160, 165, 170, 175, 180, 185, 190, 195,\n",
       "       200, 205, 210, 215, 220])}],\n",
       "                   random_state=1234, refit=&#x27;neg_mean_absolute_error&#x27;,\n",
       "                   return_train_score=True,\n",
       "                   scoring=[&#x27;r2&#x27;, &#x27;neg_mean_absolute_error&#x27;])</pre><b>In a Jupyter environment, please rerun this cell to show the HTML representation or trust the notebook. <br />On GitHub, the HTML representation is unable to render, please try loading this page with nbviewer.org.</b></div><div class=\"sk-container\" hidden><div class=\"sk-item sk-dashed-wrapped\"><div class=\"sk-label-container\"><div class=\"sk-label sk-toggleable\"><input class=\"sk-toggleable__control sk-hidden--visually\" id=\"sk-estimator-id-11\" type=\"checkbox\" ><label for=\"sk-estimator-id-11\" class=\"sk-toggleable__label sk-toggleable__label-arrow\">RandomizedSearchCV</label><div class=\"sk-toggleable__content\"><pre>RandomizedSearchCV(cv=5, estimator=RandomForestRegressor(random_state=1234),\n",
       "                   n_jobs=-1,\n",
       "                   param_distributions=[{&#x27;criterion&#x27;: [&#x27;squared_error&#x27;,\n",
       "                                                       &#x27;absolute_error&#x27;],\n",
       "                                         &#x27;max_depth&#x27;: array([ 1,  2,  3,  4,  5,  6,  7,  8,  9, 10, 11, 12, 13, 14, 15, 16, 17,\n",
       "       18, 19, 20, 21, 22, 23, 24, 25, 26, 27, 28, 29, 30, 31, 32, 33, 34,\n",
       "       35, 36, 37, 38, 39, 40, 41, 42, 43, 44, 45, 46, 47, 48, 49, 50, 51,\n",
       "       52, 53, 54, 55, 56, 57, 58, 59, 60]),\n",
       "                                         &#x27;max...\n",
       "       36, 37, 38, 39, 40, 41, 42, 43, 44, 45, 46, 47, 48, 49, 50, 51, 52,\n",
       "       53, 54, 55, 56, 57, 58, 59, 60]),\n",
       "                                         &#x27;n_estimators&#x27;: array([  5,  10,  15,  20,  25,  30,  35,  40,  45,  50,  55,  60,  65,\n",
       "        70,  75,  80,  85,  90,  95, 100, 105, 110, 115, 120, 125, 130,\n",
       "       135, 140, 145, 150, 155, 160, 165, 170, 175, 180, 185, 190, 195,\n",
       "       200, 205, 210, 215, 220])}],\n",
       "                   random_state=1234, refit=&#x27;neg_mean_absolute_error&#x27;,\n",
       "                   return_train_score=True,\n",
       "                   scoring=[&#x27;r2&#x27;, &#x27;neg_mean_absolute_error&#x27;])</pre></div></div></div><div class=\"sk-parallel\"><div class=\"sk-parallel-item\"><div class=\"sk-item\"><div class=\"sk-label-container\"><div class=\"sk-label sk-toggleable\"><input class=\"sk-toggleable__control sk-hidden--visually\" id=\"sk-estimator-id-12\" type=\"checkbox\" ><label for=\"sk-estimator-id-12\" class=\"sk-toggleable__label sk-toggleable__label-arrow\">estimator: RandomForestRegressor</label><div class=\"sk-toggleable__content\"><pre>RandomForestRegressor(random_state=1234)</pre></div></div></div><div class=\"sk-serial\"><div class=\"sk-item\"><div class=\"sk-estimator sk-toggleable\"><input class=\"sk-toggleable__control sk-hidden--visually\" id=\"sk-estimator-id-13\" type=\"checkbox\" ><label for=\"sk-estimator-id-13\" class=\"sk-toggleable__label sk-toggleable__label-arrow\">RandomForestRegressor</label><div class=\"sk-toggleable__content\"><pre>RandomForestRegressor(random_state=1234)</pre></div></div></div></div></div></div></div></div></div></div>"
      ],
      "text/plain": [
       "RandomizedSearchCV(cv=5, estimator=RandomForestRegressor(random_state=1234),\n",
       "                   n_jobs=-1,\n",
       "                   param_distributions=[{'criterion': ['squared_error',\n",
       "                                                       'absolute_error'],\n",
       "                                         'max_depth': array([ 1,  2,  3,  4,  5,  6,  7,  8,  9, 10, 11, 12, 13, 14, 15, 16, 17,\n",
       "       18, 19, 20, 21, 22, 23, 24, 25, 26, 27, 28, 29, 30, 31, 32, 33, 34,\n",
       "       35, 36, 37, 38, 39, 40, 41, 42, 43, 44, 45, 46, 47, 48, 49, 50, 51,\n",
       "       52, 53, 54, 55, 56, 57, 58, 59, 60]),\n",
       "                                         'max...\n",
       "       36, 37, 38, 39, 40, 41, 42, 43, 44, 45, 46, 47, 48, 49, 50, 51, 52,\n",
       "       53, 54, 55, 56, 57, 58, 59, 60]),\n",
       "                                         'n_estimators': array([  5,  10,  15,  20,  25,  30,  35,  40,  45,  50,  55,  60,  65,\n",
       "        70,  75,  80,  85,  90,  95, 100, 105, 110, 115, 120, 125, 130,\n",
       "       135, 140, 145, 150, 155, 160, 165, 170, 175, 180, 185, 190, 195,\n",
       "       200, 205, 210, 215, 220])}],\n",
       "                   random_state=1234, refit='neg_mean_absolute_error',\n",
       "                   return_train_score=True,\n",
       "                   scoring=['r2', 'neg_mean_absolute_error'])"
      ]
     },
     "execution_count": 219,
     "metadata": {},
     "output_type": "execute_result"
    }
   ],
   "source": [
    "rscv.fit(X_train_tr_scl3, y_train)"
   ]
  },
  {
   "cell_type": "code",
   "execution_count": 220,
   "id": "462463aa",
   "metadata": {},
   "outputs": [
    {
     "data": {
      "text/plain": [
       "{'n_estimators': 10,\n",
       " 'min_samples_split': 12,\n",
       " 'min_samples_leaf': 9,\n",
       " 'max_features': 'sqrt',\n",
       " 'max_depth': 20,\n",
       " 'criterion': 'absolute_error'}"
      ]
     },
     "execution_count": 220,
     "metadata": {},
     "output_type": "execute_result"
    }
   ],
   "source": [
    "rscv.best_params_"
   ]
  },
  {
   "cell_type": "code",
   "execution_count": 221,
   "id": "3ed89840",
   "metadata": {},
   "outputs": [
    {
     "data": {
      "text/plain": [
       "0.8687900363782382"
      ]
     },
     "execution_count": 221,
     "metadata": {},
     "output_type": "execute_result"
    }
   ],
   "source": [
    "np.mean(rscv.cv_results_['mean_test_r2'])"
   ]
  },
  {
   "cell_type": "code",
   "execution_count": 222,
   "id": "a6cf71c9",
   "metadata": {},
   "outputs": [
    {
     "data": {
      "text/plain": [
       "0.8810654669957625"
      ]
     },
     "execution_count": 222,
     "metadata": {},
     "output_type": "execute_result"
    }
   ],
   "source": [
    "np.mean(rscv.cv_results_['mean_train_r2'])"
   ]
  },
  {
   "cell_type": "code",
   "execution_count": 223,
   "id": "2aa48825",
   "metadata": {},
   "outputs": [
    {
     "data": {
      "text/plain": [
       "-0.24202442993565124"
      ]
     },
     "execution_count": 223,
     "metadata": {},
     "output_type": "execute_result"
    }
   ],
   "source": [
    "np.mean(rscv.cv_results_['mean_test_neg_mean_absolute_error'])"
   ]
  },
  {
   "cell_type": "code",
   "execution_count": 224,
   "id": "a803ce42",
   "metadata": {},
   "outputs": [
    {
     "data": {
      "text/plain": [
       "-0.22716447209591326"
      ]
     },
     "execution_count": 224,
     "metadata": {},
     "output_type": "execute_result"
    }
   ],
   "source": [
    "np.mean(rscv.cv_results_['mean_train_neg_mean_absolute_error'])"
   ]
  },
  {
   "cell_type": "code",
   "execution_count": 251,
   "id": "da637b9a",
   "metadata": {},
   "outputs": [
    {
     "name": "stdout",
     "output_type": "stream",
     "text": [
      "The percentage difference of train and test score is: 6.541%\n"
     ]
    }
   ],
   "source": [
    "rel_diff = compute_rel_percent_diff(np.mean(rscv.cv_results_['mean_train_neg_mean_absolute_error']),\n",
    "                                    np.mean(rscv.cv_results_['mean_test_neg_mean_absolute_error']))\n",
    "print('The percentage difference of train and test score is: {:.4}%'.format(rel_diff))"
   ]
  },
  {
   "cell_type": "code",
   "execution_count": 256,
   "id": "db2fc7d2",
   "metadata": {},
   "outputs": [
    {
     "name": "stdout",
     "output_type": "stream",
     "text": [
      "The testing \"r2_score\" of the model is 0.9116447702585091\n",
      "The training \"r2_score\" of the model is 0.9085318126911638\n",
      "The percentage difference between train and test r2_score is 0.3426%\n",
      "The testing \"mean_absolute_error\" of the model is 0.19949457673139906\n",
      "The training \"mean_absolute_error\" of the model is 0.1918669258186169\n",
      "The percentage difference between train and test mean_absolute_error is 3.975%\n"
     ]
    }
   ],
   "source": [
    "predict_model_performance(rscv,X_train_tr_scl3,X_test_tr_scl3,y_train,y_test,[r2_score,mean_absolute_error])"
   ]
  },
  {
   "cell_type": "code",
   "execution_count": 488,
   "id": "dabef1ad",
   "metadata": {},
   "outputs": [],
   "source": [
    "rscv_t = RandomizedSearchCV(estimator=rf,param_distributions= grid_rf, cv=10, \n",
    "                          scoring=['r2','neg_mean_absolute_error'],n_jobs=-1,\n",
    "                         refit='neg_mean_absolute_error',return_train_score=True,\n",
    "                          random_state=1234)"
   ]
  },
  {
   "cell_type": "code",
   "execution_count": 489,
   "id": "4bf09c51",
   "metadata": {},
   "outputs": [
    {
     "data": {
      "text/html": [
       "<style>#sk-container-id-19 {color: black;background-color: white;}#sk-container-id-19 pre{padding: 0;}#sk-container-id-19 div.sk-toggleable {background-color: white;}#sk-container-id-19 label.sk-toggleable__label {cursor: pointer;display: block;width: 100%;margin-bottom: 0;padding: 0.3em;box-sizing: border-box;text-align: center;}#sk-container-id-19 label.sk-toggleable__label-arrow:before {content: \"▸\";float: left;margin-right: 0.25em;color: #696969;}#sk-container-id-19 label.sk-toggleable__label-arrow:hover:before {color: black;}#sk-container-id-19 div.sk-estimator:hover label.sk-toggleable__label-arrow:before {color: black;}#sk-container-id-19 div.sk-toggleable__content {max-height: 0;max-width: 0;overflow: hidden;text-align: left;background-color: #f0f8ff;}#sk-container-id-19 div.sk-toggleable__content pre {margin: 0.2em;color: black;border-radius: 0.25em;background-color: #f0f8ff;}#sk-container-id-19 input.sk-toggleable__control:checked~div.sk-toggleable__content {max-height: 200px;max-width: 100%;overflow: auto;}#sk-container-id-19 input.sk-toggleable__control:checked~label.sk-toggleable__label-arrow:before {content: \"▾\";}#sk-container-id-19 div.sk-estimator input.sk-toggleable__control:checked~label.sk-toggleable__label {background-color: #d4ebff;}#sk-container-id-19 div.sk-label input.sk-toggleable__control:checked~label.sk-toggleable__label {background-color: #d4ebff;}#sk-container-id-19 input.sk-hidden--visually {border: 0;clip: rect(1px 1px 1px 1px);clip: rect(1px, 1px, 1px, 1px);height: 1px;margin: -1px;overflow: hidden;padding: 0;position: absolute;width: 1px;}#sk-container-id-19 div.sk-estimator {font-family: monospace;background-color: #f0f8ff;border: 1px dotted black;border-radius: 0.25em;box-sizing: border-box;margin-bottom: 0.5em;}#sk-container-id-19 div.sk-estimator:hover {background-color: #d4ebff;}#sk-container-id-19 div.sk-parallel-item::after {content: \"\";width: 100%;border-bottom: 1px solid gray;flex-grow: 1;}#sk-container-id-19 div.sk-label:hover label.sk-toggleable__label {background-color: #d4ebff;}#sk-container-id-19 div.sk-serial::before {content: \"\";position: absolute;border-left: 1px solid gray;box-sizing: border-box;top: 0;bottom: 0;left: 50%;z-index: 0;}#sk-container-id-19 div.sk-serial {display: flex;flex-direction: column;align-items: center;background-color: white;padding-right: 0.2em;padding-left: 0.2em;position: relative;}#sk-container-id-19 div.sk-item {position: relative;z-index: 1;}#sk-container-id-19 div.sk-parallel {display: flex;align-items: stretch;justify-content: center;background-color: white;position: relative;}#sk-container-id-19 div.sk-item::before, #sk-container-id-19 div.sk-parallel-item::before {content: \"\";position: absolute;border-left: 1px solid gray;box-sizing: border-box;top: 0;bottom: 0;left: 50%;z-index: -1;}#sk-container-id-19 div.sk-parallel-item {display: flex;flex-direction: column;z-index: 1;position: relative;background-color: white;}#sk-container-id-19 div.sk-parallel-item:first-child::after {align-self: flex-end;width: 50%;}#sk-container-id-19 div.sk-parallel-item:last-child::after {align-self: flex-start;width: 50%;}#sk-container-id-19 div.sk-parallel-item:only-child::after {width: 0;}#sk-container-id-19 div.sk-dashed-wrapped {border: 1px dashed gray;margin: 0 0.4em 0.5em 0.4em;box-sizing: border-box;padding-bottom: 0.4em;background-color: white;}#sk-container-id-19 div.sk-label label {font-family: monospace;font-weight: bold;display: inline-block;line-height: 1.2em;}#sk-container-id-19 div.sk-label-container {text-align: center;}#sk-container-id-19 div.sk-container {/* jupyter's `normalize.less` sets `[hidden] { display: none; }` but bootstrap.min.css set `[hidden] { display: none !important; }` so we also need the `!important` here to be able to override the default hidden behavior on the sphinx rendered scikit-learn.org. See: https://github.com/scikit-learn/scikit-learn/issues/21755 */display: inline-block !important;position: relative;}#sk-container-id-19 div.sk-text-repr-fallback {display: none;}</style><div id=\"sk-container-id-19\" class=\"sk-top-container\"><div class=\"sk-text-repr-fallback\"><pre>RandomizedSearchCV(cv=10, estimator=RandomForestRegressor(random_state=1234),\n",
       "                   n_jobs=-1,\n",
       "                   param_distributions=[{&#x27;criterion&#x27;: [&#x27;squared_error&#x27;,\n",
       "                                                       &#x27;absolute_error&#x27;],\n",
       "                                         &#x27;max_depth&#x27;: array([ 1,  2,  3,  4,  5,  6,  7,  8,  9, 10, 11, 12, 13, 14, 15, 16, 17,\n",
       "       18, 19, 20, 21, 22, 23, 24, 25, 26, 27, 28, 29, 30, 31, 32, 33, 34,\n",
       "       35, 36, 37, 38, 39, 40, 41, 42, 43, 44, 45, 46, 47, 48, 49, 50, 51,\n",
       "       52, 53, 54, 55, 56, 57, 58, 59, 60]),\n",
       "                                         &#x27;ma...\n",
       "       36, 37, 38, 39, 40, 41, 42, 43, 44, 45, 46, 47, 48, 49, 50, 51, 52,\n",
       "       53, 54, 55, 56, 57, 58, 59, 60]),\n",
       "                                         &#x27;n_estimators&#x27;: array([  5,  10,  15,  20,  25,  30,  35,  40,  45,  50,  55,  60,  65,\n",
       "        70,  75,  80,  85,  90,  95, 100, 105, 110, 115, 120, 125, 130,\n",
       "       135, 140, 145, 150, 155, 160, 165, 170, 175, 180, 185, 190, 195,\n",
       "       200, 205, 210, 215, 220])}],\n",
       "                   random_state=1234, refit=&#x27;neg_mean_absolute_error&#x27;,\n",
       "                   return_train_score=True,\n",
       "                   scoring=[&#x27;r2&#x27;, &#x27;neg_mean_absolute_error&#x27;])</pre><b>In a Jupyter environment, please rerun this cell to show the HTML representation or trust the notebook. <br />On GitHub, the HTML representation is unable to render, please try loading this page with nbviewer.org.</b></div><div class=\"sk-container\" hidden><div class=\"sk-item sk-dashed-wrapped\"><div class=\"sk-label-container\"><div class=\"sk-label sk-toggleable\"><input class=\"sk-toggleable__control sk-hidden--visually\" id=\"sk-estimator-id-43\" type=\"checkbox\" ><label for=\"sk-estimator-id-43\" class=\"sk-toggleable__label sk-toggleable__label-arrow\">RandomizedSearchCV</label><div class=\"sk-toggleable__content\"><pre>RandomizedSearchCV(cv=10, estimator=RandomForestRegressor(random_state=1234),\n",
       "                   n_jobs=-1,\n",
       "                   param_distributions=[{&#x27;criterion&#x27;: [&#x27;squared_error&#x27;,\n",
       "                                                       &#x27;absolute_error&#x27;],\n",
       "                                         &#x27;max_depth&#x27;: array([ 1,  2,  3,  4,  5,  6,  7,  8,  9, 10, 11, 12, 13, 14, 15, 16, 17,\n",
       "       18, 19, 20, 21, 22, 23, 24, 25, 26, 27, 28, 29, 30, 31, 32, 33, 34,\n",
       "       35, 36, 37, 38, 39, 40, 41, 42, 43, 44, 45, 46, 47, 48, 49, 50, 51,\n",
       "       52, 53, 54, 55, 56, 57, 58, 59, 60]),\n",
       "                                         &#x27;ma...\n",
       "       36, 37, 38, 39, 40, 41, 42, 43, 44, 45, 46, 47, 48, 49, 50, 51, 52,\n",
       "       53, 54, 55, 56, 57, 58, 59, 60]),\n",
       "                                         &#x27;n_estimators&#x27;: array([  5,  10,  15,  20,  25,  30,  35,  40,  45,  50,  55,  60,  65,\n",
       "        70,  75,  80,  85,  90,  95, 100, 105, 110, 115, 120, 125, 130,\n",
       "       135, 140, 145, 150, 155, 160, 165, 170, 175, 180, 185, 190, 195,\n",
       "       200, 205, 210, 215, 220])}],\n",
       "                   random_state=1234, refit=&#x27;neg_mean_absolute_error&#x27;,\n",
       "                   return_train_score=True,\n",
       "                   scoring=[&#x27;r2&#x27;, &#x27;neg_mean_absolute_error&#x27;])</pre></div></div></div><div class=\"sk-parallel\"><div class=\"sk-parallel-item\"><div class=\"sk-item\"><div class=\"sk-label-container\"><div class=\"sk-label sk-toggleable\"><input class=\"sk-toggleable__control sk-hidden--visually\" id=\"sk-estimator-id-44\" type=\"checkbox\" ><label for=\"sk-estimator-id-44\" class=\"sk-toggleable__label sk-toggleable__label-arrow\">estimator: RandomForestRegressor</label><div class=\"sk-toggleable__content\"><pre>RandomForestRegressor(random_state=1234)</pre></div></div></div><div class=\"sk-serial\"><div class=\"sk-item\"><div class=\"sk-estimator sk-toggleable\"><input class=\"sk-toggleable__control sk-hidden--visually\" id=\"sk-estimator-id-45\" type=\"checkbox\" ><label for=\"sk-estimator-id-45\" class=\"sk-toggleable__label sk-toggleable__label-arrow\">RandomForestRegressor</label><div class=\"sk-toggleable__content\"><pre>RandomForestRegressor(random_state=1234)</pre></div></div></div></div></div></div></div></div></div></div>"
      ],
      "text/plain": [
       "RandomizedSearchCV(cv=10, estimator=RandomForestRegressor(random_state=1234),\n",
       "                   n_jobs=-1,\n",
       "                   param_distributions=[{'criterion': ['squared_error',\n",
       "                                                       'absolute_error'],\n",
       "                                         'max_depth': array([ 1,  2,  3,  4,  5,  6,  7,  8,  9, 10, 11, 12, 13, 14, 15, 16, 17,\n",
       "       18, 19, 20, 21, 22, 23, 24, 25, 26, 27, 28, 29, 30, 31, 32, 33, 34,\n",
       "       35, 36, 37, 38, 39, 40, 41, 42, 43, 44, 45, 46, 47, 48, 49, 50, 51,\n",
       "       52, 53, 54, 55, 56, 57, 58, 59, 60]),\n",
       "                                         'ma...\n",
       "       36, 37, 38, 39, 40, 41, 42, 43, 44, 45, 46, 47, 48, 49, 50, 51, 52,\n",
       "       53, 54, 55, 56, 57, 58, 59, 60]),\n",
       "                                         'n_estimators': array([  5,  10,  15,  20,  25,  30,  35,  40,  45,  50,  55,  60,  65,\n",
       "        70,  75,  80,  85,  90,  95, 100, 105, 110, 115, 120, 125, 130,\n",
       "       135, 140, 145, 150, 155, 160, 165, 170, 175, 180, 185, 190, 195,\n",
       "       200, 205, 210, 215, 220])}],\n",
       "                   random_state=1234, refit='neg_mean_absolute_error',\n",
       "                   return_train_score=True,\n",
       "                   scoring=['r2', 'neg_mean_absolute_error'])"
      ]
     },
     "execution_count": 489,
     "metadata": {},
     "output_type": "execute_result"
    }
   ],
   "source": [
    "rscv_t.fit(X_train_alt2_scl, y_train_alt2)"
   ]
  },
  {
   "cell_type": "code",
   "execution_count": 490,
   "id": "1daf7b09",
   "metadata": {},
   "outputs": [
    {
     "data": {
      "text/plain": [
       "-0.2106276322773139"
      ]
     },
     "execution_count": 490,
     "metadata": {},
     "output_type": "execute_result"
    }
   ],
   "source": [
    "np.mean(rscv_t.cv_results_['mean_test_neg_mean_absolute_error'])"
   ]
  },
  {
   "cell_type": "code",
   "execution_count": 491,
   "id": "6907b8d5",
   "metadata": {},
   "outputs": [
    {
     "data": {
      "text/plain": [
       "-0.19668033873924226"
      ]
     },
     "execution_count": 491,
     "metadata": {},
     "output_type": "execute_result"
    }
   ],
   "source": [
    "np.mean(rscv_t.cv_results_['mean_train_neg_mean_absolute_error'])"
   ]
  },
  {
   "cell_type": "code",
   "execution_count": 492,
   "id": "d8abb2a1",
   "metadata": {},
   "outputs": [],
   "source": [
    "t_test_rscv_t = ttest_ind(rscv_t.cv_results_['mean_train_neg_mean_absolute_error'],rscv_t.cv_results_['mean_test_neg_mean_absolute_error'])"
   ]
  },
  {
   "cell_type": "code",
   "execution_count": 493,
   "id": "8e606c27",
   "metadata": {},
   "outputs": [
    {
     "data": {
      "text/plain": [
       "(1.1233237633272266, 0.2760595631803126, 18.0)"
      ]
     },
     "execution_count": 493,
     "metadata": {},
     "output_type": "execute_result"
    }
   ],
   "source": [
    "t_test_rscv_t"
   ]
  },
  {
   "cell_type": "code",
   "execution_count": 494,
   "id": "2bb1041c",
   "metadata": {},
   "outputs": [
    {
     "data": {
      "text/plain": [
       "0.9084943744309679"
      ]
     },
     "execution_count": 494,
     "metadata": {},
     "output_type": "execute_result"
    }
   ],
   "source": [
    "np.mean(rscv_t.cv_results_['mean_test_r2'])"
   ]
  },
  {
   "cell_type": "code",
   "execution_count": 495,
   "id": "9b701528",
   "metadata": {},
   "outputs": [
    {
     "data": {
      "text/plain": [
       "0.9194286026728349"
      ]
     },
     "execution_count": 495,
     "metadata": {},
     "output_type": "execute_result"
    }
   ],
   "source": [
    "np.mean(rscv_t.cv_results_['mean_train_r2'])"
   ]
  },
  {
   "cell_type": "code",
   "execution_count": 226,
   "id": "513c2697",
   "metadata": {},
   "outputs": [],
   "source": [
    "param_fine_estimators = [8,10,14,18,20,24]\n",
    "param_samples_split = [8,10,12,14,16,20]\n",
    "param_samples_leaf = [5,7,9,12,15,18]\n",
    "param_max_depth = [15,17,20,23,25,30]"
   ]
  },
  {
   "cell_type": "code",
   "execution_count": 385,
   "id": "f94c6826",
   "metadata": {},
   "outputs": [],
   "source": [
    "cv_method = RepeatedKFold(n_splits=10, \n",
    "                                    n_repeats=10, \n",
    "                                    random_state=1234)"
   ]
  },
  {
   "cell_type": "code",
   "execution_count": 228,
   "id": "e125d4a1",
   "metadata": {},
   "outputs": [],
   "source": [
    "rf_up = RandomForestRegressor(max_features='sqrt', criterion='absolute_error',random_state=1234)"
   ]
  },
  {
   "cell_type": "code",
   "execution_count": 229,
   "id": "59bab441",
   "metadata": {},
   "outputs": [],
   "source": [
    "param_grid1 = [{'n_estimators': param_fine_estimators, \n",
    "            'max_depth': param_max_depth, 'min_samples_split': param_samples_split,\n",
    "            'min_samples_leaf': param_samples_leaf}]"
   ]
  },
  {
   "cell_type": "code",
   "execution_count": 232,
   "id": "fd37416d",
   "metadata": {},
   "outputs": [],
   "source": [
    "gscv = GridSearchCV(estimator=rf_up, param_grid=param_grid1, scoring=['r2','neg_mean_absolute_error'], \n",
    "                    return_train_score=True, n_jobs=-1, refit='neg_mean_absolute_error',cv=5)"
   ]
  },
  {
   "cell_type": "code",
   "execution_count": 233,
   "id": "35bcd5ca",
   "metadata": {},
   "outputs": [
    {
     "data": {
      "text/html": [
       "<style>#sk-container-id-8 {color: black;background-color: white;}#sk-container-id-8 pre{padding: 0;}#sk-container-id-8 div.sk-toggleable {background-color: white;}#sk-container-id-8 label.sk-toggleable__label {cursor: pointer;display: block;width: 100%;margin-bottom: 0;padding: 0.3em;box-sizing: border-box;text-align: center;}#sk-container-id-8 label.sk-toggleable__label-arrow:before {content: \"▸\";float: left;margin-right: 0.25em;color: #696969;}#sk-container-id-8 label.sk-toggleable__label-arrow:hover:before {color: black;}#sk-container-id-8 div.sk-estimator:hover label.sk-toggleable__label-arrow:before {color: black;}#sk-container-id-8 div.sk-toggleable__content {max-height: 0;max-width: 0;overflow: hidden;text-align: left;background-color: #f0f8ff;}#sk-container-id-8 div.sk-toggleable__content pre {margin: 0.2em;color: black;border-radius: 0.25em;background-color: #f0f8ff;}#sk-container-id-8 input.sk-toggleable__control:checked~div.sk-toggleable__content {max-height: 200px;max-width: 100%;overflow: auto;}#sk-container-id-8 input.sk-toggleable__control:checked~label.sk-toggleable__label-arrow:before {content: \"▾\";}#sk-container-id-8 div.sk-estimator input.sk-toggleable__control:checked~label.sk-toggleable__label {background-color: #d4ebff;}#sk-container-id-8 div.sk-label input.sk-toggleable__control:checked~label.sk-toggleable__label {background-color: #d4ebff;}#sk-container-id-8 input.sk-hidden--visually {border: 0;clip: rect(1px 1px 1px 1px);clip: rect(1px, 1px, 1px, 1px);height: 1px;margin: -1px;overflow: hidden;padding: 0;position: absolute;width: 1px;}#sk-container-id-8 div.sk-estimator {font-family: monospace;background-color: #f0f8ff;border: 1px dotted black;border-radius: 0.25em;box-sizing: border-box;margin-bottom: 0.5em;}#sk-container-id-8 div.sk-estimator:hover {background-color: #d4ebff;}#sk-container-id-8 div.sk-parallel-item::after {content: \"\";width: 100%;border-bottom: 1px solid gray;flex-grow: 1;}#sk-container-id-8 div.sk-label:hover label.sk-toggleable__label {background-color: #d4ebff;}#sk-container-id-8 div.sk-serial::before {content: \"\";position: absolute;border-left: 1px solid gray;box-sizing: border-box;top: 0;bottom: 0;left: 50%;z-index: 0;}#sk-container-id-8 div.sk-serial {display: flex;flex-direction: column;align-items: center;background-color: white;padding-right: 0.2em;padding-left: 0.2em;position: relative;}#sk-container-id-8 div.sk-item {position: relative;z-index: 1;}#sk-container-id-8 div.sk-parallel {display: flex;align-items: stretch;justify-content: center;background-color: white;position: relative;}#sk-container-id-8 div.sk-item::before, #sk-container-id-8 div.sk-parallel-item::before {content: \"\";position: absolute;border-left: 1px solid gray;box-sizing: border-box;top: 0;bottom: 0;left: 50%;z-index: -1;}#sk-container-id-8 div.sk-parallel-item {display: flex;flex-direction: column;z-index: 1;position: relative;background-color: white;}#sk-container-id-8 div.sk-parallel-item:first-child::after {align-self: flex-end;width: 50%;}#sk-container-id-8 div.sk-parallel-item:last-child::after {align-self: flex-start;width: 50%;}#sk-container-id-8 div.sk-parallel-item:only-child::after {width: 0;}#sk-container-id-8 div.sk-dashed-wrapped {border: 1px dashed gray;margin: 0 0.4em 0.5em 0.4em;box-sizing: border-box;padding-bottom: 0.4em;background-color: white;}#sk-container-id-8 div.sk-label label {font-family: monospace;font-weight: bold;display: inline-block;line-height: 1.2em;}#sk-container-id-8 div.sk-label-container {text-align: center;}#sk-container-id-8 div.sk-container {/* jupyter's `normalize.less` sets `[hidden] { display: none; }` but bootstrap.min.css set `[hidden] { display: none !important; }` so we also need the `!important` here to be able to override the default hidden behavior on the sphinx rendered scikit-learn.org. See: https://github.com/scikit-learn/scikit-learn/issues/21755 */display: inline-block !important;position: relative;}#sk-container-id-8 div.sk-text-repr-fallback {display: none;}</style><div id=\"sk-container-id-8\" class=\"sk-top-container\"><div class=\"sk-text-repr-fallback\"><pre>GridSearchCV(cv=5,\n",
       "             estimator=RandomForestRegressor(criterion=&#x27;absolute_error&#x27;,\n",
       "                                             max_features=&#x27;sqrt&#x27;,\n",
       "                                             random_state=1234),\n",
       "             n_jobs=-1,\n",
       "             param_grid=[{&#x27;max_depth&#x27;: [15, 17, 20, 23, 25, 30],\n",
       "                          &#x27;min_samples_leaf&#x27;: [5, 7, 9, 12, 15, 18],\n",
       "                          &#x27;min_samples_split&#x27;: [8, 10, 12, 14, 16, 20],\n",
       "                          &#x27;n_estimators&#x27;: [8, 10, 14, 18, 20, 24]}],\n",
       "             refit=&#x27;neg_mean_absolute_error&#x27;, return_train_score=True,\n",
       "             scoring=[&#x27;r2&#x27;, &#x27;neg_mean_absolute_error&#x27;])</pre><b>In a Jupyter environment, please rerun this cell to show the HTML representation or trust the notebook. <br />On GitHub, the HTML representation is unable to render, please try loading this page with nbviewer.org.</b></div><div class=\"sk-container\" hidden><div class=\"sk-item sk-dashed-wrapped\"><div class=\"sk-label-container\"><div class=\"sk-label sk-toggleable\"><input class=\"sk-toggleable__control sk-hidden--visually\" id=\"sk-estimator-id-14\" type=\"checkbox\" ><label for=\"sk-estimator-id-14\" class=\"sk-toggleable__label sk-toggleable__label-arrow\">GridSearchCV</label><div class=\"sk-toggleable__content\"><pre>GridSearchCV(cv=5,\n",
       "             estimator=RandomForestRegressor(criterion=&#x27;absolute_error&#x27;,\n",
       "                                             max_features=&#x27;sqrt&#x27;,\n",
       "                                             random_state=1234),\n",
       "             n_jobs=-1,\n",
       "             param_grid=[{&#x27;max_depth&#x27;: [15, 17, 20, 23, 25, 30],\n",
       "                          &#x27;min_samples_leaf&#x27;: [5, 7, 9, 12, 15, 18],\n",
       "                          &#x27;min_samples_split&#x27;: [8, 10, 12, 14, 16, 20],\n",
       "                          &#x27;n_estimators&#x27;: [8, 10, 14, 18, 20, 24]}],\n",
       "             refit=&#x27;neg_mean_absolute_error&#x27;, return_train_score=True,\n",
       "             scoring=[&#x27;r2&#x27;, &#x27;neg_mean_absolute_error&#x27;])</pre></div></div></div><div class=\"sk-parallel\"><div class=\"sk-parallel-item\"><div class=\"sk-item\"><div class=\"sk-label-container\"><div class=\"sk-label sk-toggleable\"><input class=\"sk-toggleable__control sk-hidden--visually\" id=\"sk-estimator-id-15\" type=\"checkbox\" ><label for=\"sk-estimator-id-15\" class=\"sk-toggleable__label sk-toggleable__label-arrow\">estimator: RandomForestRegressor</label><div class=\"sk-toggleable__content\"><pre>RandomForestRegressor(criterion=&#x27;absolute_error&#x27;, max_features=&#x27;sqrt&#x27;,\n",
       "                      random_state=1234)</pre></div></div></div><div class=\"sk-serial\"><div class=\"sk-item\"><div class=\"sk-estimator sk-toggleable\"><input class=\"sk-toggleable__control sk-hidden--visually\" id=\"sk-estimator-id-16\" type=\"checkbox\" ><label for=\"sk-estimator-id-16\" class=\"sk-toggleable__label sk-toggleable__label-arrow\">RandomForestRegressor</label><div class=\"sk-toggleable__content\"><pre>RandomForestRegressor(criterion=&#x27;absolute_error&#x27;, max_features=&#x27;sqrt&#x27;,\n",
       "                      random_state=1234)</pre></div></div></div></div></div></div></div></div></div></div>"
      ],
      "text/plain": [
       "GridSearchCV(cv=5,\n",
       "             estimator=RandomForestRegressor(criterion='absolute_error',\n",
       "                                             max_features='sqrt',\n",
       "                                             random_state=1234),\n",
       "             n_jobs=-1,\n",
       "             param_grid=[{'max_depth': [15, 17, 20, 23, 25, 30],\n",
       "                          'min_samples_leaf': [5, 7, 9, 12, 15, 18],\n",
       "                          'min_samples_split': [8, 10, 12, 14, 16, 20],\n",
       "                          'n_estimators': [8, 10, 14, 18, 20, 24]}],\n",
       "             refit='neg_mean_absolute_error', return_train_score=True,\n",
       "             scoring=['r2', 'neg_mean_absolute_error'])"
      ]
     },
     "execution_count": 233,
     "metadata": {},
     "output_type": "execute_result"
    }
   ],
   "source": [
    "gscv.fit(X_train_tr_scl3,y_train)"
   ]
  },
  {
   "cell_type": "code",
   "execution_count": 235,
   "id": "1763febc",
   "metadata": {},
   "outputs": [
    {
     "data": {
      "text/plain": [
       "0.8832125432848767"
      ]
     },
     "execution_count": 235,
     "metadata": {},
     "output_type": "execute_result"
    }
   ],
   "source": [
    "np.mean(gscv.cv_results_['mean_test_r2'])"
   ]
  },
  {
   "cell_type": "code",
   "execution_count": 236,
   "id": "86ab7e80",
   "metadata": {},
   "outputs": [
    {
     "data": {
      "text/plain": [
       "0.9012165003097623"
      ]
     },
     "execution_count": 236,
     "metadata": {},
     "output_type": "execute_result"
    }
   ],
   "source": [
    "np.mean(gscv.cv_results_['mean_train_r2'])"
   ]
  },
  {
   "cell_type": "code",
   "execution_count": 337,
   "id": "2c4223d8",
   "metadata": {},
   "outputs": [
    {
     "data": {
      "text/plain": [
       "-0.20087434282305577"
      ]
     },
     "execution_count": 337,
     "metadata": {},
     "output_type": "execute_result"
    }
   ],
   "source": [
    "np.mean(gscv.cv_results_['mean_train_neg_mean_absolute_error'])"
   ]
  },
  {
   "cell_type": "code",
   "execution_count": 338,
   "id": "5c4bb818",
   "metadata": {},
   "outputs": [
    {
     "data": {
      "text/plain": [
       "-0.2239173102519882"
      ]
     },
     "execution_count": 338,
     "metadata": {},
     "output_type": "execute_result"
    }
   ],
   "source": [
    "np.mean(gscv.cv_results_['mean_test_neg_mean_absolute_error'])"
   ]
  },
  {
   "cell_type": "code",
   "execution_count": 252,
   "id": "3b6e0b9c",
   "metadata": {},
   "outputs": [
    {
     "name": "stdout",
     "output_type": "stream",
     "text": [
      "The percentage difference of train and test score is: 11.47%\n"
     ]
    }
   ],
   "source": [
    "rel_diff = compute_rel_percent_diff(np.mean(gscv.cv_results_['mean_train_neg_mean_absolute_error']),\n",
    "                                    np.mean(gscv.cv_results_['mean_test_neg_mean_absolute_error']))\n",
    "print('The percentage difference of train and test score is: {:.4}%'.format(rel_diff))"
   ]
  },
  {
   "cell_type": "code",
   "execution_count": 341,
   "id": "d26ab092",
   "metadata": {},
   "outputs": [],
   "source": [
    "t_test_rf = ttest_ind(gscv.cv_results_['mean_train_neg_mean_absolute_error'],gscv.cv_results_['mean_test_neg_mean_absolute_error'])"
   ]
  },
  {
   "cell_type": "code",
   "execution_count": 342,
   "id": "946649c9",
   "metadata": {},
   "outputs": [
    {
     "data": {
      "text/plain": [
       "(35.43408890010963, 1.3688073855959807e-224, 2590.0)"
      ]
     },
     "execution_count": 342,
     "metadata": {},
     "output_type": "execute_result"
    }
   ],
   "source": [
    "t_test_rf"
   ]
  },
  {
   "cell_type": "code",
   "execution_count": 344,
   "id": "d5b25e35",
   "metadata": {},
   "outputs": [
    {
     "name": "stdout",
     "output_type": "stream",
     "text": [
      "The testing \"r2_score\" of the model is 0.9215125567405794\n",
      "The training \"r2_score\" of the model is 0.9285517984162582\n",
      "The percentage difference between train and test r2_score is 0.7581%\n",
      "The testing \"mean_absolute_error\" of the model is 0.18466862631321176\n",
      "The training \"mean_absolute_error\" of the model is 0.167226484672999\n",
      "The percentage difference between train and test mean_absolute_error is 10.43%\n"
     ]
    }
   ],
   "source": [
    "predict_model_performance(gscv,X_train_tr_scl3,X_test_tr_scl3,y_train,y_test,[r2_score,mean_absolute_error])"
   ]
  },
  {
   "cell_type": "code",
   "execution_count": 345,
   "id": "3de51954",
   "metadata": {},
   "outputs": [],
   "source": [
    "from xgboost import XGBRegressor"
   ]
  },
  {
   "cell_type": "code",
   "execution_count": 386,
   "id": "3b86dbe3",
   "metadata": {},
   "outputs": [],
   "source": [
    "xgbr = XGBRegressor()"
   ]
  },
  {
   "cell_type": "code",
   "execution_count": 387,
   "id": "db738f52",
   "metadata": {},
   "outputs": [],
   "source": [
    "cross_validation_gb = cross_validate(xgbr, X_train_tr_scl3, y_train, scoring=['r2','neg_mean_absolute_error'],\n",
    "                                  cv=cv_method, n_jobs=-1,return_train_score=True, return_estimator=True)"
   ]
  },
  {
   "cell_type": "code",
   "execution_count": 388,
   "id": "35771caf",
   "metadata": {},
   "outputs": [
    {
     "data": {
      "text/plain": [
       "0.9509593013272751"
      ]
     },
     "execution_count": 388,
     "metadata": {},
     "output_type": "execute_result"
    }
   ],
   "source": [
    "np.mean(cross_validation_gb['test_r2'])"
   ]
  },
  {
   "cell_type": "code",
   "execution_count": 389,
   "id": "7c6a47dc",
   "metadata": {},
   "outputs": [
    {
     "data": {
      "text/plain": [
       "0.997521347964079"
      ]
     },
     "execution_count": 389,
     "metadata": {},
     "output_type": "execute_result"
    }
   ],
   "source": [
    "np.mean(cross_validation_gb['train_r2'])"
   ]
  },
  {
   "cell_type": "code",
   "execution_count": 390,
   "id": "ddd95141",
   "metadata": {},
   "outputs": [
    {
     "data": {
      "text/plain": [
       "-0.0339701067267655"
      ]
     },
     "execution_count": 390,
     "metadata": {},
     "output_type": "execute_result"
    }
   ],
   "source": [
    "np.mean(cross_validation_gb['train_neg_mean_absolute_error'])"
   ]
  },
  {
   "cell_type": "code",
   "execution_count": 391,
   "id": "366e64da",
   "metadata": {},
   "outputs": [
    {
     "data": {
      "text/plain": [
       "-0.14390192420328715"
      ]
     },
     "execution_count": 391,
     "metadata": {},
     "output_type": "execute_result"
    }
   ],
   "source": [
    "np.mean(cross_validation_gb['test_neg_mean_absolute_error'])"
   ]
  },
  {
   "cell_type": "code",
   "execution_count": 392,
   "id": "d4add05f",
   "metadata": {},
   "outputs": [],
   "source": [
    "t_test_gb = ttest_ind(cross_validation_gb['train_neg_mean_absolute_error'],cross_validation_gb['test_neg_mean_absolute_error'])"
   ]
  },
  {
   "cell_type": "code",
   "execution_count": 393,
   "id": "12c24371",
   "metadata": {},
   "outputs": [
    {
     "data": {
      "text/plain": [
       "(88.82889263248664, 1.7738854308194433e-161, 198.0)"
      ]
     },
     "execution_count": 393,
     "metadata": {},
     "output_type": "execute_result"
    }
   ],
   "source": [
    "t_test_gb"
   ]
  },
  {
   "cell_type": "code",
   "execution_count": 394,
   "id": "91d1d49d",
   "metadata": {},
   "outputs": [],
   "source": [
    "xgb_params = {\"subsample\":[0.4, 0.5, 0.6, 0.8,0.7, 0.9, 1],\n",
    "              \"colsample_bytree\":[0.4, 0.5, 0.6, 0.8,0.7, 0.9, 1],\n",
    "              \"max_depth\":[2, 4, 6, 8, 10, 12, 14],\n",
    "              \"min_child_weight\":np.arange(1,100,2),\n",
    "              \"eta\":[0.1, 0.2, 0.3, 0.4, 0.5, 0.6],\n",
    "              \"n_estimators\":np.arange(1,410,10)}"
   ]
  },
  {
   "cell_type": "code",
   "execution_count": 395,
   "id": "1a96d4d2",
   "metadata": {},
   "outputs": [],
   "source": [
    "rscv_xgbr = RandomizedSearchCV(n_iter=1000,estimator=xgbr,param_distributions=xgb_params, cv=10, \n",
    "                               scoring=['r2','neg_mean_absolute_error'],n_jobs=-1,\n",
    "                              refit='neg_mean_absolute_error',\n",
    "                              return_train_score=True,random_state=1234)"
   ]
  },
  {
   "cell_type": "code",
   "execution_count": 396,
   "id": "ddab2f03",
   "metadata": {},
   "outputs": [
    {
     "data": {
      "text/html": [
       "<style>#sk-container-id-18 {color: black;background-color: white;}#sk-container-id-18 pre{padding: 0;}#sk-container-id-18 div.sk-toggleable {background-color: white;}#sk-container-id-18 label.sk-toggleable__label {cursor: pointer;display: block;width: 100%;margin-bottom: 0;padding: 0.3em;box-sizing: border-box;text-align: center;}#sk-container-id-18 label.sk-toggleable__label-arrow:before {content: \"▸\";float: left;margin-right: 0.25em;color: #696969;}#sk-container-id-18 label.sk-toggleable__label-arrow:hover:before {color: black;}#sk-container-id-18 div.sk-estimator:hover label.sk-toggleable__label-arrow:before {color: black;}#sk-container-id-18 div.sk-toggleable__content {max-height: 0;max-width: 0;overflow: hidden;text-align: left;background-color: #f0f8ff;}#sk-container-id-18 div.sk-toggleable__content pre {margin: 0.2em;color: black;border-radius: 0.25em;background-color: #f0f8ff;}#sk-container-id-18 input.sk-toggleable__control:checked~div.sk-toggleable__content {max-height: 200px;max-width: 100%;overflow: auto;}#sk-container-id-18 input.sk-toggleable__control:checked~label.sk-toggleable__label-arrow:before {content: \"▾\";}#sk-container-id-18 div.sk-estimator input.sk-toggleable__control:checked~label.sk-toggleable__label {background-color: #d4ebff;}#sk-container-id-18 div.sk-label input.sk-toggleable__control:checked~label.sk-toggleable__label {background-color: #d4ebff;}#sk-container-id-18 input.sk-hidden--visually {border: 0;clip: rect(1px 1px 1px 1px);clip: rect(1px, 1px, 1px, 1px);height: 1px;margin: -1px;overflow: hidden;padding: 0;position: absolute;width: 1px;}#sk-container-id-18 div.sk-estimator {font-family: monospace;background-color: #f0f8ff;border: 1px dotted black;border-radius: 0.25em;box-sizing: border-box;margin-bottom: 0.5em;}#sk-container-id-18 div.sk-estimator:hover {background-color: #d4ebff;}#sk-container-id-18 div.sk-parallel-item::after {content: \"\";width: 100%;border-bottom: 1px solid gray;flex-grow: 1;}#sk-container-id-18 div.sk-label:hover label.sk-toggleable__label {background-color: #d4ebff;}#sk-container-id-18 div.sk-serial::before {content: \"\";position: absolute;border-left: 1px solid gray;box-sizing: border-box;top: 0;bottom: 0;left: 50%;z-index: 0;}#sk-container-id-18 div.sk-serial {display: flex;flex-direction: column;align-items: center;background-color: white;padding-right: 0.2em;padding-left: 0.2em;position: relative;}#sk-container-id-18 div.sk-item {position: relative;z-index: 1;}#sk-container-id-18 div.sk-parallel {display: flex;align-items: stretch;justify-content: center;background-color: white;position: relative;}#sk-container-id-18 div.sk-item::before, #sk-container-id-18 div.sk-parallel-item::before {content: \"\";position: absolute;border-left: 1px solid gray;box-sizing: border-box;top: 0;bottom: 0;left: 50%;z-index: -1;}#sk-container-id-18 div.sk-parallel-item {display: flex;flex-direction: column;z-index: 1;position: relative;background-color: white;}#sk-container-id-18 div.sk-parallel-item:first-child::after {align-self: flex-end;width: 50%;}#sk-container-id-18 div.sk-parallel-item:last-child::after {align-self: flex-start;width: 50%;}#sk-container-id-18 div.sk-parallel-item:only-child::after {width: 0;}#sk-container-id-18 div.sk-dashed-wrapped {border: 1px dashed gray;margin: 0 0.4em 0.5em 0.4em;box-sizing: border-box;padding-bottom: 0.4em;background-color: white;}#sk-container-id-18 div.sk-label label {font-family: monospace;font-weight: bold;display: inline-block;line-height: 1.2em;}#sk-container-id-18 div.sk-label-container {text-align: center;}#sk-container-id-18 div.sk-container {/* jupyter's `normalize.less` sets `[hidden] { display: none; }` but bootstrap.min.css set `[hidden] { display: none !important; }` so we also need the `!important` here to be able to override the default hidden behavior on the sphinx rendered scikit-learn.org. See: https://github.com/scikit-learn/scikit-learn/issues/21755 */display: inline-block !important;position: relative;}#sk-container-id-18 div.sk-text-repr-fallback {display: none;}</style><div id=\"sk-container-id-18\" class=\"sk-top-container\"><div class=\"sk-text-repr-fallback\"><pre>RandomizedSearchCV(cv=10,\n",
       "                   estimator=XGBRegressor(base_score=None, booster=None,\n",
       "                                          callbacks=None,\n",
       "                                          colsample_bylevel=None,\n",
       "                                          colsample_bynode=None,\n",
       "                                          colsample_bytree=None,\n",
       "                                          early_stopping_rounds=None,\n",
       "                                          enable_categorical=False,\n",
       "                                          eval_metric=None, feature_types=None,\n",
       "                                          gamma=None, gpu_id=None,\n",
       "                                          grow_policy=None,\n",
       "                                          importance_type=None,\n",
       "                                          interaction_constraints=None,\n",
       "                                          learning_rate...\n",
       "       69, 71, 73, 75, 77, 79, 81, 83, 85, 87, 89, 91, 93, 95, 97, 99]),\n",
       "                                        &#x27;n_estimators&#x27;: array([  1,  11,  21,  31,  41,  51,  61,  71,  81,  91, 101, 111, 121,\n",
       "       131, 141, 151, 161, 171, 181, 191, 201, 211, 221, 231, 241, 251,\n",
       "       261, 271, 281, 291, 301, 311, 321, 331, 341, 351, 361, 371, 381,\n",
       "       391, 401]),\n",
       "                                        &#x27;subsample&#x27;: [0.4, 0.5, 0.6, 0.8, 0.7,\n",
       "                                                      0.9, 1]},\n",
       "                   random_state=1234, refit=&#x27;neg_mean_absolute_error&#x27;,\n",
       "                   return_train_score=True,\n",
       "                   scoring=[&#x27;r2&#x27;, &#x27;neg_mean_absolute_error&#x27;])</pre><b>In a Jupyter environment, please rerun this cell to show the HTML representation or trust the notebook. <br />On GitHub, the HTML representation is unable to render, please try loading this page with nbviewer.org.</b></div><div class=\"sk-container\" hidden><div class=\"sk-item sk-dashed-wrapped\"><div class=\"sk-label-container\"><div class=\"sk-label sk-toggleable\"><input class=\"sk-toggleable__control sk-hidden--visually\" id=\"sk-estimator-id-40\" type=\"checkbox\" ><label for=\"sk-estimator-id-40\" class=\"sk-toggleable__label sk-toggleable__label-arrow\">RandomizedSearchCV</label><div class=\"sk-toggleable__content\"><pre>RandomizedSearchCV(cv=10,\n",
       "                   estimator=XGBRegressor(base_score=None, booster=None,\n",
       "                                          callbacks=None,\n",
       "                                          colsample_bylevel=None,\n",
       "                                          colsample_bynode=None,\n",
       "                                          colsample_bytree=None,\n",
       "                                          early_stopping_rounds=None,\n",
       "                                          enable_categorical=False,\n",
       "                                          eval_metric=None, feature_types=None,\n",
       "                                          gamma=None, gpu_id=None,\n",
       "                                          grow_policy=None,\n",
       "                                          importance_type=None,\n",
       "                                          interaction_constraints=None,\n",
       "                                          learning_rate...\n",
       "       69, 71, 73, 75, 77, 79, 81, 83, 85, 87, 89, 91, 93, 95, 97, 99]),\n",
       "                                        &#x27;n_estimators&#x27;: array([  1,  11,  21,  31,  41,  51,  61,  71,  81,  91, 101, 111, 121,\n",
       "       131, 141, 151, 161, 171, 181, 191, 201, 211, 221, 231, 241, 251,\n",
       "       261, 271, 281, 291, 301, 311, 321, 331, 341, 351, 361, 371, 381,\n",
       "       391, 401]),\n",
       "                                        &#x27;subsample&#x27;: [0.4, 0.5, 0.6, 0.8, 0.7,\n",
       "                                                      0.9, 1]},\n",
       "                   random_state=1234, refit=&#x27;neg_mean_absolute_error&#x27;,\n",
       "                   return_train_score=True,\n",
       "                   scoring=[&#x27;r2&#x27;, &#x27;neg_mean_absolute_error&#x27;])</pre></div></div></div><div class=\"sk-parallel\"><div class=\"sk-parallel-item\"><div class=\"sk-item\"><div class=\"sk-label-container\"><div class=\"sk-label sk-toggleable\"><input class=\"sk-toggleable__control sk-hidden--visually\" id=\"sk-estimator-id-41\" type=\"checkbox\" ><label for=\"sk-estimator-id-41\" class=\"sk-toggleable__label sk-toggleable__label-arrow\">estimator: XGBRegressor</label><div class=\"sk-toggleable__content\"><pre>XGBRegressor(base_score=None, booster=None, callbacks=None,\n",
       "             colsample_bylevel=None, colsample_bynode=None,\n",
       "             colsample_bytree=None, early_stopping_rounds=None,\n",
       "             enable_categorical=False, eval_metric=None, feature_types=None,\n",
       "             gamma=None, gpu_id=None, grow_policy=None, importance_type=None,\n",
       "             interaction_constraints=None, learning_rate=None, max_bin=None,\n",
       "             max_cat_threshold=None, max_cat_to_onehot=None,\n",
       "             max_delta_step=None, max_depth=None, max_leaves=None,\n",
       "             min_child_weight=None, missing=nan, monotone_constraints=None,\n",
       "             n_estimators=100, n_jobs=None, num_parallel_tree=None,\n",
       "             predictor=None, random_state=None, ...)</pre></div></div></div><div class=\"sk-serial\"><div class=\"sk-item\"><div class=\"sk-estimator sk-toggleable\"><input class=\"sk-toggleable__control sk-hidden--visually\" id=\"sk-estimator-id-42\" type=\"checkbox\" ><label for=\"sk-estimator-id-42\" class=\"sk-toggleable__label sk-toggleable__label-arrow\">XGBRegressor</label><div class=\"sk-toggleable__content\"><pre>XGBRegressor(base_score=None, booster=None, callbacks=None,\n",
       "             colsample_bylevel=None, colsample_bynode=None,\n",
       "             colsample_bytree=None, early_stopping_rounds=None,\n",
       "             enable_categorical=False, eval_metric=None, feature_types=None,\n",
       "             gamma=None, gpu_id=None, grow_policy=None, importance_type=None,\n",
       "             interaction_constraints=None, learning_rate=None, max_bin=None,\n",
       "             max_cat_threshold=None, max_cat_to_onehot=None,\n",
       "             max_delta_step=None, max_depth=None, max_leaves=None,\n",
       "             min_child_weight=None, missing=nan, monotone_constraints=None,\n",
       "             n_estimators=100, n_jobs=None, num_parallel_tree=None,\n",
       "             predictor=None, random_state=None, ...)</pre></div></div></div></div></div></div></div></div></div></div>"
      ],
      "text/plain": [
       "RandomizedSearchCV(cv=10,\n",
       "                   estimator=XGBRegressor(base_score=None, booster=None,\n",
       "                                          callbacks=None,\n",
       "                                          colsample_bylevel=None,\n",
       "                                          colsample_bynode=None,\n",
       "                                          colsample_bytree=None,\n",
       "                                          early_stopping_rounds=None,\n",
       "                                          enable_categorical=False,\n",
       "                                          eval_metric=None, feature_types=None,\n",
       "                                          gamma=None, gpu_id=None,\n",
       "                                          grow_policy=None,\n",
       "                                          importance_type=None,\n",
       "                                          interaction_constraints=None,\n",
       "                                          learning_rate...\n",
       "       69, 71, 73, 75, 77, 79, 81, 83, 85, 87, 89, 91, 93, 95, 97, 99]),\n",
       "                                        'n_estimators': array([  1,  11,  21,  31,  41,  51,  61,  71,  81,  91, 101, 111, 121,\n",
       "       131, 141, 151, 161, 171, 181, 191, 201, 211, 221, 231, 241, 251,\n",
       "       261, 271, 281, 291, 301, 311, 321, 331, 341, 351, 361, 371, 381,\n",
       "       391, 401]),\n",
       "                                        'subsample': [0.4, 0.5, 0.6, 0.8, 0.7,\n",
       "                                                      0.9, 1]},\n",
       "                   random_state=1234, refit='neg_mean_absolute_error',\n",
       "                   return_train_score=True,\n",
       "                   scoring=['r2', 'neg_mean_absolute_error'])"
      ]
     },
     "execution_count": 396,
     "metadata": {},
     "output_type": "execute_result"
    }
   ],
   "source": [
    "rscv_xgbr.fit(X_train_tr_scl3, y_train)"
   ]
  },
  {
   "cell_type": "code",
   "execution_count": 397,
   "id": "5676aa07",
   "metadata": {},
   "outputs": [
    {
     "data": {
      "text/plain": [
       "{'subsample': 0.8,\n",
       " 'n_estimators': 121,\n",
       " 'min_child_weight': 3,\n",
       " 'max_depth': 10,\n",
       " 'eta': 0.1,\n",
       " 'colsample_bytree': 0.9}"
      ]
     },
     "execution_count": 397,
     "metadata": {},
     "output_type": "execute_result"
    }
   ],
   "source": [
    "rscv_xgbr.best_params_"
   ]
  },
  {
   "cell_type": "code",
   "execution_count": 373,
   "id": "3f515302",
   "metadata": {},
   "outputs": [
    {
     "data": {
      "text/plain": [
       "{'subsample': 0.8,\n",
       " 'n_estimators': 361,\n",
       " 'min_child_weight': 21,\n",
       " 'max_depth': 80,\n",
       " 'eta': 0.2,\n",
       " 'colsample_bytree': 0.30000000000000004}"
      ]
     },
     "execution_count": 373,
     "metadata": {},
     "output_type": "execute_result"
    }
   ],
   "source": [
    "rscv_xgbr.best_params_"
   ]
  },
  {
   "cell_type": "code",
   "execution_count": 403,
   "id": "a986990c",
   "metadata": {},
   "outputs": [
    {
     "data": {
      "text/plain": [
       "-1.1649531831470272"
      ]
     },
     "execution_count": 403,
     "metadata": {},
     "output_type": "execute_result"
    }
   ],
   "source": [
    "np.mean(rscv_xgbr.cv_results_['mean_train_r2'])"
   ]
  },
  {
   "cell_type": "code",
   "execution_count": 399,
   "id": "df3dd74b",
   "metadata": {},
   "outputs": [
    {
     "data": {
      "text/plain": [
       "-1.2224790667805332"
      ]
     },
     "execution_count": 399,
     "metadata": {},
     "output_type": "execute_result"
    }
   ],
   "source": [
    "np.mean(rscv_xgbr.cv_results_['mean_test_r2'])"
   ]
  },
  {
   "cell_type": "code",
   "execution_count": 400,
   "id": "407ea1b8",
   "metadata": {},
   "outputs": [
    {
     "data": {
      "text/plain": [
       "-0.3442765165681006"
      ]
     },
     "execution_count": 400,
     "metadata": {},
     "output_type": "execute_result"
    }
   ],
   "source": [
    "np.mean(rscv_xgbr.cv_results_['mean_train_neg_mean_absolute_error'])"
   ]
  },
  {
   "cell_type": "code",
   "execution_count": 401,
   "id": "43f5a4ca",
   "metadata": {},
   "outputs": [
    {
     "data": {
      "text/plain": [
       "-0.3985173322074178"
      ]
     },
     "execution_count": 401,
     "metadata": {},
     "output_type": "execute_result"
    }
   ],
   "source": [
    "np.mean(rscv_xgbr.cv_results_['mean_test_neg_mean_absolute_error'])"
   ]
  },
  {
   "cell_type": "code",
   "execution_count": 364,
   "id": "6cbde3f6",
   "metadata": {},
   "outputs": [],
   "source": [
    "t_test_gb_rsc = ttest_ind(rscv_xgbr.cv_results_['mean_train_neg_mean_absolute_error'],rscv_xgbr.cv_results_['mean_test_neg_mean_absolute_error'])"
   ]
  },
  {
   "cell_type": "code",
   "execution_count": 365,
   "id": "e077524a",
   "metadata": {},
   "outputs": [
    {
     "data": {
      "text/plain": [
       "(0.045179043294929874, 0.9641197915575865, 58.0)"
      ]
     },
     "execution_count": 365,
     "metadata": {},
     "output_type": "execute_result"
    }
   ],
   "source": [
    "t_test_gb_rsc"
   ]
  },
  {
   "cell_type": "code",
   "execution_count": 404,
   "id": "5d6ad014",
   "metadata": {},
   "outputs": [
    {
     "name": "stdout",
     "output_type": "stream",
     "text": [
      "The testing \"r2_score\" of the model is 0.965005945058314\n",
      "The training \"r2_score\" of the model is 0.9963076193035096\n",
      "The percentage difference between train and test r2_score is 3.142%\n",
      "The testing \"mean_absolute_error\" of the model is 0.12506254842925557\n",
      "The training \"mean_absolute_error\" of the model is 0.04372358471104685\n",
      "The percentage difference between train and test mean_absolute_error is 186.0%\n"
     ]
    }
   ],
   "source": [
    "predict_model_performance(rscv_xgbr,X_train_tr_scl3,X_test_tr_scl3,y_train,y_test,[r2_score,mean_absolute_error])"
   ]
  }
 ],
 "metadata": {
  "kernelspec": {
   "display_name": "env_practice",
   "language": "python",
   "name": "env_practice"
  },
  "language_info": {
   "codemirror_mode": {
    "name": "ipython",
    "version": 3
   },
   "file_extension": ".py",
   "mimetype": "text/x-python",
   "name": "python",
   "nbconvert_exporter": "python",
   "pygments_lexer": "ipython3",
   "version": "3.10.6"
  }
 },
 "nbformat": 4,
 "nbformat_minor": 5
}
