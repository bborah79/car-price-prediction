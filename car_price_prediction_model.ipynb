{
 "cells": [
  {
   "cell_type": "code",
   "execution_count": 1,
   "id": "8da1e766",
   "metadata": {},
   "outputs": [],
   "source": [
    "import pandas as pd\n",
    "import numpy as np\n",
    "import re\n",
    "import seaborn as sns\n",
    "import matplotlib.pyplot as plt"
   ]
  },
  {
   "cell_type": "code",
   "execution_count": 2,
   "id": "c21c04f2",
   "metadata": {},
   "outputs": [],
   "source": [
    "df = pd.read_csv('./car_details_v4.csv')"
   ]
  },
  {
   "cell_type": "code",
   "execution_count": 3,
   "id": "58e8568b",
   "metadata": {},
   "outputs": [
    {
     "data": {
      "text/plain": [
       "Index(['Make', 'Model', 'Price', 'Year', 'Kilometer', 'Fuel Type',\n",
       "       'Transmission', 'Location', 'Color', 'Owner', 'Seller Type', 'Engine',\n",
       "       'Max Power', 'Max Torque', 'Drivetrain', 'Length', 'Width', 'Height',\n",
       "       'Seating Capacity', 'Fuel Tank Capacity'],\n",
       "      dtype='object')"
      ]
     },
     "execution_count": 3,
     "metadata": {},
     "output_type": "execute_result"
    }
   ],
   "source": [
    "df.columns"
   ]
  },
  {
   "cell_type": "code",
   "execution_count": 4,
   "id": "e36882a2",
   "metadata": {},
   "outputs": [],
   "source": [
    "cols = ['Make', 'Model', 'Price', 'Year', 'Kilometer', 'Fuel_type','Transmission', 'Location', 'Color',\n",
    "       'Owner', 'Seller_type', 'Engine', 'Max_power', 'Max_torque', 'Drivetrain','Length', 'Width', 'Height',\n",
    "       'Seating_capacity', 'Fuel_tank_capacity']"
   ]
  },
  {
   "cell_type": "code",
   "execution_count": 5,
   "id": "93177fcd",
   "metadata": {},
   "outputs": [],
   "source": [
    "df.columns = cols"
   ]
  },
  {
   "cell_type": "code",
   "execution_count": 6,
   "id": "148e800f",
   "metadata": {},
   "outputs": [
    {
     "data": {
      "text/html": [
       "<div>\n",
       "<style scoped>\n",
       "    .dataframe tbody tr th:only-of-type {\n",
       "        vertical-align: middle;\n",
       "    }\n",
       "\n",
       "    .dataframe tbody tr th {\n",
       "        vertical-align: top;\n",
       "    }\n",
       "\n",
       "    .dataframe thead th {\n",
       "        text-align: right;\n",
       "    }\n",
       "</style>\n",
       "<table border=\"1\" class=\"dataframe\">\n",
       "  <thead>\n",
       "    <tr style=\"text-align: right;\">\n",
       "      <th></th>\n",
       "      <th>Make</th>\n",
       "      <th>Model</th>\n",
       "      <th>Price</th>\n",
       "      <th>Year</th>\n",
       "      <th>Kilometer</th>\n",
       "      <th>Fuel_type</th>\n",
       "      <th>Transmission</th>\n",
       "      <th>Location</th>\n",
       "      <th>Color</th>\n",
       "      <th>Owner</th>\n",
       "      <th>Seller_type</th>\n",
       "      <th>Engine</th>\n",
       "      <th>Max_power</th>\n",
       "      <th>Max_torque</th>\n",
       "      <th>Drivetrain</th>\n",
       "      <th>Length</th>\n",
       "      <th>Width</th>\n",
       "      <th>Height</th>\n",
       "      <th>Seating_capacity</th>\n",
       "      <th>Fuel_tank_capacity</th>\n",
       "    </tr>\n",
       "  </thead>\n",
       "  <tbody>\n",
       "    <tr>\n",
       "      <th>0</th>\n",
       "      <td>Honda</td>\n",
       "      <td>Amaze 1.2 VX i-VTEC</td>\n",
       "      <td>505000</td>\n",
       "      <td>2017</td>\n",
       "      <td>87150</td>\n",
       "      <td>Petrol</td>\n",
       "      <td>Manual</td>\n",
       "      <td>Pune</td>\n",
       "      <td>Grey</td>\n",
       "      <td>First</td>\n",
       "      <td>Corporate</td>\n",
       "      <td>1198 cc</td>\n",
       "      <td>87 bhp @ 6000 rpm</td>\n",
       "      <td>109 Nm @ 4500 rpm</td>\n",
       "      <td>FWD</td>\n",
       "      <td>3990.0</td>\n",
       "      <td>1680.0</td>\n",
       "      <td>1505.0</td>\n",
       "      <td>5.0</td>\n",
       "      <td>35.0</td>\n",
       "    </tr>\n",
       "    <tr>\n",
       "      <th>1</th>\n",
       "      <td>Maruti Suzuki</td>\n",
       "      <td>Swift DZire VDI</td>\n",
       "      <td>450000</td>\n",
       "      <td>2014</td>\n",
       "      <td>75000</td>\n",
       "      <td>Diesel</td>\n",
       "      <td>Manual</td>\n",
       "      <td>Ludhiana</td>\n",
       "      <td>White</td>\n",
       "      <td>Second</td>\n",
       "      <td>Individual</td>\n",
       "      <td>1248 cc</td>\n",
       "      <td>74 bhp @ 4000 rpm</td>\n",
       "      <td>190 Nm @ 2000 rpm</td>\n",
       "      <td>FWD</td>\n",
       "      <td>3995.0</td>\n",
       "      <td>1695.0</td>\n",
       "      <td>1555.0</td>\n",
       "      <td>5.0</td>\n",
       "      <td>42.0</td>\n",
       "    </tr>\n",
       "    <tr>\n",
       "      <th>2</th>\n",
       "      <td>Hyundai</td>\n",
       "      <td>i10 Magna 1.2 Kappa2</td>\n",
       "      <td>220000</td>\n",
       "      <td>2011</td>\n",
       "      <td>67000</td>\n",
       "      <td>Petrol</td>\n",
       "      <td>Manual</td>\n",
       "      <td>Lucknow</td>\n",
       "      <td>Maroon</td>\n",
       "      <td>First</td>\n",
       "      <td>Individual</td>\n",
       "      <td>1197 cc</td>\n",
       "      <td>79 bhp @ 6000 rpm</td>\n",
       "      <td>112.7619 Nm @ 4000 rpm</td>\n",
       "      <td>FWD</td>\n",
       "      <td>3585.0</td>\n",
       "      <td>1595.0</td>\n",
       "      <td>1550.0</td>\n",
       "      <td>5.0</td>\n",
       "      <td>35.0</td>\n",
       "    </tr>\n",
       "    <tr>\n",
       "      <th>3</th>\n",
       "      <td>Toyota</td>\n",
       "      <td>Glanza G</td>\n",
       "      <td>799000</td>\n",
       "      <td>2019</td>\n",
       "      <td>37500</td>\n",
       "      <td>Petrol</td>\n",
       "      <td>Manual</td>\n",
       "      <td>Mangalore</td>\n",
       "      <td>Red</td>\n",
       "      <td>First</td>\n",
       "      <td>Individual</td>\n",
       "      <td>1197 cc</td>\n",
       "      <td>82 bhp @ 6000 rpm</td>\n",
       "      <td>113 Nm @ 4200 rpm</td>\n",
       "      <td>FWD</td>\n",
       "      <td>3995.0</td>\n",
       "      <td>1745.0</td>\n",
       "      <td>1510.0</td>\n",
       "      <td>5.0</td>\n",
       "      <td>37.0</td>\n",
       "    </tr>\n",
       "    <tr>\n",
       "      <th>4</th>\n",
       "      <td>Toyota</td>\n",
       "      <td>Innova 2.4 VX 7 STR [2016-2020]</td>\n",
       "      <td>1950000</td>\n",
       "      <td>2018</td>\n",
       "      <td>69000</td>\n",
       "      <td>Diesel</td>\n",
       "      <td>Manual</td>\n",
       "      <td>Mumbai</td>\n",
       "      <td>Grey</td>\n",
       "      <td>First</td>\n",
       "      <td>Individual</td>\n",
       "      <td>2393 cc</td>\n",
       "      <td>148 bhp @ 3400 rpm</td>\n",
       "      <td>343 Nm @ 1400 rpm</td>\n",
       "      <td>RWD</td>\n",
       "      <td>4735.0</td>\n",
       "      <td>1830.0</td>\n",
       "      <td>1795.0</td>\n",
       "      <td>7.0</td>\n",
       "      <td>55.0</td>\n",
       "    </tr>\n",
       "  </tbody>\n",
       "</table>\n",
       "</div>"
      ],
      "text/plain": [
       "            Make                            Model    Price  Year  Kilometer  \\\n",
       "0          Honda              Amaze 1.2 VX i-VTEC   505000  2017      87150   \n",
       "1  Maruti Suzuki                  Swift DZire VDI   450000  2014      75000   \n",
       "2        Hyundai             i10 Magna 1.2 Kappa2   220000  2011      67000   \n",
       "3         Toyota                         Glanza G   799000  2019      37500   \n",
       "4         Toyota  Innova 2.4 VX 7 STR [2016-2020]  1950000  2018      69000   \n",
       "\n",
       "  Fuel_type Transmission   Location   Color   Owner Seller_type   Engine  \\\n",
       "0    Petrol       Manual       Pune    Grey   First   Corporate  1198 cc   \n",
       "1    Diesel       Manual   Ludhiana   White  Second  Individual  1248 cc   \n",
       "2    Petrol       Manual    Lucknow  Maroon   First  Individual  1197 cc   \n",
       "3    Petrol       Manual  Mangalore     Red   First  Individual  1197 cc   \n",
       "4    Diesel       Manual     Mumbai    Grey   First  Individual  2393 cc   \n",
       "\n",
       "            Max_power              Max_torque Drivetrain  Length   Width  \\\n",
       "0   87 bhp @ 6000 rpm       109 Nm @ 4500 rpm        FWD  3990.0  1680.0   \n",
       "1   74 bhp @ 4000 rpm       190 Nm @ 2000 rpm        FWD  3995.0  1695.0   \n",
       "2   79 bhp @ 6000 rpm  112.7619 Nm @ 4000 rpm        FWD  3585.0  1595.0   \n",
       "3   82 bhp @ 6000 rpm       113 Nm @ 4200 rpm        FWD  3995.0  1745.0   \n",
       "4  148 bhp @ 3400 rpm       343 Nm @ 1400 rpm        RWD  4735.0  1830.0   \n",
       "\n",
       "   Height  Seating_capacity  Fuel_tank_capacity  \n",
       "0  1505.0               5.0                35.0  \n",
       "1  1555.0               5.0                42.0  \n",
       "2  1550.0               5.0                35.0  \n",
       "3  1510.0               5.0                37.0  \n",
       "4  1795.0               7.0                55.0  "
      ]
     },
     "execution_count": 6,
     "metadata": {},
     "output_type": "execute_result"
    }
   ],
   "source": [
    "df.head()"
   ]
  },
  {
   "cell_type": "code",
   "execution_count": 7,
   "id": "8ead7d34",
   "metadata": {},
   "outputs": [
    {
     "data": {
      "text/html": [
       "<div>\n",
       "<style scoped>\n",
       "    .dataframe tbody tr th:only-of-type {\n",
       "        vertical-align: middle;\n",
       "    }\n",
       "\n",
       "    .dataframe tbody tr th {\n",
       "        vertical-align: top;\n",
       "    }\n",
       "\n",
       "    .dataframe thead th {\n",
       "        text-align: right;\n",
       "    }\n",
       "</style>\n",
       "<table border=\"1\" class=\"dataframe\">\n",
       "  <thead>\n",
       "    <tr style=\"text-align: right;\">\n",
       "      <th></th>\n",
       "      <th>count</th>\n",
       "      <th>mean</th>\n",
       "      <th>std</th>\n",
       "      <th>min</th>\n",
       "      <th>25%</th>\n",
       "      <th>50%</th>\n",
       "      <th>75%</th>\n",
       "      <th>max</th>\n",
       "    </tr>\n",
       "  </thead>\n",
       "  <tbody>\n",
       "    <tr>\n",
       "      <th>Price</th>\n",
       "      <td>2059.0</td>\n",
       "      <td>1.702992e+06</td>\n",
       "      <td>2.419881e+06</td>\n",
       "      <td>49000.0</td>\n",
       "      <td>484999.00</td>\n",
       "      <td>825000.0</td>\n",
       "      <td>1925000.0</td>\n",
       "      <td>35000000.0</td>\n",
       "    </tr>\n",
       "    <tr>\n",
       "      <th>Year</th>\n",
       "      <td>2059.0</td>\n",
       "      <td>2.016425e+03</td>\n",
       "      <td>3.363564e+00</td>\n",
       "      <td>1988.0</td>\n",
       "      <td>2014.00</td>\n",
       "      <td>2017.0</td>\n",
       "      <td>2019.0</td>\n",
       "      <td>2022.0</td>\n",
       "    </tr>\n",
       "    <tr>\n",
       "      <th>Kilometer</th>\n",
       "      <td>2059.0</td>\n",
       "      <td>5.422471e+04</td>\n",
       "      <td>5.736172e+04</td>\n",
       "      <td>0.0</td>\n",
       "      <td>29000.00</td>\n",
       "      <td>50000.0</td>\n",
       "      <td>72000.0</td>\n",
       "      <td>2000000.0</td>\n",
       "    </tr>\n",
       "    <tr>\n",
       "      <th>Length</th>\n",
       "      <td>1995.0</td>\n",
       "      <td>4.280861e+03</td>\n",
       "      <td>4.424585e+02</td>\n",
       "      <td>3099.0</td>\n",
       "      <td>3985.00</td>\n",
       "      <td>4370.0</td>\n",
       "      <td>4629.0</td>\n",
       "      <td>5569.0</td>\n",
       "    </tr>\n",
       "    <tr>\n",
       "      <th>Width</th>\n",
       "      <td>1995.0</td>\n",
       "      <td>1.767992e+03</td>\n",
       "      <td>1.352658e+02</td>\n",
       "      <td>1475.0</td>\n",
       "      <td>1695.00</td>\n",
       "      <td>1770.0</td>\n",
       "      <td>1831.5</td>\n",
       "      <td>2220.0</td>\n",
       "    </tr>\n",
       "    <tr>\n",
       "      <th>Height</th>\n",
       "      <td>1995.0</td>\n",
       "      <td>1.591735e+03</td>\n",
       "      <td>1.360740e+02</td>\n",
       "      <td>1165.0</td>\n",
       "      <td>1485.00</td>\n",
       "      <td>1545.0</td>\n",
       "      <td>1675.0</td>\n",
       "      <td>1995.0</td>\n",
       "    </tr>\n",
       "    <tr>\n",
       "      <th>Seating_capacity</th>\n",
       "      <td>1995.0</td>\n",
       "      <td>5.306266e+00</td>\n",
       "      <td>8.221701e-01</td>\n",
       "      <td>2.0</td>\n",
       "      <td>5.00</td>\n",
       "      <td>5.0</td>\n",
       "      <td>5.0</td>\n",
       "      <td>8.0</td>\n",
       "    </tr>\n",
       "    <tr>\n",
       "      <th>Fuel_tank_capacity</th>\n",
       "      <td>1946.0</td>\n",
       "      <td>5.200221e+01</td>\n",
       "      <td>1.511020e+01</td>\n",
       "      <td>15.0</td>\n",
       "      <td>41.25</td>\n",
       "      <td>50.0</td>\n",
       "      <td>60.0</td>\n",
       "      <td>105.0</td>\n",
       "    </tr>\n",
       "  </tbody>\n",
       "</table>\n",
       "</div>"
      ],
      "text/plain": [
       "                     count          mean           std      min        25%  \\\n",
       "Price               2059.0  1.702992e+06  2.419881e+06  49000.0  484999.00   \n",
       "Year                2059.0  2.016425e+03  3.363564e+00   1988.0    2014.00   \n",
       "Kilometer           2059.0  5.422471e+04  5.736172e+04      0.0   29000.00   \n",
       "Length              1995.0  4.280861e+03  4.424585e+02   3099.0    3985.00   \n",
       "Width               1995.0  1.767992e+03  1.352658e+02   1475.0    1695.00   \n",
       "Height              1995.0  1.591735e+03  1.360740e+02   1165.0    1485.00   \n",
       "Seating_capacity    1995.0  5.306266e+00  8.221701e-01      2.0       5.00   \n",
       "Fuel_tank_capacity  1946.0  5.200221e+01  1.511020e+01     15.0      41.25   \n",
       "\n",
       "                         50%        75%         max  \n",
       "Price               825000.0  1925000.0  35000000.0  \n",
       "Year                  2017.0     2019.0      2022.0  \n",
       "Kilometer            50000.0    72000.0   2000000.0  \n",
       "Length                4370.0     4629.0      5569.0  \n",
       "Width                 1770.0     1831.5      2220.0  \n",
       "Height                1545.0     1675.0      1995.0  \n",
       "Seating_capacity         5.0        5.0         8.0  \n",
       "Fuel_tank_capacity      50.0       60.0       105.0  "
      ]
     },
     "execution_count": 7,
     "metadata": {},
     "output_type": "execute_result"
    }
   ],
   "source": [
    "df.describe(include=np.number).T"
   ]
  },
  {
   "cell_type": "code",
   "execution_count": 8,
   "id": "3e78851f",
   "metadata": {},
   "outputs": [
    {
     "data": {
      "text/html": [
       "<div>\n",
       "<style scoped>\n",
       "    .dataframe tbody tr th:only-of-type {\n",
       "        vertical-align: middle;\n",
       "    }\n",
       "\n",
       "    .dataframe tbody tr th {\n",
       "        vertical-align: top;\n",
       "    }\n",
       "\n",
       "    .dataframe thead th {\n",
       "        text-align: right;\n",
       "    }\n",
       "</style>\n",
       "<table border=\"1\" class=\"dataframe\">\n",
       "  <thead>\n",
       "    <tr style=\"text-align: right;\">\n",
       "      <th></th>\n",
       "      <th>count</th>\n",
       "      <th>unique</th>\n",
       "      <th>top</th>\n",
       "      <th>freq</th>\n",
       "    </tr>\n",
       "  </thead>\n",
       "  <tbody>\n",
       "    <tr>\n",
       "      <th>Make</th>\n",
       "      <td>2059</td>\n",
       "      <td>33</td>\n",
       "      <td>Maruti Suzuki</td>\n",
       "      <td>440</td>\n",
       "    </tr>\n",
       "    <tr>\n",
       "      <th>Model</th>\n",
       "      <td>2059</td>\n",
       "      <td>1050</td>\n",
       "      <td>X1 sDrive20d xLine</td>\n",
       "      <td>15</td>\n",
       "    </tr>\n",
       "    <tr>\n",
       "      <th>Fuel_type</th>\n",
       "      <td>2059</td>\n",
       "      <td>9</td>\n",
       "      <td>Diesel</td>\n",
       "      <td>1049</td>\n",
       "    </tr>\n",
       "    <tr>\n",
       "      <th>Transmission</th>\n",
       "      <td>2059</td>\n",
       "      <td>2</td>\n",
       "      <td>Manual</td>\n",
       "      <td>1133</td>\n",
       "    </tr>\n",
       "    <tr>\n",
       "      <th>Location</th>\n",
       "      <td>2059</td>\n",
       "      <td>77</td>\n",
       "      <td>Mumbai</td>\n",
       "      <td>342</td>\n",
       "    </tr>\n",
       "    <tr>\n",
       "      <th>Color</th>\n",
       "      <td>2059</td>\n",
       "      <td>17</td>\n",
       "      <td>White</td>\n",
       "      <td>802</td>\n",
       "    </tr>\n",
       "    <tr>\n",
       "      <th>Owner</th>\n",
       "      <td>2059</td>\n",
       "      <td>6</td>\n",
       "      <td>First</td>\n",
       "      <td>1619</td>\n",
       "    </tr>\n",
       "    <tr>\n",
       "      <th>Seller_type</th>\n",
       "      <td>2059</td>\n",
       "      <td>3</td>\n",
       "      <td>Individual</td>\n",
       "      <td>1997</td>\n",
       "    </tr>\n",
       "    <tr>\n",
       "      <th>Engine</th>\n",
       "      <td>1979</td>\n",
       "      <td>108</td>\n",
       "      <td>1197 cc</td>\n",
       "      <td>231</td>\n",
       "    </tr>\n",
       "    <tr>\n",
       "      <th>Max_power</th>\n",
       "      <td>1979</td>\n",
       "      <td>335</td>\n",
       "      <td>89 bhp @ 4000 rpm</td>\n",
       "      <td>90</td>\n",
       "    </tr>\n",
       "    <tr>\n",
       "      <th>Max_torque</th>\n",
       "      <td>1979</td>\n",
       "      <td>290</td>\n",
       "      <td>200 Nm @ 1750 rpm</td>\n",
       "      <td>90</td>\n",
       "    </tr>\n",
       "    <tr>\n",
       "      <th>Drivetrain</th>\n",
       "      <td>1923</td>\n",
       "      <td>3</td>\n",
       "      <td>FWD</td>\n",
       "      <td>1330</td>\n",
       "    </tr>\n",
       "  </tbody>\n",
       "</table>\n",
       "</div>"
      ],
      "text/plain": [
       "             count unique                 top  freq\n",
       "Make          2059     33       Maruti Suzuki   440\n",
       "Model         2059   1050  X1 sDrive20d xLine    15\n",
       "Fuel_type     2059      9              Diesel  1049\n",
       "Transmission  2059      2              Manual  1133\n",
       "Location      2059     77              Mumbai   342\n",
       "Color         2059     17               White   802\n",
       "Owner         2059      6               First  1619\n",
       "Seller_type   2059      3          Individual  1997\n",
       "Engine        1979    108             1197 cc   231\n",
       "Max_power     1979    335   89 bhp @ 4000 rpm    90\n",
       "Max_torque    1979    290   200 Nm @ 1750 rpm    90\n",
       "Drivetrain    1923      3                 FWD  1330"
      ]
     },
     "execution_count": 8,
     "metadata": {},
     "output_type": "execute_result"
    }
   ],
   "source": [
    "df.describe(include='O').T"
   ]
  },
  {
   "cell_type": "code",
   "execution_count": 9,
   "id": "7cd09d7b",
   "metadata": {},
   "outputs": [
    {
     "name": "stdout",
     "output_type": "stream",
     "text": [
      "<class 'pandas.core.frame.DataFrame'>\n",
      "RangeIndex: 2059 entries, 0 to 2058\n",
      "Data columns (total 20 columns):\n",
      " #   Column              Non-Null Count  Dtype  \n",
      "---  ------              --------------  -----  \n",
      " 0   Make                2059 non-null   object \n",
      " 1   Model               2059 non-null   object \n",
      " 2   Price               2059 non-null   int64  \n",
      " 3   Year                2059 non-null   int64  \n",
      " 4   Kilometer           2059 non-null   int64  \n",
      " 5   Fuel_type           2059 non-null   object \n",
      " 6   Transmission        2059 non-null   object \n",
      " 7   Location            2059 non-null   object \n",
      " 8   Color               2059 non-null   object \n",
      " 9   Owner               2059 non-null   object \n",
      " 10  Seller_type         2059 non-null   object \n",
      " 11  Engine              1979 non-null   object \n",
      " 12  Max_power           1979 non-null   object \n",
      " 13  Max_torque          1979 non-null   object \n",
      " 14  Drivetrain          1923 non-null   object \n",
      " 15  Length              1995 non-null   float64\n",
      " 16  Width               1995 non-null   float64\n",
      " 17  Height              1995 non-null   float64\n",
      " 18  Seating_capacity    1995 non-null   float64\n",
      " 19  Fuel_tank_capacity  1946 non-null   float64\n",
      "dtypes: float64(5), int64(3), object(12)\n",
      "memory usage: 321.8+ KB\n"
     ]
    }
   ],
   "source": [
    "df.info()"
   ]
  },
  {
   "cell_type": "code",
   "execution_count": 10,
   "id": "11ef3f2f",
   "metadata": {},
   "outputs": [
    {
     "data": {
      "text/plain": [
       "Make                    0\n",
       "Model                   0\n",
       "Price                   0\n",
       "Year                    0\n",
       "Kilometer               0\n",
       "Fuel_type               0\n",
       "Transmission            0\n",
       "Location                0\n",
       "Color                   0\n",
       "Owner                   0\n",
       "Seller_type             0\n",
       "Engine                 80\n",
       "Max_power              80\n",
       "Max_torque             80\n",
       "Drivetrain            136\n",
       "Length                 64\n",
       "Width                  64\n",
       "Height                 64\n",
       "Seating_capacity       64\n",
       "Fuel_tank_capacity    113\n",
       "dtype: int64"
      ]
     },
     "execution_count": 10,
     "metadata": {},
     "output_type": "execute_result"
    }
   ],
   "source": [
    "df.isnull().sum()"
   ]
  },
  {
   "cell_type": "code",
   "execution_count": 11,
   "id": "31782217",
   "metadata": {},
   "outputs": [],
   "source": [
    "def fill_na(dataf, fill_val_def):\n",
    "    \n",
    "    ''' Fills the missing values (NAs) or the null values by the\n",
    "    mean, median or mode of the respective feature\n",
    "    \n",
    "    Arguments:\n",
    "    dataf --> the dataframe \n",
    "    fill_val_def --> variable defining the way to fill the NA values\n",
    "    \n",
    "    returns the filled dataframe with no null values\n",
    "    \n",
    "    '''\n",
    "    \n",
    "    num_cols = len(dataf.columns)\n",
    "    for col in range(num_cols):\n",
    "        if dataf.iloc[:,col].isnull().sum() > 0:\n",
    "            if fill_val_def == 'median':\n",
    "                fill_val = dataf.iloc[:,col].median()\n",
    "            elif fill_val_def == 'mode':\n",
    "                fill_val = dataf.iloc[:,col].mode()[0]\n",
    "            elif fill_val_def == 'mean':\n",
    "                fill_val = dataf.iloc[:,col].mean()\n",
    "                \n",
    "            dataf.iloc[:,col].fillna(fill_val, inplace=True)\n",
    "            \n",
    "    return dataf"
   ]
  },
  {
   "cell_type": "code",
   "execution_count": 12,
   "id": "010da732",
   "metadata": {},
   "outputs": [],
   "source": [
    "df = fill_na(df, 'mode')"
   ]
  },
  {
   "cell_type": "code",
   "execution_count": 13,
   "id": "9d1680b8",
   "metadata": {},
   "outputs": [
    {
     "data": {
      "text/plain": [
       "Make                  0\n",
       "Model                 0\n",
       "Price                 0\n",
       "Year                  0\n",
       "Kilometer             0\n",
       "Fuel_type             0\n",
       "Transmission          0\n",
       "Location              0\n",
       "Color                 0\n",
       "Owner                 0\n",
       "Seller_type           0\n",
       "Engine                0\n",
       "Max_power             0\n",
       "Max_torque            0\n",
       "Drivetrain            0\n",
       "Length                0\n",
       "Width                 0\n",
       "Height                0\n",
       "Seating_capacity      0\n",
       "Fuel_tank_capacity    0\n",
       "dtype: int64"
      ]
     },
     "execution_count": 13,
     "metadata": {},
     "output_type": "execute_result"
    }
   ],
   "source": [
    "df.isnull().sum()"
   ]
  },
  {
   "cell_type": "code",
   "execution_count": 14,
   "id": "e379e099",
   "metadata": {},
   "outputs": [
    {
     "data": {
      "text/plain": [
       "Index(['Make', 'Model', 'Price', 'Year', 'Kilometer', 'Fuel_type',\n",
       "       'Transmission', 'Location', 'Color', 'Owner', 'Seller_type', 'Engine',\n",
       "       'Max_power', 'Max_torque', 'Drivetrain', 'Length', 'Width', 'Height',\n",
       "       'Seating_capacity', 'Fuel_tank_capacity'],\n",
       "      dtype='object')"
      ]
     },
     "execution_count": 14,
     "metadata": {},
     "output_type": "execute_result"
    }
   ],
   "source": [
    "df.columns"
   ]
  },
  {
   "cell_type": "markdown",
   "id": "92babdf2",
   "metadata": {},
   "source": [
    "# Levels of measurements\n",
    "\n",
    "# Make: nominal, Model: nominal, Price: ratio, Year: interval, Kilometer: ratio, Fuel_type: nominal, Transmission: nominal, Location: nominal, Color: nominal, Owner: ordinal, Seller_type: nominal, Engine: ratio, Max_power: ratio,\n",
    "# Max_torque: ratio, Drivetrain: nominal, Length: ratio, Width: ratio, Height: ratio, Seating_capacity: interval,\n",
    "# Fuel_tank_capacity: ratio"
   ]
  },
  {
   "cell_type": "code",
   "execution_count": 15,
   "id": "0b1b8f75",
   "metadata": {},
   "outputs": [
    {
     "data": {
      "text/plain": [
       "array(['FWD', 'RWD', 'AWD'], dtype=object)"
      ]
     },
     "execution_count": 15,
     "metadata": {},
     "output_type": "execute_result"
    }
   ],
   "source": [
    "df['Drivetrain'].unique()"
   ]
  },
  {
   "cell_type": "code",
   "execution_count": 16,
   "id": "f0216c97",
   "metadata": {},
   "outputs": [],
   "source": [
    "# Convert the Max_torque and Max_power features to numeric features \n",
    "Engine_f = [int(val.split()[0]) for val in list(df['Engine'])]\n",
    "df['Engine_f'] = Engine_f\n",
    "Engine_hp = [float(re.split(r' |@',val)[0]) for val in list(df['Max_power'])]\n",
    "df['Engine_hp'] = Engine_hp"
   ]
  },
  {
   "cell_type": "code",
   "execution_count": 17,
   "id": "1d760a0a",
   "metadata": {},
   "outputs": [
    {
     "data": {
      "text/html": [
       "<div>\n",
       "<style scoped>\n",
       "    .dataframe tbody tr th:only-of-type {\n",
       "        vertical-align: middle;\n",
       "    }\n",
       "\n",
       "    .dataframe tbody tr th {\n",
       "        vertical-align: top;\n",
       "    }\n",
       "\n",
       "    .dataframe thead th {\n",
       "        text-align: right;\n",
       "    }\n",
       "</style>\n",
       "<table border=\"1\" class=\"dataframe\">\n",
       "  <thead>\n",
       "    <tr style=\"text-align: right;\">\n",
       "      <th></th>\n",
       "      <th>Make</th>\n",
       "      <th>Model</th>\n",
       "      <th>Price</th>\n",
       "      <th>Year</th>\n",
       "      <th>Kilometer</th>\n",
       "      <th>Fuel_type</th>\n",
       "      <th>Transmission</th>\n",
       "      <th>Location</th>\n",
       "      <th>Color</th>\n",
       "      <th>Owner</th>\n",
       "      <th>...</th>\n",
       "      <th>Max_power</th>\n",
       "      <th>Max_torque</th>\n",
       "      <th>Drivetrain</th>\n",
       "      <th>Length</th>\n",
       "      <th>Width</th>\n",
       "      <th>Height</th>\n",
       "      <th>Seating_capacity</th>\n",
       "      <th>Fuel_tank_capacity</th>\n",
       "      <th>Engine_f</th>\n",
       "      <th>Engine_hp</th>\n",
       "    </tr>\n",
       "  </thead>\n",
       "  <tbody>\n",
       "    <tr>\n",
       "      <th>0</th>\n",
       "      <td>Honda</td>\n",
       "      <td>Amaze 1.2 VX i-VTEC</td>\n",
       "      <td>505000</td>\n",
       "      <td>2017</td>\n",
       "      <td>87150</td>\n",
       "      <td>Petrol</td>\n",
       "      <td>Manual</td>\n",
       "      <td>Pune</td>\n",
       "      <td>Grey</td>\n",
       "      <td>First</td>\n",
       "      <td>...</td>\n",
       "      <td>87 bhp @ 6000 rpm</td>\n",
       "      <td>109 Nm @ 4500 rpm</td>\n",
       "      <td>FWD</td>\n",
       "      <td>3990.0</td>\n",
       "      <td>1680.0</td>\n",
       "      <td>1505.0</td>\n",
       "      <td>5.0</td>\n",
       "      <td>35.0</td>\n",
       "      <td>1198</td>\n",
       "      <td>87.0</td>\n",
       "    </tr>\n",
       "    <tr>\n",
       "      <th>1</th>\n",
       "      <td>Maruti Suzuki</td>\n",
       "      <td>Swift DZire VDI</td>\n",
       "      <td>450000</td>\n",
       "      <td>2014</td>\n",
       "      <td>75000</td>\n",
       "      <td>Diesel</td>\n",
       "      <td>Manual</td>\n",
       "      <td>Ludhiana</td>\n",
       "      <td>White</td>\n",
       "      <td>Second</td>\n",
       "      <td>...</td>\n",
       "      <td>74 bhp @ 4000 rpm</td>\n",
       "      <td>190 Nm @ 2000 rpm</td>\n",
       "      <td>FWD</td>\n",
       "      <td>3995.0</td>\n",
       "      <td>1695.0</td>\n",
       "      <td>1555.0</td>\n",
       "      <td>5.0</td>\n",
       "      <td>42.0</td>\n",
       "      <td>1248</td>\n",
       "      <td>74.0</td>\n",
       "    </tr>\n",
       "    <tr>\n",
       "      <th>2</th>\n",
       "      <td>Hyundai</td>\n",
       "      <td>i10 Magna 1.2 Kappa2</td>\n",
       "      <td>220000</td>\n",
       "      <td>2011</td>\n",
       "      <td>67000</td>\n",
       "      <td>Petrol</td>\n",
       "      <td>Manual</td>\n",
       "      <td>Lucknow</td>\n",
       "      <td>Maroon</td>\n",
       "      <td>First</td>\n",
       "      <td>...</td>\n",
       "      <td>79 bhp @ 6000 rpm</td>\n",
       "      <td>112.7619 Nm @ 4000 rpm</td>\n",
       "      <td>FWD</td>\n",
       "      <td>3585.0</td>\n",
       "      <td>1595.0</td>\n",
       "      <td>1550.0</td>\n",
       "      <td>5.0</td>\n",
       "      <td>35.0</td>\n",
       "      <td>1197</td>\n",
       "      <td>79.0</td>\n",
       "    </tr>\n",
       "    <tr>\n",
       "      <th>3</th>\n",
       "      <td>Toyota</td>\n",
       "      <td>Glanza G</td>\n",
       "      <td>799000</td>\n",
       "      <td>2019</td>\n",
       "      <td>37500</td>\n",
       "      <td>Petrol</td>\n",
       "      <td>Manual</td>\n",
       "      <td>Mangalore</td>\n",
       "      <td>Red</td>\n",
       "      <td>First</td>\n",
       "      <td>...</td>\n",
       "      <td>82 bhp @ 6000 rpm</td>\n",
       "      <td>113 Nm @ 4200 rpm</td>\n",
       "      <td>FWD</td>\n",
       "      <td>3995.0</td>\n",
       "      <td>1745.0</td>\n",
       "      <td>1510.0</td>\n",
       "      <td>5.0</td>\n",
       "      <td>37.0</td>\n",
       "      <td>1197</td>\n",
       "      <td>82.0</td>\n",
       "    </tr>\n",
       "    <tr>\n",
       "      <th>4</th>\n",
       "      <td>Toyota</td>\n",
       "      <td>Innova 2.4 VX 7 STR [2016-2020]</td>\n",
       "      <td>1950000</td>\n",
       "      <td>2018</td>\n",
       "      <td>69000</td>\n",
       "      <td>Diesel</td>\n",
       "      <td>Manual</td>\n",
       "      <td>Mumbai</td>\n",
       "      <td>Grey</td>\n",
       "      <td>First</td>\n",
       "      <td>...</td>\n",
       "      <td>148 bhp @ 3400 rpm</td>\n",
       "      <td>343 Nm @ 1400 rpm</td>\n",
       "      <td>RWD</td>\n",
       "      <td>4735.0</td>\n",
       "      <td>1830.0</td>\n",
       "      <td>1795.0</td>\n",
       "      <td>7.0</td>\n",
       "      <td>55.0</td>\n",
       "      <td>2393</td>\n",
       "      <td>148.0</td>\n",
       "    </tr>\n",
       "  </tbody>\n",
       "</table>\n",
       "<p>5 rows × 22 columns</p>\n",
       "</div>"
      ],
      "text/plain": [
       "            Make                            Model    Price  Year  Kilometer  \\\n",
       "0          Honda              Amaze 1.2 VX i-VTEC   505000  2017      87150   \n",
       "1  Maruti Suzuki                  Swift DZire VDI   450000  2014      75000   \n",
       "2        Hyundai             i10 Magna 1.2 Kappa2   220000  2011      67000   \n",
       "3         Toyota                         Glanza G   799000  2019      37500   \n",
       "4         Toyota  Innova 2.4 VX 7 STR [2016-2020]  1950000  2018      69000   \n",
       "\n",
       "  Fuel_type Transmission   Location   Color   Owner  ...           Max_power  \\\n",
       "0    Petrol       Manual       Pune    Grey   First  ...   87 bhp @ 6000 rpm   \n",
       "1    Diesel       Manual   Ludhiana   White  Second  ...   74 bhp @ 4000 rpm   \n",
       "2    Petrol       Manual    Lucknow  Maroon   First  ...   79 bhp @ 6000 rpm   \n",
       "3    Petrol       Manual  Mangalore     Red   First  ...   82 bhp @ 6000 rpm   \n",
       "4    Diesel       Manual     Mumbai    Grey   First  ...  148 bhp @ 3400 rpm   \n",
       "\n",
       "               Max_torque Drivetrain  Length   Width  Height  \\\n",
       "0       109 Nm @ 4500 rpm        FWD  3990.0  1680.0  1505.0   \n",
       "1       190 Nm @ 2000 rpm        FWD  3995.0  1695.0  1555.0   \n",
       "2  112.7619 Nm @ 4000 rpm        FWD  3585.0  1595.0  1550.0   \n",
       "3       113 Nm @ 4200 rpm        FWD  3995.0  1745.0  1510.0   \n",
       "4       343 Nm @ 1400 rpm        RWD  4735.0  1830.0  1795.0   \n",
       "\n",
       "   Seating_capacity  Fuel_tank_capacity  Engine_f  Engine_hp  \n",
       "0               5.0                35.0      1198       87.0  \n",
       "1               5.0                42.0      1248       74.0  \n",
       "2               5.0                35.0      1197       79.0  \n",
       "3               5.0                37.0      1197       82.0  \n",
       "4               7.0                55.0      2393      148.0  \n",
       "\n",
       "[5 rows x 22 columns]"
      ]
     },
     "execution_count": 17,
     "metadata": {},
     "output_type": "execute_result"
    }
   ],
   "source": [
    "df.head()"
   ]
  },
  {
   "cell_type": "code",
   "execution_count": 18,
   "id": "8dc236c4",
   "metadata": {},
   "outputs": [],
   "source": [
    "corr = df.corr()"
   ]
  },
  {
   "cell_type": "code",
   "execution_count": 19,
   "id": "b4ff2ec4",
   "metadata": {},
   "outputs": [
    {
     "data": {
      "text/plain": [
       "<AxesSubplot:>"
      ]
     },
     "execution_count": 19,
     "metadata": {},
     "output_type": "execute_result"
    },
    {
     "data": {
      "image/png": "[encoded data removed]",
      "text/plain": [
       "<Figure size 800x800 with 2 Axes>"
      ]
     },
     "metadata": {},
     "output_type": "display_data"
    }
   ],
   "source": [
    "plt.subplots(figsize=(8,8))\n",
    "sns.heatmap(corr, annot=True, vmin=-1, vmax=1)"
   ]
  },
  {
   "cell_type": "code",
   "execution_count": 20,
   "id": "0edd1f78",
   "metadata": {},
   "outputs": [],
   "source": [
    "# log transform the Prices (target for prediction) so that it follows a normal distribution\n",
    "Y_lin = df['Price'].copy()\n",
    "Y_log = np.log(Y_lin)"
   ]
  },
  {
   "cell_type": "code",
   "execution_count": 21,
   "id": "99ecfc9d",
   "metadata": {},
   "outputs": [
    {
     "data": {
      "text/plain": [
       "<seaborn.axisgrid.FacetGrid at 0x7fc58d03e6e0>"
      ]
     },
     "execution_count": 21,
     "metadata": {},
     "output_type": "execute_result"
    },
    {
     "data": {
      "image/png": "[encoded data removed]",
      "text/plain": [
       "<Figure size 500x500 with 1 Axes>"
      ]
     },
     "metadata": {},
     "output_type": "display_data"
    }
   ],
   "source": [
    "sns.displot(Y_log)"
   ]
  },
  {
   "cell_type": "code",
   "execution_count": 22,
   "id": "83d53c3c",
   "metadata": {},
   "outputs": [],
   "source": [
    "X = df.drop(columns=['Engine', 'Price', 'Max_power', 'Max_torque'])"
   ]
  },
  {
   "cell_type": "code",
   "execution_count": 23,
   "id": "4de91858",
   "metadata": {},
   "outputs": [],
   "source": [
    "from sklearn.model_selection import train_test_split"
   ]
  },
  {
   "cell_type": "code",
   "execution_count": 24,
   "id": "ad0f921d",
   "metadata": {},
   "outputs": [],
   "source": [
    "X_train, X_test, y_train, y_test = train_test_split(X, Y_log, random_state=1324)"
   ]
  },
  {
   "cell_type": "code",
   "execution_count": 25,
   "id": "ff72abfd",
   "metadata": {},
   "outputs": [
    {
     "data": {
      "text/plain": [
       "Index(['Make', 'Model', 'Year', 'Kilometer', 'Fuel_type', 'Transmission',\n",
       "       'Location', 'Color', 'Owner', 'Seller_type', 'Drivetrain', 'Length',\n",
       "       'Width', 'Height', 'Seating_capacity', 'Fuel_tank_capacity', 'Engine_f',\n",
       "       'Engine_hp'],\n",
       "      dtype='object')"
      ]
     },
     "execution_count": 25,
     "metadata": {},
     "output_type": "execute_result"
    }
   ],
   "source": [
    "X_train.columns"
   ]
  },
  {
   "cell_type": "code",
   "execution_count": 26,
   "id": "d2efb4e5",
   "metadata": {},
   "outputs": [],
   "source": [
    "# Encode categorical variables "
   ]
  },
  {
   "cell_type": "code",
   "execution_count": 27,
   "id": "5969c87f",
   "metadata": {},
   "outputs": [],
   "source": [
    "from category_encoders import *\n",
    "from sklearn.preprocessing import LabelEncoder"
   ]
  },
  {
   "cell_type": "code",
   "execution_count": 28,
   "id": "b2008e6d",
   "metadata": {},
   "outputs": [],
   "source": [
    "def encode_categorical_features(X_categ_train, X_categ_test, y_train, encoder, Target_based=False):\n",
    "    \n",
    "    ''' Encodes the categorical features with the desired encoder\n",
    "    \n",
    "    Arguments:\n",
    "    X_categ_train --> categorical features from the training set\n",
    "    X_categ_test --> categorical features from the test set\n",
    "    y_train --> target from the training set\n",
    "    encoder --> the desired encoder to encode the features\n",
    "    \n",
    "    Target_based --> boolean argument indicating whether the encoder is target based (default is false)\n",
    "    \n",
    "    Returns encoded features\n",
    "    \n",
    "    '''\n",
    "    \n",
    "    if Target_based:\n",
    "        X_encoded_train = encoder.fit_transform(X_categ_train,y_train)\n",
    "        X_encoded_test = encoder.transform(X_categ_test)\n",
    "    else:\n",
    "        X_encoded_train = encoder.fit_transform(X_categ_train)\n",
    "        X_encoded_test = encoder.transform(X_categ_test)\n",
    "    \n",
    "    return X_encoded_train, X_encoded_test"
   ]
  },
  {
   "cell_type": "code",
   "execution_count": 29,
   "id": "f9de038a",
   "metadata": {},
   "outputs": [],
   "source": [
    "owner_enc_map = {'UnRegistered Car':0,'First':1, 'Second':2,'Third':3, 'Fourth':4, '4 or More':5}\n",
    "seating_cpty_map = {'2.0':0,'4.0':1,'5.0':2,'6.0':3,'7.0':4,'8.0':5}\n",
    "drivetrain_map = {'FWD':0, 'RWD':1, 'AWD':2}\n",
    "transmisson_map = {'Manual':0, 'Automatic':1}"
   ]
  },
  {
   "cell_type": "code",
   "execution_count": 30,
   "id": "66605d40",
   "metadata": {},
   "outputs": [],
   "source": [
    "X_train['Year'] = X_train['Year'].apply(int)\n",
    "X_test['Year'] = X_test['Year'].apply(int)\n",
    "X_train['Seating_capacity'] = X_train['Seating_capacity'].apply(str)\n",
    "X_test['Seating_capacity'] = X_test['Seating_capacity'].apply(str)"
   ]
  },
  {
   "cell_type": "code",
   "execution_count": 31,
   "id": "9a81ddbe",
   "metadata": {},
   "outputs": [],
   "source": [
    "enc_target = TargetEncoder(cols=['Make','Location','Color','Seller_type','Fuel_type'], min_samples_leaf=30, smoothing=20) # Target based\n",
    "enc_ohe = OneHotEncoder() # Not Target based\n",
    "enc_sum = SumEncoder() #Target based\n",
    "enc_catboost = CatBoostEncoder(cols=['Model'], sigma=10.0, a=5) #Target based\n",
    "enc_label = LabelEncoder() # Not Target based\n",
    "enc_ordinal = OrdinalEncoder(cols=['Owner','Seating_capacity', 'Transmission','Drivetrain'], mapping=[{'col':'Owner', 'mapping':owner_enc_map},{'col':'Seating_capacity'\n",
    "                                                                                                                   , 'mapping': seating_cpty_map}, {'col':'Drivetrain', 'mapping':drivetrain_map},\n",
    "                                                                                                            {'col':'Transmission', 'mapping':transmisson_map}]) # Not Target based\n",
    "\n",
    "enc_count = CountEncoder(cols=['Model'],handle_unknown=1)\n",
    "enc_target1 = TargetEncoder(cols=['Model'],min_samples_leaf=20, smoothing=1000 )\n",
    "enc_hash = HashingEncoder(cols=['Model'])"
   ]
  },
  {
   "cell_type": "code",
   "execution_count": 32,
   "id": "4e63fa90",
   "metadata": {},
   "outputs": [],
   "source": [
    "X_train_tr1, X_test_tr1 = encode_categorical_features(X_train, X_test,y_train,enc_target, Target_based=True)"
   ]
  },
  {
   "cell_type": "code",
   "execution_count": 33,
   "id": "a6218244",
   "metadata": {},
   "outputs": [],
   "source": [
    "X_train_tr, X_test_tr = encode_categorical_features(X_train_tr1, X_test_tr1,y_train,enc_ordinal)"
   ]
  },
  {
   "cell_type": "code",
   "execution_count": 34,
   "id": "fe3aa9f5",
   "metadata": {},
   "outputs": [],
   "source": [
    "X_train_tr = X_train_tr.drop(columns=['Model'])\n",
    "X_test_tr = X_test_tr.drop(columns=['Model'])"
   ]
  },
  {
   "cell_type": "code",
   "execution_count": 35,
   "id": "dca375d9",
   "metadata": {},
   "outputs": [],
   "source": [
    "# start building models"
   ]
  },
  {
   "cell_type": "code",
   "execution_count": 36,
   "id": "105a1eeb",
   "metadata": {},
   "outputs": [],
   "source": [
    "from sklearn.preprocessing import StandardScaler, MinMaxScaler\n",
    "from sklearn.metrics import mean_absolute_error, mean_squared_error\n",
    "from sklearn.metrics import r2_score\n",
    "from sklearn.linear_model import LinearRegression\n",
    "from sklearn.linear_model import LassoCV\n",
    "from sklearn.linear_model import QuantileRegressor, Lasso, Ridge, RANSACRegressor\n",
    "from sklearn.model_selection import cross_validate, cross_val_predict\n",
    "import statsmodels.api as sm"
   ]
  },
  {
   "cell_type": "code",
   "execution_count": 37,
   "id": "0b844311",
   "metadata": {},
   "outputs": [],
   "source": [
    "scale = StandardScaler()\n",
    "scale1 = MinMaxScaler()"
   ]
  },
  {
   "cell_type": "code",
   "execution_count": 38,
   "id": "8fb3bdc6",
   "metadata": {},
   "outputs": [],
   "source": [
    "def predict_model_performance(fitted_model,X_train,X_test,y_train,y_test,performance_measure):\n",
    "    \n",
    "    ''' Calculates various metrics for model perfromance measurements\n",
    "    \n",
    "    Arguments:\n",
    "    \n",
    "    fitted_model --> a fitted model \n",
    "    X_train --> training features\n",
    "    X_test --> test features\n",
    "    y_train --> training target\n",
    "    y_test --> test target\n",
    "    performance_measure --> desired performance metrics (a list of metrics)\n",
    "    \n",
    "    prints the performance metrics with respect to the training set and the test set\n",
    "    \n",
    "    '''\n",
    "    \n",
    "    y_pred = fitted_model.predict(X_test)\n",
    "    y_train_pred = fitted_model.predict(X_train)\n",
    "    \n",
    "    for score in performance_measure:\n",
    "        perfromance_test = score(y_test,y_pred)\n",
    "        perfromance_train = score(y_train,y_train_pred)\n",
    "        \n",
    "        diff_metric = abs(perfromance_train - perfromance_test)\n",
    "        rel_diff_metric = diff_metric/abs(perfromance_train)\n",
    "        percent_diff = rel_diff_metric*100.0\n",
    "        \n",
    "        print('The testing \"{}\" of the model is {}'.format(score.__name__,perfromance_test))\n",
    "        print('The training \"{}\" of the model is {}'.format(score.__name__,perfromance_train))\n",
    "        print('The percentage difference between train and test {} is {:.4}%'.format(score.__name__, percent_diff))\n",
    "        "
   ]
  },
  {
   "cell_type": "code",
   "execution_count": 39,
   "id": "95a9c5c2",
   "metadata": {},
   "outputs": [],
   "source": [
    "def compute_rel_percent_diff(metric_train, metric_test):\n",
    "    \n",
    "    ''' Computes relative percentage difference between the training and test perfromance score of a model\n",
    "    \n",
    "    Arguments:\n",
    "    metric_train --> training score\n",
    "    metric_test --> test score\n",
    "    \n",
    "    returns percentage difference of these scores\n",
    "    \n",
    "    '''\n",
    "    \n",
    "    diff_metric = abs(metric_train - metric_test)\n",
    "    rel_diff_metric = diff_metric/abs(metric_train)\n",
    "    percent_diff = rel_diff_metric*100.0\n",
    "    \n",
    "    return percent_diff"
   ]
  },
  {
   "cell_type": "code",
   "execution_count": 40,
   "id": "f22e8e6c",
   "metadata": {},
   "outputs": [],
   "source": [
    "from sklearn.model_selection import learning_curve"
   ]
  },
  {
   "cell_type": "code",
   "execution_count": 41,
   "id": "0084c7e8",
   "metadata": {},
   "outputs": [],
   "source": [
    "def plot_learning_curve(model, X_train, y_train, cv, metric, train_sizes):\n",
    "    \n",
    "    ''' Plots the learning curve as a function of training size\n",
    "    \n",
    "    Arguments:\n",
    "    \n",
    "    model --> a model instance\n",
    "    X_train --> training observations\n",
    "    y_train --> training target\n",
    "    cv --> cross validation method (initger or a defined process)\n",
    "    metric --> performance metric to measure the learning \n",
    "    train_sizes --> sizes of the training set \n",
    "        \n",
    "    '''\n",
    "    \n",
    "    train_size_abs, train_scores, test_scores = learning_curve(model,X_train,y_train,cv=cv\n",
    "                                                               ,scoring=metric,train_sizes=train_sizes)\n",
    "    \n",
    "    metric_name = metric.split('_')[0]\n",
    "    \n",
    "    metric_name_join = ' '.join(metric.split('_')[1:]).title()\n",
    "    if metric_name == 'neg':\n",
    "        train_scores_avg = (train_scores.mean(axis=1))*(-1)\n",
    "        test_scores_avg = (test_scores.mean(axis=1))*(-1)\n",
    "    \n",
    "    fig,ax=plt.subplots()\n",
    "    ax.plot(train_size_abs, train_scores_avg, marker=\"o\",color=\"red\")\n",
    "    ax.set_xlabel(\"Training set size\")\n",
    "    ax.set_ylabel(metric_name_join)\n",
    "    ax.plot(train_size_abs, test_scores_avg , marker=\"o\", color=\"green\")\n",
    "    ax.legend([\"Training\" , \"Validation\"])\n",
    "    plt.show()"
   ]
  },
  {
   "cell_type": "code",
   "execution_count": 42,
   "id": "a4008c8b",
   "metadata": {},
   "outputs": [],
   "source": [
    "train_sizes = [0.1, 0.2, 0.3, 0.5, 0.6,0.7,0.8,0.85,0.9,0.95,1.0]"
   ]
  },
  {
   "cell_type": "code",
   "execution_count": 43,
   "id": "60383650",
   "metadata": {},
   "outputs": [],
   "source": [
    "# Build OLS model with statsmodel to understand if the linear regression works well\n",
    "import statsmodels.api as sm"
   ]
  },
  {
   "cell_type": "code",
   "execution_count": 44,
   "id": "0a12390a",
   "metadata": {},
   "outputs": [],
   "source": [
    "X_train_tr_scl = scale1.fit_transform(X_train_tr)"
   ]
  },
  {
   "cell_type": "code",
   "execution_count": 45,
   "id": "9cd261f4",
   "metadata": {},
   "outputs": [],
   "source": [
    "X_test_tr_scl = scale1.transform(X_test_tr)"
   ]
  },
  {
   "cell_type": "code",
   "execution_count": 46,
   "id": "68316a69",
   "metadata": {},
   "outputs": [],
   "source": [
    "X_train_tr_scl = sm.add_constant(X_train_tr_scl)"
   ]
  },
  {
   "cell_type": "code",
   "execution_count": 47,
   "id": "003d8699",
   "metadata": {},
   "outputs": [],
   "source": [
    "model1 = sm.OLS(y_train, X_train_tr_scl)"
   ]
  },
  {
   "cell_type": "code",
   "execution_count": 48,
   "id": "7c548d02",
   "metadata": {},
   "outputs": [],
   "source": [
    "results1 = model1.fit()"
   ]
  },
  {
   "cell_type": "code",
   "execution_count": 49,
   "id": "f3b8315d",
   "metadata": {},
   "outputs": [
    {
     "name": "stdout",
     "output_type": "stream",
     "text": [
      "                            OLS Regression Results                            \n",
      "==============================================================================\n",
      "Dep. Variable:                  Price   R-squared:                       0.911\n",
      "Model:                            OLS   Adj. R-squared:                  0.910\n",
      "Method:                 Least Squares   F-statistic:                     916.2\n",
      "Date:                Wed, 19 Apr 2023   Prob (F-statistic):               0.00\n",
      "Time:                        12:57:23   Log-Likelihood:                -312.89\n",
      "No. Observations:                1544   AIC:                             661.8\n",
      "Df Residuals:                    1526   BIC:                             757.9\n",
      "Df Model:                          17                                         \n",
      "Covariance Type:            nonrobust                                         \n",
      "==============================================================================\n",
      "                 coef    std err          t      P>|t|      [0.025      0.975]\n",
      "------------------------------------------------------------------------------\n",
      "const          9.4328      0.096     98.677      0.000       9.245       9.620\n",
      "x1             0.6291      0.039     16.120      0.000       0.553       0.706\n",
      "x2             3.4135      0.098     34.964      0.000       3.222       3.605\n",
      "x3            -1.0581      0.218     -4.855      0.000      -1.486      -0.631\n",
      "x4             0.2205      0.028      7.809      0.000       0.165       0.276\n",
      "x5             0.2322      0.022     10.624      0.000       0.189       0.275\n",
      "x6             0.2612      0.033      7.817      0.000       0.196       0.327\n",
      "x7             0.0596      0.028      2.137      0.033       0.005       0.114\n",
      "x8            -0.3304      0.084     -3.927      0.000      -0.495      -0.165\n",
      "x9             0.2221      0.062      3.582      0.000       0.100       0.344\n",
      "x10            0.1227      0.037      3.292      0.001       0.050       0.196\n",
      "x11            0.7565      0.099      7.670      0.000       0.563       0.950\n",
      "x12            0.2763      0.087      3.192      0.001       0.106       0.446\n",
      "x13            0.1056      0.085      1.248      0.212      -0.060       0.272\n",
      "x14           -0.0527      0.076     -0.696      0.486      -0.201       0.096\n",
      "x15            0.1016      0.082      1.238      0.216      -0.059       0.263\n",
      "x16           -0.4032      0.163     -2.477      0.013      -0.722      -0.084\n",
      "x17            3.0325      0.221     13.751      0.000       2.600       3.465\n",
      "==============================================================================\n",
      "Omnibus:                      474.841   Durbin-Watson:                   2.064\n",
      "Prob(Omnibus):                  0.000   Jarque-Bera (JB):             4147.751\n",
      "Skew:                           1.179   Prob(JB):                         0.00\n",
      "Kurtosis:                      10.675   Cond. No.                         71.7\n",
      "==============================================================================\n",
      "\n",
      "Notes:\n",
      "[1] Standard Errors assume that the covariance matrix of the errors is correctly specified.\n"
     ]
    }
   ],
   "source": [
    "print(results1.summary())"
   ]
  },
  {
   "cell_type": "code",
   "execution_count": 50,
   "id": "805e229e",
   "metadata": {},
   "outputs": [
    {
     "data": {
      "text/plain": [
       "Index(['Make', 'Year', 'Kilometer', 'Fuel_type', 'Transmission', 'Location',\n",
       "       'Color', 'Owner', 'Seller_type', 'Drivetrain', 'Length', 'Width',\n",
       "       'Height', 'Seating_capacity', 'Fuel_tank_capacity', 'Engine_f',\n",
       "       'Engine_hp'],\n",
       "      dtype='object')"
      ]
     },
     "execution_count": 50,
     "metadata": {},
     "output_type": "execute_result"
    }
   ],
   "source": [
    "X_train_tr.columns"
   ]
  },
  {
   "cell_type": "code",
   "execution_count": 51,
   "id": "f7fdef2b",
   "metadata": {},
   "outputs": [],
   "source": [
    "X_train_filter1 = X_train_tr.drop(columns=['Engine_f','Fuel_tank_capacity','Seating_capacity','Width'])"
   ]
  },
  {
   "cell_type": "code",
   "execution_count": 52,
   "id": "aacf6ee4",
   "metadata": {},
   "outputs": [],
   "source": [
    "X_test_filter1 = X_test_tr.drop(columns=['Engine_f','Fuel_tank_capacity','Seating_capacity','Width'])"
   ]
  },
  {
   "cell_type": "code",
   "execution_count": 53,
   "id": "b4443631",
   "metadata": {},
   "outputs": [],
   "source": [
    "X_train_tr_scl1 = scale1.fit_transform(X_train_filter1)"
   ]
  },
  {
   "cell_type": "code",
   "execution_count": 54,
   "id": "dbaac711",
   "metadata": {},
   "outputs": [],
   "source": [
    "X_test_tr_scl1 = scale1.transform(X_test_filter1)"
   ]
  },
  {
   "cell_type": "code",
   "execution_count": 55,
   "id": "a7ffc183",
   "metadata": {},
   "outputs": [],
   "source": [
    "X_train_tr_scl1 = sm.add_constant(X_train_tr_scl1)"
   ]
  },
  {
   "cell_type": "code",
   "execution_count": 56,
   "id": "61c46bc3",
   "metadata": {},
   "outputs": [],
   "source": [
    "model2 = sm.OLS(y_train, X_train_tr_scl1)"
   ]
  },
  {
   "cell_type": "code",
   "execution_count": 57,
   "id": "37f31f44",
   "metadata": {},
   "outputs": [],
   "source": [
    "results2 = model2.fit()"
   ]
  },
  {
   "cell_type": "code",
   "execution_count": 58,
   "id": "15f60c62",
   "metadata": {},
   "outputs": [
    {
     "name": "stdout",
     "output_type": "stream",
     "text": [
      "                            OLS Regression Results                            \n",
      "==============================================================================\n",
      "Dep. Variable:                  Price   R-squared:                       0.909\n",
      "Model:                            OLS   Adj. R-squared:                  0.909\n",
      "Method:                 Least Squares   F-statistic:                     1181.\n",
      "Date:                Wed, 19 Apr 2023   Prob (F-statistic):               0.00\n",
      "Time:                        12:58:09   Log-Likelihood:                -324.61\n",
      "No. Observations:                1544   AIC:                             677.2\n",
      "Df Residuals:                    1530   BIC:                             752.0\n",
      "Df Model:                          13                                         \n",
      "Covariance Type:            nonrobust                                         \n",
      "==============================================================================\n",
      "                 coef    std err          t      P>|t|      [0.025      0.975]\n",
      "------------------------------------------------------------------------------\n",
      "const          9.3860      0.095     98.941      0.000       9.200       9.572\n",
      "x1             0.6500      0.039     16.754      0.000       0.574       0.726\n",
      "x2             3.5047      0.096     36.611      0.000       3.317       3.692\n",
      "x3            -1.1041      0.219     -5.050      0.000      -1.533      -0.675\n",
      "x4             0.2324      0.027      8.603      0.000       0.179       0.285\n",
      "x5             0.2387      0.022     10.875      0.000       0.196       0.282\n",
      "x6             0.2670      0.034      7.948      0.000       0.201       0.333\n",
      "x7             0.0697      0.028      2.493      0.013       0.015       0.125\n",
      "x8            -0.3366      0.084     -3.991      0.000      -0.502      -0.171\n",
      "x9             0.2222      0.062      3.566      0.000       0.100       0.344\n",
      "x10            0.1329      0.037      3.586      0.000       0.060       0.206\n",
      "x11            0.8252      0.078     10.601      0.000       0.673       0.978\n",
      "x12            0.0616      0.063      0.977      0.329      -0.062       0.185\n",
      "x13            2.8439      0.157     18.166      0.000       2.537       3.151\n",
      "==============================================================================\n",
      "Omnibus:                      483.236   Durbin-Watson:                   2.068\n",
      "Prob(Omnibus):                  0.000   Jarque-Bera (JB):             4382.672\n",
      "Skew:                           1.193   Prob(JB):                         0.00\n",
      "Kurtosis:                      10.901   Cond. No.                         58.9\n",
      "==============================================================================\n",
      "\n",
      "Notes:\n",
      "[1] Standard Errors assume that the covariance matrix of the errors is correctly specified.\n"
     ]
    }
   ],
   "source": [
    "print(results2.summary())"
   ]
  },
  {
   "cell_type": "code",
   "execution_count": 59,
   "id": "02cc436f",
   "metadata": {},
   "outputs": [
    {
     "data": {
      "text/plain": [
       "Index(['Make', 'Year', 'Kilometer', 'Fuel_type', 'Transmission', 'Location',\n",
       "       'Color', 'Owner', 'Seller_type', 'Drivetrain', 'Length', 'Height',\n",
       "       'Engine_hp'],\n",
       "      dtype='object')"
      ]
     },
     "execution_count": 59,
     "metadata": {},
     "output_type": "execute_result"
    }
   ],
   "source": [
    "X_train_filter1.columns"
   ]
  },
  {
   "cell_type": "code",
   "execution_count": 60,
   "id": "919f58e8",
   "metadata": {},
   "outputs": [],
   "source": [
    "X_train_filter2 = X_train_filter1.drop(columns=['Height'])"
   ]
  },
  {
   "cell_type": "code",
   "execution_count": 61,
   "id": "642deb52",
   "metadata": {},
   "outputs": [],
   "source": [
    "X_test_filter2 = X_test_filter1.drop(columns=['Height'])"
   ]
  },
  {
   "cell_type": "code",
   "execution_count": 62,
   "id": "165dd599",
   "metadata": {},
   "outputs": [],
   "source": [
    "X_train_tr_scl2 = scale1.fit_transform(X_train_filter2)"
   ]
  },
  {
   "cell_type": "code",
   "execution_count": 63,
   "id": "fbf84f16",
   "metadata": {},
   "outputs": [],
   "source": [
    "X_test_tr_scl2 = scale1.transform(X_test_filter2)"
   ]
  },
  {
   "cell_type": "code",
   "execution_count": 64,
   "id": "155d0324",
   "metadata": {},
   "outputs": [],
   "source": [
    "X_train_tr_scl2 = sm.add_constant(X_train_tr_scl2)"
   ]
  },
  {
   "cell_type": "code",
   "execution_count": 65,
   "id": "f2d9224e",
   "metadata": {},
   "outputs": [],
   "source": [
    "model3 = sm.OLS(y_train, X_train_tr_scl2)"
   ]
  },
  {
   "cell_type": "code",
   "execution_count": 66,
   "id": "575b4f40",
   "metadata": {},
   "outputs": [],
   "source": [
    "results3 = model3.fit()"
   ]
  },
  {
   "cell_type": "code",
   "execution_count": 67,
   "id": "79b99107",
   "metadata": {},
   "outputs": [
    {
     "name": "stdout",
     "output_type": "stream",
     "text": [
      "                            OLS Regression Results                            \n",
      "==============================================================================\n",
      "Dep. Variable:                  Price   R-squared:                       0.909\n",
      "Model:                            OLS   Adj. R-squared:                  0.909\n",
      "Method:                 Least Squares   F-statistic:                     1280.\n",
      "Date:                Wed, 19 Apr 2023   Prob (F-statistic):               0.00\n",
      "Time:                        12:58:35   Log-Likelihood:                -325.09\n",
      "No. Observations:                1544   AIC:                             676.2\n",
      "Df Residuals:                    1531   BIC:                             745.6\n",
      "Df Model:                          12                                         \n",
      "Covariance Type:            nonrobust                                         \n",
      "==============================================================================\n",
      "                 coef    std err          t      P>|t|      [0.025      0.975]\n",
      "------------------------------------------------------------------------------\n",
      "const          9.3966      0.094     99.712      0.000       9.212       9.581\n",
      "x1             0.6404      0.038     17.064      0.000       0.567       0.714\n",
      "x2             3.5223      0.094     37.468      0.000       3.338       3.707\n",
      "x3            -1.0908      0.218     -4.999      0.000      -1.519      -0.663\n",
      "x4             0.2364      0.027      8.852      0.000       0.184       0.289\n",
      "x5             0.2352      0.022     10.862      0.000       0.193       0.278\n",
      "x6             0.2668      0.034      7.942      0.000       0.201       0.333\n",
      "x7             0.0703      0.028      2.514      0.012       0.015       0.125\n",
      "x8            -0.3331      0.084     -3.953      0.000      -0.498      -0.168\n",
      "x9             0.2220      0.062      3.563      0.000       0.100       0.344\n",
      "x10            0.1535      0.030      5.033      0.000       0.094       0.213\n",
      "x11            0.8390      0.077     10.961      0.000       0.689       0.989\n",
      "x12            2.8137      0.153     18.335      0.000       2.513       3.115\n",
      "==============================================================================\n",
      "Omnibus:                      485.466   Durbin-Watson:                   2.067\n",
      "Prob(Omnibus):                  0.000   Jarque-Bera (JB):             4444.894\n",
      "Skew:                           1.197   Prob(JB):                         0.00\n",
      "Kurtosis:                      10.960   Cond. No.                         56.9\n",
      "==============================================================================\n",
      "\n",
      "Notes:\n",
      "[1] Standard Errors assume that the covariance matrix of the errors is correctly specified.\n"
     ]
    }
   ],
   "source": [
    "print(results3.summary())"
   ]
  },
  {
   "cell_type": "code",
   "execution_count": 68,
   "id": "1dd9be58",
   "metadata": {},
   "outputs": [
    {
     "data": {
      "text/plain": [
       "Index(['Make', 'Year', 'Kilometer', 'Fuel_type', 'Transmission', 'Location',\n",
       "       'Color', 'Owner', 'Seller_type', 'Drivetrain', 'Length', 'Engine_hp'],\n",
       "      dtype='object')"
      ]
     },
     "execution_count": 68,
     "metadata": {},
     "output_type": "execute_result"
    }
   ],
   "source": [
    "X_train_filter2.columns"
   ]
  },
  {
   "cell_type": "code",
   "execution_count": 69,
   "id": "0a355ca5",
   "metadata": {},
   "outputs": [],
   "source": [
    "X_train_filter3 = X_train_filter2.drop(columns=['Color','Seller_type','Fuel_type', 'Kilometer'])"
   ]
  },
  {
   "cell_type": "code",
   "execution_count": 70,
   "id": "80a8e4bf",
   "metadata": {},
   "outputs": [],
   "source": [
    "X_test_filter3 = X_test_filter2.drop(columns=['Color','Seller_type','Fuel_type', 'Kilometer'])"
   ]
  },
  {
   "cell_type": "code",
   "execution_count": 88,
   "id": "f80ce703",
   "metadata": {},
   "outputs": [],
   "source": [
    "X_train_tr_scl3 = scale1.fit_transform(X_train_filter3)"
   ]
  },
  {
   "cell_type": "code",
   "execution_count": 72,
   "id": "d1527591",
   "metadata": {},
   "outputs": [],
   "source": [
    "X_test_tr_scl3 = scale1.transform(X_test_filter3)"
   ]
  },
  {
   "cell_type": "code",
   "execution_count": 73,
   "id": "465288ca",
   "metadata": {},
   "outputs": [],
   "source": [
    "X_train_tr_scl3 = sm.add_constant(X_train_tr_scl3)"
   ]
  },
  {
   "cell_type": "code",
   "execution_count": 74,
   "id": "0cc5b9d2",
   "metadata": {},
   "outputs": [],
   "source": [
    "model4 = sm.OLS(y_train, X_train_tr_scl3)"
   ]
  },
  {
   "cell_type": "code",
   "execution_count": 75,
   "id": "8392ad6e",
   "metadata": {},
   "outputs": [],
   "source": [
    "results4 = model4.fit()"
   ]
  },
  {
   "cell_type": "code",
   "execution_count": 76,
   "id": "9ac1e270",
   "metadata": {},
   "outputs": [
    {
     "name": "stdout",
     "output_type": "stream",
     "text": [
      "                            OLS Regression Results                            \n",
      "==============================================================================\n",
      "Dep. Variable:                  Price   R-squared:                       0.903\n",
      "Model:                            OLS   Adj. R-squared:                  0.902\n",
      "Method:                 Least Squares   F-statistic:                     1785.\n",
      "Date:                Wed, 19 Apr 2023   Prob (F-statistic):               0.00\n",
      "Time:                        12:59:01   Log-Likelihood:                -377.85\n",
      "No. Observations:                1544   AIC:                             773.7\n",
      "Df Residuals:                    1535   BIC:                             821.8\n",
      "Df Model:                           8                                         \n",
      "Covariance Type:            nonrobust                                         \n",
      "==============================================================================\n",
      "                 coef    std err          t      P>|t|      [0.025      0.975]\n",
      "------------------------------------------------------------------------------\n",
      "const          9.2966      0.087    106.639      0.000       9.126       9.468\n",
      "x1             0.7196      0.038     19.063      0.000       0.646       0.794\n",
      "x2             3.7472      0.089     42.223      0.000       3.573       3.921\n",
      "x3             0.2316      0.022     10.496      0.000       0.188       0.275\n",
      "x4             0.2446      0.035      7.084      0.000       0.177       0.312\n",
      "x5            -0.3296      0.087     -3.797      0.000      -0.500      -0.159\n",
      "x6             0.2076      0.031      6.777      0.000       0.148       0.268\n",
      "x7             1.0398      0.072     14.387      0.000       0.898       1.182\n",
      "x8             2.5479      0.152     16.786      0.000       2.250       2.846\n",
      "==============================================================================\n",
      "Omnibus:                      475.282   Durbin-Watson:                   2.044\n",
      "Prob(Omnibus):                  0.000   Jarque-Bera (JB):             4123.318\n",
      "Skew:                           1.183   Prob(JB):                         0.00\n",
      "Kurtosis:                      10.648   Cond. No.                         34.6\n",
      "==============================================================================\n",
      "\n",
      "Notes:\n",
      "[1] Standard Errors assume that the covariance matrix of the errors is correctly specified.\n"
     ]
    }
   ],
   "source": [
    "print(results4.summary())"
   ]
  },
  {
   "cell_type": "code",
   "execution_count": 77,
   "id": "a74de857",
   "metadata": {},
   "outputs": [
    {
     "data": {
      "text/plain": [
       "Index(['Make', 'Year', 'Transmission', 'Location', 'Owner', 'Drivetrain',\n",
       "       'Length', 'Engine_hp'],\n",
       "      dtype='object')"
      ]
     },
     "execution_count": 77,
     "metadata": {},
     "output_type": "execute_result"
    }
   ],
   "source": [
    "X_train_filter3.columns"
   ]
  },
  {
   "cell_type": "code",
   "execution_count": 78,
   "id": "e441138a",
   "metadata": {},
   "outputs": [],
   "source": [
    "# Perform residual diagnostics for linear regression assumptions"
   ]
  },
  {
   "cell_type": "code",
   "execution_count": 79,
   "id": "f53bebd3",
   "metadata": {},
   "outputs": [],
   "source": [
    "from scipy import stats"
   ]
  },
  {
   "cell_type": "code",
   "execution_count": 80,
   "id": "f94b2779",
   "metadata": {},
   "outputs": [
    {
     "data": {
      "text/plain": [
       "((array([-3.32078159, -3.06469936, -2.92235802, ...,  2.92235802,\n",
       "          3.06469936,  3.32078159]),\n",
       "  array([-1.28956744, -1.25694542, -1.21068705, ...,  1.81321968,\n",
       "          1.89574005,  2.33110511])),\n",
       " (0.29565669232092, -1.6372894882219678e-14, 0.9548133751513039))"
      ]
     },
     "execution_count": 80,
     "metadata": {},
     "output_type": "execute_result"
    },
    {
     "data": {
      "image/png": "[encoded data removed]",
      "text/plain": [
       "<Figure size 640x480 with 1 Axes>"
      ]
     },
     "metadata": {},
     "output_type": "display_data"
    }
   ],
   "source": [
    "stats.probplot(results4.resid,plot=plt)"
   ]
  },
  {
   "cell_type": "code",
   "execution_count": 81,
   "id": "d624f4a7",
   "metadata": {},
   "outputs": [
    {
     "data": {
      "text/plain": [
       "<seaborn.axisgrid.FacetGrid at 0x7fc58c97e9b0>"
      ]
     },
     "execution_count": 81,
     "metadata": {},
     "output_type": "execute_result"
    },
    {
     "data": {
      "image/png": "[encoded data removed]",
      "text/plain": [
       "<Figure size 500x500 with 1 Axes>"
      ]
     },
     "metadata": {},
     "output_type": "display_data"
    }
   ],
   "source": [
    "sns.displot(results4.resid,kde=True)"
   ]
  },
  {
   "cell_type": "code",
   "execution_count": 83,
   "id": "3deaefaf",
   "metadata": {},
   "outputs": [
    {
     "data": {
      "image/png": "[encoded data removed]",
      "text/plain": [
       "<Figure size 640x480 with 1 Axes>"
      ]
     },
     "metadata": {},
     "output_type": "display_data"
    }
   ],
   "source": [
    "ax = plt.axes()\n",
    "ax.scatter(results4.fittedvalues, y_train)\n",
    "ax.set_ylabel('True Values')\n",
    "ax.set_xlabel('Fitted Values')\n",
    "\n",
    "plt.show()"
   ]
  },
  {
   "cell_type": "code",
   "execution_count": 86,
   "id": "68cf5511",
   "metadata": {},
   "outputs": [
    {
     "name": "stdout",
     "output_type": "stream",
     "text": [
      "eval_env: 1\n"
     ]
    },
    {
     "data": {
      "image/png": "[encoded data removed]",
      "text/plain": [
       "<Figure size 1200x800 with 4 Axes>"
      ]
     },
     "metadata": {},
     "output_type": "display_data"
    }
   ],
   "source": [
    "fig = plt.figure(figsize=(12,8))\n",
    "sm.graphics.plot_regress_exog(results4, 'x5', fig=fig)\n",
    "plt.show()"
   ]
  },
  {
   "cell_type": "code",
   "execution_count": 114,
   "id": "1a458ca4",
   "metadata": {},
   "outputs": [],
   "source": [
    "################################################################################################################"
   ]
  },
  {
   "cell_type": "code",
   "execution_count": 87,
   "id": "52f5d53f",
   "metadata": {},
   "outputs": [],
   "source": [
    "# Build linear regression model with sklearn LinearRegression\n",
    "lin_reg = LinearRegression()"
   ]
  },
  {
   "cell_type": "code",
   "execution_count": 89,
   "id": "9b404575",
   "metadata": {},
   "outputs": [],
   "source": [
    "cross_validation_linreg = cross_validate(lin_reg, X_train_tr_scl3, y_train, scoring=['r2','neg_mean_absolute_error'], cv=10,\n",
    "                                 n_jobs=-1,return_train_score=True, return_estimator=True)"
   ]
  },
  {
   "cell_type": "code",
   "execution_count": 90,
   "id": "859a27e8",
   "metadata": {},
   "outputs": [
    {
     "data": {
      "text/plain": [
       "dict_keys(['fit_time', 'score_time', 'estimator', 'test_r2', 'train_r2', 'test_neg_mean_absolute_error', 'train_neg_mean_absolute_error'])"
      ]
     },
     "execution_count": 90,
     "metadata": {},
     "output_type": "execute_result"
    }
   ],
   "source": [
    "cross_validation_linreg.keys()"
   ]
  },
  {
   "cell_type": "code",
   "execution_count": 91,
   "id": "3a1fb692",
   "metadata": {},
   "outputs": [
    {
     "data": {
      "text/plain": [
       "0.9002798790706071"
      ]
     },
     "execution_count": 91,
     "metadata": {},
     "output_type": "execute_result"
    }
   ],
   "source": [
    "np.mean(cross_validation_linreg['test_r2'])"
   ]
  },
  {
   "cell_type": "code",
   "execution_count": 92,
   "id": "eea7a655",
   "metadata": {},
   "outputs": [
    {
     "data": {
      "text/plain": [
       "0.9030174807973348"
      ]
     },
     "execution_count": 92,
     "metadata": {},
     "output_type": "execute_result"
    }
   ],
   "source": [
    "np.mean(cross_validation_linreg['train_r2'])"
   ]
  },
  {
   "cell_type": "code",
   "execution_count": 93,
   "id": "f5dc5528",
   "metadata": {},
   "outputs": [
    {
     "name": "stdout",
     "output_type": "stream",
     "text": [
      "-0.2166325235565229\n"
     ]
    }
   ],
   "source": [
    "print(cross_validation_linreg['test_neg_mean_absolute_error'].mean())"
   ]
  },
  {
   "cell_type": "code",
   "execution_count": 94,
   "id": "19969953",
   "metadata": {},
   "outputs": [
    {
     "name": "stdout",
     "output_type": "stream",
     "text": [
      "-0.21537495979986598\n"
     ]
    }
   ],
   "source": [
    "print(cross_validation_linreg['train_neg_mean_absolute_error'].mean())"
   ]
  },
  {
   "cell_type": "code",
   "execution_count": 95,
   "id": "1193ff61",
   "metadata": {},
   "outputs": [],
   "source": [
    "# Perform a independent t-test to confirm whether the means of the cross validated scores of training \n",
    "# and validation sets of different splits are similar or different. The test will confirm if the train and validation\n",
    "# scores are same. This will further confirm presence of overfitting or underfitting.\n",
    "# null hypothesis: the means of the two indpendent samples are same\n",
    "# alternative hypothesis: the means are different \n",
    "\n",
    "from statsmodels.stats.weightstats import ttest_ind"
   ]
  },
  {
   "cell_type": "code",
   "execution_count": 96,
   "id": "b7618864",
   "metadata": {},
   "outputs": [
    {
     "name": "stdout",
     "output_type": "stream",
     "text": [
      "The means of the train and test cross validated scores are similar\n",
      "p-value: 0.786950502056702\n"
     ]
    }
   ],
   "source": [
    "tstat, p_val, df = ttest_ind(cross_validation_linreg['test_neg_mean_absolute_error'],cross_validation_linreg['train_neg_mean_absolute_error'])\n",
    "if p_val > 0.05:\n",
    "    print(\"The means of the train and test cross validated scores are similar\")\n",
    "    print(\"p-value:\", p_val)\n",
    "else:\n",
    "    print(\"The means of the train and test cross validated scores are significantly different\")\n",
    "    print(\"p-value:\", p_val)"
   ]
  },
  {
   "cell_type": "code",
   "execution_count": 97,
   "id": "07e895cc",
   "metadata": {},
   "outputs": [
    {
     "name": "stdout",
     "output_type": "stream",
     "text": [
      "The percentage difference of train and test score is: 0.5839%\n"
     ]
    }
   ],
   "source": [
    "rel_diff = compute_rel_percent_diff(np.mean(cross_validation_linreg['train_neg_mean_absolute_error']),\n",
    "                                    np.mean(cross_validation_linreg['test_neg_mean_absolute_error']))\n",
    "print('The percentage difference of train and test score is: {:.4}%'.format(rel_diff))"
   ]
  },
  {
   "cell_type": "code",
   "execution_count": 98,
   "id": "4d35bd3f",
   "metadata": {},
   "outputs": [
    {
     "data": {
      "image/png": "[encoded data removed]",
      "text/plain": [
       "<Figure size 640x480 with 1 Axes>"
      ]
     },
     "metadata": {},
     "output_type": "display_data"
    }
   ],
   "source": [
    "plot_learning_curve(lin_reg, X_train_tr_scl3, y_train, 10, 'neg_mean_absolute_error', train_sizes)"
   ]
  },
  {
   "cell_type": "code",
   "execution_count": 99,
   "id": "0024c190",
   "metadata": {},
   "outputs": [
    {
     "data": {
      "text/html": [
       "<style>#sk-container-id-1 {color: black;background-color: white;}#sk-container-id-1 pre{padding: 0;}#sk-container-id-1 div.sk-toggleable {background-color: white;}#sk-container-id-1 label.sk-toggleable__label {cursor: pointer;display: block;width: 100%;margin-bottom: 0;padding: 0.3em;box-sizing: border-box;text-align: center;}#sk-container-id-1 label.sk-toggleable__label-arrow:before {content: \"▸\";float: left;margin-right: 0.25em;color: #696969;}#sk-container-id-1 label.sk-toggleable__label-arrow:hover:before {color: black;}#sk-container-id-1 div.sk-estimator:hover label.sk-toggleable__label-arrow:before {color: black;}#sk-container-id-1 div.sk-toggleable__content {max-height: 0;max-width: 0;overflow: hidden;text-align: left;background-color: #f0f8ff;}#sk-container-id-1 div.sk-toggleable__content pre {margin: 0.2em;color: black;border-radius: 0.25em;background-color: #f0f8ff;}#sk-container-id-1 input.sk-toggleable__control:checked~div.sk-toggleable__content {max-height: 200px;max-width: 100%;overflow: auto;}#sk-container-id-1 input.sk-toggleable__control:checked~label.sk-toggleable__label-arrow:before {content: \"▾\";}#sk-container-id-1 div.sk-estimator input.sk-toggleable__control:checked~label.sk-toggleable__label {background-color: #d4ebff;}#sk-container-id-1 div.sk-label input.sk-toggleable__control:checked~label.sk-toggleable__label {background-color: #d4ebff;}#sk-container-id-1 input.sk-hidden--visually {border: 0;clip: rect(1px 1px 1px 1px);clip: rect(1px, 1px, 1px, 1px);height: 1px;margin: -1px;overflow: hidden;padding: 0;position: absolute;width: 1px;}#sk-container-id-1 div.sk-estimator {font-family: monospace;background-color: #f0f8ff;border: 1px dotted black;border-radius: 0.25em;box-sizing: border-box;margin-bottom: 0.5em;}#sk-container-id-1 div.sk-estimator:hover {background-color: #d4ebff;}#sk-container-id-1 div.sk-parallel-item::after {content: \"\";width: 100%;border-bottom: 1px solid gray;flex-grow: 1;}#sk-container-id-1 div.sk-label:hover label.sk-toggleable__label {background-color: #d4ebff;}#sk-container-id-1 div.sk-serial::before {content: \"\";position: absolute;border-left: 1px solid gray;box-sizing: border-box;top: 0;bottom: 0;left: 50%;z-index: 0;}#sk-container-id-1 div.sk-serial {display: flex;flex-direction: column;align-items: center;background-color: white;padding-right: 0.2em;padding-left: 0.2em;position: relative;}#sk-container-id-1 div.sk-item {position: relative;z-index: 1;}#sk-container-id-1 div.sk-parallel {display: flex;align-items: stretch;justify-content: center;background-color: white;position: relative;}#sk-container-id-1 div.sk-item::before, #sk-container-id-1 div.sk-parallel-item::before {content: \"\";position: absolute;border-left: 1px solid gray;box-sizing: border-box;top: 0;bottom: 0;left: 50%;z-index: -1;}#sk-container-id-1 div.sk-parallel-item {display: flex;flex-direction: column;z-index: 1;position: relative;background-color: white;}#sk-container-id-1 div.sk-parallel-item:first-child::after {align-self: flex-end;width: 50%;}#sk-container-id-1 div.sk-parallel-item:last-child::after {align-self: flex-start;width: 50%;}#sk-container-id-1 div.sk-parallel-item:only-child::after {width: 0;}#sk-container-id-1 div.sk-dashed-wrapped {border: 1px dashed gray;margin: 0 0.4em 0.5em 0.4em;box-sizing: border-box;padding-bottom: 0.4em;background-color: white;}#sk-container-id-1 div.sk-label label {font-family: monospace;font-weight: bold;display: inline-block;line-height: 1.2em;}#sk-container-id-1 div.sk-label-container {text-align: center;}#sk-container-id-1 div.sk-container {/* jupyter's `normalize.less` sets `[hidden] { display: none; }` but bootstrap.min.css set `[hidden] { display: none !important; }` so we also need the `!important` here to be able to override the default hidden behavior on the sphinx rendered scikit-learn.org. See: https://github.com/scikit-learn/scikit-learn/issues/21755 */display: inline-block !important;position: relative;}#sk-container-id-1 div.sk-text-repr-fallback {display: none;}</style><div id=\"sk-container-id-1\" class=\"sk-top-container\"><div class=\"sk-text-repr-fallback\"><pre>LinearRegression()</pre><b>In a Jupyter environment, please rerun this cell to show the HTML representation or trust the notebook. <br />On GitHub, the HTML representation is unable to render, please try loading this page with nbviewer.org.</b></div><div class=\"sk-container\" hidden><div class=\"sk-item\"><div class=\"sk-estimator sk-toggleable\"><input class=\"sk-toggleable__control sk-hidden--visually\" id=\"sk-estimator-id-1\" type=\"checkbox\" checked><label for=\"sk-estimator-id-1\" class=\"sk-toggleable__label sk-toggleable__label-arrow\">LinearRegression</label><div class=\"sk-toggleable__content\"><pre>LinearRegression()</pre></div></div></div></div></div>"
      ],
      "text/plain": [
       "LinearRegression()"
      ]
     },
     "execution_count": 99,
     "metadata": {},
     "output_type": "execute_result"
    }
   ],
   "source": [
    "lin_reg.fit(X_train_tr_scl3, y_train)"
   ]
  },
  {
   "cell_type": "code",
   "execution_count": 100,
   "id": "ed4e9725",
   "metadata": {},
   "outputs": [],
   "source": [
    "y_pred = lin_reg.predict(X_test_tr_scl3)"
   ]
  },
  {
   "cell_type": "code",
   "execution_count": 103,
   "id": "fc500955",
   "metadata": {},
   "outputs": [
    {
     "data": {
      "image/png": "[encoded data removed]",
      "text/plain": [
       "<Figure size 640x480 with 1 Axes>"
      ]
     },
     "metadata": {},
     "output_type": "display_data"
    }
   ],
   "source": [
    "ax = sns.regplot(x=y_test,y=y_pred)\n",
    "ax.set(xlabel='True Price',\n",
    "       ylabel='Predicted Price',\n",
    "       title='Prediction on the test data'\n",
    "      )\n",
    "plt.show()"
   ]
  },
  {
   "cell_type": "code",
   "execution_count": 104,
   "id": "a54763c6",
   "metadata": {},
   "outputs": [
    {
     "name": "stdout",
     "output_type": "stream",
     "text": [
      "The testing \"r2_score\" of the model is 0.9098526744319774\n",
      "The training \"r2_score\" of the model is 0.9029378453333149\n",
      "The percentage difference between train and test r2_score is 0.7658%\n",
      "The testing \"mean_absolute_error\" of the model is 0.20628184095121707\n",
      "The training \"mean_absolute_error\" of the model is 0.2153624279983757\n",
      "The percentage difference between train and test mean_absolute_error is 4.216%\n"
     ]
    }
   ],
   "source": [
    "predict_model_performance(lin_reg,X_train_tr_scl3,X_test_tr_scl3,y_train,y_test,[r2_score,mean_absolute_error])"
   ]
  },
  {
   "cell_type": "code",
   "execution_count": 113,
   "id": "0bfbb977",
   "metadata": {},
   "outputs": [],
   "source": [
    "##############################################################################################################"
   ]
  },
  {
   "cell_type": "code",
   "execution_count": 105,
   "id": "20627263",
   "metadata": {},
   "outputs": [],
   "source": [
    "# Build RANSAC Regression model\n",
    "ransac_reg = RANSACRegressor()  "
   ]
  },
  {
   "cell_type": "code",
   "execution_count": 106,
   "id": "a0d51b51",
   "metadata": {},
   "outputs": [],
   "source": [
    "cross_validation_ransac = cross_validate(ransac_reg, X_train_tr_scl3, y_train, scoring=['r2','neg_mean_absolute_error'], cv=10,\n",
    "                                 n_jobs=-1,return_train_score=True, return_estimator=True)"
   ]
  },
  {
   "cell_type": "code",
   "execution_count": 107,
   "id": "75be21c1",
   "metadata": {},
   "outputs": [
    {
     "data": {
      "text/plain": [
       "0.8925436705548255"
      ]
     },
     "execution_count": 107,
     "metadata": {},
     "output_type": "execute_result"
    }
   ],
   "source": [
    "np.mean(cross_validation_ransac['test_r2'])"
   ]
  },
  {
   "cell_type": "code",
   "execution_count": 108,
   "id": "354fcfc5",
   "metadata": {},
   "outputs": [
    {
     "data": {
      "text/plain": [
       "0.8935260428953031"
      ]
     },
     "execution_count": 108,
     "metadata": {},
     "output_type": "execute_result"
    }
   ],
   "source": [
    "np.mean(cross_validation_ransac['train_r2'])"
   ]
  },
  {
   "cell_type": "code",
   "execution_count": 109,
   "id": "9b9a280a",
   "metadata": {},
   "outputs": [
    {
     "data": {
      "text/plain": [
       "-0.22200986503774792"
      ]
     },
     "execution_count": 109,
     "metadata": {},
     "output_type": "execute_result"
    }
   ],
   "source": [
    "np.mean(cross_validation_ransac['test_neg_mean_absolute_error'])"
   ]
  },
  {
   "cell_type": "code",
   "execution_count": 110,
   "id": "f0d716b5",
   "metadata": {},
   "outputs": [
    {
     "data": {
      "text/plain": [
       "-0.22134974876795574"
      ]
     },
     "execution_count": 110,
     "metadata": {},
     "output_type": "execute_result"
    }
   ],
   "source": [
    "np.mean(cross_validation_ransac['train_neg_mean_absolute_error'])"
   ]
  },
  {
   "cell_type": "code",
   "execution_count": 111,
   "id": "13ca0dbe",
   "metadata": {},
   "outputs": [
    {
     "name": "stdout",
     "output_type": "stream",
     "text": [
      "The percentage difference of train and test score is: 0.2982%\n"
     ]
    }
   ],
   "source": [
    "rel_diff = compute_rel_percent_diff(np.mean(cross_validation_ransac['train_neg_mean_absolute_error']),\n",
    "                                    np.mean(cross_validation_ransac['test_neg_mean_absolute_error']))\n",
    "print('The percentage difference of train and test score is: {:.4}%'.format(rel_diff))"
   ]
  },
  {
   "cell_type": "code",
   "execution_count": 112,
   "id": "ee06d8b0",
   "metadata": {},
   "outputs": [
    {
     "name": "stdout",
     "output_type": "stream",
     "text": [
      "The means of the train and test cross validated scores are similar\n",
      "p-value: 0.8768182736472995\n"
     ]
    }
   ],
   "source": [
    "#Perform t-test to see the similarity of the cross validated scores\n",
    "\n",
    "tstat, p_val, df = ttest_ind(cross_validation_ransac['test_neg_mean_absolute_error'],cross_validation_ransac['train_neg_mean_absolute_error'])\n",
    "if p_val > 0.05:\n",
    "    print(\"The means of the train and test cross validated scores are similar\")\n",
    "    print(\"p-value:\", p_val)\n",
    "else:\n",
    "    print(\"The means of the train and test cross validated scores are significantly different\")\n",
    "    print(\"p-value:\", p_val)"
   ]
  },
  {
   "cell_type": "code",
   "execution_count": 115,
   "id": "4c35ef7f",
   "metadata": {},
   "outputs": [],
   "source": [
    "###############################################################################################################"
   ]
  },
  {
   "cell_type": "code",
   "execution_count": 116,
   "id": "06ae9336",
   "metadata": {},
   "outputs": [],
   "source": [
    "# Build a lasso base model\n",
    "lasso = LassoCV()"
   ]
  },
  {
   "cell_type": "code",
   "execution_count": 117,
   "id": "9777f93b",
   "metadata": {},
   "outputs": [],
   "source": [
    "cross_validation_lasso = cross_validate(lasso, X_train_tr_scl3, y_train, scoring=['r2','neg_mean_absolute_error'], cv=10,\n",
    "                                 n_jobs=-1,return_train_score=True, return_estimator=True)"
   ]
  },
  {
   "cell_type": "code",
   "execution_count": 118,
   "id": "0ea8b07f",
   "metadata": {},
   "outputs": [
    {
     "data": {
      "text/plain": [
       "0.9002517467463577"
      ]
     },
     "execution_count": 118,
     "metadata": {},
     "output_type": "execute_result"
    }
   ],
   "source": [
    "np.mean(cross_validation_lasso['test_r2'])"
   ]
  },
  {
   "cell_type": "code",
   "execution_count": 119,
   "id": "e8b6b72a",
   "metadata": {},
   "outputs": [
    {
     "data": {
      "text/plain": [
       "0.902986267366604"
      ]
     },
     "execution_count": 119,
     "metadata": {},
     "output_type": "execute_result"
    }
   ],
   "source": [
    "np.mean(cross_validation_lasso['train_r2'])"
   ]
  },
  {
   "cell_type": "code",
   "execution_count": 120,
   "id": "8e111dc4",
   "metadata": {},
   "outputs": [
    {
     "data": {
      "text/plain": [
       "-0.2167968966641653"
      ]
     },
     "execution_count": 120,
     "metadata": {},
     "output_type": "execute_result"
    }
   ],
   "source": [
    "np.mean(cross_validation_lasso['test_neg_mean_absolute_error'])"
   ]
  },
  {
   "cell_type": "code",
   "execution_count": 121,
   "id": "71103c30",
   "metadata": {},
   "outputs": [
    {
     "data": {
      "text/plain": [
       "-0.21554405883378017"
      ]
     },
     "execution_count": 121,
     "metadata": {},
     "output_type": "execute_result"
    }
   ],
   "source": [
    "np.mean(cross_validation_lasso['train_neg_mean_absolute_error'])"
   ]
  },
  {
   "cell_type": "code",
   "execution_count": 122,
   "id": "91eafb93",
   "metadata": {},
   "outputs": [
    {
     "name": "stdout",
     "output_type": "stream",
     "text": [
      "The means of the train and test cross validated scores are similar\n",
      "p-value: 0.787177420648275\n"
     ]
    }
   ],
   "source": [
    "#Perform t-test to see the similarity of the cross validated scores\n",
    "\n",
    "tstat, p_val, df = ttest_ind(cross_validation_lasso['test_neg_mean_absolute_error'],cross_validation_lasso['train_neg_mean_absolute_error'])\n",
    "if p_val > 0.05:\n",
    "    print(\"The means of the train and test cross validated scores are similar\")\n",
    "    print(\"p-value:\", p_val)\n",
    "else:\n",
    "    print(\"The means of the train and test cross validated scores are significantly different\")\n",
    "    print(\"p-value:\", p_val)"
   ]
  },
  {
   "cell_type": "code",
   "execution_count": 128,
   "id": "fdd919f8",
   "metadata": {},
   "outputs": [
    {
     "name": "stdout",
     "output_type": "stream",
     "text": [
      "The percentage difference of train and test score is: 0.5812%\n"
     ]
    }
   ],
   "source": [
    "rel_diff = compute_rel_percent_diff(np.mean(cross_validation_lasso['train_neg_mean_absolute_error']),\n",
    "                                    np.mean(cross_validation_lasso['test_neg_mean_absolute_error']))\n",
    "print('The percentage difference of train and test score is: {:.4}%'.format(rel_diff))"
   ]
  },
  {
   "cell_type": "code",
   "execution_count": 125,
   "id": "ae948da1",
   "metadata": {},
   "outputs": [
    {
     "data": {
      "text/html": [
       "<style>#sk-container-id-2 {color: black;background-color: white;}#sk-container-id-2 pre{padding: 0;}#sk-container-id-2 div.sk-toggleable {background-color: white;}#sk-container-id-2 label.sk-toggleable__label {cursor: pointer;display: block;width: 100%;margin-bottom: 0;padding: 0.3em;box-sizing: border-box;text-align: center;}#sk-container-id-2 label.sk-toggleable__label-arrow:before {content: \"▸\";float: left;margin-right: 0.25em;color: #696969;}#sk-container-id-2 label.sk-toggleable__label-arrow:hover:before {color: black;}#sk-container-id-2 div.sk-estimator:hover label.sk-toggleable__label-arrow:before {color: black;}#sk-container-id-2 div.sk-toggleable__content {max-height: 0;max-width: 0;overflow: hidden;text-align: left;background-color: #f0f8ff;}#sk-container-id-2 div.sk-toggleable__content pre {margin: 0.2em;color: black;border-radius: 0.25em;background-color: #f0f8ff;}#sk-container-id-2 input.sk-toggleable__control:checked~div.sk-toggleable__content {max-height: 200px;max-width: 100%;overflow: auto;}#sk-container-id-2 input.sk-toggleable__control:checked~label.sk-toggleable__label-arrow:before {content: \"▾\";}#sk-container-id-2 div.sk-estimator input.sk-toggleable__control:checked~label.sk-toggleable__label {background-color: #d4ebff;}#sk-container-id-2 div.sk-label input.sk-toggleable__control:checked~label.sk-toggleable__label {background-color: #d4ebff;}#sk-container-id-2 input.sk-hidden--visually {border: 0;clip: rect(1px 1px 1px 1px);clip: rect(1px, 1px, 1px, 1px);height: 1px;margin: -1px;overflow: hidden;padding: 0;position: absolute;width: 1px;}#sk-container-id-2 div.sk-estimator {font-family: monospace;background-color: #f0f8ff;border: 1px dotted black;border-radius: 0.25em;box-sizing: border-box;margin-bottom: 0.5em;}#sk-container-id-2 div.sk-estimator:hover {background-color: #d4ebff;}#sk-container-id-2 div.sk-parallel-item::after {content: \"\";width: 100%;border-bottom: 1px solid gray;flex-grow: 1;}#sk-container-id-2 div.sk-label:hover label.sk-toggleable__label {background-color: #d4ebff;}#sk-container-id-2 div.sk-serial::before {content: \"\";position: absolute;border-left: 1px solid gray;box-sizing: border-box;top: 0;bottom: 0;left: 50%;z-index: 0;}#sk-container-id-2 div.sk-serial {display: flex;flex-direction: column;align-items: center;background-color: white;padding-right: 0.2em;padding-left: 0.2em;position: relative;}#sk-container-id-2 div.sk-item {position: relative;z-index: 1;}#sk-container-id-2 div.sk-parallel {display: flex;align-items: stretch;justify-content: center;background-color: white;position: relative;}#sk-container-id-2 div.sk-item::before, #sk-container-id-2 div.sk-parallel-item::before {content: \"\";position: absolute;border-left: 1px solid gray;box-sizing: border-box;top: 0;bottom: 0;left: 50%;z-index: -1;}#sk-container-id-2 div.sk-parallel-item {display: flex;flex-direction: column;z-index: 1;position: relative;background-color: white;}#sk-container-id-2 div.sk-parallel-item:first-child::after {align-self: flex-end;width: 50%;}#sk-container-id-2 div.sk-parallel-item:last-child::after {align-self: flex-start;width: 50%;}#sk-container-id-2 div.sk-parallel-item:only-child::after {width: 0;}#sk-container-id-2 div.sk-dashed-wrapped {border: 1px dashed gray;margin: 0 0.4em 0.5em 0.4em;box-sizing: border-box;padding-bottom: 0.4em;background-color: white;}#sk-container-id-2 div.sk-label label {font-family: monospace;font-weight: bold;display: inline-block;line-height: 1.2em;}#sk-container-id-2 div.sk-label-container {text-align: center;}#sk-container-id-2 div.sk-container {/* jupyter's `normalize.less` sets `[hidden] { display: none; }` but bootstrap.min.css set `[hidden] { display: none !important; }` so we also need the `!important` here to be able to override the default hidden behavior on the sphinx rendered scikit-learn.org. See: https://github.com/scikit-learn/scikit-learn/issues/21755 */display: inline-block !important;position: relative;}#sk-container-id-2 div.sk-text-repr-fallback {display: none;}</style><div id=\"sk-container-id-2\" class=\"sk-top-container\"><div class=\"sk-text-repr-fallback\"><pre>LassoCV()</pre><b>In a Jupyter environment, please rerun this cell to show the HTML representation or trust the notebook. <br />On GitHub, the HTML representation is unable to render, please try loading this page with nbviewer.org.</b></div><div class=\"sk-container\" hidden><div class=\"sk-item\"><div class=\"sk-estimator sk-toggleable\"><input class=\"sk-toggleable__control sk-hidden--visually\" id=\"sk-estimator-id-2\" type=\"checkbox\" checked><label for=\"sk-estimator-id-2\" class=\"sk-toggleable__label sk-toggleable__label-arrow\">LassoCV</label><div class=\"sk-toggleable__content\"><pre>LassoCV()</pre></div></div></div></div></div>"
      ],
      "text/plain": [
       "LassoCV()"
      ]
     },
     "execution_count": 125,
     "metadata": {},
     "output_type": "execute_result"
    }
   ],
   "source": [
    "lasso.fit(X_train_tr_scl3,y_train)"
   ]
  },
  {
   "cell_type": "code",
   "execution_count": 126,
   "id": "2c79f5a1",
   "metadata": {},
   "outputs": [
    {
     "data": {
      "text/plain": [
       "0.0003289723711803048"
      ]
     },
     "execution_count": 126,
     "metadata": {},
     "output_type": "execute_result"
    }
   ],
   "source": [
    "lasso.alpha_"
   ]
  },
  {
   "cell_type": "code",
   "execution_count": 127,
   "id": "89a178ba",
   "metadata": {},
   "outputs": [
    {
     "name": "stdout",
     "output_type": "stream",
     "text": [
      "The testing \"r2_score\" of the model is 0.9094316449230647\n",
      "The training \"r2_score\" of the model is 0.902906674783969\n",
      "The percentage difference between train and test r2_score is 0.7227%\n",
      "The testing \"mean_absolute_error\" of the model is 0.20623122667690533\n",
      "The training \"mean_absolute_error\" of the model is 0.2155238298691924\n",
      "The percentage difference between train and test mean_absolute_error is 4.312%\n"
     ]
    }
   ],
   "source": [
    "predict_model_performance(lasso,X_train_tr_scl3,X_test_tr_scl3,y_train,y_test,[r2_score,mean_absolute_error])"
   ]
  },
  {
   "cell_type": "code",
   "execution_count": 148,
   "id": "068791f5",
   "metadata": {},
   "outputs": [],
   "source": [
    "#################################################################################################################"
   ]
  },
  {
   "cell_type": "code",
   "execution_count": 133,
   "id": "6a07a113",
   "metadata": {},
   "outputs": [],
   "source": [
    "# Optimize Lasso regularization parameter\n",
    "from sklearn.model_selection import RandomizedSearchCV, GridSearchCV, RepeatedKFold"
   ]
  },
  {
   "cell_type": "code",
   "execution_count": 130,
   "id": "0f923a9d",
   "metadata": {},
   "outputs": [],
   "source": [
    "lasso_reg = Lasso(random_state=1234)"
   ]
  },
  {
   "cell_type": "code",
   "execution_count": 131,
   "id": "8272de33",
   "metadata": {},
   "outputs": [],
   "source": [
    "params = {'alpha': [0.01,0.02, 0.05, 0.1, 0.5, 0.8, 1, 5, 10, 15]}"
   ]
  },
  {
   "cell_type": "code",
   "execution_count": 135,
   "id": "bf22f500",
   "metadata": {},
   "outputs": [],
   "source": [
    "rscv_lasso = RandomizedSearchCV(estimator=lasso_reg,param_distributions=params, cv=10, \n",
    "                          scoring=['r2','neg_mean_absolute_error'],n_jobs=-1,\n",
    "                         refit='neg_mean_absolute_error',return_train_score=True,\n",
    "                          random_state=1234)"
   ]
  },
  {
   "cell_type": "code",
   "execution_count": 136,
   "id": "f954fe92",
   "metadata": {},
   "outputs": [
    {
     "data": {
      "text/html": [
       "<style>#sk-container-id-3 {color: black;background-color: white;}#sk-container-id-3 pre{padding: 0;}#sk-container-id-3 div.sk-toggleable {background-color: white;}#sk-container-id-3 label.sk-toggleable__label {cursor: pointer;display: block;width: 100%;margin-bottom: 0;padding: 0.3em;box-sizing: border-box;text-align: center;}#sk-container-id-3 label.sk-toggleable__label-arrow:before {content: \"▸\";float: left;margin-right: 0.25em;color: #696969;}#sk-container-id-3 label.sk-toggleable__label-arrow:hover:before {color: black;}#sk-container-id-3 div.sk-estimator:hover label.sk-toggleable__label-arrow:before {color: black;}#sk-container-id-3 div.sk-toggleable__content {max-height: 0;max-width: 0;overflow: hidden;text-align: left;background-color: #f0f8ff;}#sk-container-id-3 div.sk-toggleable__content pre {margin: 0.2em;color: black;border-radius: 0.25em;background-color: #f0f8ff;}#sk-container-id-3 input.sk-toggleable__control:checked~div.sk-toggleable__content {max-height: 200px;max-width: 100%;overflow: auto;}#sk-container-id-3 input.sk-toggleable__control:checked~label.sk-toggleable__label-arrow:before {content: \"▾\";}#sk-container-id-3 div.sk-estimator input.sk-toggleable__control:checked~label.sk-toggleable__label {background-color: #d4ebff;}#sk-container-id-3 div.sk-label input.sk-toggleable__control:checked~label.sk-toggleable__label {background-color: #d4ebff;}#sk-container-id-3 input.sk-hidden--visually {border: 0;clip: rect(1px 1px 1px 1px);clip: rect(1px, 1px, 1px, 1px);height: 1px;margin: -1px;overflow: hidden;padding: 0;position: absolute;width: 1px;}#sk-container-id-3 div.sk-estimator {font-family: monospace;background-color: #f0f8ff;border: 1px dotted black;border-radius: 0.25em;box-sizing: border-box;margin-bottom: 0.5em;}#sk-container-id-3 div.sk-estimator:hover {background-color: #d4ebff;}#sk-container-id-3 div.sk-parallel-item::after {content: \"\";width: 100%;border-bottom: 1px solid gray;flex-grow: 1;}#sk-container-id-3 div.sk-label:hover label.sk-toggleable__label {background-color: #d4ebff;}#sk-container-id-3 div.sk-serial::before {content: \"\";position: absolute;border-left: 1px solid gray;box-sizing: border-box;top: 0;bottom: 0;left: 50%;z-index: 0;}#sk-container-id-3 div.sk-serial {display: flex;flex-direction: column;align-items: center;background-color: white;padding-right: 0.2em;padding-left: 0.2em;position: relative;}#sk-container-id-3 div.sk-item {position: relative;z-index: 1;}#sk-container-id-3 div.sk-parallel {display: flex;align-items: stretch;justify-content: center;background-color: white;position: relative;}#sk-container-id-3 div.sk-item::before, #sk-container-id-3 div.sk-parallel-item::before {content: \"\";position: absolute;border-left: 1px solid gray;box-sizing: border-box;top: 0;bottom: 0;left: 50%;z-index: -1;}#sk-container-id-3 div.sk-parallel-item {display: flex;flex-direction: column;z-index: 1;position: relative;background-color: white;}#sk-container-id-3 div.sk-parallel-item:first-child::after {align-self: flex-end;width: 50%;}#sk-container-id-3 div.sk-parallel-item:last-child::after {align-self: flex-start;width: 50%;}#sk-container-id-3 div.sk-parallel-item:only-child::after {width: 0;}#sk-container-id-3 div.sk-dashed-wrapped {border: 1px dashed gray;margin: 0 0.4em 0.5em 0.4em;box-sizing: border-box;padding-bottom: 0.4em;background-color: white;}#sk-container-id-3 div.sk-label label {font-family: monospace;font-weight: bold;display: inline-block;line-height: 1.2em;}#sk-container-id-3 div.sk-label-container {text-align: center;}#sk-container-id-3 div.sk-container {/* jupyter's `normalize.less` sets `[hidden] { display: none; }` but bootstrap.min.css set `[hidden] { display: none !important; }` so we also need the `!important` here to be able to override the default hidden behavior on the sphinx rendered scikit-learn.org. See: https://github.com/scikit-learn/scikit-learn/issues/21755 */display: inline-block !important;position: relative;}#sk-container-id-3 div.sk-text-repr-fallback {display: none;}</style><div id=\"sk-container-id-3\" class=\"sk-top-container\"><div class=\"sk-text-repr-fallback\"><pre>RandomizedSearchCV(cv=10, estimator=Lasso(random_state=1234), n_jobs=-1,\n",
       "                   param_distributions={&#x27;alpha&#x27;: [0.01, 0.02, 0.05, 0.1, 0.5,\n",
       "                                                  0.8, 1, 5, 10, 15]},\n",
       "                   random_state=1234, refit=&#x27;neg_mean_absolute_error&#x27;,\n",
       "                   return_train_score=True,\n",
       "                   scoring=[&#x27;r2&#x27;, &#x27;neg_mean_absolute_error&#x27;])</pre><b>In a Jupyter environment, please rerun this cell to show the HTML representation or trust the notebook. <br />On GitHub, the HTML representation is unable to render, please try loading this page with nbviewer.org.</b></div><div class=\"sk-container\" hidden><div class=\"sk-item sk-dashed-wrapped\"><div class=\"sk-label-container\"><div class=\"sk-label sk-toggleable\"><input class=\"sk-toggleable__control sk-hidden--visually\" id=\"sk-estimator-id-3\" type=\"checkbox\" ><label for=\"sk-estimator-id-3\" class=\"sk-toggleable__label sk-toggleable__label-arrow\">RandomizedSearchCV</label><div class=\"sk-toggleable__content\"><pre>RandomizedSearchCV(cv=10, estimator=Lasso(random_state=1234), n_jobs=-1,\n",
       "                   param_distributions={&#x27;alpha&#x27;: [0.01, 0.02, 0.05, 0.1, 0.5,\n",
       "                                                  0.8, 1, 5, 10, 15]},\n",
       "                   random_state=1234, refit=&#x27;neg_mean_absolute_error&#x27;,\n",
       "                   return_train_score=True,\n",
       "                   scoring=[&#x27;r2&#x27;, &#x27;neg_mean_absolute_error&#x27;])</pre></div></div></div><div class=\"sk-parallel\"><div class=\"sk-parallel-item\"><div class=\"sk-item\"><div class=\"sk-label-container\"><div class=\"sk-label sk-toggleable\"><input class=\"sk-toggleable__control sk-hidden--visually\" id=\"sk-estimator-id-4\" type=\"checkbox\" ><label for=\"sk-estimator-id-4\" class=\"sk-toggleable__label sk-toggleable__label-arrow\">estimator: Lasso</label><div class=\"sk-toggleable__content\"><pre>Lasso(random_state=1234)</pre></div></div></div><div class=\"sk-serial\"><div class=\"sk-item\"><div class=\"sk-estimator sk-toggleable\"><input class=\"sk-toggleable__control sk-hidden--visually\" id=\"sk-estimator-id-5\" type=\"checkbox\" ><label for=\"sk-estimator-id-5\" class=\"sk-toggleable__label sk-toggleable__label-arrow\">Lasso</label><div class=\"sk-toggleable__content\"><pre>Lasso(random_state=1234)</pre></div></div></div></div></div></div></div></div></div></div>"
      ],
      "text/plain": [
       "RandomizedSearchCV(cv=10, estimator=Lasso(random_state=1234), n_jobs=-1,\n",
       "                   param_distributions={'alpha': [0.01, 0.02, 0.05, 0.1, 0.5,\n",
       "                                                  0.8, 1, 5, 10, 15]},\n",
       "                   random_state=1234, refit='neg_mean_absolute_error',\n",
       "                   return_train_score=True,\n",
       "                   scoring=['r2', 'neg_mean_absolute_error'])"
      ]
     },
     "execution_count": 136,
     "metadata": {},
     "output_type": "execute_result"
    }
   ],
   "source": [
    "rscv_lasso.fit(X_train_tr_scl3, y_train)"
   ]
  },
  {
   "cell_type": "code",
   "execution_count": 137,
   "id": "2ccf156d",
   "metadata": {},
   "outputs": [
    {
     "data": {
      "text/plain": [
       "{'alpha': 0.01}"
      ]
     },
     "execution_count": 137,
     "metadata": {},
     "output_type": "execute_result"
    }
   ],
   "source": [
    "rscv_lasso.best_params_"
   ]
  },
  {
   "cell_type": "code",
   "execution_count": 138,
   "id": "74ef4e8f",
   "metadata": {},
   "outputs": [
    {
     "data": {
      "text/plain": [
       "array([ 0.8739944 ,  0.83080382,  0.63884489,  0.55681144, -0.00419756,\n",
       "       -0.00419756, -0.00419756, -0.00419756, -0.00419756, -0.00419756])"
      ]
     },
     "execution_count": 138,
     "metadata": {},
     "output_type": "execute_result"
    }
   ],
   "source": [
    "(rscv_lasso.cv_results_['mean_test_r2'])"
   ]
  },
  {
   "cell_type": "code",
   "execution_count": 139,
   "id": "4633c7f7",
   "metadata": {},
   "outputs": [
    {
     "data": {
      "text/plain": [
       "0.29128696988778635"
      ]
     },
     "execution_count": 139,
     "metadata": {},
     "output_type": "execute_result"
    }
   ],
   "source": [
    "np.mean(rscv_lasso.cv_results_['mean_train_r2'])"
   ]
  },
  {
   "cell_type": "code",
   "execution_count": 140,
   "id": "12e668a1",
   "metadata": {},
   "outputs": [
    {
     "name": "stdout",
     "output_type": "stream",
     "text": [
      "The testing \"r2_score\" of the model is 0.8685382858194274\n",
      "The training \"r2_score\" of the model is 0.8772821590807603\n",
      "The percentage difference between train and test r2_score is 0.9967%\n",
      "The testing \"mean_absolute_error\" of the model is 0.2389350272296229\n",
      "The training \"mean_absolute_error\" of the model is 0.2490469238621321\n",
      "The percentage difference between train and test mean_absolute_error is 4.06%\n"
     ]
    }
   ],
   "source": [
    "predict_model_performance(rscv_lasso,X_train_tr_scl3,X_test_tr_scl3,y_train,y_test,[r2_score,mean_absolute_error])"
   ]
  },
  {
   "cell_type": "code",
   "execution_count": 141,
   "id": "fe44772d",
   "metadata": {},
   "outputs": [],
   "source": [
    "gscv_lasso = GridSearchCV(estimator=lasso_reg, param_grid=params, scoring=['r2','neg_mean_absolute_error'], \n",
    "                    return_train_score=True, n_jobs=-1, refit='neg_mean_absolute_error',cv=5)"
   ]
  },
  {
   "cell_type": "code",
   "execution_count": 142,
   "id": "14d8ee9c",
   "metadata": {},
   "outputs": [
    {
     "data": {
      "text/html": [
       "<style>#sk-container-id-4 {color: black;background-color: white;}#sk-container-id-4 pre{padding: 0;}#sk-container-id-4 div.sk-toggleable {background-color: white;}#sk-container-id-4 label.sk-toggleable__label {cursor: pointer;display: block;width: 100%;margin-bottom: 0;padding: 0.3em;box-sizing: border-box;text-align: center;}#sk-container-id-4 label.sk-toggleable__label-arrow:before {content: \"▸\";float: left;margin-right: 0.25em;color: #696969;}#sk-container-id-4 label.sk-toggleable__label-arrow:hover:before {color: black;}#sk-container-id-4 div.sk-estimator:hover label.sk-toggleable__label-arrow:before {color: black;}#sk-container-id-4 div.sk-toggleable__content {max-height: 0;max-width: 0;overflow: hidden;text-align: left;background-color: #f0f8ff;}#sk-container-id-4 div.sk-toggleable__content pre {margin: 0.2em;color: black;border-radius: 0.25em;background-color: #f0f8ff;}#sk-container-id-4 input.sk-toggleable__control:checked~div.sk-toggleable__content {max-height: 200px;max-width: 100%;overflow: auto;}#sk-container-id-4 input.sk-toggleable__control:checked~label.sk-toggleable__label-arrow:before {content: \"▾\";}#sk-container-id-4 div.sk-estimator input.sk-toggleable__control:checked~label.sk-toggleable__label {background-color: #d4ebff;}#sk-container-id-4 div.sk-label input.sk-toggleable__control:checked~label.sk-toggleable__label {background-color: #d4ebff;}#sk-container-id-4 input.sk-hidden--visually {border: 0;clip: rect(1px 1px 1px 1px);clip: rect(1px, 1px, 1px, 1px);height: 1px;margin: -1px;overflow: hidden;padding: 0;position: absolute;width: 1px;}#sk-container-id-4 div.sk-estimator {font-family: monospace;background-color: #f0f8ff;border: 1px dotted black;border-radius: 0.25em;box-sizing: border-box;margin-bottom: 0.5em;}#sk-container-id-4 div.sk-estimator:hover {background-color: #d4ebff;}#sk-container-id-4 div.sk-parallel-item::after {content: \"\";width: 100%;border-bottom: 1px solid gray;flex-grow: 1;}#sk-container-id-4 div.sk-label:hover label.sk-toggleable__label {background-color: #d4ebff;}#sk-container-id-4 div.sk-serial::before {content: \"\";position: absolute;border-left: 1px solid gray;box-sizing: border-box;top: 0;bottom: 0;left: 50%;z-index: 0;}#sk-container-id-4 div.sk-serial {display: flex;flex-direction: column;align-items: center;background-color: white;padding-right: 0.2em;padding-left: 0.2em;position: relative;}#sk-container-id-4 div.sk-item {position: relative;z-index: 1;}#sk-container-id-4 div.sk-parallel {display: flex;align-items: stretch;justify-content: center;background-color: white;position: relative;}#sk-container-id-4 div.sk-item::before, #sk-container-id-4 div.sk-parallel-item::before {content: \"\";position: absolute;border-left: 1px solid gray;box-sizing: border-box;top: 0;bottom: 0;left: 50%;z-index: -1;}#sk-container-id-4 div.sk-parallel-item {display: flex;flex-direction: column;z-index: 1;position: relative;background-color: white;}#sk-container-id-4 div.sk-parallel-item:first-child::after {align-self: flex-end;width: 50%;}#sk-container-id-4 div.sk-parallel-item:last-child::after {align-self: flex-start;width: 50%;}#sk-container-id-4 div.sk-parallel-item:only-child::after {width: 0;}#sk-container-id-4 div.sk-dashed-wrapped {border: 1px dashed gray;margin: 0 0.4em 0.5em 0.4em;box-sizing: border-box;padding-bottom: 0.4em;background-color: white;}#sk-container-id-4 div.sk-label label {font-family: monospace;font-weight: bold;display: inline-block;line-height: 1.2em;}#sk-container-id-4 div.sk-label-container {text-align: center;}#sk-container-id-4 div.sk-container {/* jupyter's `normalize.less` sets `[hidden] { display: none; }` but bootstrap.min.css set `[hidden] { display: none !important; }` so we also need the `!important` here to be able to override the default hidden behavior on the sphinx rendered scikit-learn.org. See: https://github.com/scikit-learn/scikit-learn/issues/21755 */display: inline-block !important;position: relative;}#sk-container-id-4 div.sk-text-repr-fallback {display: none;}</style><div id=\"sk-container-id-4\" class=\"sk-top-container\"><div class=\"sk-text-repr-fallback\"><pre>GridSearchCV(cv=5, estimator=Lasso(random_state=1234), n_jobs=-1,\n",
       "             param_grid={&#x27;alpha&#x27;: [0.01, 0.02, 0.05, 0.1, 0.5, 0.8, 1, 5, 10,\n",
       "                                   15]},\n",
       "             refit=&#x27;neg_mean_absolute_error&#x27;, return_train_score=True,\n",
       "             scoring=[&#x27;r2&#x27;, &#x27;neg_mean_absolute_error&#x27;])</pre><b>In a Jupyter environment, please rerun this cell to show the HTML representation or trust the notebook. <br />On GitHub, the HTML representation is unable to render, please try loading this page with nbviewer.org.</b></div><div class=\"sk-container\" hidden><div class=\"sk-item sk-dashed-wrapped\"><div class=\"sk-label-container\"><div class=\"sk-label sk-toggleable\"><input class=\"sk-toggleable__control sk-hidden--visually\" id=\"sk-estimator-id-6\" type=\"checkbox\" ><label for=\"sk-estimator-id-6\" class=\"sk-toggleable__label sk-toggleable__label-arrow\">GridSearchCV</label><div class=\"sk-toggleable__content\"><pre>GridSearchCV(cv=5, estimator=Lasso(random_state=1234), n_jobs=-1,\n",
       "             param_grid={&#x27;alpha&#x27;: [0.01, 0.02, 0.05, 0.1, 0.5, 0.8, 1, 5, 10,\n",
       "                                   15]},\n",
       "             refit=&#x27;neg_mean_absolute_error&#x27;, return_train_score=True,\n",
       "             scoring=[&#x27;r2&#x27;, &#x27;neg_mean_absolute_error&#x27;])</pre></div></div></div><div class=\"sk-parallel\"><div class=\"sk-parallel-item\"><div class=\"sk-item\"><div class=\"sk-label-container\"><div class=\"sk-label sk-toggleable\"><input class=\"sk-toggleable__control sk-hidden--visually\" id=\"sk-estimator-id-7\" type=\"checkbox\" ><label for=\"sk-estimator-id-7\" class=\"sk-toggleable__label sk-toggleable__label-arrow\">estimator: Lasso</label><div class=\"sk-toggleable__content\"><pre>Lasso(random_state=1234)</pre></div></div></div><div class=\"sk-serial\"><div class=\"sk-item\"><div class=\"sk-estimator sk-toggleable\"><input class=\"sk-toggleable__control sk-hidden--visually\" id=\"sk-estimator-id-8\" type=\"checkbox\" ><label for=\"sk-estimator-id-8\" class=\"sk-toggleable__label sk-toggleable__label-arrow\">Lasso</label><div class=\"sk-toggleable__content\"><pre>Lasso(random_state=1234)</pre></div></div></div></div></div></div></div></div></div></div>"
      ],
      "text/plain": [
       "GridSearchCV(cv=5, estimator=Lasso(random_state=1234), n_jobs=-1,\n",
       "             param_grid={'alpha': [0.01, 0.02, 0.05, 0.1, 0.5, 0.8, 1, 5, 10,\n",
       "                                   15]},\n",
       "             refit='neg_mean_absolute_error', return_train_score=True,\n",
       "             scoring=['r2', 'neg_mean_absolute_error'])"
      ]
     },
     "execution_count": 142,
     "metadata": {},
     "output_type": "execute_result"
    }
   ],
   "source": [
    "gscv_lasso.fit(X_train_tr_scl3, y_train)"
   ]
  },
  {
   "cell_type": "code",
   "execution_count": 144,
   "id": "df568ce4",
   "metadata": {},
   "outputs": [
    {
     "data": {
      "text/plain": [
       "{'alpha': 0.01}"
      ]
     },
     "execution_count": 144,
     "metadata": {},
     "output_type": "execute_result"
    }
   ],
   "source": [
    "gscv_lasso.best_params_"
   ]
  },
  {
   "cell_type": "code",
   "execution_count": 146,
   "id": "6cc87dae",
   "metadata": {},
   "outputs": [
    {
     "data": {
      "text/plain": [
       "0.28867631769401403"
      ]
     },
     "execution_count": 146,
     "metadata": {},
     "output_type": "execute_result"
    }
   ],
   "source": [
    "np.mean(gscv_lasso.cv_results_['mean_test_r2'])"
   ]
  },
  {
   "cell_type": "code",
   "execution_count": 147,
   "id": "0eb004c7",
   "metadata": {},
   "outputs": [],
   "source": [
    "#################################################################################################################"
   ]
  },
  {
   "cell_type": "code",
   "execution_count": 149,
   "id": "01036782",
   "metadata": {},
   "outputs": [],
   "source": [
    "# Build Random Forest regressor\n",
    "from sklearn.ensemble import RandomForestRegressor"
   ]
  },
  {
   "cell_type": "code",
   "execution_count": 150,
   "id": "136c97d1",
   "metadata": {},
   "outputs": [],
   "source": [
    "rf = RandomForestRegressor(random_state=1234)"
   ]
  },
  {
   "cell_type": "code",
   "execution_count": 151,
   "id": "11a94257",
   "metadata": {},
   "outputs": [],
   "source": [
    "cross_validation_rf = cross_validate(rf, X_train_tr_scl3, y_train, scoring=['r2','neg_mean_absolute_error'], cv=10,\n",
    "                                 n_jobs=-1,return_train_score=True, return_estimator=True)"
   ]
  },
  {
   "cell_type": "code",
   "execution_count": 152,
   "id": "a29a373a",
   "metadata": {},
   "outputs": [
    {
     "data": {
      "text/plain": [
       "0.953194406532311"
      ]
     },
     "execution_count": 152,
     "metadata": {},
     "output_type": "execute_result"
    }
   ],
   "source": [
    "np.mean(cross_validation_rf['test_r2'])"
   ]
  },
  {
   "cell_type": "code",
   "execution_count": 153,
   "id": "3004eae2",
   "metadata": {},
   "outputs": [
    {
     "data": {
      "text/plain": [
       "0.993012208895163"
      ]
     },
     "execution_count": 153,
     "metadata": {},
     "output_type": "execute_result"
    }
   ],
   "source": [
    "np.mean(cross_validation_rf['train_r2'])"
   ]
  },
  {
   "cell_type": "code",
   "execution_count": 155,
   "id": "846aa268",
   "metadata": {},
   "outputs": [
    {
     "data": {
      "text/plain": [
       "-0.14399070297446884"
      ]
     },
     "execution_count": 155,
     "metadata": {},
     "output_type": "execute_result"
    }
   ],
   "source": [
    "np.mean(cross_validation_rf['test_neg_mean_absolute_error'])"
   ]
  },
  {
   "cell_type": "code",
   "execution_count": 156,
   "id": "4f391335",
   "metadata": {},
   "outputs": [
    {
     "data": {
      "text/plain": [
       "-0.05584077032125936"
      ]
     },
     "execution_count": 156,
     "metadata": {},
     "output_type": "execute_result"
    }
   ],
   "source": [
    "np.mean(cross_validation_rf['train_neg_mean_absolute_error'])"
   ]
  },
  {
   "cell_type": "code",
   "execution_count": 157,
   "id": "dde3fa42",
   "metadata": {},
   "outputs": [
    {
     "name": "stdout",
     "output_type": "stream",
     "text": [
      "The percentage difference of train and test score is: 157.9%\n"
     ]
    }
   ],
   "source": [
    "rel_diff = compute_rel_percent_diff(np.mean(cross_validation_rf['train_neg_mean_absolute_error']),\n",
    "                                    np.mean(cross_validation_rf['test_neg_mean_absolute_error']))\n",
    "print('The percentage difference of train and test score is: {:.4}%'.format(rel_diff))"
   ]
  },
  {
   "cell_type": "code",
   "execution_count": 158,
   "id": "e9938ece",
   "metadata": {},
   "outputs": [
    {
     "name": "stdout",
     "output_type": "stream",
     "text": [
      "The means of the train and test cross validated scores are significantly different\n",
      "p-value: 4.478310839430076e-14\n"
     ]
    }
   ],
   "source": [
    "#Perform t-test to see the similarity of the cross validated scores\n",
    "\n",
    "tstat, p_val, df = ttest_ind(cross_validation_rf['test_neg_mean_absolute_error'],cross_validation_rf['train_neg_mean_absolute_error'])\n",
    "if p_val > 0.05:\n",
    "    print(\"The means of the train and test cross validated scores are similar\")\n",
    "    print(\"p-value:\", p_val)\n",
    "else:\n",
    "    print(\"The means of the train and test cross validated scores are significantly different\")\n",
    "    print(\"p-value:\", p_val)"
   ]
  },
  {
   "cell_type": "code",
   "execution_count": 159,
   "id": "23a4c5f6",
   "metadata": {},
   "outputs": [
    {
     "data": {
      "text/html": [
       "<style>#sk-container-id-5 {color: black;background-color: white;}#sk-container-id-5 pre{padding: 0;}#sk-container-id-5 div.sk-toggleable {background-color: white;}#sk-container-id-5 label.sk-toggleable__label {cursor: pointer;display: block;width: 100%;margin-bottom: 0;padding: 0.3em;box-sizing: border-box;text-align: center;}#sk-container-id-5 label.sk-toggleable__label-arrow:before {content: \"▸\";float: left;margin-right: 0.25em;color: #696969;}#sk-container-id-5 label.sk-toggleable__label-arrow:hover:before {color: black;}#sk-container-id-5 div.sk-estimator:hover label.sk-toggleable__label-arrow:before {color: black;}#sk-container-id-5 div.sk-toggleable__content {max-height: 0;max-width: 0;overflow: hidden;text-align: left;background-color: #f0f8ff;}#sk-container-id-5 div.sk-toggleable__content pre {margin: 0.2em;color: black;border-radius: 0.25em;background-color: #f0f8ff;}#sk-container-id-5 input.sk-toggleable__control:checked~div.sk-toggleable__content {max-height: 200px;max-width: 100%;overflow: auto;}#sk-container-id-5 input.sk-toggleable__control:checked~label.sk-toggleable__label-arrow:before {content: \"▾\";}#sk-container-id-5 div.sk-estimator input.sk-toggleable__control:checked~label.sk-toggleable__label {background-color: #d4ebff;}#sk-container-id-5 div.sk-label input.sk-toggleable__control:checked~label.sk-toggleable__label {background-color: #d4ebff;}#sk-container-id-5 input.sk-hidden--visually {border: 0;clip: rect(1px 1px 1px 1px);clip: rect(1px, 1px, 1px, 1px);height: 1px;margin: -1px;overflow: hidden;padding: 0;position: absolute;width: 1px;}#sk-container-id-5 div.sk-estimator {font-family: monospace;background-color: #f0f8ff;border: 1px dotted black;border-radius: 0.25em;box-sizing: border-box;margin-bottom: 0.5em;}#sk-container-id-5 div.sk-estimator:hover {background-color: #d4ebff;}#sk-container-id-5 div.sk-parallel-item::after {content: \"\";width: 100%;border-bottom: 1px solid gray;flex-grow: 1;}#sk-container-id-5 div.sk-label:hover label.sk-toggleable__label {background-color: #d4ebff;}#sk-container-id-5 div.sk-serial::before {content: \"\";position: absolute;border-left: 1px solid gray;box-sizing: border-box;top: 0;bottom: 0;left: 50%;z-index: 0;}#sk-container-id-5 div.sk-serial {display: flex;flex-direction: column;align-items: center;background-color: white;padding-right: 0.2em;padding-left: 0.2em;position: relative;}#sk-container-id-5 div.sk-item {position: relative;z-index: 1;}#sk-container-id-5 div.sk-parallel {display: flex;align-items: stretch;justify-content: center;background-color: white;position: relative;}#sk-container-id-5 div.sk-item::before, #sk-container-id-5 div.sk-parallel-item::before {content: \"\";position: absolute;border-left: 1px solid gray;box-sizing: border-box;top: 0;bottom: 0;left: 50%;z-index: -1;}#sk-container-id-5 div.sk-parallel-item {display: flex;flex-direction: column;z-index: 1;position: relative;background-color: white;}#sk-container-id-5 div.sk-parallel-item:first-child::after {align-self: flex-end;width: 50%;}#sk-container-id-5 div.sk-parallel-item:last-child::after {align-self: flex-start;width: 50%;}#sk-container-id-5 div.sk-parallel-item:only-child::after {width: 0;}#sk-container-id-5 div.sk-dashed-wrapped {border: 1px dashed gray;margin: 0 0.4em 0.5em 0.4em;box-sizing: border-box;padding-bottom: 0.4em;background-color: white;}#sk-container-id-5 div.sk-label label {font-family: monospace;font-weight: bold;display: inline-block;line-height: 1.2em;}#sk-container-id-5 div.sk-label-container {text-align: center;}#sk-container-id-5 div.sk-container {/* jupyter's `normalize.less` sets `[hidden] { display: none; }` but bootstrap.min.css set `[hidden] { display: none !important; }` so we also need the `!important` here to be able to override the default hidden behavior on the sphinx rendered scikit-learn.org. See: https://github.com/scikit-learn/scikit-learn/issues/21755 */display: inline-block !important;position: relative;}#sk-container-id-5 div.sk-text-repr-fallback {display: none;}</style><div id=\"sk-container-id-5\" class=\"sk-top-container\"><div class=\"sk-text-repr-fallback\"><pre>RandomForestRegressor(random_state=1234)</pre><b>In a Jupyter environment, please rerun this cell to show the HTML representation or trust the notebook. <br />On GitHub, the HTML representation is unable to render, please try loading this page with nbviewer.org.</b></div><div class=\"sk-container\" hidden><div class=\"sk-item\"><div class=\"sk-estimator sk-toggleable\"><input class=\"sk-toggleable__control sk-hidden--visually\" id=\"sk-estimator-id-9\" type=\"checkbox\" checked><label for=\"sk-estimator-id-9\" class=\"sk-toggleable__label sk-toggleable__label-arrow\">RandomForestRegressor</label><div class=\"sk-toggleable__content\"><pre>RandomForestRegressor(random_state=1234)</pre></div></div></div></div></div>"
      ],
      "text/plain": [
       "RandomForestRegressor(random_state=1234)"
      ]
     },
     "execution_count": 159,
     "metadata": {},
     "output_type": "execute_result"
    }
   ],
   "source": [
    "rf.fit(X_train_tr_scl3,y_train)"
   ]
  },
  {
   "cell_type": "code",
   "execution_count": 160,
   "id": "57e7f9ae",
   "metadata": {},
   "outputs": [
    {
     "name": "stdout",
     "output_type": "stream",
     "text": [
      "The testing \"r2_score\" of the model is 0.9119225479620429\n",
      "The training \"r2_score\" of the model is 0.9932100235265404\n",
      "The percentage difference between train and test r2_score is 8.184%\n",
      "The testing \"mean_absolute_error\" of the model is 0.1566651757241422\n",
      "The training \"mean_absolute_error\" of the model is 0.0548844589885665\n",
      "The percentage difference between train and test mean_absolute_error is 185.4%\n"
     ]
    }
   ],
   "source": [
    "predict_model_performance(rf,X_train_tr_scl3,X_test_tr_scl3,y_train,y_test,[r2_score,mean_absolute_error])"
   ]
  },
  {
   "cell_type": "code",
   "execution_count": 161,
   "id": "722815e2",
   "metadata": {},
   "outputs": [],
   "source": [
    "# Optimize random forest hyperparameters"
   ]
  },
  {
   "cell_type": "code",
   "execution_count": 162,
   "id": "be445d68",
   "metadata": {},
   "outputs": [],
   "source": [
    "param_range_lr = [1.0, 0.5, 0.1, 0.01]\n",
    "param_range_fc = np.arange(1,61)\n",
    "param_n_estimators = np.arange(5, 225, 5)"
   ]
  },
  {
   "cell_type": "code",
   "execution_count": 163,
   "id": "06e6ebb4",
   "metadata": {},
   "outputs": [],
   "source": [
    "grid_rf = [{'n_estimators': param_n_estimators, 'criterion': ['squared_error', 'absolute_error'],\n",
    "            'max_depth': param_range_fc, 'min_samples_split': param_range_fc[1:],\n",
    "            'min_samples_leaf': param_range_fc, 'max_features':['sqrt', 'log2']}]"
   ]
  },
  {
   "cell_type": "code",
   "execution_count": 164,
   "id": "f5db1fc5",
   "metadata": {},
   "outputs": [],
   "source": [
    "rf = RandomForestRegressor(random_state=1234)"
   ]
  },
  {
   "cell_type": "code",
   "execution_count": 165,
   "id": "656f7fd9",
   "metadata": {},
   "outputs": [],
   "source": [
    "rscv_rf = RandomizedSearchCV(estimator=rf,param_distributions= grid_rf, cv=5, \n",
    "                          scoring=['r2','neg_mean_absolute_error'],n_jobs=-1,\n",
    "                         refit='neg_mean_absolute_error',return_train_score=True,\n",
    "                          random_state=1234)"
   ]
  },
  {
   "cell_type": "code",
   "execution_count": 167,
   "id": "9fc7296e",
   "metadata": {},
   "outputs": [
    {
     "data": {
      "text/html": [
       "<style>#sk-container-id-6 {color: black;background-color: white;}#sk-container-id-6 pre{padding: 0;}#sk-container-id-6 div.sk-toggleable {background-color: white;}#sk-container-id-6 label.sk-toggleable__label {cursor: pointer;display: block;width: 100%;margin-bottom: 0;padding: 0.3em;box-sizing: border-box;text-align: center;}#sk-container-id-6 label.sk-toggleable__label-arrow:before {content: \"▸\";float: left;margin-right: 0.25em;color: #696969;}#sk-container-id-6 label.sk-toggleable__label-arrow:hover:before {color: black;}#sk-container-id-6 div.sk-estimator:hover label.sk-toggleable__label-arrow:before {color: black;}#sk-container-id-6 div.sk-toggleable__content {max-height: 0;max-width: 0;overflow: hidden;text-align: left;background-color: #f0f8ff;}#sk-container-id-6 div.sk-toggleable__content pre {margin: 0.2em;color: black;border-radius: 0.25em;background-color: #f0f8ff;}#sk-container-id-6 input.sk-toggleable__control:checked~div.sk-toggleable__content {max-height: 200px;max-width: 100%;overflow: auto;}#sk-container-id-6 input.sk-toggleable__control:checked~label.sk-toggleable__label-arrow:before {content: \"▾\";}#sk-container-id-6 div.sk-estimator input.sk-toggleable__control:checked~label.sk-toggleable__label {background-color: #d4ebff;}#sk-container-id-6 div.sk-label input.sk-toggleable__control:checked~label.sk-toggleable__label {background-color: #d4ebff;}#sk-container-id-6 input.sk-hidden--visually {border: 0;clip: rect(1px 1px 1px 1px);clip: rect(1px, 1px, 1px, 1px);height: 1px;margin: -1px;overflow: hidden;padding: 0;position: absolute;width: 1px;}#sk-container-id-6 div.sk-estimator {font-family: monospace;background-color: #f0f8ff;border: 1px dotted black;border-radius: 0.25em;box-sizing: border-box;margin-bottom: 0.5em;}#sk-container-id-6 div.sk-estimator:hover {background-color: #d4ebff;}#sk-container-id-6 div.sk-parallel-item::after {content: \"\";width: 100%;border-bottom: 1px solid gray;flex-grow: 1;}#sk-container-id-6 div.sk-label:hover label.sk-toggleable__label {background-color: #d4ebff;}#sk-container-id-6 div.sk-serial::before {content: \"\";position: absolute;border-left: 1px solid gray;box-sizing: border-box;top: 0;bottom: 0;left: 50%;z-index: 0;}#sk-container-id-6 div.sk-serial {display: flex;flex-direction: column;align-items: center;background-color: white;padding-right: 0.2em;padding-left: 0.2em;position: relative;}#sk-container-id-6 div.sk-item {position: relative;z-index: 1;}#sk-container-id-6 div.sk-parallel {display: flex;align-items: stretch;justify-content: center;background-color: white;position: relative;}#sk-container-id-6 div.sk-item::before, #sk-container-id-6 div.sk-parallel-item::before {content: \"\";position: absolute;border-left: 1px solid gray;box-sizing: border-box;top: 0;bottom: 0;left: 50%;z-index: -1;}#sk-container-id-6 div.sk-parallel-item {display: flex;flex-direction: column;z-index: 1;position: relative;background-color: white;}#sk-container-id-6 div.sk-parallel-item:first-child::after {align-self: flex-end;width: 50%;}#sk-container-id-6 div.sk-parallel-item:last-child::after {align-self: flex-start;width: 50%;}#sk-container-id-6 div.sk-parallel-item:only-child::after {width: 0;}#sk-container-id-6 div.sk-dashed-wrapped {border: 1px dashed gray;margin: 0 0.4em 0.5em 0.4em;box-sizing: border-box;padding-bottom: 0.4em;background-color: white;}#sk-container-id-6 div.sk-label label {font-family: monospace;font-weight: bold;display: inline-block;line-height: 1.2em;}#sk-container-id-6 div.sk-label-container {text-align: center;}#sk-container-id-6 div.sk-container {/* jupyter's `normalize.less` sets `[hidden] { display: none; }` but bootstrap.min.css set `[hidden] { display: none !important; }` so we also need the `!important` here to be able to override the default hidden behavior on the sphinx rendered scikit-learn.org. See: https://github.com/scikit-learn/scikit-learn/issues/21755 */display: inline-block !important;position: relative;}#sk-container-id-6 div.sk-text-repr-fallback {display: none;}</style><div id=\"sk-container-id-6\" class=\"sk-top-container\"><div class=\"sk-text-repr-fallback\"><pre>RandomizedSearchCV(cv=5, estimator=RandomForestRegressor(random_state=1234),\n",
       "                   n_jobs=-1,\n",
       "                   param_distributions=[{&#x27;criterion&#x27;: [&#x27;squared_error&#x27;,\n",
       "                                                       &#x27;absolute_error&#x27;],\n",
       "                                         &#x27;max_depth&#x27;: array([ 1,  2,  3,  4,  5,  6,  7,  8,  9, 10, 11, 12, 13, 14, 15, 16, 17,\n",
       "       18, 19, 20, 21, 22, 23, 24, 25, 26, 27, 28, 29, 30, 31, 32, 33, 34,\n",
       "       35, 36, 37, 38, 39, 40, 41, 42, 43, 44, 45, 46, 47, 48, 49, 50, 51,\n",
       "       52, 53, 54, 55, 56, 57, 58, 59, 60]),\n",
       "                                         &#x27;max...\n",
       "       36, 37, 38, 39, 40, 41, 42, 43, 44, 45, 46, 47, 48, 49, 50, 51, 52,\n",
       "       53, 54, 55, 56, 57, 58, 59, 60]),\n",
       "                                         &#x27;n_estimators&#x27;: array([  5,  10,  15,  20,  25,  30,  35,  40,  45,  50,  55,  60,  65,\n",
       "        70,  75,  80,  85,  90,  95, 100, 105, 110, 115, 120, 125, 130,\n",
       "       135, 140, 145, 150, 155, 160, 165, 170, 175, 180, 185, 190, 195,\n",
       "       200, 205, 210, 215, 220])}],\n",
       "                   random_state=1234, refit=&#x27;neg_mean_absolute_error&#x27;,\n",
       "                   return_train_score=True,\n",
       "                   scoring=[&#x27;r2&#x27;, &#x27;neg_mean_absolute_error&#x27;])</pre><b>In a Jupyter environment, please rerun this cell to show the HTML representation or trust the notebook. <br />On GitHub, the HTML representation is unable to render, please try loading this page with nbviewer.org.</b></div><div class=\"sk-container\" hidden><div class=\"sk-item sk-dashed-wrapped\"><div class=\"sk-label-container\"><div class=\"sk-label sk-toggleable\"><input class=\"sk-toggleable__control sk-hidden--visually\" id=\"sk-estimator-id-10\" type=\"checkbox\" ><label for=\"sk-estimator-id-10\" class=\"sk-toggleable__label sk-toggleable__label-arrow\">RandomizedSearchCV</label><div class=\"sk-toggleable__content\"><pre>RandomizedSearchCV(cv=5, estimator=RandomForestRegressor(random_state=1234),\n",
       "                   n_jobs=-1,\n",
       "                   param_distributions=[{&#x27;criterion&#x27;: [&#x27;squared_error&#x27;,\n",
       "                                                       &#x27;absolute_error&#x27;],\n",
       "                                         &#x27;max_depth&#x27;: array([ 1,  2,  3,  4,  5,  6,  7,  8,  9, 10, 11, 12, 13, 14, 15, 16, 17,\n",
       "       18, 19, 20, 21, 22, 23, 24, 25, 26, 27, 28, 29, 30, 31, 32, 33, 34,\n",
       "       35, 36, 37, 38, 39, 40, 41, 42, 43, 44, 45, 46, 47, 48, 49, 50, 51,\n",
       "       52, 53, 54, 55, 56, 57, 58, 59, 60]),\n",
       "                                         &#x27;max...\n",
       "       36, 37, 38, 39, 40, 41, 42, 43, 44, 45, 46, 47, 48, 49, 50, 51, 52,\n",
       "       53, 54, 55, 56, 57, 58, 59, 60]),\n",
       "                                         &#x27;n_estimators&#x27;: array([  5,  10,  15,  20,  25,  30,  35,  40,  45,  50,  55,  60,  65,\n",
       "        70,  75,  80,  85,  90,  95, 100, 105, 110, 115, 120, 125, 130,\n",
       "       135, 140, 145, 150, 155, 160, 165, 170, 175, 180, 185, 190, 195,\n",
       "       200, 205, 210, 215, 220])}],\n",
       "                   random_state=1234, refit=&#x27;neg_mean_absolute_error&#x27;,\n",
       "                   return_train_score=True,\n",
       "                   scoring=[&#x27;r2&#x27;, &#x27;neg_mean_absolute_error&#x27;])</pre></div></div></div><div class=\"sk-parallel\"><div class=\"sk-parallel-item\"><div class=\"sk-item\"><div class=\"sk-label-container\"><div class=\"sk-label sk-toggleable\"><input class=\"sk-toggleable__control sk-hidden--visually\" id=\"sk-estimator-id-11\" type=\"checkbox\" ><label for=\"sk-estimator-id-11\" class=\"sk-toggleable__label sk-toggleable__label-arrow\">estimator: RandomForestRegressor</label><div class=\"sk-toggleable__content\"><pre>RandomForestRegressor(random_state=1234)</pre></div></div></div><div class=\"sk-serial\"><div class=\"sk-item\"><div class=\"sk-estimator sk-toggleable\"><input class=\"sk-toggleable__control sk-hidden--visually\" id=\"sk-estimator-id-12\" type=\"checkbox\" ><label for=\"sk-estimator-id-12\" class=\"sk-toggleable__label sk-toggleable__label-arrow\">RandomForestRegressor</label><div class=\"sk-toggleable__content\"><pre>RandomForestRegressor(random_state=1234)</pre></div></div></div></div></div></div></div></div></div></div>"
      ],
      "text/plain": [
       "RandomizedSearchCV(cv=5, estimator=RandomForestRegressor(random_state=1234),\n",
       "                   n_jobs=-1,\n",
       "                   param_distributions=[{'criterion': ['squared_error',\n",
       "                                                       'absolute_error'],\n",
       "                                         'max_depth': array([ 1,  2,  3,  4,  5,  6,  7,  8,  9, 10, 11, 12, 13, 14, 15, 16, 17,\n",
       "       18, 19, 20, 21, 22, 23, 24, 25, 26, 27, 28, 29, 30, 31, 32, 33, 34,\n",
       "       35, 36, 37, 38, 39, 40, 41, 42, 43, 44, 45, 46, 47, 48, 49, 50, 51,\n",
       "       52, 53, 54, 55, 56, 57, 58, 59, 60]),\n",
       "                                         'max...\n",
       "       36, 37, 38, 39, 40, 41, 42, 43, 44, 45, 46, 47, 48, 49, 50, 51, 52,\n",
       "       53, 54, 55, 56, 57, 58, 59, 60]),\n",
       "                                         'n_estimators': array([  5,  10,  15,  20,  25,  30,  35,  40,  45,  50,  55,  60,  65,\n",
       "        70,  75,  80,  85,  90,  95, 100, 105, 110, 115, 120, 125, 130,\n",
       "       135, 140, 145, 150, 155, 160, 165, 170, 175, 180, 185, 190, 195,\n",
       "       200, 205, 210, 215, 220])}],\n",
       "                   random_state=1234, refit='neg_mean_absolute_error',\n",
       "                   return_train_score=True,\n",
       "                   scoring=['r2', 'neg_mean_absolute_error'])"
      ]
     },
     "execution_count": 167,
     "metadata": {},
     "output_type": "execute_result"
    }
   ],
   "source": [
    "rscv_rf.fit(X_train_tr_scl3, y_train)"
   ]
  },
  {
   "cell_type": "code",
   "execution_count": 169,
   "id": "462463aa",
   "metadata": {},
   "outputs": [
    {
     "data": {
      "text/plain": [
       "{'n_estimators': 190,\n",
       " 'min_samples_split': 14,\n",
       " 'min_samples_leaf': 13,\n",
       " 'max_features': 'log2',\n",
       " 'max_depth': 14,\n",
       " 'criterion': 'absolute_error'}"
      ]
     },
     "execution_count": 169,
     "metadata": {},
     "output_type": "execute_result"
    }
   ],
   "source": [
    "rscv_rf.best_params_"
   ]
  },
  {
   "cell_type": "code",
   "execution_count": 170,
   "id": "3ed89840",
   "metadata": {},
   "outputs": [
    {
     "data": {
      "text/plain": [
       "0.8765984580868572"
      ]
     },
     "execution_count": 170,
     "metadata": {},
     "output_type": "execute_result"
    }
   ],
   "source": [
    "np.mean(rscv_rf.cv_results_['mean_test_r2'])"
   ]
  },
  {
   "cell_type": "code",
   "execution_count": 171,
   "id": "a6cf71c9",
   "metadata": {},
   "outputs": [
    {
     "data": {
      "text/plain": [
       "0.8889836563080072"
      ]
     },
     "execution_count": 171,
     "metadata": {},
     "output_type": "execute_result"
    }
   ],
   "source": [
    "np.mean(rscv_rf.cv_results_['mean_train_r2'])"
   ]
  },
  {
   "cell_type": "code",
   "execution_count": 172,
   "id": "2aa48825",
   "metadata": {},
   "outputs": [
    {
     "data": {
      "text/plain": [
       "-0.23748488632595"
      ]
     },
     "execution_count": 172,
     "metadata": {},
     "output_type": "execute_result"
    }
   ],
   "source": [
    "np.mean(rscv_rf.cv_results_['mean_test_neg_mean_absolute_error'])"
   ]
  },
  {
   "cell_type": "code",
   "execution_count": 173,
   "id": "a803ce42",
   "metadata": {},
   "outputs": [
    {
     "data": {
      "text/plain": [
       "-0.22424327712050296"
      ]
     },
     "execution_count": 173,
     "metadata": {},
     "output_type": "execute_result"
    }
   ],
   "source": [
    "np.mean(rscv_rf.cv_results_['mean_train_neg_mean_absolute_error'])"
   ]
  },
  {
   "cell_type": "code",
   "execution_count": 174,
   "id": "da637b9a",
   "metadata": {},
   "outputs": [
    {
     "name": "stdout",
     "output_type": "stream",
     "text": [
      "The percentage difference of train and test score is: 5.905%\n"
     ]
    }
   ],
   "source": [
    "rel_diff = compute_rel_percent_diff(np.mean(rscv_rf.cv_results_['mean_train_neg_mean_absolute_error']),\n",
    "                                    np.mean(rscv_rf.cv_results_['mean_test_neg_mean_absolute_error']))\n",
    "print('The percentage difference of train and test score is: {:.4}%'.format(rel_diff))"
   ]
  },
  {
   "cell_type": "code",
   "execution_count": 175,
   "id": "9b4f22b6",
   "metadata": {},
   "outputs": [
    {
     "name": "stdout",
     "output_type": "stream",
     "text": [
      "The means of the train and test cross validated scores are similar\n",
      "p-value: 0.346008693849405\n"
     ]
    }
   ],
   "source": [
    "#Perform t-test to see the similarity of the cross validated scores\n",
    "\n",
    "tstat, p_val, df = ttest_ind(rscv_rf.cv_results_['mean_test_neg_mean_absolute_error'],rscv_rf.cv_results_['mean_train_neg_mean_absolute_error'])\n",
    "if p_val > 0.05:\n",
    "    print(\"The means of the train and test cross validated scores are similar\")\n",
    "    print(\"p-value:\", p_val)\n",
    "else:\n",
    "    print(\"The means of the train and test cross validated scores are significantly different\")\n",
    "    print(\"p-value:\", p_val)"
   ]
  },
  {
   "cell_type": "code",
   "execution_count": 176,
   "id": "db2fc7d2",
   "metadata": {},
   "outputs": [
    {
     "name": "stdout",
     "output_type": "stream",
     "text": [
      "The testing \"r2_score\" of the model is 0.8877035827578552\n",
      "The training \"r2_score\" of the model is 0.9238881564646428\n",
      "The percentage difference between train and test r2_score is 3.917%\n",
      "The testing \"mean_absolute_error\" of the model is 0.19286056454398284\n",
      "The training \"mean_absolute_error\" of the model is 0.17656285578503236\n",
      "The percentage difference between train and test mean_absolute_error is 9.231%\n"
     ]
    }
   ],
   "source": [
    "predict_model_performance(rscv_rf,X_train_tr_scl3,X_test_tr_scl3,y_train,y_test,[r2_score,mean_absolute_error])"
   ]
  },
  {
   "cell_type": "code",
   "execution_count": 177,
   "id": "9b701528",
   "metadata": {},
   "outputs": [],
   "source": [
    "# Fine tune the random forest parameters with gridsearch"
   ]
  },
  {
   "cell_type": "code",
   "execution_count": 181,
   "id": "513c2697",
   "metadata": {},
   "outputs": [],
   "source": [
    "param_fine_estimators = [170, 175, 180, 185, 190, 195, 200, 205, 210]\n",
    "param_samples_split = [8,10,12,14,16,20,22]\n",
    "param_samples_leaf = [7,9,12,13, 15,18]\n",
    "param_max_depth = [9, 12,13,14, 15,17,20,23]"
   ]
  },
  {
   "cell_type": "code",
   "execution_count": 179,
   "id": "f94c6826",
   "metadata": {},
   "outputs": [],
   "source": [
    "cv_method = RepeatedKFold(n_splits=10, \n",
    "                                    n_repeats=10, \n",
    "                                    random_state=1234)"
   ]
  },
  {
   "cell_type": "code",
   "execution_count": 180,
   "id": "e125d4a1",
   "metadata": {},
   "outputs": [],
   "source": [
    "rf_up = RandomForestRegressor(max_features='log2', criterion='absolute_error',random_state=1234)"
   ]
  },
  {
   "cell_type": "code",
   "execution_count": 182,
   "id": "59bab441",
   "metadata": {},
   "outputs": [],
   "source": [
    "param_grid1 = [{'n_estimators': param_fine_estimators, \n",
    "            'max_depth': param_max_depth, 'min_samples_split': param_samples_split,\n",
    "            'min_samples_leaf': param_samples_leaf}]"
   ]
  },
  {
   "cell_type": "code",
   "execution_count": 183,
   "id": "fd37416d",
   "metadata": {},
   "outputs": [],
   "source": [
    "gscv = GridSearchCV(estimator=rf_up, param_grid=param_grid1, scoring=['r2','neg_mean_absolute_error'], \n",
    "                    return_train_score=True, n_jobs=-1, refit='neg_mean_absolute_error',cv=5)"
   ]
  },
  {
   "cell_type": "code",
   "execution_count": 184,
   "id": "35bcd5ca",
   "metadata": {},
   "outputs": [
    {
     "data": {
      "text/html": [
       "<style>#sk-container-id-7 {color: black;background-color: white;}#sk-container-id-7 pre{padding: 0;}#sk-container-id-7 div.sk-toggleable {background-color: white;}#sk-container-id-7 label.sk-toggleable__label {cursor: pointer;display: block;width: 100%;margin-bottom: 0;padding: 0.3em;box-sizing: border-box;text-align: center;}#sk-container-id-7 label.sk-toggleable__label-arrow:before {content: \"▸\";float: left;margin-right: 0.25em;color: #696969;}#sk-container-id-7 label.sk-toggleable__label-arrow:hover:before {color: black;}#sk-container-id-7 div.sk-estimator:hover label.sk-toggleable__label-arrow:before {color: black;}#sk-container-id-7 div.sk-toggleable__content {max-height: 0;max-width: 0;overflow: hidden;text-align: left;background-color: #f0f8ff;}#sk-container-id-7 div.sk-toggleable__content pre {margin: 0.2em;color: black;border-radius: 0.25em;background-color: #f0f8ff;}#sk-container-id-7 input.sk-toggleable__control:checked~div.sk-toggleable__content {max-height: 200px;max-width: 100%;overflow: auto;}#sk-container-id-7 input.sk-toggleable__control:checked~label.sk-toggleable__label-arrow:before {content: \"▾\";}#sk-container-id-7 div.sk-estimator input.sk-toggleable__control:checked~label.sk-toggleable__label {background-color: #d4ebff;}#sk-container-id-7 div.sk-label input.sk-toggleable__control:checked~label.sk-toggleable__label {background-color: #d4ebff;}#sk-container-id-7 input.sk-hidden--visually {border: 0;clip: rect(1px 1px 1px 1px);clip: rect(1px, 1px, 1px, 1px);height: 1px;margin: -1px;overflow: hidden;padding: 0;position: absolute;width: 1px;}#sk-container-id-7 div.sk-estimator {font-family: monospace;background-color: #f0f8ff;border: 1px dotted black;border-radius: 0.25em;box-sizing: border-box;margin-bottom: 0.5em;}#sk-container-id-7 div.sk-estimator:hover {background-color: #d4ebff;}#sk-container-id-7 div.sk-parallel-item::after {content: \"\";width: 100%;border-bottom: 1px solid gray;flex-grow: 1;}#sk-container-id-7 div.sk-label:hover label.sk-toggleable__label {background-color: #d4ebff;}#sk-container-id-7 div.sk-serial::before {content: \"\";position: absolute;border-left: 1px solid gray;box-sizing: border-box;top: 0;bottom: 0;left: 50%;z-index: 0;}#sk-container-id-7 div.sk-serial {display: flex;flex-direction: column;align-items: center;background-color: white;padding-right: 0.2em;padding-left: 0.2em;position: relative;}#sk-container-id-7 div.sk-item {position: relative;z-index: 1;}#sk-container-id-7 div.sk-parallel {display: flex;align-items: stretch;justify-content: center;background-color: white;position: relative;}#sk-container-id-7 div.sk-item::before, #sk-container-id-7 div.sk-parallel-item::before {content: \"\";position: absolute;border-left: 1px solid gray;box-sizing: border-box;top: 0;bottom: 0;left: 50%;z-index: -1;}#sk-container-id-7 div.sk-parallel-item {display: flex;flex-direction: column;z-index: 1;position: relative;background-color: white;}#sk-container-id-7 div.sk-parallel-item:first-child::after {align-self: flex-end;width: 50%;}#sk-container-id-7 div.sk-parallel-item:last-child::after {align-self: flex-start;width: 50%;}#sk-container-id-7 div.sk-parallel-item:only-child::after {width: 0;}#sk-container-id-7 div.sk-dashed-wrapped {border: 1px dashed gray;margin: 0 0.4em 0.5em 0.4em;box-sizing: border-box;padding-bottom: 0.4em;background-color: white;}#sk-container-id-7 div.sk-label label {font-family: monospace;font-weight: bold;display: inline-block;line-height: 1.2em;}#sk-container-id-7 div.sk-label-container {text-align: center;}#sk-container-id-7 div.sk-container {/* jupyter's `normalize.less` sets `[hidden] { display: none; }` but bootstrap.min.css set `[hidden] { display: none !important; }` so we also need the `!important` here to be able to override the default hidden behavior on the sphinx rendered scikit-learn.org. See: https://github.com/scikit-learn/scikit-learn/issues/21755 */display: inline-block !important;position: relative;}#sk-container-id-7 div.sk-text-repr-fallback {display: none;}</style><div id=\"sk-container-id-7\" class=\"sk-top-container\"><div class=\"sk-text-repr-fallback\"><pre>GridSearchCV(cv=5,\n",
       "             estimator=RandomForestRegressor(criterion=&#x27;absolute_error&#x27;,\n",
       "                                             max_features=&#x27;log2&#x27;,\n",
       "                                             random_state=1234),\n",
       "             n_jobs=-1,\n",
       "             param_grid=[{&#x27;max_depth&#x27;: [9, 12, 13, 14, 15, 17, 20, 23],\n",
       "                          &#x27;min_samples_leaf&#x27;: [7, 9, 12, 13, 15, 18],\n",
       "                          &#x27;min_samples_split&#x27;: [8, 10, 12, 14, 16, 20, 22],\n",
       "                          &#x27;n_estimators&#x27;: [170, 175, 180, 185, 190, 195, 200,\n",
       "                                           205, 210]}],\n",
       "             refit=&#x27;neg_mean_absolute_error&#x27;, return_train_score=True,\n",
       "             scoring=[&#x27;r2&#x27;, &#x27;neg_mean_absolute_error&#x27;])</pre><b>In a Jupyter environment, please rerun this cell to show the HTML representation or trust the notebook. <br />On GitHub, the HTML representation is unable to render, please try loading this page with nbviewer.org.</b></div><div class=\"sk-container\" hidden><div class=\"sk-item sk-dashed-wrapped\"><div class=\"sk-label-container\"><div class=\"sk-label sk-toggleable\"><input class=\"sk-toggleable__control sk-hidden--visually\" id=\"sk-estimator-id-13\" type=\"checkbox\" ><label for=\"sk-estimator-id-13\" class=\"sk-toggleable__label sk-toggleable__label-arrow\">GridSearchCV</label><div class=\"sk-toggleable__content\"><pre>GridSearchCV(cv=5,\n",
       "             estimator=RandomForestRegressor(criterion=&#x27;absolute_error&#x27;,\n",
       "                                             max_features=&#x27;log2&#x27;,\n",
       "                                             random_state=1234),\n",
       "             n_jobs=-1,\n",
       "             param_grid=[{&#x27;max_depth&#x27;: [9, 12, 13, 14, 15, 17, 20, 23],\n",
       "                          &#x27;min_samples_leaf&#x27;: [7, 9, 12, 13, 15, 18],\n",
       "                          &#x27;min_samples_split&#x27;: [8, 10, 12, 14, 16, 20, 22],\n",
       "                          &#x27;n_estimators&#x27;: [170, 175, 180, 185, 190, 195, 200,\n",
       "                                           205, 210]}],\n",
       "             refit=&#x27;neg_mean_absolute_error&#x27;, return_train_score=True,\n",
       "             scoring=[&#x27;r2&#x27;, &#x27;neg_mean_absolute_error&#x27;])</pre></div></div></div><div class=\"sk-parallel\"><div class=\"sk-parallel-item\"><div class=\"sk-item\"><div class=\"sk-label-container\"><div class=\"sk-label sk-toggleable\"><input class=\"sk-toggleable__control sk-hidden--visually\" id=\"sk-estimator-id-14\" type=\"checkbox\" ><label for=\"sk-estimator-id-14\" class=\"sk-toggleable__label sk-toggleable__label-arrow\">estimator: RandomForestRegressor</label><div class=\"sk-toggleable__content\"><pre>RandomForestRegressor(criterion=&#x27;absolute_error&#x27;, max_features=&#x27;log2&#x27;,\n",
       "                      random_state=1234)</pre></div></div></div><div class=\"sk-serial\"><div class=\"sk-item\"><div class=\"sk-estimator sk-toggleable\"><input class=\"sk-toggleable__control sk-hidden--visually\" id=\"sk-estimator-id-15\" type=\"checkbox\" ><label for=\"sk-estimator-id-15\" class=\"sk-toggleable__label sk-toggleable__label-arrow\">RandomForestRegressor</label><div class=\"sk-toggleable__content\"><pre>RandomForestRegressor(criterion=&#x27;absolute_error&#x27;, max_features=&#x27;log2&#x27;,\n",
       "                      random_state=1234)</pre></div></div></div></div></div></div></div></div></div></div>"
      ],
      "text/plain": [
       "GridSearchCV(cv=5,\n",
       "             estimator=RandomForestRegressor(criterion='absolute_error',\n",
       "                                             max_features='log2',\n",
       "                                             random_state=1234),\n",
       "             n_jobs=-1,\n",
       "             param_grid=[{'max_depth': [9, 12, 13, 14, 15, 17, 20, 23],\n",
       "                          'min_samples_leaf': [7, 9, 12, 13, 15, 18],\n",
       "                          'min_samples_split': [8, 10, 12, 14, 16, 20, 22],\n",
       "                          'n_estimators': [170, 175, 180, 185, 190, 195, 200,\n",
       "                                           205, 210]}],\n",
       "             refit='neg_mean_absolute_error', return_train_score=True,\n",
       "             scoring=['r2', 'neg_mean_absolute_error'])"
      ]
     },
     "execution_count": 184,
     "metadata": {},
     "output_type": "execute_result"
    }
   ],
   "source": [
    "gscv.fit(X_train_tr_scl3,y_train)"
   ]
  },
  {
   "cell_type": "code",
   "execution_count": 185,
   "id": "1763febc",
   "metadata": {},
   "outputs": [
    {
     "data": {
      "text/plain": [
       "0.9063156212795876"
      ]
     },
     "execution_count": 185,
     "metadata": {},
     "output_type": "execute_result"
    }
   ],
   "source": [
    "np.mean(gscv.cv_results_['mean_test_r2'])"
   ]
  },
  {
   "cell_type": "code",
   "execution_count": 186,
   "id": "86ab7e80",
   "metadata": {},
   "outputs": [
    {
     "data": {
      "text/plain": [
       "0.9207581441146167"
      ]
     },
     "execution_count": 186,
     "metadata": {},
     "output_type": "execute_result"
    }
   ],
   "source": [
    "np.mean(gscv.cv_results_['mean_train_r2'])"
   ]
  },
  {
   "cell_type": "code",
   "execution_count": 187,
   "id": "2c4223d8",
   "metadata": {},
   "outputs": [
    {
     "data": {
      "text/plain": [
       "-0.18142447788974275"
      ]
     },
     "execution_count": 187,
     "metadata": {},
     "output_type": "execute_result"
    }
   ],
   "source": [
    "np.mean(gscv.cv_results_['mean_train_neg_mean_absolute_error'])"
   ]
  },
  {
   "cell_type": "code",
   "execution_count": 188,
   "id": "5c4bb818",
   "metadata": {},
   "outputs": [
    {
     "data": {
      "text/plain": [
       "-0.2011535535350439"
      ]
     },
     "execution_count": 188,
     "metadata": {},
     "output_type": "execute_result"
    }
   ],
   "source": [
    "np.mean(gscv.cv_results_['mean_test_neg_mean_absolute_error'])"
   ]
  },
  {
   "cell_type": "code",
   "execution_count": 189,
   "id": "3b6e0b9c",
   "metadata": {},
   "outputs": [
    {
     "name": "stdout",
     "output_type": "stream",
     "text": [
      "The percentage difference of train and test score is: 10.87%\n"
     ]
    }
   ],
   "source": [
    "rel_diff = compute_rel_percent_diff(np.mean(gscv.cv_results_['mean_train_neg_mean_absolute_error']),\n",
    "                                    np.mean(gscv.cv_results_['mean_test_neg_mean_absolute_error']))\n",
    "print('The percentage difference of train and test score is: {:.4}%'.format(rel_diff))"
   ]
  },
  {
   "cell_type": "code",
   "execution_count": 191,
   "id": "d26ab092",
   "metadata": {},
   "outputs": [
    {
     "name": "stdout",
     "output_type": "stream",
     "text": [
      "The means of the train and test cross validated scores are significantly different\n",
      "p-value: 0.0\n"
     ]
    }
   ],
   "source": [
    "#Perform t-test to see the similarity of the cross validated scores\n",
    "\n",
    "tstat, p_val, df = ttest_ind(gscv.cv_results_['mean_test_neg_mean_absolute_error'],gscv.cv_results_['mean_train_neg_mean_absolute_error'])\n",
    "if p_val > 0.05:\n",
    "    print(\"The means of the train and test cross validated scores are similar\")\n",
    "    print(\"p-value:\", p_val)\n",
    "else:\n",
    "    print(\"The means of the train and test cross validated scores are significantly different\")\n",
    "    print(\"p-value:\", p_val)\n"
   ]
  },
  {
   "cell_type": "code",
   "execution_count": 190,
   "id": "d5b25e35",
   "metadata": {},
   "outputs": [
    {
     "name": "stdout",
     "output_type": "stream",
     "text": [
      "The testing \"r2_score\" of the model is 0.9019263631338968\n",
      "The training \"r2_score\" of the model is 0.9436655754695429\n",
      "The percentage difference between train and test r2_score is 4.423%\n",
      "The testing \"mean_absolute_error\" of the model is 0.177423549652457\n",
      "The training \"mean_absolute_error\" of the model is 0.15147576722372014\n",
      "The percentage difference between train and test mean_absolute_error is 17.13%\n"
     ]
    }
   ],
   "source": [
    "predict_model_performance(gscv,X_train_tr_scl3,X_test_tr_scl3,y_train,y_test,[r2_score,mean_absolute_error])"
   ]
  }
 ],
 "metadata": {
  "kernelspec": {
   "display_name": "env_practice",
   "language": "python",
   "name": "env_practice"
  },
  "language_info": {
   "codemirror_mode": {
    "name": "ipython",
    "version": 3
   },
   "file_extension": ".py",
   "mimetype": "text/x-python",
   "name": "python",
   "nbconvert_exporter": "python",
   "pygments_lexer": "ipython3",
   "version": "3.10.6"
  }
 },
 "nbformat": 4,
 "nbformat_minor": 5
}
